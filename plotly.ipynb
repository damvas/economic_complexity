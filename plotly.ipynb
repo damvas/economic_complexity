{
 "cells": [
  {
   "cell_type": "code",
   "execution_count": 1,
   "metadata": {},
   "outputs": [],
   "source": [
    "import pandas as pd\n",
    "import os\n",
    "import requests\n",
    "import matplotlib.pyplot as plt\n",
    "import squarify\n",
    "import seaborn as sns\n",
    "import math\n",
    "import numpy as np\n",
    "import plotly.express as px\n",
    "\n",
    "input_path = './input'"
   ]
  },
  {
   "cell_type": "code",
   "execution_count": 2,
   "metadata": {},
   "outputs": [],
   "source": [
    "def download_country_data(country: str) -> pd.DataFrame:\n",
    "    iso3 = pd.read_csv(os.path.join(os.getcwd(),'oec_iso3.csv'))\n",
    "    country = country.title()\n",
    "    i = np.where(iso3['Country'] == country)[0][0]\n",
    "    country_id = iso3.loc[i,'Country ID']\n",
    "    country = iso3.loc[i,'Country']\n",
    "    print(\"Processing:\", country)\n",
    "    url = \"https://oec.world/olap-proxy/data\"\n",
    "    params = {\n",
    "        \"cube\": \"trade_i_baci_a_92\",\n",
    "        \"drilldowns\": \"Year,HS4\",\n",
    "        \"measures\": \"Trade Value\",\n",
    "        \"parents\": \"true\",\n",
    "        \"Year\": \"2021\",\n",
    "        \"Exporter Country\": f\"{country_id}\"\n",
    "    }\n",
    "\n",
    "    response = requests.get(url, params=params)\n",
    "    if response.status_code == 200:\n",
    "        data = response.json()\n",
    "        df = pd.DataFrame(data['data'])\n",
    "        df.to_csv(os.path.join(input_path,f'{country.lower()}.csv'))\n",
    "    else:\n",
    "        print(\"Request failed with status code:\", response.status_code)\n",
    "        print(\"Country:\", country)\n",
    "    return df"
   ]
  },
  {
   "cell_type": "code",
   "execution_count": 3,
   "metadata": {},
   "outputs": [
    {
     "name": "stdout",
     "output_type": "stream",
     "text": [
      "Processing: Brazil\n"
     ]
    }
   ],
   "source": [
    "df = download_country_data('brazil')"
   ]
  },
  {
   "cell_type": "code",
   "execution_count": 30,
   "metadata": {},
   "outputs": [],
   "source": [
    "df['percent'] = df['Trade Value']/ df['Trade Value'].sum()"
   ]
  },
  {
   "cell_type": "code",
   "execution_count": 31,
   "metadata": {},
   "outputs": [
    {
     "name": "stderr",
     "output_type": "stream",
     "text": [
      "c:\\Users\\Veeries\\Anaconda3\\lib\\site-packages\\plotly\\express\\_core.py:1637: FutureWarning:\n",
      "\n",
      "The frame.append method is deprecated and will be removed from pandas in a future version. Use pandas.concat instead.\n",
      "\n",
      "c:\\Users\\Veeries\\Anaconda3\\lib\\site-packages\\plotly\\express\\_core.py:1637: FutureWarning:\n",
      "\n",
      "The frame.append method is deprecated and will be removed from pandas in a future version. Use pandas.concat instead.\n",
      "\n"
     ]
    },
    {
     "data": {
      "application/vnd.plotly.v1+json": {
       "config": {
        "plotlyServerURL": "https://plot.ly"
       },
       "data": [
        {
         "branchvalues": "total",
         "customdata": [
          [
           0.000004797182669761814,
           "Textiles"
          ],
          [
           0.00004809709054573303,
           "Metals"
          ],
          [
           0.0000022780348940637513,
           "Metals"
          ],
          [
           5.118191436581936e-7,
           "Chemical Products"
          ],
          [
           0.00011990136044499582,
           "Chemical Products"
          ],
          [
           0.0000018365199681250504,
           "Stone And Glass"
          ],
          [
           0.000024134476695733136,
           "Stone And Glass"
          ],
          [
           0.000014094563491274665,
           "Instruments"
          ],
          [
           0.0010105787812595608,
           "Paper Goods"
          ],
          [
           0.00023067940837354268,
           "Metals"
          ],
          [
           9.41384363852524e-7,
           "Textiles"
          ],
          [
           0.00003904308008073539,
           "Machines"
          ],
          [
           0.0000045250615847711,
           "Footwear and Headwear"
          ],
          [
           0.000027800858641551088,
           "Textiles"
          ],
          [
           0.00009468010205164472,
           "Textiles"
          ],
          [
           0.00003338438465838341,
           "Textiles"
          ],
          [
           0.000006194715667690371,
           "Textiles"
          ],
          [
           0.000048819888228913355,
           "Textiles"
          ],
          [
           0.000006569775526628167,
           "Textiles"
          ],
          [
           0.000009732938233096117,
           "Machines"
          ],
          [
           6.002247728650961e-8,
           "Textiles"
          ],
          [
           0.000014990957871863271,
           "Animal Products"
          ],
          [
           0.0016633672893245255,
           "Foodstuffs"
          ],
          [
           0.0012036793264857185,
           "Animal Products"
          ],
          [
           0.00012965338144962742,
           "Stone And Glass"
          ],
          [
           0.00019198992653571146,
           "Chemical Products"
          ],
          [
           0.000019400978397995516,
           "Chemical Products"
          ],
          [
           0.00007258909439226597,
           "Foodstuffs"
          ],
          [
           0.000022544770513549926,
           "Chemical Products"
          ],
          [
           0.00009216231708336324,
           "Chemical Products"
          ],
          [
           0.00045313148595452636,
           "Foodstuffs"
          ],
          [
           0.00005211536809211025,
           "Chemical Products"
          ],
          [
           0.00035779096673526587,
           "Plastics and Rubbers"
          ],
          [
           2.2701666751624232e-7,
           "Chemical Products"
          ],
          [
           0.00007957093710798397,
           "Chemical Products"
          ],
          [
           5.280271891164607e-8,
           "Chemical Products"
          ],
          [
           0.003711769414578372,
           "Foodstuffs"
          ],
          [
           0.0013900245601852056,
           "Transportation"
          ],
          [
           0.000041058401768997194,
           "Transportation"
          ],
          [
           0.0018866006647442052,
           "Machines"
          ],
          [
           0.00019306595488524083,
           "Machines"
          ],
          [
           8.906518638408748e-7,
           "Wood Products"
          ],
          [
           0.0013616422994645737,
           "Chemical Products"
          ],
          [
           0.0003907119899366051,
           "Chemical Products"
          ],
          [
           0.000031659528205834245,
           "Chemical Products"
          ],
          [
           0.0002674184873975289,
           "Plastics and Rubbers"
          ],
          [
           6.936447011162122e-7,
           "Chemical Products"
          ],
          [
           0.00009819211918283391,
           "Metals"
          ],
          [
           0.0003988252367566499,
           "Metals"
          ],
          [
           0.00010604609969420673,
           "Chemical Products"
          ],
          [
           0.000002485993063967962,
           "Metals"
          ],
          [
           0.00045357631253716436,
           "Metals"
          ],
          [
           0.0006589035601835938,
           "Mineral Products"
          ],
          [
           0.010506408598405301,
           "Chemical Products"
          ],
          [
           0.00001353059355693464,
           "Metals"
          ],
          [
           0.00002900800779015363,
           "Metals"
          ],
          [
           0.0002931866823663645,
           "Metals"
          ],
          [
           0.0005743911908818915,
           "Metals"
          ],
          [
           0.000008822967793891955,
           "Metals"
          ],
          [
           0.0000165926519045277,
           "Metals"
          ],
          [
           0.00005775135352522257,
           "Metals"
          ],
          [
           0.0001188495297294433,
           "Chemical Products"
          ],
          [
           0.00010483593017598627,
           "Chemical Products"
          ],
          [
           0.000039992013634781034,
           "Chemical Products"
          ],
          [
           0.00004424533211422658,
           "Machines"
          ],
          [
           0.000051111558132549616,
           "Paper Goods"
          ],
          [
           0.0003541424503971075,
           "Chemical Products"
          ],
          [
           4.899344678158479e-7,
           "Instruments"
          ],
          [
           0.000012828224114189632,
           "Chemical Products"
          ],
          [
           0.0001893183766654808,
           "Chemical Products"
          ],
          [
           0.000024774080707841726,
           "Chemical Products"
          ],
          [
           1.154571830408653e-7,
           "Paper Goods"
          ],
          [
           0.0000013089505158508,
           "Textiles"
          ],
          [
           1.1192706103048534e-7,
           "Mineral Products"
          ],
          [
           3.196424917001904e-7,
           "Chemical Products"
          ],
          [
           0.000022025610241899618,
           "Vegetable Products"
          ],
          [
           0.00007673207055111201,
           "Metals"
          ],
          [
           0.000004076656332275793,
           "Stone And Glass"
          ],
          [
           0.000011553073302892047,
           "Machines"
          ],
          [
           5.4344806591426e-7,
           "Machines"
          ],
          [
           0.00008197742960494803,
           "Machines"
          ],
          [
           0.011773291583070604,
           "Transportation"
          ],
          [
           0.000022221212984767497,
           "Miscellaneous"
          ],
          [
           0.00001739727351595648,
           "Mineral Products"
          ],
          [
           7.237790432283948e-8,
           "Metals"
          ],
          [
           5.332287441415785e-8,
           "Metals"
          ],
          [
           0.000013114441413298415,
           "Chemical Products"
          ],
          [
           3.7635677999072513e-7,
           "Metals"
          ],
          [
           2.6171450723712827e-7,
           "Textiles"
          ],
          [
           0.000035361703785631704,
           "Machines"
          ],
          [
           0.0003477282741875007,
           "Machines"
          ],
          [
           0.0002687039338200729,
           "Machines"
          ],
          [
           0.0005005803517776225,
           "Machines"
          ],
          [
           0.00005412273486888697,
           "Machines"
          ],
          [
           0.0003726469823989642,
           "Machines"
          ],
          [
           0.000017670091609320558,
           "Machines"
          ],
          [
           0.00016402983095632474,
           "Machines"
          ],
          [
           0.000027225653348356808,
           "Machines"
          ],
          [
           0.0010885202688372662,
           "Machines"
          ],
          [
           0.00006821748561614254,
           "Mineral Products"
          ],
          [
           0.000025645185127898206,
           "Machines"
          ],
          [
           0.000010792012980946958,
           "Textiles"
          ],
          [
           0.00468957418592012,
           "Machines"
          ],
          [
           0.00018086345009894606,
           "Chemical Products"
          ],
          [
           0.0001085261109698958,
           "Chemical Products"
          ],
          [
           0.0000052711518313539,
           "Animal Hides"
          ],
          [
           0.00002727437804812876,
           "Textiles"
          ],
          [
           0.000014921940172086657,
           "Textiles"
          ],
          [
           0.00000791900688459348,
           "Mineral Products"
          ],
          [
           0.000008317518821287856,
           "Animal and Vegetable Bi-Products"
          ],
          [
           0.000007489888998131309,
           "Footwear and Headwear"
          ],
          [
           0.000002146147732550214,
           "Miscellaneous"
          ],
          [
           7.315293602158204e-7,
           "Instruments"
          ],
          [
           1.4036569620447953e-7,
           "Stone And Glass"
          ],
          [
           0.00003826474366070021,
           "Instruments"
          ],
          [
           0.0007201091693053033,
           "Weapons"
          ],
          [
           0.0004260312490332318,
           "Machines"
          ],
          [
           0.0033033079260934325,
           "Plastics and Rubbers"
          ],
          [
           0.0010311401919066265,
           "Chemical Products"
          ],
          [
           0.0009729426212497225,
           "Chemical Products"
          ],
          [
           0.00009456432583989564,
           "Instruments"
          ],
          [
           0.0022679913363030718,
           "Machines"
          ],
          [
           0.00130949932151839,
           "Machines"
          ],
          [
           4.716076556106827e-10,
           "Transportation"
          ],
          [
           3.589176998431801e-7,
           "Footwear and Headwear"
          ],
          [
           9.405694535652555e-7,
           "Footwear and Headwear"
          ],
          [
           0.00007075480415739502,
           "Textiles"
          ],
          [
           0.0004042082566980773,
           "Textiles"
          ],
          [
           0.000009681293727103398,
           "Textiles"
          ],
          [
           0.00018763135979188767,
           "Machines"
          ],
          [
           2.6458576561099333e-8,
           "Footwear and Headwear"
          ],
          [
           0.0005675606856757776,
           "Animal Products"
          ],
          [
           0.0000029519899755582176,
           "Chemical Products"
          ],
          [
           0.00004890366100644455,
           "Animal Products"
          ],
          [
           7.69833611420788e-7,
           "Textiles"
          ],
          [
           2.5730358857582837e-9,
           "Textiles"
          ],
          [
           0.000026292262040726213,
           "Animal Products"
          ],
          [
           0.000004113736484198183,
           "Textiles"
          ],
          [
           2.7450339719221794e-7,
           "Vegetable Products"
          ],
          [
           2.0166775602716812e-7,
           "Machines"
          ],
          [
           0.0000029103810030606246,
           "Footwear and Headwear"
          ],
          [
           0.0000019827911631347135,
           "Plastics and Rubbers"
          ],
          [
           0.00025267604942165575,
           "Machines"
          ],
          [
           0.0011068330403115668,
           "Machines"
          ],
          [
           0.00004406324994672066,
           "Machines"
          ],
          [
           0.000007788520675233373,
           "Machines"
          ],
          [
           0.0006441348751610639,
           "Machines"
          ],
          [
           0.00006979978131626664,
           "Chemical Products"
          ],
          [
           0.0014147247406669538,
           "Machines"
          ],
          [
           0.00001807006344912532,
           "Chemical Products"
          ],
          [
           0.0000014598268209093677,
           "Miscellaneous"
          ],
          [
           0.00003893282445271964,
           "Metals"
          ],
          [
           0.000010262217263121957,
           "Textiles"
          ],
          [
           0.0005628367513038795,
           "Weapons"
          ],
          [
           1.1152133973852615e-8,
           "Textiles"
          ],
          [
           0.00013809062619678009,
           "Foodstuffs"
          ],
          [
           0.00023115944948370076,
           "Metals"
          ],
          [
           0.0023662608546246794,
           "Metals"
          ],
          [
           0.0000040876454841921925,
           "Textiles"
          ],
          [
           0.012830042421779762,
           "Metals"
          ],
          [
           0.0009304417623858964,
           "Chemical Products"
          ],
          [
           0.0000037262934565972567,
           "Textiles"
          ],
          [
           0.0004213451993204333,
           "Chemical Products"
          ],
          [
           0.00009829038002496174,
           "Stone And Glass"
          ],
          [
           0.0000012442223651182337,
           "Stone And Glass"
          ],
          [
           0.00007759472417810435,
           "Stone And Glass"
          ],
          [
           0.000004804024448471519,
           "Stone And Glass"
          ],
          [
           2.1957497612697374e-8,
           "Stone And Glass"
          ],
          [
           0.00016540162665998903,
           "Stone And Glass"
          ],
          [
           0.00008907073124174425,
           "Stone And Glass"
          ],
          [
           2.7529750125938597e-7,
           "Stone And Glass"
          ],
          [
           0.0000018648441690884918,
           "Machines"
          ],
          [
           4.4699736493517523e-7,
           "Stone And Glass"
          ],
          [
           0.000035019323563065045,
           "Stone And Glass"
          ],
          [
           0.00011628865854703709,
           "Chemical Products"
          ],
          [
           0.00018299235987814303,
           "Chemical Products"
          ],
          [
           0.0009919635220220326,
           "Animal and Vegetable Bi-Products"
          ],
          [
           0.000581878624746051,
           "Chemical Products"
          ],
          [
           0.000007120623671491494,
           "Mineral Products"
          ],
          [
           0.00000193055021216578,
           "Textiles"
          ],
          [
           0.001150847419914975,
           "Vegetable Products"
          ],
          [
           0.0005257210831637781,
           "Animal and Vegetable Bi-Products"
          ],
          [
           0.00001140661138419813,
           "Foodstuffs"
          ],
          [
           6.501076855559761e-7,
           "Textiles"
          ],
          [
           0.0000028538539707509947,
           "Mineral Products"
          ],
          [
           0.0005854397445566773,
           "Vegetable Products"
          ],
          [
           0.000039054981238632864,
           "Mineral Products"
          ],
          [
           0.0005366316534545608,
           "Mineral Products"
          ],
          [
           1.0316764236818693e-7,
           "Precious Metals"
          ],
          [
           0.018603938441398623,
           "Precious Metals"
          ],
          [
           0.000052254859927070515,
           "Chemical Products"
          ],
          [
           0.00010634534515480175,
           "Mineral Products"
          ],
          [
           0.00005840930515575642,
           "Machines"
          ],
          [
           0.00021513716542619397,
           "Instruments"
          ],
          [
           0.0019784483883119462,
           "Machines"
          ],
          [
           0.0000065710620445710455,
           "Textiles"
          ],
          [
           5.687380264463829e-8,
           "Textiles"
          ],
          [
           0.00008611129263939007,
           "Foodstuffs"
          ],
          [
           0.000011232952268129546,
           "Metals"
          ],
          [
           0.00003294580340947888,
           "Metals"
          ],
          [
           0.0004986170976551621,
           "Metals"
          ],
          [
           5.41724617349271e-8,
           "Textiles"
          ],
          [
           0.0000031053144791819412,
           "Miscellaneous"
          ],
          [
           0.00008261050739935177,
           "Animal Products"
          ],
          [
           0.000005044887655464625,
           "Animal and Vegetable Bi-Products"
          ],
          [
           0.000052755263391300245,
           "Animal Products"
          ],
          [
           0.000010616144937844373,
           "Chemical Products"
          ],
          [
           9.244897131309413e-8,
           "Chemical Products"
          ],
          [
           8.693497621613423e-7,
           "Metals"
          ],
          [
           0.00009647965630205792,
           "Transportation"
          ],
          [
           0.0000034654146658674977,
           "Animal Products"
          ],
          [
           0.00009078349928041505,
           "Metals"
          ],
          [
           0.000007494088386888254,
           "Chemical Products"
          ],
          [
           0.0000027634370736010467,
           "Textiles"
          ],
          [
           0.00019104137096133096,
           "Metals"
          ],
          [
           0.000025853822967659035,
           "Animal Hides"
          ],
          [
           0.0007285284270751791,
           "Wood Products"
          ],
          [
           0.000005485268642407851,
           "Machines"
          ],
          [
           0.007198836794675721,
           "Foodstuffs"
          ],
          [
           0.00014935547093262032,
           "Stone And Glass"
          ],
          [
           0.0000030798788751091144,
           "Vegetable Products"
          ],
          [
           0.02459980067868209,
           "Animal Products"
          ],
          [
           0.000321532268656366,
           "Stone And Glass"
          ],
          [
           0.0000483780091941229,
           "Machines"
          ],
          [
           0.00026959721420305314,
           "Machines"
          ],
          [
           4.5426913886028994e-10,
           "Vegetable Products"
          ],
          [
           0.0005042053605547707,
           "Footwear and Headwear"
          ],
          [
           0.00004392709751008652,
           "Vegetable Products"
          ],
          [
           0.000003362756775891772,
           "Machines"
          ],
          [
           0.0007353657463183759,
           "Metals"
          ],
          [
           0.00008668806533449859,
           "Textiles"
          ],
          [
           7.636888410844488e-7,
           "Metals"
          ],
          [
           0.0004349992500520375,
           "Machines"
          ],
          [
           0.0000060820361150329184,
           "Stone And Glass"
          ],
          [
           0.0015465459048503325,
           "Machines"
          ],
          [
           0.0000122948740004308,
           "Instruments"
          ],
          [
           0.00013956167797343365,
           "Vegetable Products"
          ],
          [
           0.000706138576208794,
           "Chemical Products"
          ],
          [
           7.581058386908224e-7,
           "Chemical Products"
          ],
          [
           0.000007611112971843355,
           "Miscellaneous"
          ],
          [
           0.000054938269342758446,
           "Chemical Products"
          ],
          [
           0.00011189552573621972,
           "Animal and Vegetable Bi-Products"
          ],
          [
           0.00013904472662881734,
           "Machines"
          ],
          [
           0.00016146643181817635,
           "Machines"
          ],
          [
           0.0003106593090761182,
           "Machines"
          ],
          [
           0.0006473620482036709,
           "Chemical Products"
          ],
          [
           2.3053291871322195e-7,
           "Chemical Products"
          ],
          [
           0.00006446732742509004,
           "Precious Metals"
          ],
          [
           0.00013343458598877317,
           "Machines"
          ],
          [
           9.667956940018995e-9,
           "Instruments"
          ],
          [
           0.0000067090211546505695,
           "Animal Products"
          ],
          [
           0.000026267405543112852,
           "Chemical Products"
          ],
          [
           0.00026955359743031584,
           "Machines"
          ],
          [
           0.000002675457971906204,
           "Chemical Products"
          ],
          [
           0.0000012067330242005346,
           "Chemical Products"
          ],
          [
           0.0015389651967014626,
           "Chemical Products"
          ],
          [
           0.00021493926359600498,
           "Chemical Products"
          ],
          [
           0.00005418438716674802,
           "Instruments"
          ],
          [
           0.000009388054328710705,
           "Chemical Products"
          ],
          [
           0.000046774605583706875,
           "Foodstuffs"
          ],
          [
           1.6100546654414704e-8,
           "Instruments"
          ],
          [
           1.6835006223961343e-7,
           "Chemical Products"
          ],
          [
           0.00006883571123709789,
           "Chemical Products"
          ],
          [
           0.0001274047006644221,
           "Instruments"
          ],
          [
           0.000001692045043450728,
           "Chemical Products"
          ],
          [
           0.00006581675990984967,
           "Chemical Products"
          ],
          [
           0.0004786139629735355,
           "Vegetable Products"
          ],
          [
           0.000018388027572404074,
           "Mineral Products"
          ],
          [
           0.0000015832077061051623,
           "Chemical Products"
          ],
          [
           0.00014048384432532006,
           "Paper Goods"
          ],
          [
           1.7613158855718967e-7,
           "Vegetable Products"
          ],
          [
           0.00008110426190139825,
           "Animal Products"
          ],
          [
           0.00044812792985529133,
           "Foodstuffs"
          ],
          [
           0.00002426130794576226,
           "Animal Hides"
          ],
          [
           0.000030896879675754816,
           "Stone And Glass"
          ],
          [
           4.7236361494099983e-7,
           "Mineral Products"
          ],
          [
           9.864402334800946e-7,
           "Metals"
          ],
          [
           0.00003406745633198524,
           "Vegetable Products"
          ],
          [
           0.00013733103964875878,
           "Vegetable Products"
          ],
          [
           0.000006996212878400726,
           "Vegetable Products"
          ],
          [
           2.837621651369277e-8,
           "Stone And Glass"
          ],
          [
           0.000009233262986569899,
           "Stone And Glass"
          ],
          [
           0.001085977197376156,
           "Machines"
          ],
          [
           2.771180455181772e-7,
           "Machines"
          ],
          [
           0.0000790008501449344,
           "Stone And Glass"
          ],
          [
           0.00013485748523670756,
           "Mineral Products"
          ],
          [
           0.00104226008317473,
           "Paper Goods"
          ],
          [
           0.00031499705226132474,
           "Plastics and Rubbers"
          ],
          [
           5.764987465438587e-7,
           "Miscellaneous"
          ],
          [
           0.00002732645254933689,
           "Mineral Products"
          ],
          [
           0.0000017748537994506035,
           "Vegetable Products"
          ],
          [
           2.8990000006656674e-9,
           "Instruments"
          ],
          [
           0.0007263260505328074,
           "Chemical Products"
          ],
          [
           0.000058410785865086904,
           "Arts and Antiques"
          ],
          [
           0.0005010970915923345,
           "Metals"
          ],
          [
           0.0000037559735295705793,
           "Mineral Products"
          ],
          [
           1.5524907898301666e-8,
           "Precious Metals"
          ],
          [
           0.001994293812563192,
           "Foodstuffs"
          ],
          [
           0.020935527786573954,
           "Vegetable Products"
          ],
          [
           0.0004872450558056609,
           "Vegetable Products"
          ],
          [
           0.00016622551483123083,
           "Textiles"
          ],
          [
           0.000025363992530943688,
           "Animal and Vegetable Bi-Products"
          ],
          [
           2.3441674646530994e-9,
           "Foodstuffs"
          ],
          [
           0.00022719516407848425,
           "Foodstuffs"
          ],
          [
           0.0000011044045660430666,
           "Paper Goods"
          ],
          [
           0.00046879263644974923,
           "Foodstuffs"
          ],
          [
           0.0000014169660075023966,
           "Instruments"
          ],
          [
           0.00009935349811491877,
           "Foodstuffs"
          ],
          [
           0.000029528659174244474,
           "Vegetable Products"
          ],
          [
           0.00008758559712178601,
           "Mineral Products"
          ],
          [
           0.0003148601646715804,
           "Mineral Products"
          ],
          [
           1.8344150721915527e-8,
           "Instruments"
          ],
          [
           0.00006835127307909193,
           "Metals"
          ],
          [
           0.0000013908715397930557,
           "Textiles"
          ],
          [
           0.000004021682831066998,
           "Metals"
          ],
          [
           0.000009769574518989697,
           "Chemical Products"
          ],
          [
           0.000007852967941994582,
           "Foodstuffs"
          ],
          [
           0.0019220570819114377,
           "Metals"
          ],
          [
           0.000016006013593388214,
           "Machines"
          ],
          [
           0.000014836998778526483,
           "Metals"
          ],
          [
           0.0005197020933633529,
           "Metals"
          ],
          [
           0.00027813842069664114,
           "Mineral Products"
          ],
          [
           6.790456700123815e-8,
           "Instruments"
          ],
          [
           0.00002101749339477818,
           "Chemical Products"
          ],
          [
           0.0000030368446765346397,
           "Textiles"
          ],
          [
           0.000053654359112798565,
           "Vegetable Products"
          ],
          [
           0.00008099267814299942,
           "Metals"
          ],
          [
           0.0003145469200925611,
           "Vegetable Products"
          ],
          [
           6.112035216714447e-7,
           "Mineral Products"
          ],
          [
           0.000030422234312009466,
           "Chemical Products"
          ],
          [
           0.00006639833190639469,
           "Chemical Products"
          ],
          [
           0.00000437759403210566,
           "Chemical Products"
          ],
          [
           0.00005310499167726572,
           "Machines"
          ],
          [
           0.0004928362211729735,
           "Plastics and Rubbers"
          ],
          [
           0.00009432152418672985,
           "Machines"
          ],
          [
           0.00026507967406684833,
           "Precious Metals"
          ],
          [
           0.0003321843043238837,
           "Plastics and Rubbers"
          ],
          [
           0.000023023320511267466,
           "Textiles"
          ],
          [
           1.5639342108854258e-9,
           "Textiles"
          ],
          [
           0.000021675725909283392,
           "Chemical Products"
          ],
          [
           1.4234922252072445e-8,
           "Chemical Products"
          ],
          [
           0.0018905492657271695,
           "Paper Goods"
          ],
          [
           0.00036052735225503295,
           "Chemical Products"
          ],
          [
           2.725233385793231e-7,
           "Footwear and Headwear"
          ],
          [
           0.00011928294063265286,
           "Textiles"
          ],
          [
           0.0004030790303114544,
           "Chemical Products"
          ],
          [
           0.000005580030571855447,
           "Mineral Products"
          ],
          [
           0.00001399280720416996,
           "Metals"
          ],
          [
           0.0000014131584692240105,
           "Textiles"
          ],
          [
           0.0000015265801103983797,
           "Footwear and Headwear"
          ],
          [
           0.000012325178260007136,
           "Plastics and Rubbers"
          ],
          [
           0.00019083029532611503,
           "Instruments"
          ],
          [
           0.0000011936181701305375,
           "Textiles"
          ],
          [
           2.5913453594466986e-7,
           "Machines"
          ],
          [
           0.000799670167975486,
           "Transportation"
          ],
          [
           0.00042311175837347057,
           "Animal and Vegetable Bi-Products"
          ],
          [
           0.000018802851585657216,
           "Chemical Products"
          ],
          [
           0.00003709038164727266,
           "Miscellaneous"
          ],
          [
           0.000369629497910233,
           "Vegetable Products"
          ],
          [
           4.131075000948576e-7,
           "Vegetable Products"
          ],
          [
           0.0000064806832921579475,
           "Mineral Products"
          ],
          [
           0.00003654274459571151,
           "Paper Goods"
          ],
          [
           0.00003985360719096935,
           "Chemical Products"
          ],
          [
           8.621404068965289e-7,
           "Vegetable Products"
          ],
          [
           0.0019031749343532743,
           "Machines"
          ],
          [
           0.000019782439637317556,
           "Miscellaneous"
          ],
          [
           0.0001797813359300373,
           "Machines"
          ],
          [
           0.0005155267982092841,
           "Chemical Products"
          ],
          [
           0.0002922402594295443,
           "Plastics and Rubbers"
          ],
          [
           5.6620660300082556e-8,
           "Stone And Glass"
          ],
          [
           0.00014557746361596333,
           "Chemical Products"
          ],
          [
           0.001732891142017523,
           "Stone And Glass"
          ],
          [
           2.753287105895367e-7,
           "Instruments"
          ],
          [
           0.0000010774605110129563,
           "Foodstuffs"
          ],
          [
           0.0000016692691678474117,
           "Instruments"
          ],
          [
           0.00010278784215876956,
           "Machines"
          ],
          [
           0.00004042954763727385,
           "Machines"
          ],
          [
           0.00001721241025036379,
           "Miscellaneous"
          ],
          [
           0.000003162545455271637,
           "Foodstuffs"
          ],
          [
           0.0002824008731067108,
           "Plastics and Rubbers"
          ],
          [
           0.000020415867669759653,
           "Chemical Products"
          ],
          [
           0.000014736723200752262,
           "Textiles"
          ],
          [
           7.223226078213618e-9,
           "Footwear and Headwear"
          ],
          [
           5.705828446286247e-7,
           "Paper Goods"
          ],
          [
           0.00030247039696897467,
           "Machines"
          ],
          [
           0.000010361019066972395,
           "Machines"
          ],
          [
           0.000006696048476417927,
           "Chemical Products"
          ],
          [
           0.000010008766292968066,
           "Foodstuffs"
          ],
          [
           0.0001518384332238603,
           "Wood Products"
          ],
          [
           1.7983509573507357e-8,
           "Instruments"
          ],
          [
           7.957685647760255e-8,
           "Instruments"
          ],
          [
           0.000012917188043635896,
           "Foodstuffs"
          ],
          [
           0.00003351264806989612,
           "Foodstuffs"
          ],
          [
           0.00019331863949295435,
           "Vegetable Products"
          ],
          [
           0.00009180034086916529,
           "Machines"
          ],
          [
           0.00009857178068411726,
           "Machines"
          ],
          [
           0.0001047343507417524,
           "Animal and Vegetable Bi-Products"
          ],
          [
           0.00012381780888249798,
           "Metals"
          ],
          [
           0.0030965653214538548,
           "Metals"
          ],
          [
           0.00003040600199262775,
           "Metals"
          ],
          [
           0.0006360435962417418,
           "Machines"
          ],
          [
           0.00003178704952883003,
           "Machines"
          ],
          [
           0.0000063306635098268506,
           "Metals"
          ],
          [
           0.000022831865141606282,
           "Metals"
          ],
          [
           0.00010208845840860898,
           "Metals"
          ],
          [
           0.000001246035973970325,
           "Instruments"
          ],
          [
           0.0006919948822964554,
           "Plastics and Rubbers"
          ],
          [
           0.023724380143506196,
           "Paper Goods"
          ],
          [
           0.00010463145704794888,
           "Chemical Products"
          ],
          [
           0.000005630603557512993,
           "Precious Metals"
          ],
          [
           0.000004915133131511386,
           "Chemical Products"
          ],
          [
           0.0006126204148571768,
           "Plastics and Rubbers"
          ],
          [
           0.00003536606962414945,
           "Textiles"
          ],
          [
           0.00001632184854681002,
           "Plastics and Rubbers"
          ],
          [
           0.000022442993420225123,
           "Plastics and Rubbers"
          ],
          [
           0.00014179396345719982,
           "Plastics and Rubbers"
          ],
          [
           0.0013507381132156584,
           "Footwear and Headwear"
          ],
          [
           0.00001201100086878667,
           "Plastics and Rubbers"
          ],
          [
           0.00013663119469405264,
           "Plastics and Rubbers"
          ],
          [
           0.00009414934924769509,
           "Plastics and Rubbers"
          ],
          [
           8.303727765064594e-7,
           "Miscellaneous"
          ],
          [
           0.00003422377346360007,
           "Textiles"
          ],
          [
           0.0000030206019540428718,
           "Textiles"
          ],
          [
           0.0000034943283764004524,
           "Plastics and Rubbers"
          ],
          [
           0.003828588545045387,
           "Plastics and Rubbers"
          ],
          [
           0.00001350014018611425,
           "Metals"
          ],
          [
           0.00017529620841704572,
           "Machines"
          ],
          [
           0.000007739050419241153,
           "Animal Hides"
          ],
          [
           0.00010522721195119573,
           "Textiles"
          ],
          [
           0.0000020420368748708056,
           "Textiles"
          ],
          [
           0.0000021198660088599686,
           "Textiles"
          ],
          [
           0.00025620219050858983,
           "Chemical Products"
          ],
          [
           0.000011928081146279591,
           "Instruments"
          ],
          [
           4.986071938943943e-7,
           "Vegetable Products"
          ],
          [
           0.000011615543978743711,
           "Mineral Products"
          ],
          [
           8.527082537843153e-9,
           "Chemical Products"
          ],
          [
           1.5015155505840118e-8,
           "Chemical Products"
          ],
          [
           0.000005849322010912497,
           "Chemical Products"
          ],
          [
           0.000005126132477253616,
           "Chemical Products"
          ],
          [
           0.0000017795247958631593,
           "Chemical Products"
          ],
          [
           0.00007996052664395859,
           "Paper Goods"
          ],
          [
           3.70524102955893e-8,
           "Vegetable Products"
          ],
          [
           0.000035107912980549507,
           "Chemical Products"
          ],
          [
           0.0000018271953138166892,
           "Metals"
          ],
          [
           0.000055781632136014296,
           "Miscellaneous"
          ],
          [
           0.00009896898529664866,
           "Transportation"
          ],
          [
           4.3426049053033675e-7,
           "Metals"
          ],
          [
           0.00016671761661364047,
           "Arts and Antiques"
          ],
          [
           0.0005575808330933425,
           "Miscellaneous"
          ],
          [
           0.00003449532584524138,
           "Animal and Vegetable Bi-Products"
          ],
          [
           0.000018247453813998587,
           "Transportation"
          ],
          [
           0.0000073463226117347065,
           "Metals"
          ],
          [
           0.00021366861039595245,
           "Plastics and Rubbers"
          ],
          [
           0.012645023868963354,
           "Metals"
          ],
          [
           0.00007471150916308825,
           "Machines"
          ],
          [
           0.000026562434276434184,
           "Machines"
          ],
          [
           0.00011991100759571573,
           "Paper Goods"
          ],
          [
           0.002510945911718907,
           "Wood Products"
          ],
          [
           0.00026126507554444136,
           "Chemical Products"
          ],
          [
           0.00015780007414628187,
           "Paper Goods"
          ],
          [
           7.282177035164954e-11,
           "Animal Hides"
          ],
          [
           0.000011757855056527586,
           "Plastics and Rubbers"
          ],
          [
           0.000011134850940355823,
           "Metals"
          ],
          [
           0.000051651014871907936,
           "Mineral Products"
          ],
          [
           0.000012111005965699585,
           "Mineral Products"
          ],
          [
           0.00034060792793227723,
           "Chemical Products"
          ],
          [
           0.00009593405479236327,
           "Foodstuffs"
          ],
          [
           0.0006463009795263938,
           "Foodstuffs"
          ],
          [
           0.003500940163153167,
           "Wood Products"
          ],
          [
           0.000004848702338433931,
           "Plastics and Rubbers"
          ],
          [
           0.000023353872397707004,
           "Machines"
          ],
          [
           0.00001497012737783935,
           "Miscellaneous"
          ],
          [
           0.00024001216670463304,
           "Chemical Products"
          ],
          [
           0.000010673916875656683,
           "Metals"
          ],
          [
           0.00013144376015697631,
           "Metals"
          ],
          [
           0.00042206736588160397,
           "Metals"
          ],
          [
           0.0009174273850204679,
           "Metals"
          ],
          [
           0.0000011340915744230892,
           "Textiles"
          ],
          [
           0.000005502901913943,
           "Weapons"
          ],
          [
           0.000007929146449189108,
           "Animal Products"
          ],
          [
           2.7888310652336716e-7,
           "Stone And Glass"
          ],
          [
           0.000009243718112170386,
           "Vegetable Products"
          ],
          [
           9.32604138970125e-8,
           "Machines"
          ],
          [
           7.046546592527116e-7,
           "Machines"
          ],
          [
           0.0000308562243216785,
           "Foodstuffs"
          ],
          [
           0.0002714576821305138,
           "Vegetable Products"
          ],
          [
           0.026011340167372235,
           "Foodstuffs"
          ],
          [
           0.000004920095415005349,
           "Machines"
          ],
          [
           0.0071494046903557585,
           "Animal and Vegetable Bi-Products"
          ],
          [
           0.001725600833218002,
           "Machines"
          ],
          [
           0.0004440815777825919,
           "Chemical Products"
          ],
          [
           0.0000032608062973994625,
           "Transportation"
          ],
          [
           0.00018049714272326387,
           "Transportation"
          ],
          [
           4.1500433382735054e-7,
           "Vegetable Products"
          ],
          [
           0.0002192269262094297,
           "Vegetable Products"
          ],
          [
           0.13524828021225302,
           "Vegetable Products"
          ],
          [
           7.900121772148951e-8,
           "Paper Goods"
          ],
          [
           0.0006887790243698796,
           "Machines"
          ],
          [
           0.00003527885341719163,
           "Mineral Products"
          ],
          [
           0.00006956422369539915,
           "Chemical Products"
          ],
          [
           0.000002262489179945349,
           "Mineral Products"
          ],
          [
           0.0001121727200712116,
           "Plastics and Rubbers"
          ],
          [
           8.672379308211444e-8,
           "Textiles"
          ],
          [
           0.000002254537736163619,
           "Textiles"
          ],
          [
           3.300560048604763e-8,
           "Textiles"
          ],
          [
           0.00003576061450821134,
           "Chemical Products"
          ],
          [
           0.000008180256719581697,
           "Textiles"
          ],
          [
           1.0102113399448832e-7,
           "Precious Metals"
          ],
          [
           1.983873086579938e-8,
           "Mineral Products"
          ],
          [
           0.000008267524942089774,
           "Mineral Products"
          ],
          [
           0.00009358864935761419,
           "Metals"
          ],
          [
           8.842851604901305e-7,
           "Miscellaneous"
          ],
          [
           0.00032864920615919635,
           "Chemical Products"
          ],
          [
           0.00004171710589115801,
           "Precious Metals"
          ],
          [
           0.000022135869337618715,
           "Chemical Products"
          ],
          [
           0.000005035954851634823,
           "Metals"
          ],
          [
           0.004887204765417653,
           "Animal Hides"
          ],
          [
           0.0001455849538551995,
           "Animal Hides"
          ],
          [
           0.000005239644278715087,
           "Animal Hides"
          ],
          [
           9.056947609735156e-8,
           "Transportation"
          ],
          [
           0.000017177806038633356,
           "Animal Hides"
          ],
          [
           0.0001346149297904796,
           "Stone And Glass"
          ],
          [
           4.1661334818178697e-7,
           "Metals"
          ],
          [
           0.00000993337842213736,
           "Footwear and Headwear"
          ],
          [
           0.00006790013527635675,
           "Foodstuffs"
          ],
          [
           0.000027920442391578547,
           "Animal Products"
          ],
          [
           0.0000023951808486361047,
           "Foodstuffs"
          ],
          [
           0.000021990083621078064,
           "Vegetable Products"
          ],
          [
           0.00003018843828444382,
           "Animal Products"
          ],
          [
           0.000034157110334398165,
           "Machines"
          ],
          [
           0.000011441690671287524,
           "Machines"
          ],
          [
           0.000017868239646447396,
           "Stone And Glass"
          ],
          [
           0.0000024632345268813963,
           "Vegetable Products"
          ],
          [
           0.0012628341566524118,
           "Animal Products"
          ],
          [
           0.000005576354806304364,
           "Vegetable Products"
          ],
          [
           0.000005696295729776881,
           "Textiles"
          ],
          [
           0.0000037582240690447803,
           "Arts and Antiques"
          ],
          [
           9.903518028589833e-7,
           "Foodstuffs"
          ],
          [
           0.00041468781573636876,
           "Foodstuffs"
          ],
          [
           0.00007576896102577125,
           "Chemical Products"
          ],
          [
           2.8776389480291833e-7,
           "Animal Products"
          ],
          [
           0.00586129427406716,
           "Metals"
          ],
          [
           0.008621496885513157,
           "Animal Products"
          ],
          [
           0.000017967963859388956,
           "Animal and Vegetable Bi-Products"
          ],
          [
           0.000015000924051291397,
           "Animal Products"
          ],
          [
           0.000008840985980498963,
           "Textiles"
          ],
          [
           3.266021723237981e-7,
           "Mineral Products"
          ],
          [
           8.504715851235147e-7,
           "Vegetable Products"
          ],
          [
           3.285232799797416e-7,
           "Wood Products"
          ],
          [
           0.009048416754336068,
           "Transportation"
          ],
          [
           0.000010192391588464774,
           "Vegetable Products"
          ],
          [
           0.000058899069706108114,
           "Machines"
          ],
          [
           0.0017510504745539895,
           "Plastics and Rubbers"
          ],
          [
           4.047433996144681e-7,
           "Chemical Products"
          ],
          [
           0.000008754903712536614,
           "Foodstuffs"
          ],
          [
           1.6231972611382683e-7,
           "Textiles"
          ],
          [
           0.0001392482981539837,
           "Chemical Products"
          ],
          [
           4.1613480511947614e-7,
           "Textiles"
          ],
          [
           0.000019301035719742902,
           "Chemical Products"
          ],
          [
           0.00017903954216790525,
           "Chemical Products"
          ],
          [
           0.00011454314151792814,
           "Plastics and Rubbers"
          ],
          [
           0.00002464452731068279,
           "Textiles"
          ],
          [
           0.0012559826579702164,
           "Plastics and Rubbers"
          ],
          [
           0.000015617859686600522,
           "Chemical Products"
          ],
          [
           0.004220799619672528,
           "Wood Products"
          ],
          [
           0.000009435735249774286,
           "Plastics and Rubbers"
          ],
          [
           3.5120205988925534e-7,
           "Precious Metals"
          ],
          [
           0.00003851907195980167,
           "Plastics and Rubbers"
          ],
          [
           0.0007208467567432717,
           "Plastics and Rubbers"
          ],
          [
           0.0006921584399926652,
           "Plastics and Rubbers"
          ],
          [
           0.00019661657102241974,
           "Plastics and Rubbers"
          ],
          [
           0.000012934217934788133,
           "Plastics and Rubbers"
          ],
          [
           0.00004397561761536082,
           "Textiles"
          ],
          [
           0.0000256227976350701,
           "Precious Metals"
          ],
          [
           0.0000040249598107328225,
           "Chemical Products"
          ],
          [
           0.000006985504610455683,
           "Stone And Glass"
          ],
          [
           2.2640288402327842e-7,
           "Paper Goods"
          ],
          [
           0.00010126353339406548,
           "Foodstuffs"
          ],
          [
           0.00010162852997788136,
           "Miscellaneous"
          ],
          [
           0.00009395804992468466,
           "Metals"
          ],
          [
           0.0006221027213629427,
           "Precious Metals"
          ],
          [
           3.526619629996384e-7,
           "Precious Metals"
          ],
          [
           0.00001925805353671868,
           "Instruments"
          ],
          [
           0.0000013318269548512682,
           "Machines"
          ],
          [
           0.0012292018103982776,
           "Precious Metals"
          ],
          [
           0.0005250142403837115,
           "Chemical Products"
          ],
          [
           0.026565148999211124,
           "Animal Products"
          ],
          [
           0.00031490726301848114,
           "Animal Products"
          ],
          [
           0.000007235304088981942,
           "Vegetable Products"
          ],
          [
           0.0000034350861323677106,
           "Vegetable Products"
          ],
          [
           0.00002998666649731615,
           "Chemical Products"
          ],
          [
           0.00010619619923371488,
           "Mineral Products"
          ],
          [
           0.000008167440087999807,
           "Foodstuffs"
          ],
          [
           0.0000014079950589357435,
           "Chemical Products"
          ],
          [
           0.00007175441819590207,
           "Chemical Products"
          ],
          [
           0.000028700925319987424,
           "Stone And Glass"
          ],
          [
           0.00012592770177652314,
           "Foodstuffs"
          ],
          [
           0.000039949485720895674,
           "Machines"
          ],
          [
           0.000009046329502077215,
           "Stone And Glass"
          ],
          [
           0.0000020688283509535123,
           "Vegetable Products"
          ],
          [
           0.000615528285243012,
           "Chemical Products"
          ],
          [
           0.0013424462380606443,
           "Vegetable Products"
          ],
          [
           0.0008016572452199614,
           "Wood Products"
          ],
          [
           0.0037179865905606607,
           "Foodstuffs"
          ],
          [
           0.0010676038451243293,
           "Metals"
          ],
          [
           0.03466966820636873,
           "Foodstuffs"
          ],
          [
           0.00005902546749321848,
           "Textiles"
          ],
          [
           0.001209664305051686,
           "Plastics and Rubbers"
          ],
          [
           0.000011461175696411615,
           "Metals"
          ],
          [
           0.000514953881600301,
           "Metals"
          ],
          [
           0.0001396761711349432,
           "Instruments"
          ],
          [
           2.521020335507105e-7,
           "Arts and Antiques"
          ],
          [
           9.372508614592303e-8,
           "Textiles"
          ],
          [
           0.000004846493411399932,
           "Stone And Glass"
          ],
          [
           0.00014709260377300979,
           "Metals"
          ],
          [
           0.00018669433086344284,
           "Chemical Products"
          ],
          [
           0.00011150755561770958,
           "Paper Goods"
          ],
          [
           0.00010517367754687721,
           "Transportation"
          ],
          [
           0.0009522768361995227,
           "Metals"
          ],
          [
           0.024881971584105732,
           "Mineral Products"
          ],
          [
           0.00011328264175328465,
           "Stone And Glass"
          ],
          [
           0.00006813436823454451,
           "Chemical Products"
          ],
          [
           0.00006072885539432731,
           "Stone And Glass"
          ],
          [
           0.0006636089666164925,
           "Machines"
          ],
          [
           0.0000024019185962453075,
           "Textiles"
          ],
          [
           0.000007061696988463609,
           "Textiles"
          ],
          [
           0.000014123092286735762,
           "Textiles"
          ],
          [
           1.7487974764781132e-7,
           "Textiles"
          ],
          [
           0.000026940878613841658,
           "Metals"
          ],
          [
           3.033546890648715e-8,
           "Instruments"
          ],
          [
           0.0010180763893653493,
           "Metals"
          ],
          [
           0.011836049561612527,
           "Textiles"
          ],
          [
           0.0000015372051534630202,
           "Animal and Vegetable Bi-Products"
          ],
          [
           0.000001941938149967438,
           "Mineral Products"
          ],
          [
           0.0003155421370832202,
           "Animal Products"
          ],
          [
           9.278429822704672e-7,
           "Plastics and Rubbers"
          ],
          [
           3.1074783260723895e-7,
           "Chemical Products"
          ],
          [
           0.00014702856916294724,
           "Chemical Products"
          ],
          [
           0.00000577172521304779,
           "Chemical Products"
          ],
          [
           0.000015675378482068275,
           "Chemical Products"
          ],
          [
           0.0001336126594912064,
           "Chemical Products"
          ],
          [
           0.0000010168658626736838,
           "Chemical Products"
          ],
          [
           2.661496998218787e-7,
           "Instruments"
          ],
          [
           0.000003005902359541889,
           "Instruments"
          ],
          [
           0.0000019147999035497236,
           "Chemical Products"
          ],
          [
           0.0000012997125541261908,
           "Chemical Products"
          ],
          [
           0.00007388800590691829,
           "Chemical Products"
          ],
          [
           0.0003251212757373337,
           "Mineral Products"
          ],
          [
           0.00018094014529393976,
           "Chemical Products"
          ],
          [
           0.000008745436882390899,
           "Mineral Products"
          ],
          [
           1.887852380816263e-7,
           "Wood Products"
          ],
          [
           0.000027292593893826724,
           "Metals"
          ],
          [
           0.00002608458128709001,
           "Animal Products"
          ],
          [
           0.0019874516350676017,
           "Metals"
          ],
          [
           2.667357416880421e-7,
           "Chemical Products"
          ],
          [
           0.000004260038888537997,
           "Animal and Vegetable Bi-Products"
          ],
          [
           0.000027259671518221083,
           "Vegetable Products"
          ],
          [
           0.000001936008377238804,
           "Transportation"
          ],
          [
           7.843251437207663e-7,
           "Transportation"
          ],
          [
           5.501095240497609e-7,
           "Transportation"
          ],
          [
           0.000026709964247759927,
           "Transportation"
          ],
          [
           0.0000016007404142431595,
           "Wood Products"
          ],
          [
           0.000001767328883180933,
           "Chemical Products"
          ],
          [
           0.00006103156162286572,
           "Machines"
          ],
          [
           0.000001950094188246823,
           "Textiles"
          ],
          [
           2.6154805747632453e-7,
           "Animal Hides"
          ],
          [
           0.00009936491726205058,
           "Plastics and Rubbers"
          ],
          [
           0.000009862030425709491,
           "Paper Goods"
          ],
          [
           0.0000047463877510898636,
           "Plastics and Rubbers"
          ],
          [
           0.0000022201936021844412,
           "Textiles"
          ],
          [
           5.377228876832804e-7,
           "Vegetable Products"
          ],
          [
           0.0004272890058445254,
           "Animal Products"
          ],
          [
           0.1065442902435436,
           "Mineral Products"
          ],
          [
           0.00014374829517894045,
           "Machines"
          ],
          [
           0.000031524433418721884,
           "Paper Goods"
          ],
          [
           0.000027821273011173,
           "Textiles"
          ],
          [
           0.0000016201942300371003,
           "Miscellaneous"
          ],
          [
           0.0009921830623211261,
           "Machines"
          ],
          [
           0.0001151063520252345,
           "Instruments"
          ],
          [
           1.914519019578367e-7,
           "Paper Goods"
          ],
          [
           0.00019370453592486113,
           "Plastics and Rubbers"
          ],
          [
           0.0001617028875742115,
           "Machines"
          ],
          [
           0.00014566565424756252,
           "Animal Products"
          ],
          [
           0.000022232750033813208,
           "Stone And Glass"
          ],
          [
           0.0005975151926922251,
           "Foodstuffs"
          ],
          [
           0.0000051776937583659335,
           "Metals"
          ],
          [
           0.000001328764972793149,
           "Metals"
          ],
          [
           0.00021040009886170912,
           "Metals"
          ],
          [
           0.000006751465843655532,
           "Metals"
          ],
          [
           0.000004865139252313304,
           "Metals"
          ],
          [
           0.000011631003000278361,
           "Metals"
          ],
          [
           0.011404506581892623,
           "Mineral Products"
          ],
          [
           0.000015907288079011477,
           "Metals"
          ],
          [
           0.00022328894189816147,
           "Metals"
          ],
          [
           0.0004189947137002764,
           "Metals"
          ],
          [
           0.000008804450258002536,
           "Metals"
          ],
          [
           0.0010287454757302392,
           "Metals"
          ],
          [
           2.3060227278022355e-9,
           "Animal Products"
          ],
          [
           0.015390064207588884,
           "Vegetable Products"
          ],
          [
           0.000002688860645354257,
           "Textiles"
          ],
          [
           0.000002667967732670034,
           "Vegetable Products"
          ],
          [
           0.000003548573659905731,
           "Textiles"
          ],
          [
           0.00004675084141264879,
           "Metals"
          ],
          [
           0.00012548428308144523,
           "Metals"
          ],
          [
           0.000016544950177244024,
           "Paper Goods"
          ],
          [
           0.005718835638570334,
           "Transportation"
          ],
          [
           0.000021308475318289973,
           "Wood Products"
          ],
          [
           0.00027659240410896557,
           "Chemical Products"
          ],
          [
           0.00008188501877837178,
           "Chemical Products"
          ],
          [
           1.5829372252438563e-7,
           "Chemical Products"
          ],
          [
           0.0001479247589490382,
           "Chemical Products"
          ],
          [
           0.00019846892452404127,
           "Precious Metals"
          ],
          [
           3.0027883619335184e-7,
           "Chemical Products"
          ],
          [
           0.0000026654709862579776,
           "Machines"
          ],
          [
           3.7890900965638293e-7,
           "Chemical Products"
          ],
          [
           0.001178085588204722,
           "Paper Goods"
          ],
          [
           0.0000016019020948654358,
           "Chemical Products"
          ],
          [
           0.00007071984970762623,
           "Paper Goods"
          ],
          [
           0.0016190394501444905,
           "Animal Products"
          ],
          [
           0.000009903656736723834,
           "Instruments"
          ],
          [
           8.561759571343938e-8,
           "Wood Products"
          ],
          [
           0.000010081147664994255,
           "Vegetable Products"
          ],
          [
           0.0007407510202669809,
           "Vegetable Products"
          ],
          [
           0.0000027866498798264724,
           "Vegetable Products"
          ],
          [
           0.000006041737934401655,
           "Machines"
          ],
          [
           0.00021652852244445604,
           "Chemical Products"
          ],
          [
           0.00003393654012740972,
           "Mineral Products"
          ],
          [
           0.0002420187324419359,
           "Animal Products"
          ],
          [
           4.855998386282496e-7,
           "Instruments"
          ],
          [
           0.000011152224134139717,
           "Machines"
          ],
          [
           0.000708886412085023,
           "Chemical Products"
          ],
          [
           0.000051855047601619855,
           "Chemical Products"
          ],
          [
           0.00003862005841676266,
           "Chemical Products"
          ],
          [
           0.00001552147140428174,
           "Animal Products"
          ],
          [
           3.287209390706961e-7,
           "Instruments"
          ],
          [
           5.475156819439022e-8,
           "Wood Products"
          ],
          [
           0.000044527121156157314,
           "Foodstuffs"
          ],
          [
           0.000001405886695298896,
           "Metals"
          ],
          [
           0.0004636789599629291,
           "Foodstuffs"
          ],
          [
           0.00004688916463158007,
           "Instruments"
          ],
          [
           0.000028316558145258017,
           "Metals"
          ],
          [
           0.000018246462050840464,
           "Textiles"
          ],
          [
           0.000010243897386323491,
           "Textiles"
          ],
          [
           0.00018219126838872463,
           "Stone And Glass"
          ],
          [
           4.843479977188713e-7,
           "Transportation"
          ],
          [
           1.1343897969111958e-7,
           "Textiles"
          ],
          [
           0.000009723610111084405,
           "Animal and Vegetable Bi-Products"
          ],
          [
           0.00005833179505047546,
           "Textiles"
          ],
          [
           0.00011557428044759076,
           "Machines"
          ],
          [
           0.000008553287972059697,
           "Miscellaneous"
          ],
          [
           0.0000872494795714696,
           "Wood Products"
          ],
          [
           0.0000011180361079122254,
           "Chemical Products"
          ],
          [
           0.000009629881557235133,
           "Wood Products"
          ],
          [
           2.189022416770585e-7,
           "Chemical Products"
          ],
          [
           0.000006839597524297778,
           "Wood Products"
          ],
          [
           0.000020032995075174133,
           "Wood Products"
          ],
          [
           0.00011525526907790027,
           "Wood Products"
          ],
          [
           0.0009448101738784302,
           "Wood Products"
          ],
          [
           0.0001502028666648723,
           "Wood Products"
          ],
          [
           0.000021565855196339503,
           "Wood Products"
          ],
          [
           0.0019650758492060047,
           "Wood Products"
          ],
          [
           0.000002817134459977013,
           "Foodstuffs"
          ],
          [
           0.0000026421749551521498,
           "Textiles"
          ],
          [
           0.0004040693994528301,
           "Metals"
          ],
          [
           0.000005414863861291206,
           "Metals"
          ],
          [
           3.8491507185871896e-9,
           "Textiles"
          ],
          [
           2.675229103485098e-7,
           "Paper Goods"
          ],
          [
           0.00025240974714288645,
           "Animal and Vegetable Bi-Products"
          ],
          [
           0.00002375655598153153,
           "Chemical Products"
          ],
          [
           0.00012205184627443698,
           "Miscellaneous"
          ],
          [
           0.0003403962766583052,
           "Vegetable Products"
          ],
          [
           0.000021304095608958824,
           "Paper Goods"
          ],
          [
           0.000024287527250792203,
           "Miscellaneous"
          ],
          [
           0.000007703787343874204,
           "Miscellaneous"
          ],
          [
           0.0006335675658894987,
           "Instruments"
          ],
          [
           0.00003125571761842094,
           "Machines"
          ],
          [
           0.000042181507659207235,
           "Machines"
          ],
          [
           0.00004442602026498577,
           "Machines"
          ],
          [
           0.00012390187294711058,
           "Machines"
          ],
          [
           0.00013352085898041976,
           "Metals"
          ],
          [
           0.0000019144115207745148,
           "Metals"
          ],
          [
           0.000018174656317570386,
           "Chemical Products"
          ],
          [
           0.0010695937034668915,
           "Vegetable Products"
          ],
          [
           0.000039699200763900405,
           "Chemical Products"
          ],
          [
           0.0000966331160461123,
           "Mineral Products"
          ],
          [
           3.5544999649310156e-7,
           "Metals"
          ],
          [
           2.579277751788425e-8,
           "Vegetable Products"
          ],
          [
           0.0011313402431018832,
           "Machines"
          ],
          [
           0.000020634135321723647,
           "Machines"
          ],
          [
           0.0014207732822353284,
           "Machines"
          ],
          [
           0.000025636730867130715,
           "Animal Products"
          ],
          [
           0.0011421607606043678,
           "Mineral Products"
          ],
          [
           0.000009286499168400305,
           "Vegetable Products"
          ],
          [
           0.00000833530813947376,
           "Machines"
          ],
          [
           0.00012700532873729687,
           "Transportation"
          ],
          [
           0.00009255528763010418,
           "Chemical Products"
          ],
          [
           0.0009705813059920033,
           "Machines"
          ],
          [
           0.00002238462156973325,
           "Metals"
          ],
          [
           0.0003319751775379505,
           "Mineral Products"
          ],
          [
           5.359335527546398e-7,
           "Chemical Products"
          ],
          [
           0.000026394656385247335,
           "Vegetable Products"
          ],
          [
           0.000648032591065069,
           "Foodstuffs"
          ],
          [
           0.0005962196483175257,
           "Machines"
          ],
          [
           0.00002408296743017107,
           "Metals"
          ],
          [
           0.0004274865262273459,
           "Metals"
          ],
          [
           0.00011735211993962577,
           "Stone And Glass"
          ],
          [
           5.407189833777482e-8,
           "Metals"
          ],
          [
           0.00022351742887189815,
           "Metals"
          ],
          [
           0.0000356861802558019,
           "Metals"
          ],
          [
           0.00047527554600745793,
           "Metals"
          ],
          [
           0.00020041364377209545,
           "Metals"
          ],
          [
           0.00014815218480554974,
           "Metals"
          ],
          [
           0.00008899890470225407,
           "Precious Metals"
          ],
          [
           0.00006943680293580051,
           "Metals"
          ],
          [
           3.475471005582725e-7,
           "Textiles"
          ],
          [
           0.000002492467266122559,
           "Textiles"
          ],
          [
           8.316211497124877e-7,
           "Textiles"
          ],
          [
           0.000468022837515362,
           "Mineral Products"
          ],
          [
           0.00007092935100552122,
           "Foodstuffs"
          ],
          [
           0.0015847463468878123,
           "Paper Goods"
          ],
          [
           0.00003652862063996664,
           "Textiles"
          ],
          [
           0.000016401612659268523,
           "Textiles"
          ],
          [
           0.0000017318889549431302,
           "Textiles"
          ],
          [
           0.000004787018831242734,
           "Textiles"
          ],
          [
           0.000009242858121739566,
           "Textiles"
          ],
          [
           0.000025185464759371593,
           "Textiles"
          ],
          [
           0.0001907657995115069,
           "Chemical Products"
          ],
          [
           0.000013349732021007945,
           "Textiles"
          ],
          [
           0.00005619444834902775,
           "Metals"
          ],
          [
           0.00017800662083872071,
           "Metals"
          ],
          [
           0.000003001508779397339,
           "Metals"
          ],
          [
           0.000038251507437012965,
           "Metals"
          ],
          [
           0.16023607924695363,
           "Mineral Products"
          ],
          [
           0.00009445742694872278,
           "Chemical Products"
          ],
          [
           0.000238811401597898,
           "Metals"
          ],
          [
           0.0010255793966852539,
           "Metals"
          ],
          [
           0.00032227905937902554,
           "Metals"
          ],
          [
           0.000050301062231645806,
           "Metals"
          ],
          [
           0.0000024353333857266646,
           "Metals"
          ],
          [
           0.000038000001848438464,
           "Metals"
          ],
          [
           0.0002793052890031292,
           "Metals"
          ],
          [
           6.393474020606823e-7,
           "Metals"
          ],
          [
           0.00000330306026272017,
           "Metals"
          ],
          [
           0.00019806818632179613,
           "Metals"
          ],
          [
           5.470752836184422e-7,
           "Mineral Products"
          ],
          [
           0.000017718857921532713,
           "Textiles"
          ],
          [
           0.00005946376439044831,
           "Animal Hides"
          ],
          [
           0.00000517491266027917,
           "Chemical Products"
          ],
          [
           0.000037738745078043544,
           "Plastics and Rubbers"
          ],
          [
           0.0000622626517953972,
           "Foodstuffs"
          ],
          [
           0.00013394512208219183,
           "Mineral Products"
          ],
          [
           0.0013541581737894102,
           "Mineral Products"
          ],
          [
           0.0012493442600619935,
           "Chemical Products"
          ],
          [
           0.00011058387387945921,
           "Chemical Products"
          ],
          [
           0.000035497904770112735,
           "Vegetable Products"
          ],
          [
           0.0000021269262528807286,
           "Instruments"
          ],
          [
           0.000022322171700101684,
           "Mineral Products"
          ],
          [
           0.0011123910787087762,
           "Vegetable Products"
          ],
          [
           0.000020997411924677876,
           "Miscellaneous"
          ],
          [
           0.00026659761959590505,
           "Miscellaneous"
          ],
          [
           0.0000021727554203553666,
           "Mineral Products"
          ],
          [
           1.173505490700082e-7,
           "Precious Metals"
          ],
          [
           0.00010736896263589804,
           "Precious Metals"
          ],
          [
           0.0006315861756785174,
           "Chemical Products"
          ],
          [
           0.00007884427640327166,
           "Foodstuffs"
          ],
          [
           0.00014284014528399507,
           "Stone And Glass"
          ],
          [
           0.0005135041943439872,
           "Metals"
          ],
          [
           0.00013342663454499144,
           "Metals"
          ],
          [
           0.0003307911614383963,
           "Metals"
          ],
          [
           6.743365288629748e-7,
           "Mineral Products"
          ],
          [
           0.00012819734829618302,
           "Foodstuffs"
          ],
          [
           0.0004705373038915374,
           "Plastics and Rubbers"
          ],
          [
           0.0003527208654087428,
           "Animal and Vegetable Bi-Products"
          ],
          [
           0.00047233938956539617,
           "Foodstuffs"
          ],
          [
           0.000049492692032895595,
           "Paper Goods"
          ],
          [
           0.003913131003609058,
           "Foodstuffs"
          ],
          [
           0.0000017442201080560095,
           "Textiles"
          ],
          [
           2.403569223039945e-7,
           "Transportation"
          ],
          [
           0.0000010555862382806607,
           "Metals"
          ],
          [
           4.28885550337715e-7,
           "Textiles"
          ],
          [
           1.210020406976409e-7,
           "Textiles"
          ],
          [
           0.00022079888815357057,
           "Transportation"
          ],
          [
           0.0000014632875888527459,
           "Miscellaneous"
          ],
          [
           0.0005217178866592703,
           "Wood Products"
          ],
          [
           0.0000018385034944412953,
           "Transportation"
          ],
          [
           0.00007184064610740512,
           "Machines"
          ],
          [
           0.0000060560075336872286,
           "Paper Goods"
          ],
          [
           3.9687864841648995e-8,
           "Paper Goods"
          ],
          [
           0.000028943865681287227,
           "Paper Goods"
          ],
          [
           0.000014316656020033797,
           "Paper Goods"
          ],
          [
           0.0005583403052071532,
           "Paper Goods"
          ],
          [
           0.00006435131194180982,
           "Animal and Vegetable Bi-Products"
          ],
          [
           0.00042164860602504845,
           "Arts and Antiques"
          ],
          [
           0.00010368474975945399,
           "Metals"
          ],
          [
           0.00004677874602150687,
           "Textiles"
          ],
          [
           0.00022226481813237607,
           "Paper Goods"
          ],
          [
           0.003065349600325874,
           "Chemical Products"
          ],
          [
           0.0008681178605462268,
           "Chemical Products"
          ],
          [
           0.000043478127021945153,
           "Chemical Products"
          ],
          [
           0.00004635779457643413,
           "Miscellaneous"
          ],
          [
           0.000037489874944015107,
           "Vegetable Products"
          ],
          [
           0.000008574829345270384,
           "Metals"
          ],
          [
           0.00017902017851239842,
           "Wood Products"
          ],
          [
           0.0000414164213336727,
           "Textiles"
          ],
          [
           0.00003782973761394961,
           "Plastics and Rubbers"
          ],
          [
           0.000026988011637775924,
           "Vegetable Products"
          ],
          [
           0.0002696815244746036,
           "Foodstuffs"
          ],
          [
           0.0000010148649978406884,
           "Foodstuffs"
          ],
          [
           0.000056766893350355366,
           "Vegetable Products"
          ],
          [
           0.000040280172847765866,
           "Animal and Vegetable Bi-Products"
          ],
          [
           0.000026850309137744305,
           "Textiles"
          ],
          [
           0.00012916039193516015,
           "Chemical Products"
          ],
          [
           0.00030171356030971,
           "Machines"
          ],
          [
           0.000009217502274843792,
           "Metals"
          ],
          [
           0.0001338832686575365,
           "Instruments"
          ],
          [
           0.0000014757019668460271,
           "Textiles"
          ],
          [
           0.000018541782071243203,
           "Textiles"
          ],
          [
           0.00092052720318984,
           "Mineral Products"
          ],
          [
           0.00013691255374076794,
           "Chemical Products"
          ],
          [
           0.0004113179675071261,
           "Chemical Products"
          ],
          [
           0.000001448237756313405,
           "Chemical Products"
          ],
          [
           3.932895754491587e-7,
           "Textiles"
          ],
          [
           0.0005793261835504887,
           "Chemical Products"
          ],
          [
           0.00008947512787102371,
           "Mineral Products"
          ],
          [
           3.049983804528087e-7,
           "Metals"
          ],
          [
           7.182757980118202e-7,
           "Metals"
          ],
          [
           0.0008186912317298536,
           "Mineral Products"
          ],
          [
           0.000018915697588075474,
           "Metals"
          ],
          [
           0.0001433118118905627,
           "Metals"
          ],
          [
           0.0000026252594982104664,
           "Chemical Products"
          ],
          [
           0.00006820872966518359,
           "Paper Goods"
          ],
          [
           0.0000045945058120597736,
           "Textiles"
          ],
          [
           0.00002289183560334254,
           "Textiles"
          ],
          [
           0.00008110391513106324,
           "Textiles"
          ],
          [
           0.00004310998523119076,
           "Textiles"
          ],
          [
           0.000006263511434452581,
           "Textiles"
          ],
          [
           5.779586496542417e-7,
           "Textiles"
          ],
          [
           1.1869948567318875e-8,
           "Textiles"
          ],
          [
           0.000003074216115538436,
           "Textiles"
          ],
          [
           0.000004910153509500673,
           "Textiles"
          ],
          [
           0.000007989453278150324,
           "Textiles"
          ],
          [
           0.000005109178875575082,
           "Machines"
          ],
          [
           0.000005834036374545351,
           "Textiles"
          ],
          [
           0.00006390000075390714,
           "Textiles"
          ],
          [
           0.000017643053926299997,
           "Textiles"
          ],
          [
           0.000005145565486827456,
           "Textiles"
          ],
          [
           0.0000014988835637413022,
           "Textiles"
          ],
          [
           6.040392465501825e-8,
           "Textiles"
          ],
          [
           0.0004216102324197765,
           "Textiles"
          ],
          [
           0.0000023021007553132966,
           "Paper Goods"
          ],
          [
           7.696914355834348e-8,
           "Textiles"
          ],
          [
           0.00006126132817913858,
           "Animal Products"
          ],
          [
           0.0000060860759894357604,
           "Weapons"
          ],
          [
           0.0000011277040648522445,
           "Instruments"
          ],
          [
           0.00017744690230868789,
           "Machines"
          ],
          [
           0.000014985374869469645,
           "Chemical Products"
          ],
          [
           0.000014631648321541532,
           "Mineral Products"
          ],
          [
           0.00011814172292784536,
           "Machines"
          ],
          [
           0.00005921239751000781,
           "Machines"
          ],
          [
           0.00014938314667305727,
           "Machines"
          ],
          [
           3.491734534294594e-7,
           "Textiles"
          ],
          [
           1.4883382778537134e-8,
           "Textiles"
          ],
          [
           0.0002474115971931742,
           "Machines"
          ],
          [
           0.0000024556021118078737,
           "Precious Metals"
          ],
          [
           5.193267214111137e-7,
           "Animal Products"
          ],
          [
           0.0000029990952578656845,
           "Machines"
          ],
          [
           0.000013416415956429955,
           "Textiles"
          ],
          [
           0.00012753948335823294,
           "Stone And Glass"
          ],
          [
           0.0005970589885748955,
           "Chemical Products"
          ],
          [
           0.00004612331887901187,
           "Machines"
          ],
          [
           0.00002987417073293625,
           "Plastics and Rubbers"
          ],
          [
           8.197303949250683e-8,
           "Wood Products"
          ],
          [
           0.000013001945648918515,
           "Instruments"
          ],
          [
           0.0004880207741096668,
           "Transportation"
          ],
          [
           0.0005873482748525701,
           "Machines"
          ],
          [
           0.000001810994203765122,
           "Instruments"
          ],
          [
           0.006767329459478553,
           "Transportation"
          ],
          [
           8.464663877541739e-9,
           "Chemical Products"
          ],
          [
           0.0000991849573289949,
           "Plastics and Rubbers"
          ],
          [
           0.00000874366835368236,
           "Mineral Products"
          ],
          [
           0.00004632882191494423,
           "Metals"
          ],
          [
           0.000005790828790803372,
           "Animal Products"
          ],
          [
           0.000007641198766108636,
           "Foodstuffs"
          ],
          [
           0.0008882278871836197,
           "Transportation"
          ],
          [
           0.000013472180094002568,
           "Textiles"
          ],
          [
           0.00006562025556411077,
           "Textiles"
          ],
          [
           0.0004417105945679326,
           "Animal Products"
          ],
          [
           0.000011704188879481769,
           "Foodstuffs"
          ],
          [
           0.00004439972120277878,
           "Footwear and Headwear"
          ],
          [
           0.000017314627742014054,
           "Transportation"
          ],
          [
           0.000762608973987311,
           "Weapons"
          ],
          [
           0.000023669676141798658,
           "Foodstuffs"
          ],
          [
           0.0000012539700792353044,
           "Chemical Products"
          ],
          [
           0.00002108761035651677,
           "Vegetable Products"
          ],
          [
           0.0002449302924641355,
           "Machines"
          ],
          [
           0.0014973192862277852,
           "Foodstuffs"
          ],
          [
           0.000027065566823200433,
           "Animal Products"
          ],
          [
           0.00006375673258999865,
           "Machines"
          ],
          [
           0.000020155893949604265,
           "Metals"
          ],
          [
           0.000002409342949117826,
           "Textiles"
          ],
          [
           0.000007055777618845026,
           "Metals"
          ],
          [
           0.00020966803200747405,
           "Machines"
          ],
          [
           0.0029977912835041413,
           "Miscellaneous"
          ],
          [
           0.000020751038537061497,
           "Stone And Glass"
          ],
          [
           0.000060571900205296055,
           "Metals"
          ],
          [
           0.00018354529904812645,
           "Animal Products"
          ],
          [
           0.000007550722918001736,
           "Transportation"
          ],
          [
           0.00002726030957563749,
           "Animal Hides"
          ],
          [
           0.000007401861348589565,
           "Metals"
          ],
          [
           0.00012589419335905133,
           "Metals"
          ],
          [
           0.000008327575161003084,
           "Textiles"
          ],
          [
           0.0000036718470462976736,
           "Textiles"
          ],
          [
           0.0005223073927610803,
           "Metals"
          ],
          [
           0.000031279842430627444,
           "Metals"
          ],
          [
           0.00001607606466876315,
           "Chemical Products"
          ],
          [
           0.0001090030588886656,
           "Chemical Products"
          ],
          [
           0.0006947329392492372,
           "Animal Products"
          ],
          [
           0.000005772002629315797,
           "Animal Hides"
          ],
          [
           0.00048009322280401874,
           "Machines"
          ],
          [
           0.00001376676149359174,
           "Footwear and Headwear"
          ],
          [
           0.0000687036402873068,
           "Machines"
          ],
          [
           0.00015438203524358312,
           "Chemical Products"
          ],
          [
           8.752483255598258e-9,
           "Chemical Products"
          ],
          [
           4.6219630871856955e-7,
           "Instruments"
          ],
          [
           0.00007191827411459997,
           "Instruments"
          ],
          [
           0.0000013166973651348755,
           "Instruments"
          ],
          [
           5.309053828970259e-9,
           "Animal and Vegetable Bi-Products"
          ],
          [
           0.000007881947538891189,
           "Vegetable Products"
          ],
          [
           0.0000020641504191342563,
           "Vegetable Products"
          ],
          [
           9.735577155345528e-8,
           "Vegetable Products"
          ],
          [
           0.000004851812868338952,
           "Instruments"
          ],
          [
           0.00001391772449123406,
           "Chemical Products"
          ],
          [
           7.490655360571676e-7,
           "Chemical Products"
          ],
          [
           0.000030197610359804777,
           "Chemical Products"
          ],
          [
           0.00040551896187182324,
           "Chemical Products"
          ],
          [
           0.00040035880428929865,
           "Textiles"
          ],
          [
           2.9487268667057936e-7,
           "Transportation"
          ],
          [
           0.00004361526428633071,
           "Textiles"
          ],
          [
           2.220717225390303e-8,
           "Machines"
          ],
          [
           0.000027790146905902695,
           "Chemical Products"
          ],
          [
           0.000009559650161285992,
           "Vegetable Products"
          ],
          [
           0.000002317805983785802,
           "Stone And Glass"
          ],
          [
           5.082439415042625e-7,
           "Instruments"
          ],
          [
           0.0000037783991671355373,
           "Stone And Glass"
          ],
          [
           0.000079301180996678,
           "Metals"
          ],
          [
           0.000032846682576920235,
           "Chemical Products"
          ],
          [
           0.000017167912680975582,
           "Paper Goods"
          ],
          [
           0.0000022004797086392448,
           "Textiles"
          ],
          [
           0.000002161943121309822,
           "Animal Products"
          ],
          [
           0.000002805219431266143,
           "Textiles"
          ],
          [
           0.00011527032931354967,
           "Metals"
          ],
          [
           0.00033635132553775916,
           "Machines"
          ],
          [
           0.0000491352966548231,
           "Instruments"
          ],
          [
           0.0006278163902865034,
           "Instruments"
          ],
          [
           4.4493061373852845e-7,
           "Textiles"
          ],
          [
           0.000029277330438540826,
           "Animal and Vegetable Bi-Products"
          ],
          [
           0.00003444834540025451,
           "Metals"
          ],
          [
           0.00003726929433391661,
           "Mineral Products"
          ],
          [
           0.000001453973337654435,
           "Instruments"
          ],
          [
           7.946762382207507e-7,
           "Instruments"
          ],
          [
           0.000165684983103834,
           "Paper Goods"
          ],
          [
           0.00001156074039499907,
           "Metals"
          ],
          [
           0.00003269712053143135,
           "Mineral Products"
          ],
          [
           4.989123517892013e-7,
           "Chemical Products"
          ],
          [
           0.000005128043181799509,
           "Machines"
          ],
          [
           0.00027577115485997317,
           "Paper Goods"
          ],
          [
           0.0011081087355522903,
           "Vegetable Products"
          ],
          [
           0.000008952954653969649,
           "Metals"
          ],
          [
           0.0000021515781559964368,
           "Metals"
          ],
          [
           0.005212196525902564,
           "Transportation"
          ],
          [
           0.000008980890472157883,
           "Machines"
          ],
          [
           0.000604453172428268,
           "Transportation"
          ],
          [
           0.0016575839160959248,
           "Machines"
          ],
          [
           9.973808375495923e-8,
           "Miscellaneous"
          ],
          [
           0.0005516028558204387,
           "Instruments"
          ],
          [
           0.00006088885869460329,
           "Animal Hides"
          ],
          [
           0.000009715887535723781,
           "Textiles"
          ],
          [
           1.9543976081042705e-8,
           "Transportation"
          ],
          [
           0.000003315596010330704,
           "Vegetable Products"
          ],
          [
           0.00004633504991016097,
           "Instruments"
          ],
          [
           0.000052924705780095144,
           "Mineral Products"
          ],
          [
           0.0000075506743701548355,
           "Textiles"
          ],
          [
           1.016037081573015e-9,
           "Textiles"
          ],
          [
           0.0000033717381275684758,
           "Textiles"
          ],
          [
           0.000021853282723917464,
           "Machines"
          ],
          [
           0.0005641293862754682,
           "Footwear and Headwear"
          ],
          [
           0.00005074951256428466,
           "Machines"
          ],
          [
           0.000010167292351616907,
           "Textiles"
          ],
          [
           0.000009762233390997581,
           "Instruments"
          ],
          [
           0.00023583583123955922,
           "Machines"
          ],
          [
           0.0000042548165272927785,
           "Vegetable Products"
          ],
          [
           0.000016098746916376012,
           "Foodstuffs"
          ],
          [
           0.0001553609609639036,
           "Textiles"
          ],
          [
           0.000004306644821563053,
           "Instruments"
          ],
          [
           0.0000156390612248829,
           "Animal Products"
          ],
          [
           6.779360049403564e-9,
           "Footwear and Headwear"
          ],
          [
           1.9543976081042705e-8,
           "Metals"
          ],
          [
           0.000019597777498519172,
           "Vegetable Products"
          ],
          [
           0.000005559900553908241,
           "Miscellaneous"
          ],
          [
           0.000008895272876444443,
           "Animal Products"
          ],
          [
           0.0006252266261997844,
           "Transportation"
          ],
          [
           0.000009256579823895827,
           "Transportation"
          ],
          [
           0.000002946001251872632,
           "Vegetable Products"
          ],
          [
           6.740591125949686e-7,
           "Mineral Products"
          ],
          [
           0.0001710296814555397,
           "Stone And Glass"
          ],
          [
           0.00002839473751728554,
           "Metals"
          ],
          [
           0.0035326289345013525,
           "Stone And Glass"
          ],
          [
           0.0000055824440933871016,
           "Instruments"
          ],
          [
           0.000001586373719263784,
           "Wood Products"
          ],
          [
           0.00007485587658895872,
           "Machines"
          ],
          [
           0.0003329245722965417,
           "Chemical Products"
          ],
          [
           0.000003541669462535725,
           "Textiles"
          ],
          [
           0.00046389631560891204,
           "Foodstuffs"
          ],
          [
           0.0000031416352040706632,
           "Metals"
          ],
          [
           0.000044695811053325234,
           "Transportation"
          ],
          [
           6.755432896288022e-8,
           "Vegetable Products"
          ],
          [
           0.0000062221243949693905,
           "Vegetable Products"
          ],
          [
           0.00005992886316687089,
           "Machines"
          ],
          [
           0.0000748664080040329,
           "Paper Goods"
          ],
          [
           0.00016988620280814797,
           "Chemical Products"
          ],
          [
           0.000015944142830216108,
           "Arts and Antiques"
          ],
          [
           0.00023691035460583467,
           "Chemical Products"
          ],
          [
           0.00026636887947982383,
           "Vegetable Products"
          ],
          [
           0.0001619356294199587,
           "Chemical Products"
          ],
          [
           2.721800359476653e-8,
           "Weapons"
          ],
          [
           0.00003890757610462772,
           "Machines"
          ],
          [
           0.0000016250108699903592,
           "Textiles"
          ],
          [
           1.2920662682392675e-8,
           "Stone And Glass"
          ],
          [
           0.000024344515487647396,
           "Machines"
          ],
          [
           0.0001236395932042274,
           "Miscellaneous"
          ],
          [
           0.0000026938090580348194,
           "Machines"
          ],
          [
           0.0000017302140542250424,
           "Mineral Products"
          ],
          [
           2.5328105268973724e-7,
           "Chemical Products"
          ],
          [
           0.0004604769728497537,
           "Animal Products"
          ],
          [
           0.0036950844420075546,
           "Animal Products"
          ],
          [
           0.00012408908038016793,
           "Animal and Vegetable Bi-Products"
          ],
          [
           0.00006289053497018252,
           "Foodstuffs"
          ],
          [
           0.00000844181171246472,
           "Instruments"
          ],
          [
           0.000025606697088415686,
           "Stone And Glass"
          ],
          [
           0.000049580168317604676,
           "Machines"
          ],
          [
           0.0007406598127334672,
           "Machines"
          ],
          [
           0.0000015930663867294356,
           "Chemical Products"
          ],
          [
           0.00014178282519403937,
           "Vegetable Products"
          ],
          [
           1.258498899810507e-7,
           "Mineral Products"
          ],
          [
           2.968978254270252e-7,
           "Instruments"
          ],
          [
           1.450401603203854e-7,
           "Metals"
          ],
          [
           4.64776280011028e-8,
           "Paper Goods"
          ],
          [
           0.00031107004466712155,
           "Machines"
          ],
          [
           0.0000029772903392003907,
           "Textiles"
          ],
          [
           0.00003146166105267876,
           "Textiles"
          ],
          [
           0.0000968911582555017,
           "Textiles"
          ],
          [
           3.3339887088995204e-7,
           "Textiles"
          ],
          [
           8.485470097642211e-8,
           "Animal Hides"
          ],
          [
           0.00009202282524840297,
           "Chemical Products"
          ],
          [
           2.4618266393212643e-7,
           "Textiles"
          ],
          [
           0.000006093975417667238,
           "Machines"
          ],
          [
           0.00003476717991707413,
           "Animal Hides"
          ],
          [
           0.000011998510201319687,
           "Chemical Products"
          ],
          [
           4.1800736492851856e-7,
           "Footwear and Headwear"
          ],
          [
           2.2541458856850599e-7,
           "Transportation"
          ],
          [
           0.0005578447149151734,
           "Foodstuffs"
          ],
          [
           0.000010475463680635038,
           "Textiles"
          ],
          [
           0.000040547210279645364,
           "Machines"
          ],
          [
           0.000024947184991374297,
           "Mineral Products"
          ],
          [
           0.000012672482621330903,
           "Stone And Glass"
          ],
          [
           2.406170000552504e-7,
           "Stone And Glass"
          ],
          [
           4.800237716413234e-7,
           "Machines"
          ],
          [
           0.0000236428811980126,
           "Stone And Glass"
          ],
          [
           0.00021461036580406345,
           "Mineral Products"
          ],
          [
           0.0000011052680241772362,
           "Transportation"
          ],
          [
           2.481488517316209e-7,
           "Vegetable Products"
          ],
          [
           0.00008304004834562265,
           "Vegetable Products"
          ],
          [
           0.0010457540231683553,
           "Vegetable Products"
          ],
          [
           0.00010226936849238257,
           "Weapons"
          ],
          [
           0.000036774921205812665,
           "Chemical Products"
          ],
          [
           0.000013456738410984669,
           "Footwear and Headwear"
          ],
          [
           0.0000012873363208697603,
           "Vegetable Products"
          ],
          [
           0.0005156100300250928,
           "Machines"
          ],
          [
           0.00004973112091213695,
           "Miscellaneous"
          ],
          [
           0.00001711878225991167,
           "Textiles"
          ],
          [
           0.000022367376680973307,
           "Miscellaneous"
          ],
          [
           0.0002718594051605104,
           "Textiles"
          ],
          [
           0.000002265301487362263,
           "Textiles"
          ],
          [
           1.9809602157658724e-7,
           "Mineral Products"
          ],
          [
           0.000001441298881909898,
           "Paper Goods"
          ],
          [
           0.00007618544606892908,
           "Textiles"
          ],
          [
           9.970479380279849e-7,
           "Vegetable Products"
          ],
          [
           5.559075240510922e-8,
           "Metals"
          ],
          [
           0.00002374784511071613,
           "Animal Hides"
          ],
          [
           8.558326545027361e-7,
           "Animal Hides"
          ],
          [
           0.00001072102215796415,
           "Animal Hides"
          ],
          [
           0.000013102089453965434,
           "Machines"
          ],
          [
           0.001223662858240307,
           "Footwear and Headwear"
          ],
          [
           0.00000606181593679861,
           "Animal Hides"
          ],
          [
           0.00000871634978669044,
           "Chemical Products"
          ],
          [
           0.00008765667463735258,
           "Mineral Products"
          ],
          [
           0.0003582875626612172,
           "Metals"
          ],
          [
           0.0001180193546120278,
           "Metals"
          ],
          [
           0.0000765657352245188,
           "Metals"
          ],
          [
           0.008060749411606886,
           "Machines"
          ],
          [
           0.0000683304564558814,
           "Vegetable Products"
          ],
          [
           8.448435025863372e-7,
           "Mineral Products"
          ],
          [
           0.005348217609401501,
           "Animal Hides"
          ],
          [
           0.07194726970454443,
           "Animal Products"
          ],
          [
           0.010276675290472166,
           "Animal and Vegetable Bi-Products"
          ],
          [
           0.0006667314774365874,
           "Arts and Antiques"
          ],
          [
           0.04058183907045714,
           "Chemical Products"
          ],
          [
           0.09198458353376023,
           "Foodstuffs"
          ],
          [
           0.0037427747085316634,
           "Footwear and Headwear"
          ],
          [
           0.0032697986867759295,
           "Instruments"
          ],
          [
           0.052030718724252294,
           "Machines"
          ],
          [
           0.06147367678398039,
           "Metals"
          ],
          [
           0.31184529284764884,
           "Mineral Products"
          ],
          [
           0.004541702895489037,
           "Miscellaneous"
          ],
          [
           0.03276537080071496,
           "Paper Goods"
          ],
          [
           0.018535640439178394,
           "Plastics and Rubbers"
          ],
          [
           0.02125609380396574,
           "Precious Metals"
          ],
          [
           0.007722277620147588,
           "Stone And Glass"
          ],
          [
           0.015753128261133974,
           "Textiles"
          ],
          [
           0.04432028098768399,
           "Transportation"
          ],
          [
           0.18381625057040518,
           "Vegetable Products"
          ],
          [
           0.00215944045899585,
           "Weapons"
          ],
          [
           0.015962235725024095,
           "Wood Products"
          ]
         ],
         "domain": {
          "x": [
           0,
           1
          ],
          "y": [
           0,
           1
          ]
         },
         "hovertemplate": "labels=%{label}<br>percent=%{value}<br>parent=%{parent}<br>id=%{id}<br>Section=%{customdata[1]}<extra></extra>",
         "ids": [
          "Textiles/Labels",
          "Metals/Large Coated Flat-Rolled Iron",
          "Metals/Large Aluminium Containers",
          "Chemical Products/Lake Pigments",
          "Chemical Products/Laboratory Reagents",
          "Stone And Glass/Laboratory Glassware",
          "Stone And Glass/Laboratory Ceramic Ware",
          "Instruments/LCDs",
          "Paper Goods/Kraft Paper",
          "Metals/Knives",
          "Textiles/Knotted Carpets",
          "Machines/Knitting Machine Accessories",
          "Footwear and Headwear/Knitted Hats",
          "Textiles/Knit Women's Undergarments",
          "Textiles/Knit Women's Suits",
          "Textiles/Knit Women's Shirts",
          "Textiles/Knit Women's Coats",
          "Textiles/Knit T-shirts",
          "Textiles/Knit Sweaters",
          "Machines/Knitting Machines",
          "Textiles/Animal Hair",
          "Animal Products/Animal Fat",
          "Foodstuffs/Animal Food",
          "Animal Products/Animal Organs",
          "Stone And Glass/Abrasive Powder",
          "Chemical Products/Antibiotics",
          "Chemical Products/Antifreeze",
          "Foodstuffs/Animal Extracts",
          "Chemical Products/Animal or Vegetable Fertilizers",
          "Chemical Products/Ammonia",
          "Foodstuffs/Animal Meal and Pellets",
          "Chemical Products/Amine Compounds",
          "Plastics and Rubbers/Amino-resins",
          "Chemical Products/Alkaline Metals",
          "Chemical Products/Aldehydes",
          "Chemical Products/Aldehyde Derivatives",
          "Foodstuffs/Alcohol > 80% ABV",
          "Transportation/Aircraft Parts",
          "Transportation/Aircraft Launch Gear",
          "Machines/Air Pumps",
          "Machines/Air Conditioners",
          "Wood Products/Agglomerated Cork",
          "Chemical Products/Acyclic Hydrocarbons",
          "Chemical Products/Acyclic Alcohols",
          "Chemical Products/Activated Carbon",
          "Plastics and Rubbers/Acrylic Polymers",
          "Chemical Products/Acetals and Hemiacetals",
          "Metals/Aluminium Bars",
          "Metals/Aluminium Cans",
          "Chemical Products/Alkylbenzenes and Alkylnaphthalenes",
          "Metals/Aluminium Gas Containers",
          "Metals/Aluminium Housewares",
          "Mineral Products/Aluminium Ore",
          "Chemical Products/Aluminium Oxide",
          "Metals/Aluminium Pipe Fittings",
          "Metals/Aluminium Pipes",
          "Metals/Aluminium Foil",
          "Metals/Aluminium Plating",
          "Metals/Aluminium Powder",
          "Metals/Aluminium Structures",
          "Metals/Aluminium Wire",
          "Chemical Products/Carboxyimide Compounds",
          "Chemical Products/Carboxyamide Compounds",
          "Chemical Products/Carbonates",
          "Machines/Carbon-based Electronics",
          "Paper Goods/Carbon Paper",
          "Chemical Products/Carboxylic Acids",
          "Instruments/Cameras",
          "Chemical Products/Candles",
          "Chemical Products/Carbides",
          "Chemical Products/Carbon",
          "Paper Goods/Calendars",
          "Textiles/Carded Wool or Animal Hair Fabric",
          "Mineral Products/Calcium Phosphates",
          "Chemical Products/Casein",
          "Vegetable Products/Cassava",
          "Metals/Cast Iron Pipes",
          "Stone And Glass/Cast or Rolled Glass",
          "Machines/Casting Machines",
          "Machines/Cathode Tubes",
          "Machines/Calculators",
          "Transportation/Cars",
          "Miscellaneous/Zippers",
          "Mineral Products/Zinc Ore",
          "Metals/Zinc Powder",
          "Metals/Zinc Sheets",
          "Chemical Products/Zinc Oxide and Peroxide",
          "Metals/Zirconium",
          "Textiles/Hand-Woven Tapestries",
          "Machines/Electric Soldering Equipment",
          "Machines/Electrical Capacitors",
          "Machines/Electrical Control Boards",
          "Machines/Electrical Ignitions",
          "Machines/Electrical Insulators",
          "Machines/Electrical Lighting and Signalling Equipment",
          "Machines/Electrical Parts",
          "Machines/Electrical Power Accessories",
          "Machines/Electrical Resistors",
          "Machines/Electrical Transformers",
          "Mineral Products/Electricity",
          "Machines/Electromagnets",
          "Textiles/Embroidery",
          "Machines/Engine Parts",
          "Chemical Products/Enzymes",
          "Chemical Products/Epoxides",
          "Animal Hides/Equine and Bovine Hides",
          "Textiles/Felt Carpets",
          "Textiles/Felt",
          "Mineral Products/Feldspar",
          "Animal and Vegetable Bi-Products/Fat and Oil Residues",
          "Footwear and Headwear/Fake Hair",
          "Miscellaneous/Fairground Amusements",
          "Instruments/Electric Musical Instruments",
          "Stone And Glass/Eyewear and Clock Glass",
          "Instruments/Eyewear",
          "Weapons/Explosive Ammunition",
          "Machines/Excavation Machinery",
          "Plastics and Rubbers/Ethylene Polymers",
          "Chemical Products/Ethers",
          "Chemical Products/Essential Oils",
          "Instruments/Eyewear Frames",
          "Machines/Electric Motors",
          "Machines/Electric Motor Parts",
          "Transportation/Electric Locomotives",
          "Footwear and Headwear/Hats",
          "Footwear and Headwear/Headbands and Linings",
          "Textiles/Heavy Mixed Woven Cotton",
          "Textiles/Heavy Pure Woven Cotton",
          "Textiles/Heavy Synthetic Cotton Fabrics",
          "Machines/High-voltage Protection Equipment",
          "Footwear and Headwear/Hat Shapes",
          "Animal Products/Honey",
          "Chemical Products/Hormones",
          "Animal Products/Horse Meat",
          "Textiles/Horsehair Fabric",
          "Textiles/Horsehair Yarn",
          "Animal Products/Horses",
          "Textiles/Hose Piping Textiles",
          "Vegetable Products/Hops",
          "Machines/Felt Machinery",
          "Footwear and Headwear/Hat Forms",
          "Plastics and Rubbers/Hard Rubber",
          "Machines/Electric Heaters",
          "Machines/Electric Generating Sets",
          "Machines/Electric Furnaces",
          "Machines/Electric Filament",
          "Machines/Electric Batteries",
          "Chemical Products/Halogenated Hydrocarbons",
          "Machines/Harvesting Machinery",
          "Chemical Products/Halogens",
          "Miscellaneous/Hand Sifters",
          "Metals/Hand Tools",
          "Textiles/Hand-Woven Rugs",
          "Weapons/Handguns",
          "Textiles/Handkerchiefs",
          "Foodstuffs/Hard Liquor",
          "Metals/Hand Saws",
          "Metals/Hot-Rolled Iron",
          "Textiles/Felt or Coated Fabric Garments",
          "Metals/Ferroalloys",
          "Chemical Products/Gelatin",
          "Textiles/Gimp Yarn",
          "Chemical Products/Glands and Other Organs",
          "Stone And Glass/Glass Balls",
          "Stone And Glass/Glass Beads",
          "Stone And Glass/Glass Bottles",
          "Stone And Glass/Glass Bricks",
          "Stone And Glass/Glass Bulbs",
          "Stone And Glass/Glass Fibers",
          "Stone And Glass/Glass Mirrors",
          "Stone And Glass/Glass Scraps",
          "Machines/Glass Working Machines",
          "Stone And Glass/Glass with Edge Workings",
          "Stone And Glass/Glazed Ceramics",
          "Chemical Products/Glaziers Putty",
          "Chemical Products/Glues",
          "Animal and Vegetable Bi-Products/Glycerol",
          "Chemical Products/Hair Products",
          "Mineral Products/Gypsum",
          "Textiles/Gum Coated Textile Fabric",
          "Vegetable Products/Ground Nuts",
          "Animal and Vegetable Bi-Products/Ground Nut Oil",
          "Foodstuffs/Ground Nut Meal",
          "Textiles/Gauze",
          "Mineral Products/Gravel and Crushed Stone",
          "Vegetable Products/Grapes",
          "Mineral Products/Granulated Slag",
          "Mineral Products/Granite",
          "Precious Metals/Gold Clad Metals",
          "Precious Metals/Gold",
          "Chemical Products/Glycosides",
          "Mineral Products/Graphite",
          "Machines/Gaskets",
          "Instruments/Gas and Liquid Flow Measuring Instruments",
          "Machines/Gas Turbines",
          "Textiles/Flax Woven Fabric",
          "Textiles/Flax Fibers",
          "Foodstuffs/Flavored Water",
          "Metals/Flat-Rolled Stainless Steel",
          "Metals/Flat-Rolled Iron",
          "Metals/Flat Flat-Rolled Steel",
          "Textiles/Flax Yarn",
          "Miscellaneous/Fishing and Hunting Equipment",
          "Animal Products/Fish: dried, salted, smoked or in brine",
          "Animal and Vegetable Bi-Products/Fish oil",
          "Animal Products/Fish Fillets",
          "Chemical Products/Fireworks",
          "Chemical Products/Fire Extinguishers Preparations",
          "Metals/Filing Cabinets",
          "Transportation/Fishing Ships",
          "Animal Products/Fermented Milk Products",
          "Metals/Flexible Metal Tubing",
          "Chemical Products/Fluorides",
          "Textiles/Garments of Impregnated Fabric",
          "Metals/Garden Tools",
          "Animal Hides/Furskin Apparel",
          "Wood Products/Fuel Wood",
          "Machines/Fruit Pressing Machinery",
          "Foodstuffs/Fruit Juice",
          "Stone And Glass/Float Glass",
          "Vegetable Products/Frozen Vegetables",
          "Animal Products/Frozen Bovine Meat",
          "Stone And Glass/Friction Material",
          "Machines/Fork-Lifts",
          "Machines/Forging Machines",
          "Vegetable Products/Forage Crops",
          "Footwear and Headwear/Footwear Parts",
          "Vegetable Products/Frozen Fruits and Nuts",
          "Machines/Hair Trimmers",
          "Metals/Hot-Rolled Iron Bars",
          "Textiles/House Linens",
          "Metals/Hot-Rolled Stainless Steel Bars",
          "Machines/Integrated Circuits",
          "Stone And Glass/Insulating Glass",
          "Machines/Insulated Wire",
          "Instruments/Instructional Models",
          "Vegetable Products/Insect Resins",
          "Chemical Products/Inorganic Salts",
          "Chemical Products/Inorganic Compounds",
          "Miscellaneous/Ink Ribbons",
          "Chemical Products/Ink",
          "Animal and Vegetable Bi-Products/Inedible Fats and Oils",
          "Machines/Industrial Printers",
          "Machines/Industrial Furnaces",
          "Machines/Industrial Food Preperation Machinery",
          "Chemical Products/Industrial Fatty Acids, Oils and Alcohols",
          "Chemical Products/Halides",
          "Precious Metals/Imitation Jewellery",
          "Machines/Household Washing Machines",
          "Instruments/Incomplete Movement Sets",
          "Animal Products/Human Hair",
          "Chemical Products/Hydraulic Brake Fluid",
          "Machines/Hydraulic Turbines",
          "Chemical Products/Hydrides and other anions",
          "Chemical Products/Hydrazine or Hydroxylamine Derivatives",
          "Chemical Products/Hydrogen",
          "Chemical Products/Hydrogen peroxide",
          "Instruments/Hydrometers",
          "Chemical Products/Hypochlorites",
          "Foodstuffs/Ice Cream",
          "Instruments/Image Projectors",
          "Chemical Products/Hydrochloric Acid",
          "Chemical Products/Chlorates and Perchlorates",
          "Instruments/Chemical Analysis Instruments",
          "Chemical Products/Chemically Pure Sugars",
          "Chemical Products/Chlorides",
          "Vegetable Products/Citrus",
          "Mineral Products/Chromium Ore",
          "Chemical Products/Chromium Oxides and Hydroxides",
          "Paper Goods/Cigarette Paper",
          "Vegetable Products/Cinnamon",
          "Animal Products/Cheese",
          "Foodstuffs/Chocolate",
          "Animal Hides/Chamois Leather",
          "Stone And Glass/Ceramic Tableware",
          "Mineral Products/Chalk",
          "Metals/Cermets",
          "Vegetable Products/Cereal Meal and Pellets",
          "Vegetable Products/Cereal Flours",
          "Vegetable Products/Citrus and Melon Peels",
          "Stone And Glass/Ceramic Pipes",
          "Stone And Glass/Ceramic Bricks",
          "Machines/Centrifuges",
          "Machines/Central Heating Boilers",
          "Stone And Glass/Cement Articles",
          "Mineral Products/Cement",
          "Paper Goods/Cellulose Fibers Paper",
          "Plastics and Rubbers/Cellulose",
          "Miscellaneous/Chalkboards",
          "Mineral Products/Clays",
          "Vegetable Products/Cereal Straws",
          "Instruments/Clock Cases and Parts",
          "Chemical Products/Cleaning Products",
          "Arts and Antiques/Collector's Items",
          "Metals/Cold-Rolled Iron",
          "Mineral Products/Coke",
          "Precious Metals/Coin",
          "Foodstuffs/Coffee and Tea Extracts",
          "Vegetable Products/Coffee",
          "Vegetable Products/Coconuts, Brazil Nuts, and Cashews",
          "Textiles/Coconut and Other Vegetable Fibers",
          "Animal and Vegetable Bi-Products/Coconut Oil",
          "Foodstuffs/Cocoa Shells",
          "Foodstuffs/Cocoa Powder",
          "Paper Goods/Children's Picture Books",
          "Foodstuffs/Cocoa Butter",
          "Instruments/Clock Movements",
          "Foodstuffs/Cocoa Paste",
          "Vegetable Products/Cloves",
          "Mineral Products/Coal Briquettes",
          "Mineral Products/Coal Tar Oil",
          "Instruments/Clocks with Watch Movements",
          "Metals/Coated Metal Soldering Products",
          "Textiles/Coated Textile Fabric",
          "Metals/Cobalt",
          "Chemical Products/Cobalt Oxides and Hydroxides",
          "Foodstuffs/Cocoa Beans",
          "Metals/Coated Flat-Rolled Iron",
          "Machines/Other Non-Metal Removal Machinery",
          "Metals/Other Metal Fasteners",
          "Metals/Other Metals",
          "Mineral Products/Other Mineral",
          "Instruments/Other Musical Instruments",
          "Chemical Products/Other Nitrogen Compounds",
          "Textiles/Other Non-Knit Clothing Accessories",
          "Vegetable Products/Other Nuts",
          "Metals/Other Nickel Products",
          "Vegetable Products/Other Oily Seeds",
          "Mineral Products/Other Ores",
          "Chemical Products/Other Organic Compounds",
          "Chemical Products/Other Organo-Inorganic Compounds",
          "Chemical Products/Other Paints",
          "Machines/Other Paper Machinery",
          "Plastics and Rubbers/Other Plastic Products",
          "Machines/Other Office Machines",
          "Precious Metals/Other Precious Metal Products",
          "Plastics and Rubbers/Other Plastic Sheetings",
          "Textiles/Unprocessed Synthetic Staple Fibers",
          "Textiles/Unprocessed Artificial Staple Fibers",
          "Chemical Products/Unpackaged Medicaments",
          "Chemical Products/Undeveloped Exposed Photographic Material",
          "Paper Goods/Uncoated Paper",
          "Chemical Products/Turpentine",
          "Footwear and Headwear/Umbrella and Walking Stick Accessories",
          "Textiles/Twine and Rope",
          "Chemical Products/Unsaturated Acyclic Monocarboxylic Acids",
          "Mineral Products/Tungsten Ore",
          "Metals/Tungsten",
          "Textiles/Tulles and Net Fabric",
          "Footwear and Headwear/Umbrellas",
          "Plastics and Rubbers/Unvulcanised Rubber Products",
          "Instruments/Utility Meters",
          "Textiles/Used Clothing",
          "Machines/Vending Machines",
          "Transportation/Vehicle Bodies (including cabs) for the motor vehicles (8701 to 8705)",
          "Animal and Vegetable Bi-Products/Vegetable waxes and beeswax",
          "Chemical Products/Vegetable or Animal Dyes",
          "Miscellaneous/Vegetable and Mineral Carvings",
          "Vegetable Products/Vegetable Saps",
          "Vegetable Products/Vegetable Plaiting Materials",
          "Mineral Products/Uranium and Thorium Ore",
          "Paper Goods/Vegetable Parchment",
          "Chemical Products/Vegetable Alkaloids",
          "Vegetable Products/Vanilla",
          "Machines/Valves",
          "Miscellaneous/Vacuum Flask",
          "Machines/Vacuum Cleaners",
          "Chemical Products/Vaccines, blood, antisera, toxins and cultures",
          "Plastics and Rubbers/Used Rubber Tires",
          "Stone And Glass/Vegetable Fiber",
          "Chemical Products/Vegetable Tanning Extracts",
          "Stone And Glass/Unglazed Ceramics",
          "Instruments/Watch Straps",
          "Foodstuffs/Vermouth",
          "Instruments/Video Cameras",
          "Machines/Video Displays",
          "Machines/Video Recording Equipment",
          "Miscellaneous/Video and Card Games",
          "Foodstuffs/Vinegar",
          "Plastics and Rubbers/Vinyl Chloride Polymers",
          "Chemical Products/Vitamins",
          "Textiles/Wadding",
          "Footwear and Headwear/Walking Sticks",
          "Paper Goods/Wallpaper",
          "Machines/Washing and Bottling Machines",
          "Machines/Water and Gas Generators",
          "Chemical Products/Water Soluble Proteins",
          "Foodstuffs/Water",
          "Wood Products/Veneer Sheets",
          "Instruments/Watch Cases and Parts",
          "Instruments/Watch Movements",
          "Foodstuffs/Sugar Preserved Foods",
          "Foodstuffs/Starch Residue",
          "Vegetable Products/Starches",
          "Machines/Steam Boilers",
          "Machines/Steam Turbines",
          "Animal and Vegetable Bi-Products/Stearic Acid",
          "Metals/Steel Bars",
          "Metals/Steel Ingots",
          "Metals/Steel Wire",
          "Machines/Stone Processing Machines",
          "Machines/Stone Working Machines",
          "Metals/Stranded Aluminium Wire",
          "Metals/Stranded Copper Wire",
          "Metals/Stranded Iron Wire",
          "Instruments/String Instruments",
          "Plastics and Rubbers/Styrene Polymers",
          "Paper Goods/Sulfate Chemical Woodpulp",
          "Chemical Products/Sulfates",
          "Precious Metals/Synthetic Reconstructed Jewellery Stones",
          "Chemical Products/Sulfides",
          "Plastics and Rubbers/Synthetic Rubber",
          "Textiles/Synthetic Monofilament",
          "Plastics and Rubbers/Rubber",
          "Plastics and Rubbers/Rubber Apparel",
          "Plastics and Rubbers/Rubber Belting",
          "Footwear and Headwear/Rubber Footwear",
          "Plastics and Rubbers/Rubber Inner Tubes",
          "Plastics and Rubbers/Rubber Pipes",
          "Plastics and Rubbers/Rubber Sheets",
          "Miscellaneous/Rubber Stamps",
          "Textiles/Rubber Textile Fabric",
          "Textiles/Rubber Textiles",
          "Plastics and Rubbers/Rubber Thread",
          "Plastics and Rubbers/Rubber Tires",
          "Metals/Stainless Steel Wire",
          "Machines/Rubberworking Machinery",
          "Animal Hides/Saddlery",
          "Textiles/Synthetic Filament Yarn Woven Fabric",
          "Textiles/Synthetic Filament Tow",
          "Textiles/Synthetic Fabrics",
          "Chemical Products/Synthetic Coloring Matter",
          "Instruments/Surveying Equipment",
          "Vegetable Products/Sunflower Seeds",
          "Mineral Products/Sulphur",
          "Chemical Products/Sulfuric Acid",
          "Chemical Products/Sulfur",
          "Chemical Products/Sulfonated, Nitrated or Nitrosated Hydrocarbons",
          "Chemical Products/Sulfonamides",
          "Chemical Products/Sulfites",
          "Paper Goods/Sulfite Chemical Woodpulp",
          "Vegetable Products/Rye",
          "Chemical Products/Synthetic Tanning Extracts",
          "Metals/Stainless Steel Ingots",
          "Miscellaneous/Sports Equipment",
          "Transportation/Scrap Vessels",
          "Metals/Scrap Waste",
          "Arts and Antiques/Sculptures",
          "Miscellaneous/Seats",
          "Animal and Vegetable Bi-Products/Seed Oils",
          "Transportation/Self-Propelled Rail Transport",
          "Metals/Scrap Tin",
          "Plastics and Rubbers/Self-adhesive Plastics",
          "Metals/Semi-Finished Iron",
          "Machines/Semiconductor Devices",
          "Machines/Sewing Machines",
          "Paper Goods/Shaped Paper",
          "Wood Products/Shaped Wood",
          "Chemical Products/Shaving Products",
          "Paper Goods/Semi chemical Woodpulp",
          "Animal Hides/Sheep Hides",
          "Plastics and Rubbers/Scrap Rubber",
          "Metals/Scrap Nickel",
          "Mineral Products/Salt",
          "Mineral Products/Sand",
          "Chemical Products/Saturated Acyclic Monocarboxylic Acids",
          "Foodstuffs/Sauces and Seasonings",
          "Foodstuffs/Sausages",
          "Wood Products/Sawn Wood",
          "Plastics and Rubbers/Scrap Plastic",
          "Machines/Scales",
          "Miscellaneous/Scent Sprays",
          "Chemical Products/Scented Mixtures",
          "Metals/Scissors",
          "Metals/Scrap Aluminium",
          "Metals/Scrap Copper",
          "Metals/Scrap Iron",
          "Textiles/Scarves",
          "Weapons/Spring, Air, and Gas Guns",
          "Animal Products/Sheep and Goat Meat",
          "Stone And Glass/Signaling Glassware",
          "Vegetable Products/Sorghum",
          "Machines/Sound Recording Equipment",
          "Machines/Sound Recordings",
          "Foodstuffs/Soups and Broths",
          "Vegetable Products/Sowing Seeds",
          "Foodstuffs/Soybean Meal",
          "Machines/Soldering and Welding Machinery",
          "Animal and Vegetable Bi-Products/Soybean Oil",
          "Machines/Spark-Ignition Engines",
          "Chemical Products/Special Pharmaceuticals",
          "Transportation/Special Purpose Ships",
          "Transportation/Special purpose motor vehicles",
          "Vegetable Products/Spice Seeds",
          "Vegetable Products/Spices",
          "Vegetable Products/Soybeans",
          "Paper Goods/Sheet Music",
          "Machines/Soil Preparation Machinery",
          "Mineral Products/Soapstone",
          "Chemical Products/Silicates",
          "Mineral Products/Siliceous Fossil Meals",
          "Plastics and Rubbers/Silicone",
          "Textiles/Silk Fabrics",
          "Textiles/Silk Waste",
          "Textiles/Silk Waste Yarn",
          "Chemical Products/Sodium or Potassium Peroxides",
          "Textiles/Silk-worm Cocoons",
          "Precious Metals/Silver Clad Metals",
          "Mineral Products/Slag Dross",
          "Mineral Products/Slate",
          "Metals/Small Iron Containers",
          "Miscellaneous/Smoking Pipes",
          "Chemical Products/Soap",
          "Precious Metals/Silver",
          "Chemical Products/Tall Oil",
          "Metals/Safes",
          "Animal Hides/Tanned Equine and Bovine Hides",
          "Animal Hides/Tanned Furskins",
          "Animal Hides/Tanned Goat Hides",
          "Transportation/Tanks and Armored vehicles",
          "Animal Hides/Tanned Sheep Hides",
          "Stone And Glass/Safety Glass",
          "Metals/Tantalum",
          "Footwear and Headwear/Processed Hair",
          "Foodstuffs/Processed Fish",
          "Animal Products/Processed Egg Products",
          "Foodstuffs/Processed Crustaceans",
          "Vegetable Products/Processed Cereals",
          "Animal Products/Processed Bones",
          "Machines/Print Production Machinery",
          "Machines/Printed Circuit Boards",
          "Stone And Glass/Processed Mica",
          "Vegetable Products/Preserved Vegetables",
          "Animal Products/Preserved Meat",
          "Vegetable Products/Preserved Fruits and Nuts",
          "Textiles/Prepared Wool or Animal Hair",
          "Arts and Antiques/Prints",
          "Foodstuffs/Processed Mushrooms",
          "Foodstuffs/Processed Tobacco",
          "Chemical Products/Prepared Rubber Accelerators",
          "Animal Products/Pig Hair",
          "Metals/Pig Iron",
          "Animal Products/Pig Meat",
          "Animal and Vegetable Bi-Products/Pig and Poultry Fat",
          "Animal Products/Pigs",
          "Textiles/Pile Fabric",
          "Mineral Products/Pitch Coke",
          "Vegetable Products/Pitted Fruits",
          "Wood Products/Plaiting Products",
          "Transportation/Planes, Helicopters, and/or Spacecraft",
          "Vegetable Products/Plant foliage",
          "Machines/Pulley Systems",
          "Plastics and Rubbers/Propylene Polymers",
          "Chemical Products/Propellant Powders",
          "Foodstuffs/Processed Tomatoes",
          "Textiles/Processed Synthetic Staple Fibers",
          "Chemical Products/Prepared Pigments",
          "Textiles/Prepared Cotton",
          "Chemical Products/Prepared Explosives",
          "Chemical Products/Polycarboxylic Acids",
          "Plastics and Rubbers/Polyamides",
          "Textiles/Polyamide Fabric",
          "Plastics and Rubbers/Polyacetals",
          "Chemical Products/Polishes and Creams",
          "Wood Products/Plywood",
          "Plastics and Rubbers/Polymer Ion-Exchangers",
          "Precious Metals/Platinum Clad Metals",
          "Plastics and Rubbers/Plastic Wash Basins",
          "Plastics and Rubbers/Plastic Pipes",
          "Plastics and Rubbers/Plastic Lids",
          "Plastics and Rubbers/Plastic Housewares",
          "Plastics and Rubbers/Plastic Floor Coverings",
          "Textiles/Plastic Coated Textile Fabric",
          "Precious Metals/Platinum",
          "Chemical Products/Prepared Paint Driers",
          "Stone And Glass/Porcelain Tableware",
          "Paper Goods/Postcards",
          "Foodstuffs/Prepared Cereals",
          "Miscellaneous/Prefabricated Buildings",
          "Metals/Precipitated Copper",
          "Precious Metals/Precious Stones",
          "Precious Metals/Precious Stone Dust",
          "Instruments/Precious Metal Watches",
          "Machines/Portable Lighting",
          "Precious Metals/Precious Metal Scraps",
          "Chemical Products/Precious Metal Compounds",
          "Animal Products/Poultry Meat",
          "Animal Products/Poultry",
          "Vegetable Products/Potatoes",
          "Vegetable Products/Potato Flours",
          "Chemical Products/Potassic Fertilizers",
          "Mineral Products/Precious Metal Ore",
          "Foodstuffs/Pickled Foods",
          "Chemical Products/Photographic Paper",
          "Chemical Products/Photographic Plates",
          "Stone And Glass/Rock Wool",
          "Foodstuffs/Rolled Tobacco",
          "Machines/Rolling Machines",
          "Stone And Glass/Roofing Tiles",
          "Vegetable Products/Root Vegetables",
          "Chemical Products/Rosin",
          "Vegetable Products/Rice",
          "Wood Products/Rough Wood",
          "Foodstuffs/Raw Tobacco",
          "Metals/Raw Tin",
          "Foodstuffs/Raw Sugar",
          "Textiles/Raw Silk",
          "Plastics and Rubbers/Raw Plastic Sheeting",
          "Metals/Raw Nickel",
          "Metals/Raw Zinc",
          "Instruments/Revolution Counters",
          "Arts and Antiques/Revenue Stamps",
          "Textiles/Retail Wool or Animal Hair Yarn",
          "Stone And Glass/Plaster Articles",
          "Metals/Razor Blades",
          "Chemical Products/Reaction and Catalytic Products",
          "Paper Goods/Recovered Paper Pulp",
          "Transportation/Recreational Boats",
          "Metals/Refined Copper",
          "Mineral Products/Refined Petroleum",
          "Stone And Glass/Refractory Bricks",
          "Chemical Products/Refractory Cements",
          "Stone And Glass/Refractory Ceramics",
          "Machines/Refrigerators",
          "Textiles/Retail Artificial Filament Yarn",
          "Textiles/Retail Artificial Staple Fibers Yarn",
          "Textiles/Retail Cotton Yarn",
          "Textiles/Retail Silk Yarn",
          "Metals/Raw Lead",
          "Instruments/Pianos",
          "Metals/Raw Iron Bars",
          "Textiles/Raw Cotton",
          "Animal and Vegetable Bi-Products/Pure Olive Oil",
          "Mineral Products/Pumice",
          "Animal Products/Pharmaceutical Animal Products",
          "Plastics and Rubbers/Pharmaceutical Rubber Products",
          "Chemical Products/Phenol Derivatives",
          "Chemical Products/Phenols",
          "Chemical Products/Pyrophoric Alloys",
          "Chemical Products/Phosphatic Fertilizers",
          "Chemical Products/Phosphoric Acid",
          "Chemical Products/Phosphoric Esters and Salts",
          "Instruments/Photo Lab Equipment",
          "Instruments/Photocopiers",
          "Chemical Products/Photographic Chemicals",
          "Chemical Products/Photographic Film",
          "Chemical Products/Phosphinates (hypophosphites) and phosphonates (phosphites)",
          "Mineral Products/Quartz",
          "Chemical Products/Quaternary Ammonium Salts and Hydroxides",
          "Mineral Products/Quicklime",
          "Wood Products/Raw Cork",
          "Metals/Raw Copper",
          "Animal Products/Raw Bones",
          "Metals/Raw Aluminium",
          "Chemical Products/Rare-Earth Metal Compounds",
          "Animal and Vegetable Bi-Products/Rapeseed Oil",
          "Vegetable Products/Rapeseed",
          "Transportation/Railway Track Fixtures",
          "Transportation/Railway Maintenance Vehicles",
          "Transportation/Railway Freight Cars",
          "Transportation/Railway Cargo Containers",
          "Wood Products/Railroad Ties",
          "Chemical Products/Radioactive Chemicals",
          "Machines/Radio Receivers",
          "Textiles/Quilted Textiles",
          "Animal Hides/Raw Furskins",
          "Plastics and Rubbers/Plastic Building Materials",
          "Paper Goods/Recovered Paper",
          "Plastics and Rubbers/Reclaimed Rubber",
          "Textiles/Combed Wool or Animal Hair Fabric",
          "Vegetable Products/Cucumbers",
          "Animal Products/Crustaceans",
          "Mineral Products/Crude Petroleum",
          "Machines/Cranes",
          "Paper Goods/Corrugated Paper",
          "Textiles/Cotton Waste",
          "Miscellaneous/Combs",
          "Machines/Combustion Engines",
          "Instruments/Compasses",
          "Paper Goods/Composite Paper",
          "Plastics and Rubbers/Compounded Unvulcanised Rubber",
          "Machines/Computers",
          "Animal Products/Concentrated Milk",
          "Stone And Glass/Curbstones",
          "Foodstuffs/Confectionery Sugar",
          "Metals/Cooking Hand Tools",
          "Metals/Copper Alloys",
          "Metals/Copper Bars",
          "Metals/Copper Fasteners",
          "Metals/Copper Foil",
          "Metals/Copper Housewares",
          "Mineral Products/Copper Ore",
          "Metals/Copper Pipe Fittings",
          "Metals/Copper Pipes",
          "Metals/Copper Plating",
          "Metals/Copper Powder",
          "Metals/Copper Wire",
          "Animal Products/Coral and Shells",
          "Vegetable Products/Corn",
          "Textiles/Conveyor Belt Textiles",
          "Vegetable Products/Cut Flowers",
          "Textiles/Cotton Sewing Thread",
          "Metals/Cutting Blades",
          "Metals/Cutlery Sets",
          "Paper Goods/Decals",
          "Transportation/Delivery Trucks",
          "Wood Products/Densified Wood",
          "Chemical Products/Dental Products",
          "Chemical Products/Detonating Fuses",
          "Chemical Products/Developed Exposed Photographic Material",
          "Chemical Products/Dextrins",
          "Precious Metals/Diamonds",
          "Chemical Products/Diazo, Azo or Aoxy Compounds",
          "Machines/Dictation Machines",
          "Chemical Products/Disc Chemicals for Electronics",
          "Paper Goods/Dissolving Grades Chemical Woodpulp",
          "Chemical Products/Dithionites and Sulfoxylates",
          "Paper Goods/Documents of title (bonds etc) and unused stamps",
          "Animal Products/Edible Offal",
          "Instruments/Drafting Tools",
          "Wood Products/Debacked Cork",
          "Vegetable Products/Dried Fruits",
          "Vegetable Products/Dried Legumes",
          "Vegetable Products/Dried Vegetables",
          "Machines/Drilling Machines",
          "Chemical Products/Dyeing Finishing Agents",
          "Mineral Products/Dolomite",
          "Animal Products/Eggs",
          "Instruments/Dashboard Clocks",
          "Machines/Dairy Machinery",
          "Chemical Products/Cyclic Hydrocarbons",
          "Chemical Products/Cyclic Alcohols",
          "Chemical Products/Cyanides",
          "Animal Products/Whey and other milk products",
          "Instruments/Wind Instruments",
          "Wood Products/Wood Barrels",
          "Foodstuffs/Wine",
          "Metals/Zinc Bars",
          "Foodstuffs/Yeast",
          "Instruments/X-Ray Equipment",
          "Metals/Wrenches",
          "Textiles/Woven Fabrics",
          "Textiles/Woven Fabric of Synthetic Staple Fibers",
          "Stone And Glass/Worked Slate",
          "Transportation/Work Trucks",
          "Textiles/Wool or Animal Hair Waste",
          "Animal and Vegetable Bi-Products/Wool Grease",
          "Textiles/Wool",
          "Machines/Woodworking machines",
          "Miscellaneous/Worked Ivory and Bone",
          "Wood Products/Wooden Tool Handles",
          "Chemical Products/Wood Tar, Oils and Pitch",
          "Wood Products/Wood Stakes",
          "Chemical Products/Wood Pulp Lyes",
          "Wood Products/Wood Ornaments",
          "Wood Products/Wood Kitchenware",
          "Wood Products/Wood Frames",
          "Wood Products/Wood Fiberboard",
          "Wood Products/Wood Crates",
          "Wood Products/Wood Charcoal",
          "Wood Products/Wood Carpentry",
          "Foodstuffs/Wine Lees",
          "Textiles/Window Dressings",
          "Metals/Metal Stoppers",
          "Metals/Metal Signs",
          "Textiles/Linoleum",
          "Paper Goods/Maps",
          "Animal and Vegetable Bi-Products/Margarine",
          "Chemical Products/Matches",
          "Miscellaneous/Mattresses",
          "Vegetable Products/Maté",
          "Paper Goods/Mechanical Wood Pulp",
          "Miscellaneous/Medical Furniture",
          "Miscellaneous/Mannequins",
          "Instruments/Medical Instruments",
          "Machines/Metal Finishing Machines",
          "Machines/Metal Insulating Fittings",
          "Machines/Metal Lathes",
          "Machines/Metal Molds",
          "Metals/Metal Mountings",
          "Metals/Metal Office Supplies",
          "Chemical Products/Metal Pickling Preparations",
          "Vegetable Products/Melons",
          "Chemical Products/Manganese Oxides",
          "Mineral Products/Marble, Travertine and Alabaster",
          "Metals/Manganese",
          "Vegetable Products/Linseed",
          "Machines/Liquid Dispersing Machines",
          "Machines/Liquid Fuel Furnaces",
          "Machines/Liquid Pumps",
          "Animal Products/Live Fish",
          "Mineral Products/Manganese Ore",
          "Vegetable Products/Locust beans, seaweed, sugar beet, cane, for food",
          "Machines/Looms",
          "Transportation/Locomotive Parts",
          "Chemical Products/Lubricating Products",
          "Machines/Machinery Having Individual Functions",
          "Metals/Magnesium",
          "Mineral Products/Magnesium Carbonate",
          "Chemical Products/Magnesium Hydroxide and Peroxide",
          "Vegetable Products/Malt",
          "Foodstuffs/Malt Extract",
          "Machines/Low-voltage Protection Equipment",
          "Metals/Iron Cloth",
          "Metals/Interchangeable Tool Parts",
          "Stone And Glass/Interior Decorative Glassware",
          "Metals/Iron Anchors",
          "Metals/Iron Blocks",
          "Metals/Iron Chains",
          "Metals/Iron Fasteners",
          "Metals/Iron Wire",
          "Metals/Iron Housewares",
          "Precious Metals/Jewellery",
          "Metals/Iron Gas Containers",
          "Textiles/Jute Woven Fabric",
          "Textiles/Jute Yarn",
          "Textiles/Jute and Other Textile Fibers",
          "Mineral Products/Kaolin",
          "Foodstuffs/Jams",
          "Paper Goods/Kaolin Coated Paper",
          "Textiles/Knit Active Wear",
          "Textiles/Knit Babies' Garments",
          "Textiles/Knit Gloves",
          "Textiles/Knit Men's Coats",
          "Textiles/Knit Men's Shirts",
          "Textiles/Knit Men's Suits",
          "Chemical Products/Ketones and Quinones",
          "Textiles/Knit Men's Undergarments",
          "Metals/Iron Toiletry",
          "Metals/Iron Stovetops",
          "Metals/Iron Ingots",
          "Metals/Iron Nails",
          "Mineral Products/Iron Ore",
          "Chemical Products/Iron Oxides and Hydroxides",
          "Metals/Iron Pipe Fittings",
          "Metals/Iron Pipes",
          "Metals/Iron Structures",
          "Metals/Iron Powder",
          "Metals/Iron Radiators",
          "Metals/Iron Railway Products",
          "Metals/Iron Reductions",
          "Metals/Iron Sewing Needles",
          "Metals/Iron Sheet Piling",
          "Metals/Iron Springs",
          "Mineral Products/Iron Pyrites",
          "Textiles/Knit Socks and Hosiery",
          "Animal Hides/Patent Leather",
          "Chemical Products/Pastes and Waxes",
          "Plastics and Rubbers/Petroleum Resins",
          "Foodstuffs/Pasta",
          "Mineral Products/Petroleum Gas",
          "Mineral Products/Petroleum Coke",
          "Chemical Products/Pesticides",
          "Chemical Products/Perfumes",
          "Vegetable Products/Perfume Plants",
          "Instruments/Percussion",
          "Mineral Products/Petroleum Jelly",
          "Vegetable Products/Pepper",
          "Miscellaneous/Pens",
          "Miscellaneous/Pencils and Crayons",
          "Mineral Products/Peat",
          "Precious Metals/Pearls",
          "Precious Metals/Pearl Products",
          "Chemical Products/Peptones",
          "Foodstuffs/Other Sugars",
          "Stone And Glass/Other Stone Articles",
          "Metals/Other Steel Bars",
          "Metals/Other Stainless Steel Bars",
          "Metals/Other Small Iron Pipes",
          "Mineral Products/Other Slag and Ash",
          "Foodstuffs/Other Processed Vegetables",
          "Plastics and Rubbers/Other Rubber Products",
          "Animal and Vegetable Bi-Products/Other Pure Vegetable Oils",
          "Foodstuffs/Other Processed Fruits and Nuts",
          "Paper Goods/Other Printed Material",
          "Foodstuffs/Other Prepared Meat",
          "Textiles/Other Synthetic Fabrics",
          "Transportation/Other Sea Vessels",
          "Metals/Other Tin Products",
          "Textiles/Packaged Sewing Sets",
          "Textiles/Other Vegetable Fibers Fabric",
          "Transportation/Passenger and Cargo Ships",
          "Miscellaneous/Party Decorations",
          "Wood Products/Particle Board",
          "Transportation/Parachutes",
          "Machines/Papermaking Machines",
          "Paper Goods/Paper Spools",
          "Paper Goods/Paper Pulp Filter Blocks",
          "Paper Goods/Paper Notebooks",
          "Paper Goods/Paper Labels",
          "Paper Goods/Paper Containers",
          "Animal and Vegetable Bi-Products/Palm Oil",
          "Arts and Antiques/Paintings",
          "Metals/Padlocks",
          "Textiles/Packing Bags",
          "Paper Goods/Other Uncoated Paper",
          "Chemical Products/Packaged Medicaments",
          "Chemical Products/Oxygen Amino Compounds",
          "Chemical Products/Oxometallic or Peroxometallic Acid Salts",
          "Miscellaneous/Other toys",
          "Vegetable Products/Other live plants, cuttings and slips;\nmushroom spawn",
          "Metals/Other Zinc Products",
          "Wood Products/Other Wood Articles",
          "Textiles/Other Women's Undergarments",
          "Plastics and Rubbers/Other Vinyl Polymers",
          "Vegetable Products/Other Vegetables",
          "Foodstuffs/Other Vegetable Residues and Waste",
          "Foodstuffs/Other Vegetable Residues",
          "Vegetable Products/Other Vegetable Products",
          "Animal and Vegetable Bi-Products/Other Vegetable Oils",
          "Textiles/Other Vegetable Fibers Yarn",
          "Chemical Products/Oxygen Heterocyclic Compounds",
          "Machines/Office Machine Parts",
          "Metals/Nickel Pipes",
          "Instruments/Other Measuring Instruments",
          "Textiles/Non-Knit Babies' Garments",
          "Textiles/Non-Knit Active Wear",
          "Mineral Products/Non-Iron and Steel Slag, Ash and Residues",
          "Chemical Products/Nitrogenous Fertilizers",
          "Chemical Products/Nitrogen Heterocyclic Compounds",
          "Chemical Products/Nitrites and Nitrates",
          "Textiles/Non-Knit Gloves",
          "Chemical Products/Nitrile Compounds",
          "Mineral Products/Niobium, Tantalum, Vanadium and Zirconium Ore",
          "Metals/Nickel Sheets",
          "Metals/Nickel Powder",
          "Mineral Products/Nickel Ore",
          "Metals/Nickel Mattes",
          "Metals/Nickel Bars",
          "Chemical Products/Nitric Acids",
          "Paper Goods/Newsprint",
          "Textiles/Non-Knit Men's Coats",
          "Textiles/Non-Knit Men's Suits",
          "Textiles/Non-Retail Silk Yarn",
          "Textiles/Non-Retail Pure Cotton Yarn",
          "Textiles/Non-Retail Mixed Cotton Yarn",
          "Textiles/Non-Retail Combed Wool Yarn",
          "Textiles/Non-Retail Carded Wool Yarn",
          "Textiles/Non-Retail Artificial Staple Fibers Yarn",
          "Textiles/Non-Knit Men's Shirts",
          "Textiles/Non-Retail Artificial Staple Fibers Sewing Thread",
          "Machines/Non-Mechanical Removal Machinery",
          "Textiles/Non-Knit Women's Undergarments",
          "Textiles/Non-Knit Women's Suits",
          "Textiles/Non-Knit Women's Shirts",
          "Textiles/Non-Knit Women's Coats",
          "Textiles/Non-Knit Men's Undergarments",
          "Textiles/Non-Retail Artificial Filament Yarn",
          "Textiles/Non-Retail Synthetic Filament Yarn",
          "Paper Goods/Newspapers",
          "Textiles/Neck Ties",
          "Animal Products/Milk",
          "Weapons/Military Weapons",
          "Instruments/Microscopes",
          "Machines/Microphones and Headphones",
          "Chemical Products/Micro-Organism Culture Preparations",
          "Mineral Products/Mica",
          "Machines/Mill Machinery",
          "Machines/Metalworking Transfer Machines",
          "Machines/Metalworking Machine Parts",
          "Textiles/Metallic Yarn",
          "Textiles/Metallic Fabric",
          "Machines/Metal-Rolling Mills",
          "Precious Metals/Metal-Clad Products",
          "Animal Products/Other Meat",
          "Machines/Metalworking Machines",
          "Textiles/Netting",
          "Stone And Glass/Milling Stones",
          "Chemical Products/Mixed Mineral or Chemical Fertilizers",
          "Machines/Navigation Equipment",
          "Plastics and Rubbers/Natural Polymers",
          "Wood Products/Natural Cork Articles",
          "Instruments/Musical Instrument Parts",
          "Transportation/Motorcycles and cycles",
          "Machines/Motor-working Tools",
          "Instruments/Mirrors and Lenses",
          "Transportation/Motor vehicles; parts and accessories (8701 to 8705)",
          "Chemical Products/Motion-picture film, exposed and developed",
          "Plastics and Rubbers/Monofilament",
          "Mineral Products/Molybdenum Ore",
          "Metals/Molybdenum",
          "Animal Products/Molluscs",
          "Foodstuffs/Molasses",
          "Transportation/Motor vehicle (8701 to 8705) chassis fitted with engine",
          "Textiles/Non-Retail Synthetic Staple Fibers Yarn",
          "Textiles/Narrow Woven Fabric",
          "Animal Products/Non-fillet Frozen Fish",
          "Foodstuffs/Other Frozen Vegetables",
          "Footwear and Headwear/Other Footwear",
          "Transportation/Other Floating Structures",
          "Weapons/Other Firearms",
          "Foodstuffs/Other Fermented Beverages",
          "Chemical Products/Other Esters",
          "Vegetable Products/Other Fruits",
          "Machines/Other Engines",
          "Foodstuffs/Other Edible Preparations",
          "Animal Products/Other Edible Animal Products",
          "Machines/Other Domestic Electric Housewares",
          "Metals/Other Cutlery",
          "Textiles/Other Cotton Fabrics",
          "Metals/Other Copper Products",
          "Machines/Other Electrical Machinery",
          "Miscellaneous/Other Furniture",
          "Stone And Glass/Other Glass Articles",
          "Metals/Other Hand Tools",
          "Animal Products/Non-fillet Fresh Fish",
          "Transportation/Other Locomotives",
          "Animal Hides/Other Leather Articles",
          "Metals/Other Lead Products",
          "Metals/Other Large Iron Pipes",
          "Textiles/Other Knit Garments",
          "Textiles/Other Knit Clothing Accessories",
          "Metals/Other Iron Products",
          "Metals/Other Iron Bars",
          "Chemical Products/Other Inorganic Acids Salts",
          "Chemical Products/Other Inorganic Acids",
          "Animal Products/Other Inedible Animal Products",
          "Animal Hides/Other Hides and Skins",
          "Machines/Other Heating Machinery",
          "Footwear and Headwear/Other Headwear",
          "Machines/Other Construction Vehicles",
          "Chemical Products/Other Coloring Matter",
          "Chemical Products/Other Isotopes",
          "Instruments/Other Clocks and Watches",
          "Instruments/Optical Fibers and optical fibre bundles",
          "Instruments/Non-optical Microscopes",
          "Animal and Vegetable Bi-Products/Olive Oil",
          "Vegetable Products/Oil Seed Flower",
          "Vegetable Products/Oats",
          "Vegetable Products/Nutmeg, mace and cardamons",
          "Instruments/Opto-Electric Instrument Parts",
          "Chemical Products/Nucleic Acids",
          "Chemical Products/Nonmetal Sulfides",
          "Chemical Products/Nonaqueous Pigments",
          "Chemical Products/Nonaqueous Paints",
          "Textiles/Non-woven Textiles",
          "Transportation/Non-powered Aircraft",
          "Textiles/Other Cloth Articles",
          "Machines/Nuclear Reactors",
          "Chemical Products/Organic Composite Solvents",
          "Vegetable Products/Onions",
          "Stone And Glass/Ornamental Ceramics",
          "Instruments/Other Clocks",
          "Stone And Glass/Other Ceramic Articles",
          "Metals/Other Cast Iron Products",
          "Chemical Products/Organo-Sulfur Compounds",
          "Paper Goods/Other Carbon Paper",
          "Textiles/Other Articles of Twine and Rope",
          "Animal Products/Other Animals",
          "Textiles/Other Carpets",
          "Metals/Other Aluminium Products",
          "Machines/Other Agricultural Machinery",
          "Instruments/Oscilloscopes",
          "Instruments/Orthopedic Appliances",
          "Textiles/Ornamental Trimmings",
          "Animal and Vegetable Bi-Products/Other Animal Fats",
          "Metals/Tin Bars",
          "Mineral Products/Tin Ores",
          "Instruments/Time Switches",
          "Instruments/Time Recording Instruments",
          "Paper Goods/Tissue",
          "Metals/Titanium",
          "Mineral Products/Titanium Ore",
          "Chemical Products/Titanium Oxides",
          "Machines/Tobacco Processing Machines",
          "Paper Goods/Toilet Paper",
          "Vegetable Products/Tropical Fruits",
          "Metals/Tool Plates",
          "Metals/Tool Sets",
          "Transportation/Tractors",
          "Machines/Traffic Signals",
          "Transportation/Trailers and semi-trailers, not mechanically propelled vehicles",
          "Machines/Transmissions",
          "Miscellaneous/Travel Kits",
          "Instruments/Thermostats",
          "Animal Hides/Trunks and Cases",
          "Textiles/Tufted Carpets",
          "Transportation/Tug Boats",
          "Vegetable Products/Tomatoes",
          "Instruments/Therapeutic Appliances",
          "Mineral Products/Tar",
          "Textiles/Textile Wicks",
          "Textiles/Textile Wall Coverings",
          "Textiles/Textile Scraps",
          "Machines/Textile Processing Machines",
          "Footwear and Headwear/Textile Footwear",
          "Machines/Textile Fiber Machinery",
          "Textiles/Terry Fabric",
          "Instruments/Tensile Testing Machines",
          "Machines/Telephones",
          "Vegetable Products/Tea",
          "Foodstuffs/Tapioca",
          "Textiles/Textiles for technical uses",
          "Instruments/Binoculars and Telescopes",
          "Animal Products/Bird Feathers and Skins",
          "Footwear and Headwear/Bird Skins and Feathers",
          "Metals/Cadmium",
          "Vegetable Products/Bulbs and Roots",
          "Miscellaneous/Buttons",
          "Animal Products/Butter",
          "Transportation/Buses",
          "Transportation/Bicycles, delivery tricycles, other cycles",
          "Vegetable Products/Cabbages",
          "Mineral Products/Barium Sulphate",
          "Stone And Glass/Bathroom Ceramics",
          "Metals/Barbed Wire",
          "Stone And Glass/Building Stone",
          "Instruments/Base Metal Watches",
          "Wood Products/Basketwork",
          "Machines/Batteries",
          "Chemical Products/Beauty Products",
          "Textiles/Bedspreads",
          "Foodstuffs/Beer",
          "Metals/Bells and Other Metal Ornaments",
          "Transportation/Bi-Wheel Vehicle Parts",
          "Vegetable Products/Barley",
          "Vegetable Products/Buckwheat",
          "Machines/Boat Propellers",
          "Paper Goods/Brochures",
          "Chemical Products/Antiknock",
          "Arts and Antiques/Antiques",
          "Chemical Products/Bandages",
          "Vegetable Products/Apples and Pears",
          "Chemical Products/Aqueous Paints",
          "Weapons/Bladed Weapons and Accessories",
          "Machines/Blank Audio Media",
          "Textiles/Blankets",
          "Stone And Glass/Blown Glass",
          "Machines/Boiler Plants",
          "Miscellaneous/Brooms",
          "Machines/Book-binding Machines",
          "Mineral Products/Borax",
          "Chemical Products/Boron",
          "Animal Products/Bovine",
          "Animal Products/Bovine Meat",
          "Animal and Vegetable Bi-Products/Bovine, Sheep, and Goat Fat",
          "Foodstuffs/Bran",
          "Instruments/Breathing Appliances",
          "Stone And Glass/Bricks",
          "Machines/Broadcasting Accessories",
          "Machines/Broadcasting Equipment",
          "Chemical Products/Borates",
          "Vegetable Products/Bananas",
          "Mineral Products/Bitumen and asphalt",
          "Instruments/Balances",
          "Metals/Bismuth",
          "Paper Goods/Architectural Plans",
          "Machines/Ball Bearings",
          "Textiles/Artificial Fibers Waste",
          "Textiles/Artificial Filament Sewing Thread",
          "Textiles/Artificial Filament Tow",
          "Textiles/Artificial Filament Yarn Woven Fabric",
          "Animal Hides/Artificial Fur",
          "Chemical Products/Artificial Graphite",
          "Textiles/Artificial Monofilament",
          "Machines/Artificial Textile Machinery",
          "Animal Hides/Articles of Gut",
          "Chemical Products/Artistry Paints",
          "Footwear and Headwear/Artificial Vegetation",
          "Transportation/Baby Carriages",
          "Foodstuffs/Baked Goods",
          "Textiles/Awnings, Tents, and Sails",
          "Machines/Audio Alarms",
          "Mineral Products/Asphalt Mixtures",
          "Stone And Glass/Asphalt",
          "Stone And Glass/Asbestos Fibres",
          "Machines/Audio and Video Recording Accessories",
          "Stone And Glass/Asbestos Cement Articles",
          "Mineral Products/Asbestos",
          "Transportation/Wheelchairs",
          "Vegetable Products/Wheat Gluten",
          "Vegetable Products/Wheat Flours",
          "Vegetable Products/Wheat",
          "Weapons/Weapons Parts and Accessories",
          "Chemical Products/Waxes",
          "Footwear and Headwear/Waterproof Footwear",
          "Vegetable Products/Lettuce",
          "Machines/Lifting Machinery",
          "Miscellaneous/Light Fixtures",
          "Textiles/Light Mixed Woven Cotton",
          "Miscellaneous/Lighters",
          "Textiles/Light Rubberized Knitted Fabric",
          "Textiles/Light Synthetic Cotton Fabrics",
          "Mineral Products/Lignite",
          "Paper Goods/Letter Stock",
          "Textiles/Light Pure Woven Cotton",
          "Vegetable Products/Legumes",
          "Metals/Lead Sheets",
          "Animal Hides/Leather of Other Animals",
          "Animal Hides/Leather Waste",
          "Animal Hides/Leather Sheets",
          "Machines/Leather Machinery",
          "Footwear and Headwear/Leather Footwear",
          "Animal Hides/Leather Apparel",
          "Chemical Products/Lead Oxides",
          "Mineral Products/Lead Ore",
          "Metals/Large Iron Containers",
          "Metals/Large Flat-Rolled Stainless Steel",
          "Metals/Large Flat-Rolled Iron",
          "Machines/Large Construction Vehicles",
          "Vegetable Products/Legume Flours",
          "Mineral Products/Limestone",
          "Animal Hides",
          "Animal Products",
          "Animal and Vegetable Bi-Products",
          "Arts and Antiques",
          "Chemical Products",
          "Foodstuffs",
          "Footwear and Headwear",
          "Instruments",
          "Machines",
          "Metals",
          "Mineral Products",
          "Miscellaneous",
          "Paper Goods",
          "Plastics and Rubbers",
          "Precious Metals",
          "Stone And Glass",
          "Textiles",
          "Transportation",
          "Vegetable Products",
          "Weapons",
          "Wood Products"
         ],
         "labels": [
          "Labels",
          "Large Coated Flat-Rolled Iron",
          "Large Aluminium Containers",
          "Lake Pigments",
          "Laboratory Reagents",
          "Laboratory Glassware",
          "Laboratory Ceramic Ware",
          "LCDs",
          "Kraft Paper",
          "Knives",
          "Knotted Carpets",
          "Knitting Machine Accessories",
          "Knitted Hats",
          "Knit Women's Undergarments",
          "Knit Women's Suits",
          "Knit Women's Shirts",
          "Knit Women's Coats",
          "Knit T-shirts",
          "Knit Sweaters",
          "Knitting Machines",
          "Animal Hair",
          "Animal Fat",
          "Animal Food",
          "Animal Organs",
          "Abrasive Powder",
          "Antibiotics",
          "Antifreeze",
          "Animal Extracts",
          "Animal or Vegetable Fertilizers",
          "Ammonia",
          "Animal Meal and Pellets",
          "Amine Compounds",
          "Amino-resins",
          "Alkaline Metals",
          "Aldehydes",
          "Aldehyde Derivatives",
          "Alcohol > 80% ABV",
          "Aircraft Parts",
          "Aircraft Launch Gear",
          "Air Pumps",
          "Air Conditioners",
          "Agglomerated Cork",
          "Acyclic Hydrocarbons",
          "Acyclic Alcohols",
          "Activated Carbon",
          "Acrylic Polymers",
          "Acetals and Hemiacetals",
          "Aluminium Bars",
          "Aluminium Cans",
          "Alkylbenzenes and Alkylnaphthalenes",
          "Aluminium Gas Containers",
          "Aluminium Housewares",
          "Aluminium Ore",
          "Aluminium Oxide",
          "Aluminium Pipe Fittings",
          "Aluminium Pipes",
          "Aluminium Foil",
          "Aluminium Plating",
          "Aluminium Powder",
          "Aluminium Structures",
          "Aluminium Wire",
          "Carboxyimide Compounds",
          "Carboxyamide Compounds",
          "Carbonates",
          "Carbon-based Electronics",
          "Carbon Paper",
          "Carboxylic Acids",
          "Cameras",
          "Candles",
          "Carbides",
          "Carbon",
          "Calendars",
          "Carded Wool or Animal Hair Fabric",
          "Calcium Phosphates",
          "Casein",
          "Cassava",
          "Cast Iron Pipes",
          "Cast or Rolled Glass",
          "Casting Machines",
          "Cathode Tubes",
          "Calculators",
          "Cars",
          "Zippers",
          "Zinc Ore",
          "Zinc Powder",
          "Zinc Sheets",
          "Zinc Oxide and Peroxide",
          "Zirconium",
          "Hand-Woven Tapestries",
          "Electric Soldering Equipment",
          "Electrical Capacitors",
          "Electrical Control Boards",
          "Electrical Ignitions",
          "Electrical Insulators",
          "Electrical Lighting and Signalling Equipment",
          "Electrical Parts",
          "Electrical Power Accessories",
          "Electrical Resistors",
          "Electrical Transformers",
          "Electricity",
          "Electromagnets",
          "Embroidery",
          "Engine Parts",
          "Enzymes",
          "Epoxides",
          "Equine and Bovine Hides",
          "Felt Carpets",
          "Felt",
          "Feldspar",
          "Fat and Oil Residues",
          "Fake Hair",
          "Fairground Amusements",
          "Electric Musical Instruments",
          "Eyewear and Clock Glass",
          "Eyewear",
          "Explosive Ammunition",
          "Excavation Machinery",
          "Ethylene Polymers",
          "Ethers",
          "Essential Oils",
          "Eyewear Frames",
          "Electric Motors",
          "Electric Motor Parts",
          "Electric Locomotives",
          "Hats",
          "Headbands and Linings",
          "Heavy Mixed Woven Cotton",
          "Heavy Pure Woven Cotton",
          "Heavy Synthetic Cotton Fabrics",
          "High-voltage Protection Equipment",
          "Hat Shapes",
          "Honey",
          "Hormones",
          "Horse Meat",
          "Horsehair Fabric",
          "Horsehair Yarn",
          "Horses",
          "Hose Piping Textiles",
          "Hops",
          "Felt Machinery",
          "Hat Forms",
          "Hard Rubber",
          "Electric Heaters",
          "Electric Generating Sets",
          "Electric Furnaces",
          "Electric Filament",
          "Electric Batteries",
          "Halogenated Hydrocarbons",
          "Harvesting Machinery",
          "Halogens",
          "Hand Sifters",
          "Hand Tools",
          "Hand-Woven Rugs",
          "Handguns",
          "Handkerchiefs",
          "Hard Liquor",
          "Hand Saws",
          "Hot-Rolled Iron",
          "Felt or Coated Fabric Garments",
          "Ferroalloys",
          "Gelatin",
          "Gimp Yarn",
          "Glands and Other Organs",
          "Glass Balls",
          "Glass Beads",
          "Glass Bottles",
          "Glass Bricks",
          "Glass Bulbs",
          "Glass Fibers",
          "Glass Mirrors",
          "Glass Scraps",
          "Glass Working Machines",
          "Glass with Edge Workings",
          "Glazed Ceramics",
          "Glaziers Putty",
          "Glues",
          "Glycerol",
          "Hair Products",
          "Gypsum",
          "Gum Coated Textile Fabric",
          "Ground Nuts",
          "Ground Nut Oil",
          "Ground Nut Meal",
          "Gauze",
          "Gravel and Crushed Stone",
          "Grapes",
          "Granulated Slag",
          "Granite",
          "Gold Clad Metals",
          "Gold",
          "Glycosides",
          "Graphite",
          "Gaskets",
          "Gas and Liquid Flow Measuring Instruments",
          "Gas Turbines",
          "Flax Woven Fabric",
          "Flax Fibers",
          "Flavored Water",
          "Flat-Rolled Stainless Steel",
          "Flat-Rolled Iron",
          "Flat Flat-Rolled Steel",
          "Flax Yarn",
          "Fishing and Hunting Equipment",
          "Fish: dried, salted, smoked or in brine",
          "Fish oil",
          "Fish Fillets",
          "Fireworks",
          "Fire Extinguishers Preparations",
          "Filing Cabinets",
          "Fishing Ships",
          "Fermented Milk Products",
          "Flexible Metal Tubing",
          "Fluorides",
          "Garments of Impregnated Fabric",
          "Garden Tools",
          "Furskin Apparel",
          "Fuel Wood",
          "Fruit Pressing Machinery",
          "Fruit Juice",
          "Float Glass",
          "Frozen Vegetables",
          "Frozen Bovine Meat",
          "Friction Material",
          "Fork-Lifts",
          "Forging Machines",
          "Forage Crops",
          "Footwear Parts",
          "Frozen Fruits and Nuts",
          "Hair Trimmers",
          "Hot-Rolled Iron Bars",
          "House Linens",
          "Hot-Rolled Stainless Steel Bars",
          "Integrated Circuits",
          "Insulating Glass",
          "Insulated Wire",
          "Instructional Models",
          "Insect Resins",
          "Inorganic Salts",
          "Inorganic Compounds",
          "Ink Ribbons",
          "Ink",
          "Inedible Fats and Oils",
          "Industrial Printers",
          "Industrial Furnaces",
          "Industrial Food Preperation Machinery",
          "Industrial Fatty Acids, Oils and Alcohols",
          "Halides",
          "Imitation Jewellery",
          "Household Washing Machines",
          "Incomplete Movement Sets",
          "Human Hair",
          "Hydraulic Brake Fluid",
          "Hydraulic Turbines",
          "Hydrides and other anions",
          "Hydrazine or Hydroxylamine Derivatives",
          "Hydrogen",
          "Hydrogen peroxide",
          "Hydrometers",
          "Hypochlorites",
          "Ice Cream",
          "Image Projectors",
          "Hydrochloric Acid",
          "Chlorates and Perchlorates",
          "Chemical Analysis Instruments",
          "Chemically Pure Sugars",
          "Chlorides",
          "Citrus",
          "Chromium Ore",
          "Chromium Oxides and Hydroxides",
          "Cigarette Paper",
          "Cinnamon",
          "Cheese",
          "Chocolate",
          "Chamois Leather",
          "Ceramic Tableware",
          "Chalk",
          "Cermets",
          "Cereal Meal and Pellets",
          "Cereal Flours",
          "Citrus and Melon Peels",
          "Ceramic Pipes",
          "Ceramic Bricks",
          "Centrifuges",
          "Central Heating Boilers",
          "Cement Articles",
          "Cement",
          "Cellulose Fibers Paper",
          "Cellulose",
          "Chalkboards",
          "Clays",
          "Cereal Straws",
          "Clock Cases and Parts",
          "Cleaning Products",
          "Collector's Items",
          "Cold-Rolled Iron",
          "Coke",
          "Coin",
          "Coffee and Tea Extracts",
          "Coffee",
          "Coconuts, Brazil Nuts, and Cashews",
          "Coconut and Other Vegetable Fibers",
          "Coconut Oil",
          "Cocoa Shells",
          "Cocoa Powder",
          "Children's Picture Books",
          "Cocoa Butter",
          "Clock Movements",
          "Cocoa Paste",
          "Cloves",
          "Coal Briquettes",
          "Coal Tar Oil",
          "Clocks with Watch Movements",
          "Coated Metal Soldering Products",
          "Coated Textile Fabric",
          "Cobalt",
          "Cobalt Oxides and Hydroxides",
          "Cocoa Beans",
          "Coated Flat-Rolled Iron",
          "Other Non-Metal Removal Machinery",
          "Other Metal Fasteners",
          "Other Metals",
          "Other Mineral",
          "Other Musical Instruments",
          "Other Nitrogen Compounds",
          "Other Non-Knit Clothing Accessories",
          "Other Nuts",
          "Other Nickel Products",
          "Other Oily Seeds",
          "Other Ores",
          "Other Organic Compounds",
          "Other Organo-Inorganic Compounds",
          "Other Paints",
          "Other Paper Machinery",
          "Other Plastic Products",
          "Other Office Machines",
          "Other Precious Metal Products",
          "Other Plastic Sheetings",
          "Unprocessed Synthetic Staple Fibers",
          "Unprocessed Artificial Staple Fibers",
          "Unpackaged Medicaments",
          "Undeveloped Exposed Photographic Material",
          "Uncoated Paper",
          "Turpentine",
          "Umbrella and Walking Stick Accessories",
          "Twine and Rope",
          "Unsaturated Acyclic Monocarboxylic Acids",
          "Tungsten Ore",
          "Tungsten",
          "Tulles and Net Fabric",
          "Umbrellas",
          "Unvulcanised Rubber Products",
          "Utility Meters",
          "Used Clothing",
          "Vending Machines",
          "Vehicle Bodies (including cabs) for the motor vehicles (8701 to 8705)",
          "Vegetable waxes and beeswax",
          "Vegetable or Animal Dyes",
          "Vegetable and Mineral Carvings",
          "Vegetable Saps",
          "Vegetable Plaiting Materials",
          "Uranium and Thorium Ore",
          "Vegetable Parchment",
          "Vegetable Alkaloids",
          "Vanilla",
          "Valves",
          "Vacuum Flask",
          "Vacuum Cleaners",
          "Vaccines, blood, antisera, toxins and cultures",
          "Used Rubber Tires",
          "Vegetable Fiber",
          "Vegetable Tanning Extracts",
          "Unglazed Ceramics",
          "Watch Straps",
          "Vermouth",
          "Video Cameras",
          "Video Displays",
          "Video Recording Equipment",
          "Video and Card Games",
          "Vinegar",
          "Vinyl Chloride Polymers",
          "Vitamins",
          "Wadding",
          "Walking Sticks",
          "Wallpaper",
          "Washing and Bottling Machines",
          "Water and Gas Generators",
          "Water Soluble Proteins",
          "Water",
          "Veneer Sheets",
          "Watch Cases and Parts",
          "Watch Movements",
          "Sugar Preserved Foods",
          "Starch Residue",
          "Starches",
          "Steam Boilers",
          "Steam Turbines",
          "Stearic Acid",
          "Steel Bars",
          "Steel Ingots",
          "Steel Wire",
          "Stone Processing Machines",
          "Stone Working Machines",
          "Stranded Aluminium Wire",
          "Stranded Copper Wire",
          "Stranded Iron Wire",
          "String Instruments",
          "Styrene Polymers",
          "Sulfate Chemical Woodpulp",
          "Sulfates",
          "Synthetic Reconstructed Jewellery Stones",
          "Sulfides",
          "Synthetic Rubber",
          "Synthetic Monofilament",
          "Rubber",
          "Rubber Apparel",
          "Rubber Belting",
          "Rubber Footwear",
          "Rubber Inner Tubes",
          "Rubber Pipes",
          "Rubber Sheets",
          "Rubber Stamps",
          "Rubber Textile Fabric",
          "Rubber Textiles",
          "Rubber Thread",
          "Rubber Tires",
          "Stainless Steel Wire",
          "Rubberworking Machinery",
          "Saddlery",
          "Synthetic Filament Yarn Woven Fabric",
          "Synthetic Filament Tow",
          "Synthetic Fabrics",
          "Synthetic Coloring Matter",
          "Surveying Equipment",
          "Sunflower Seeds",
          "Sulphur",
          "Sulfuric Acid",
          "Sulfur",
          "Sulfonated, Nitrated or Nitrosated Hydrocarbons",
          "Sulfonamides",
          "Sulfites",
          "Sulfite Chemical Woodpulp",
          "Rye",
          "Synthetic Tanning Extracts",
          "Stainless Steel Ingots",
          "Sports Equipment",
          "Scrap Vessels",
          "Scrap Waste",
          "Sculptures",
          "Seats",
          "Seed Oils",
          "Self-Propelled Rail Transport",
          "Scrap Tin",
          "Self-adhesive Plastics",
          "Semi-Finished Iron",
          "Semiconductor Devices",
          "Sewing Machines",
          "Shaped Paper",
          "Shaped Wood",
          "Shaving Products",
          "Semi chemical Woodpulp",
          "Sheep Hides",
          "Scrap Rubber",
          "Scrap Nickel",
          "Salt",
          "Sand",
          "Saturated Acyclic Monocarboxylic Acids",
          "Sauces and Seasonings",
          "Sausages",
          "Sawn Wood",
          "Scrap Plastic",
          "Scales",
          "Scent Sprays",
          "Scented Mixtures",
          "Scissors",
          "Scrap Aluminium",
          "Scrap Copper",
          "Scrap Iron",
          "Scarves",
          "Spring, Air, and Gas Guns",
          "Sheep and Goat Meat",
          "Signaling Glassware",
          "Sorghum",
          "Sound Recording Equipment",
          "Sound Recordings",
          "Soups and Broths",
          "Sowing Seeds",
          "Soybean Meal",
          "Soldering and Welding Machinery",
          "Soybean Oil",
          "Spark-Ignition Engines",
          "Special Pharmaceuticals",
          "Special Purpose Ships",
          "Special purpose motor vehicles",
          "Spice Seeds",
          "Spices",
          "Soybeans",
          "Sheet Music",
          "Soil Preparation Machinery",
          "Soapstone",
          "Silicates",
          "Siliceous Fossil Meals",
          "Silicone",
          "Silk Fabrics",
          "Silk Waste",
          "Silk Waste Yarn",
          "Sodium or Potassium Peroxides",
          "Silk-worm Cocoons",
          "Silver Clad Metals",
          "Slag Dross",
          "Slate",
          "Small Iron Containers",
          "Smoking Pipes",
          "Soap",
          "Silver",
          "Tall Oil",
          "Safes",
          "Tanned Equine and Bovine Hides",
          "Tanned Furskins",
          "Tanned Goat Hides",
          "Tanks and Armored vehicles",
          "Tanned Sheep Hides",
          "Safety Glass",
          "Tantalum",
          "Processed Hair",
          "Processed Fish",
          "Processed Egg Products",
          "Processed Crustaceans",
          "Processed Cereals",
          "Processed Bones",
          "Print Production Machinery",
          "Printed Circuit Boards",
          "Processed Mica",
          "Preserved Vegetables",
          "Preserved Meat",
          "Preserved Fruits and Nuts",
          "Prepared Wool or Animal Hair",
          "Prints",
          "Processed Mushrooms",
          "Processed Tobacco",
          "Prepared Rubber Accelerators",
          "Pig Hair",
          "Pig Iron",
          "Pig Meat",
          "Pig and Poultry Fat",
          "Pigs",
          "Pile Fabric",
          "Pitch Coke",
          "Pitted Fruits",
          "Plaiting Products",
          "Planes, Helicopters, and/or Spacecraft",
          "Plant foliage",
          "Pulley Systems",
          "Propylene Polymers",
          "Propellant Powders",
          "Processed Tomatoes",
          "Processed Synthetic Staple Fibers",
          "Prepared Pigments",
          "Prepared Cotton",
          "Prepared Explosives",
          "Polycarboxylic Acids",
          "Polyamides",
          "Polyamide Fabric",
          "Polyacetals",
          "Polishes and Creams",
          "Plywood",
          "Polymer Ion-Exchangers",
          "Platinum Clad Metals",
          "Plastic Wash Basins",
          "Plastic Pipes",
          "Plastic Lids",
          "Plastic Housewares",
          "Plastic Floor Coverings",
          "Plastic Coated Textile Fabric",
          "Platinum",
          "Prepared Paint Driers",
          "Porcelain Tableware",
          "Postcards",
          "Prepared Cereals",
          "Prefabricated Buildings",
          "Precipitated Copper",
          "Precious Stones",
          "Precious Stone Dust",
          "Precious Metal Watches",
          "Portable Lighting",
          "Precious Metal Scraps",
          "Precious Metal Compounds",
          "Poultry Meat",
          "Poultry",
          "Potatoes",
          "Potato Flours",
          "Potassic Fertilizers",
          "Precious Metal Ore",
          "Pickled Foods",
          "Photographic Paper",
          "Photographic Plates",
          "Rock Wool",
          "Rolled Tobacco",
          "Rolling Machines",
          "Roofing Tiles",
          "Root Vegetables",
          "Rosin",
          "Rice",
          "Rough Wood",
          "Raw Tobacco",
          "Raw Tin",
          "Raw Sugar",
          "Raw Silk",
          "Raw Plastic Sheeting",
          "Raw Nickel",
          "Raw Zinc",
          "Revolution Counters",
          "Revenue Stamps",
          "Retail Wool or Animal Hair Yarn",
          "Plaster Articles",
          "Razor Blades",
          "Reaction and Catalytic Products",
          "Recovered Paper Pulp",
          "Recreational Boats",
          "Refined Copper",
          "Refined Petroleum",
          "Refractory Bricks",
          "Refractory Cements",
          "Refractory Ceramics",
          "Refrigerators",
          "Retail Artificial Filament Yarn",
          "Retail Artificial Staple Fibers Yarn",
          "Retail Cotton Yarn",
          "Retail Silk Yarn",
          "Raw Lead",
          "Pianos",
          "Raw Iron Bars",
          "Raw Cotton",
          "Pure Olive Oil",
          "Pumice",
          "Pharmaceutical Animal Products",
          "Pharmaceutical Rubber Products",
          "Phenol Derivatives",
          "Phenols",
          "Pyrophoric Alloys",
          "Phosphatic Fertilizers",
          "Phosphoric Acid",
          "Phosphoric Esters and Salts",
          "Photo Lab Equipment",
          "Photocopiers",
          "Photographic Chemicals",
          "Photographic Film",
          "Phosphinates (hypophosphites) and phosphonates (phosphites)",
          "Quartz",
          "Quaternary Ammonium Salts and Hydroxides",
          "Quicklime",
          "Raw Cork",
          "Raw Copper",
          "Raw Bones",
          "Raw Aluminium",
          "Rare-Earth Metal Compounds",
          "Rapeseed Oil",
          "Rapeseed",
          "Railway Track Fixtures",
          "Railway Maintenance Vehicles",
          "Railway Freight Cars",
          "Railway Cargo Containers",
          "Railroad Ties",
          "Radioactive Chemicals",
          "Radio Receivers",
          "Quilted Textiles",
          "Raw Furskins",
          "Plastic Building Materials",
          "Recovered Paper",
          "Reclaimed Rubber",
          "Combed Wool or Animal Hair Fabric",
          "Cucumbers",
          "Crustaceans",
          "Crude Petroleum",
          "Cranes",
          "Corrugated Paper",
          "Cotton Waste",
          "Combs",
          "Combustion Engines",
          "Compasses",
          "Composite Paper",
          "Compounded Unvulcanised Rubber",
          "Computers",
          "Concentrated Milk",
          "Curbstones",
          "Confectionery Sugar",
          "Cooking Hand Tools",
          "Copper Alloys",
          "Copper Bars",
          "Copper Fasteners",
          "Copper Foil",
          "Copper Housewares",
          "Copper Ore",
          "Copper Pipe Fittings",
          "Copper Pipes",
          "Copper Plating",
          "Copper Powder",
          "Copper Wire",
          "Coral and Shells",
          "Corn",
          "Conveyor Belt Textiles",
          "Cut Flowers",
          "Cotton Sewing Thread",
          "Cutting Blades",
          "Cutlery Sets",
          "Decals",
          "Delivery Trucks",
          "Densified Wood",
          "Dental Products",
          "Detonating Fuses",
          "Developed Exposed Photographic Material",
          "Dextrins",
          "Diamonds",
          "Diazo, Azo or Aoxy Compounds",
          "Dictation Machines",
          "Disc Chemicals for Electronics",
          "Dissolving Grades Chemical Woodpulp",
          "Dithionites and Sulfoxylates",
          "Documents of title (bonds etc) and unused stamps",
          "Edible Offal",
          "Drafting Tools",
          "Debacked Cork",
          "Dried Fruits",
          "Dried Legumes",
          "Dried Vegetables",
          "Drilling Machines",
          "Dyeing Finishing Agents",
          "Dolomite",
          "Eggs",
          "Dashboard Clocks",
          "Dairy Machinery",
          "Cyclic Hydrocarbons",
          "Cyclic Alcohols",
          "Cyanides",
          "Whey and other milk products",
          "Wind Instruments",
          "Wood Barrels",
          "Wine",
          "Zinc Bars",
          "Yeast",
          "X-Ray Equipment",
          "Wrenches",
          "Woven Fabrics",
          "Woven Fabric of Synthetic Staple Fibers",
          "Worked Slate",
          "Work Trucks",
          "Wool or Animal Hair Waste",
          "Wool Grease",
          "Wool",
          "Woodworking machines",
          "Worked Ivory and Bone",
          "Wooden Tool Handles",
          "Wood Tar, Oils and Pitch",
          "Wood Stakes",
          "Wood Pulp Lyes",
          "Wood Ornaments",
          "Wood Kitchenware",
          "Wood Frames",
          "Wood Fiberboard",
          "Wood Crates",
          "Wood Charcoal",
          "Wood Carpentry",
          "Wine Lees",
          "Window Dressings",
          "Metal Stoppers",
          "Metal Signs",
          "Linoleum",
          "Maps",
          "Margarine",
          "Matches",
          "Mattresses",
          "Maté",
          "Mechanical Wood Pulp",
          "Medical Furniture",
          "Mannequins",
          "Medical Instruments",
          "Metal Finishing Machines",
          "Metal Insulating Fittings",
          "Metal Lathes",
          "Metal Molds",
          "Metal Mountings",
          "Metal Office Supplies",
          "Metal Pickling Preparations",
          "Melons",
          "Manganese Oxides",
          "Marble, Travertine and Alabaster",
          "Manganese",
          "Linseed",
          "Liquid Dispersing Machines",
          "Liquid Fuel Furnaces",
          "Liquid Pumps",
          "Live Fish",
          "Manganese Ore",
          "Locust beans, seaweed, sugar beet, cane, for food",
          "Looms",
          "Locomotive Parts",
          "Lubricating Products",
          "Machinery Having Individual Functions",
          "Magnesium",
          "Magnesium Carbonate",
          "Magnesium Hydroxide and Peroxide",
          "Malt",
          "Malt Extract",
          "Low-voltage Protection Equipment",
          "Iron Cloth",
          "Interchangeable Tool Parts",
          "Interior Decorative Glassware",
          "Iron Anchors",
          "Iron Blocks",
          "Iron Chains",
          "Iron Fasteners",
          "Iron Wire",
          "Iron Housewares",
          "Jewellery",
          "Iron Gas Containers",
          "Jute Woven Fabric",
          "Jute Yarn",
          "Jute and Other Textile Fibers",
          "Kaolin",
          "Jams",
          "Kaolin Coated Paper",
          "Knit Active Wear",
          "Knit Babies' Garments",
          "Knit Gloves",
          "Knit Men's Coats",
          "Knit Men's Shirts",
          "Knit Men's Suits",
          "Ketones and Quinones",
          "Knit Men's Undergarments",
          "Iron Toiletry",
          "Iron Stovetops",
          "Iron Ingots",
          "Iron Nails",
          "Iron Ore",
          "Iron Oxides and Hydroxides",
          "Iron Pipe Fittings",
          "Iron Pipes",
          "Iron Structures",
          "Iron Powder",
          "Iron Radiators",
          "Iron Railway Products",
          "Iron Reductions",
          "Iron Sewing Needles",
          "Iron Sheet Piling",
          "Iron Springs",
          "Iron Pyrites",
          "Knit Socks and Hosiery",
          "Patent Leather",
          "Pastes and Waxes",
          "Petroleum Resins",
          "Pasta",
          "Petroleum Gas",
          "Petroleum Coke",
          "Pesticides",
          "Perfumes",
          "Perfume Plants",
          "Percussion",
          "Petroleum Jelly",
          "Pepper",
          "Pens",
          "Pencils and Crayons",
          "Peat",
          "Pearls",
          "Pearl Products",
          "Peptones",
          "Other Sugars",
          "Other Stone Articles",
          "Other Steel Bars",
          "Other Stainless Steel Bars",
          "Other Small Iron Pipes",
          "Other Slag and Ash",
          "Other Processed Vegetables",
          "Other Rubber Products",
          "Other Pure Vegetable Oils",
          "Other Processed Fruits and Nuts",
          "Other Printed Material",
          "Other Prepared Meat",
          "Other Synthetic Fabrics",
          "Other Sea Vessels",
          "Other Tin Products",
          "Packaged Sewing Sets",
          "Other Vegetable Fibers Fabric",
          "Passenger and Cargo Ships",
          "Party Decorations",
          "Particle Board",
          "Parachutes",
          "Papermaking Machines",
          "Paper Spools",
          "Paper Pulp Filter Blocks",
          "Paper Notebooks",
          "Paper Labels",
          "Paper Containers",
          "Palm Oil",
          "Paintings",
          "Padlocks",
          "Packing Bags",
          "Other Uncoated Paper",
          "Packaged Medicaments",
          "Oxygen Amino Compounds",
          "Oxometallic or Peroxometallic Acid Salts",
          "Other toys",
          "Other live plants, cuttings and slips;\nmushroom spawn",
          "Other Zinc Products",
          "Other Wood Articles",
          "Other Women's Undergarments",
          "Other Vinyl Polymers",
          "Other Vegetables",
          "Other Vegetable Residues and Waste",
          "Other Vegetable Residues",
          "Other Vegetable Products",
          "Other Vegetable Oils",
          "Other Vegetable Fibers Yarn",
          "Oxygen Heterocyclic Compounds",
          "Office Machine Parts",
          "Nickel Pipes",
          "Other Measuring Instruments",
          "Non-Knit Babies' Garments",
          "Non-Knit Active Wear",
          "Non-Iron and Steel Slag, Ash and Residues",
          "Nitrogenous Fertilizers",
          "Nitrogen Heterocyclic Compounds",
          "Nitrites and Nitrates",
          "Non-Knit Gloves",
          "Nitrile Compounds",
          "Niobium, Tantalum, Vanadium and Zirconium Ore",
          "Nickel Sheets",
          "Nickel Powder",
          "Nickel Ore",
          "Nickel Mattes",
          "Nickel Bars",
          "Nitric Acids",
          "Newsprint",
          "Non-Knit Men's Coats",
          "Non-Knit Men's Suits",
          "Non-Retail Silk Yarn",
          "Non-Retail Pure Cotton Yarn",
          "Non-Retail Mixed Cotton Yarn",
          "Non-Retail Combed Wool Yarn",
          "Non-Retail Carded Wool Yarn",
          "Non-Retail Artificial Staple Fibers Yarn",
          "Non-Knit Men's Shirts",
          "Non-Retail Artificial Staple Fibers Sewing Thread",
          "Non-Mechanical Removal Machinery",
          "Non-Knit Women's Undergarments",
          "Non-Knit Women's Suits",
          "Non-Knit Women's Shirts",
          "Non-Knit Women's Coats",
          "Non-Knit Men's Undergarments",
          "Non-Retail Artificial Filament Yarn",
          "Non-Retail Synthetic Filament Yarn",
          "Newspapers",
          "Neck Ties",
          "Milk",
          "Military Weapons",
          "Microscopes",
          "Microphones and Headphones",
          "Micro-Organism Culture Preparations",
          "Mica",
          "Mill Machinery",
          "Metalworking Transfer Machines",
          "Metalworking Machine Parts",
          "Metallic Yarn",
          "Metallic Fabric",
          "Metal-Rolling Mills",
          "Metal-Clad Products",
          "Other Meat",
          "Metalworking Machines",
          "Netting",
          "Milling Stones",
          "Mixed Mineral or Chemical Fertilizers",
          "Navigation Equipment",
          "Natural Polymers",
          "Natural Cork Articles",
          "Musical Instrument Parts",
          "Motorcycles and cycles",
          "Motor-working Tools",
          "Mirrors and Lenses",
          "Motor vehicles; parts and accessories (8701 to 8705)",
          "Motion-picture film, exposed and developed",
          "Monofilament",
          "Molybdenum Ore",
          "Molybdenum",
          "Molluscs",
          "Molasses",
          "Motor vehicle (8701 to 8705) chassis fitted with engine",
          "Non-Retail Synthetic Staple Fibers Yarn",
          "Narrow Woven Fabric",
          "Non-fillet Frozen Fish",
          "Other Frozen Vegetables",
          "Other Footwear",
          "Other Floating Structures",
          "Other Firearms",
          "Other Fermented Beverages",
          "Other Esters",
          "Other Fruits",
          "Other Engines",
          "Other Edible Preparations",
          "Other Edible Animal Products",
          "Other Domestic Electric Housewares",
          "Other Cutlery",
          "Other Cotton Fabrics",
          "Other Copper Products",
          "Other Electrical Machinery",
          "Other Furniture",
          "Other Glass Articles",
          "Other Hand Tools",
          "Non-fillet Fresh Fish",
          "Other Locomotives",
          "Other Leather Articles",
          "Other Lead Products",
          "Other Large Iron Pipes",
          "Other Knit Garments",
          "Other Knit Clothing Accessories",
          "Other Iron Products",
          "Other Iron Bars",
          "Other Inorganic Acids Salts",
          "Other Inorganic Acids",
          "Other Inedible Animal Products",
          "Other Hides and Skins",
          "Other Heating Machinery",
          "Other Headwear",
          "Other Construction Vehicles",
          "Other Coloring Matter",
          "Other Isotopes",
          "Other Clocks and Watches",
          "Optical Fibers and optical fibre bundles",
          "Non-optical Microscopes",
          "Olive Oil",
          "Oil Seed Flower",
          "Oats",
          "Nutmeg, mace and cardamons",
          "Opto-Electric Instrument Parts",
          "Nucleic Acids",
          "Nonmetal Sulfides",
          "Nonaqueous Pigments",
          "Nonaqueous Paints",
          "Non-woven Textiles",
          "Non-powered Aircraft",
          "Other Cloth Articles",
          "Nuclear Reactors",
          "Organic Composite Solvents",
          "Onions",
          "Ornamental Ceramics",
          "Other Clocks",
          "Other Ceramic Articles",
          "Other Cast Iron Products",
          "Organo-Sulfur Compounds",
          "Other Carbon Paper",
          "Other Articles of Twine and Rope",
          "Other Animals",
          "Other Carpets",
          "Other Aluminium Products",
          "Other Agricultural Machinery",
          "Oscilloscopes",
          "Orthopedic Appliances",
          "Ornamental Trimmings",
          "Other Animal Fats",
          "Tin Bars",
          "Tin Ores",
          "Time Switches",
          "Time Recording Instruments",
          "Tissue",
          "Titanium",
          "Titanium Ore",
          "Titanium Oxides",
          "Tobacco Processing Machines",
          "Toilet Paper",
          "Tropical Fruits",
          "Tool Plates",
          "Tool Sets",
          "Tractors",
          "Traffic Signals",
          "Trailers and semi-trailers, not mechanically propelled vehicles",
          "Transmissions",
          "Travel Kits",
          "Thermostats",
          "Trunks and Cases",
          "Tufted Carpets",
          "Tug Boats",
          "Tomatoes",
          "Therapeutic Appliances",
          "Tar",
          "Textile Wicks",
          "Textile Wall Coverings",
          "Textile Scraps",
          "Textile Processing Machines",
          "Textile Footwear",
          "Textile Fiber Machinery",
          "Terry Fabric",
          "Tensile Testing Machines",
          "Telephones",
          "Tea",
          "Tapioca",
          "Textiles for technical uses",
          "Binoculars and Telescopes",
          "Bird Feathers and Skins",
          "Bird Skins and Feathers",
          "Cadmium",
          "Bulbs and Roots",
          "Buttons",
          "Butter",
          "Buses",
          "Bicycles, delivery tricycles, other cycles",
          "Cabbages",
          "Barium Sulphate",
          "Bathroom Ceramics",
          "Barbed Wire",
          "Building Stone",
          "Base Metal Watches",
          "Basketwork",
          "Batteries",
          "Beauty Products",
          "Bedspreads",
          "Beer",
          "Bells and Other Metal Ornaments",
          "Bi-Wheel Vehicle Parts",
          "Barley",
          "Buckwheat",
          "Boat Propellers",
          "Brochures",
          "Antiknock",
          "Antiques",
          "Bandages",
          "Apples and Pears",
          "Aqueous Paints",
          "Bladed Weapons and Accessories",
          "Blank Audio Media",
          "Blankets",
          "Blown Glass",
          "Boiler Plants",
          "Brooms",
          "Book-binding Machines",
          "Borax",
          "Boron",
          "Bovine",
          "Bovine Meat",
          "Bovine, Sheep, and Goat Fat",
          "Bran",
          "Breathing Appliances",
          "Bricks",
          "Broadcasting Accessories",
          "Broadcasting Equipment",
          "Borates",
          "Bananas",
          "Bitumen and asphalt",
          "Balances",
          "Bismuth",
          "Architectural Plans",
          "Ball Bearings",
          "Artificial Fibers Waste",
          "Artificial Filament Sewing Thread",
          "Artificial Filament Tow",
          "Artificial Filament Yarn Woven Fabric",
          "Artificial Fur",
          "Artificial Graphite",
          "Artificial Monofilament",
          "Artificial Textile Machinery",
          "Articles of Gut",
          "Artistry Paints",
          "Artificial Vegetation",
          "Baby Carriages",
          "Baked Goods",
          "Awnings, Tents, and Sails",
          "Audio Alarms",
          "Asphalt Mixtures",
          "Asphalt",
          "Asbestos Fibres",
          "Audio and Video Recording Accessories",
          "Asbestos Cement Articles",
          "Asbestos",
          "Wheelchairs",
          "Wheat Gluten",
          "Wheat Flours",
          "Wheat",
          "Weapons Parts and Accessories",
          "Waxes",
          "Waterproof Footwear",
          "Lettuce",
          "Lifting Machinery",
          "Light Fixtures",
          "Light Mixed Woven Cotton",
          "Lighters",
          "Light Rubberized Knitted Fabric",
          "Light Synthetic Cotton Fabrics",
          "Lignite",
          "Letter Stock",
          "Light Pure Woven Cotton",
          "Legumes",
          "Lead Sheets",
          "Leather of Other Animals",
          "Leather Waste",
          "Leather Sheets",
          "Leather Machinery",
          "Leather Footwear",
          "Leather Apparel",
          "Lead Oxides",
          "Lead Ore",
          "Large Iron Containers",
          "Large Flat-Rolled Stainless Steel",
          "Large Flat-Rolled Iron",
          "Large Construction Vehicles",
          "Legume Flours",
          "Limestone",
          "Animal Hides",
          "Animal Products",
          "Animal and Vegetable Bi-Products",
          "Arts and Antiques",
          "Chemical Products",
          "Foodstuffs",
          "Footwear and Headwear",
          "Instruments",
          "Machines",
          "Metals",
          "Mineral Products",
          "Miscellaneous",
          "Paper Goods",
          "Plastics and Rubbers",
          "Precious Metals",
          "Stone And Glass",
          "Textiles",
          "Transportation",
          "Vegetable Products",
          "Weapons",
          "Wood Products"
         ],
         "marker": {
          "colors": [
           "#636efa",
           "#EF553B",
           "#EF553B",
           "#00cc96",
           "#00cc96",
           "#ab63fa",
           "#ab63fa",
           "#FFA15A",
           "#19d3f3",
           "#EF553B",
           "#636efa",
           "#FF6692",
           "#B6E880",
           "#636efa",
           "#636efa",
           "#636efa",
           "#636efa",
           "#636efa",
           "#636efa",
           "#FF6692",
           "#636efa",
           "#FF97FF",
           "#FECB52",
           "#FF97FF",
           "#ab63fa",
           "#00cc96",
           "#00cc96",
           "#FECB52",
           "#00cc96",
           "#00cc96",
           "#FECB52",
           "#00cc96",
           "#636efa",
           "#00cc96",
           "#00cc96",
           "#00cc96",
           "#FECB52",
           "#EF553B",
           "#EF553B",
           "#FF6692",
           "#FF6692",
           "#00cc96",
           "#00cc96",
           "#00cc96",
           "#00cc96",
           "#636efa",
           "#00cc96",
           "#EF553B",
           "#EF553B",
           "#00cc96",
           "#EF553B",
           "#EF553B",
           "#ab63fa",
           "#00cc96",
           "#EF553B",
           "#EF553B",
           "#EF553B",
           "#EF553B",
           "#EF553B",
           "#EF553B",
           "#EF553B",
           "#00cc96",
           "#00cc96",
           "#00cc96",
           "#FF6692",
           "#19d3f3",
           "#00cc96",
           "#FFA15A",
           "#00cc96",
           "#00cc96",
           "#00cc96",
           "#19d3f3",
           "#636efa",
           "#ab63fa",
           "#00cc96",
           "#FFA15A",
           "#EF553B",
           "#ab63fa",
           "#FF6692",
           "#FF6692",
           "#FF6692",
           "#EF553B",
           "#19d3f3",
           "#ab63fa",
           "#EF553B",
           "#EF553B",
           "#00cc96",
           "#EF553B",
           "#636efa",
           "#FF6692",
           "#FF6692",
           "#FF6692",
           "#FF6692",
           "#FF6692",
           "#FF6692",
           "#FF6692",
           "#FF6692",
           "#FF6692",
           "#FF6692",
           "#ab63fa",
           "#FF6692",
           "#636efa",
           "#FF6692",
           "#00cc96",
           "#00cc96",
           "#FF6692",
           "#636efa",
           "#636efa",
           "#ab63fa",
           "#B6E880",
           "#B6E880",
           "#19d3f3",
           "#FFA15A",
           "#ab63fa",
           "#FFA15A",
           "#FF97FF",
           "#FF6692",
           "#636efa",
           "#00cc96",
           "#00cc96",
           "#FFA15A",
           "#FF6692",
           "#FF6692",
           "#EF553B",
           "#B6E880",
           "#B6E880",
           "#636efa",
           "#636efa",
           "#636efa",
           "#FF6692",
           "#B6E880",
           "#FF97FF",
           "#00cc96",
           "#FF97FF",
           "#636efa",
           "#636efa",
           "#FF97FF",
           "#636efa",
           "#FFA15A",
           "#FF6692",
           "#B6E880",
           "#636efa",
           "#FF6692",
           "#FF6692",
           "#FF6692",
           "#FF6692",
           "#FF6692",
           "#00cc96",
           "#FF6692",
           "#00cc96",
           "#19d3f3",
           "#EF553B",
           "#636efa",
           "#FF97FF",
           "#636efa",
           "#FECB52",
           "#EF553B",
           "#EF553B",
           "#636efa",
           "#EF553B",
           "#00cc96",
           "#636efa",
           "#00cc96",
           "#ab63fa",
           "#ab63fa",
           "#ab63fa",
           "#ab63fa",
           "#ab63fa",
           "#ab63fa",
           "#ab63fa",
           "#ab63fa",
           "#FF6692",
           "#ab63fa",
           "#ab63fa",
           "#00cc96",
           "#00cc96",
           "#B6E880",
           "#00cc96",
           "#ab63fa",
           "#636efa",
           "#FFA15A",
           "#B6E880",
           "#FECB52",
           "#636efa",
           "#ab63fa",
           "#FFA15A",
           "#ab63fa",
           "#ab63fa",
           "#FECB52",
           "#FECB52",
           "#00cc96",
           "#ab63fa",
           "#FF6692",
           "#FFA15A",
           "#FF6692",
           "#636efa",
           "#636efa",
           "#FECB52",
           "#EF553B",
           "#EF553B",
           "#EF553B",
           "#636efa",
           "#19d3f3",
           "#FF97FF",
           "#B6E880",
           "#FF97FF",
           "#00cc96",
           "#00cc96",
           "#EF553B",
           "#EF553B",
           "#FF97FF",
           "#EF553B",
           "#00cc96",
           "#636efa",
           "#EF553B",
           "#FF6692",
           "#00cc96",
           "#FF6692",
           "#FECB52",
           "#ab63fa",
           "#FFA15A",
           "#FF97FF",
           "#ab63fa",
           "#FF6692",
           "#FF6692",
           "#FFA15A",
           "#B6E880",
           "#FFA15A",
           "#FF6692",
           "#EF553B",
           "#636efa",
           "#EF553B",
           "#FF6692",
           "#ab63fa",
           "#FF6692",
           "#FFA15A",
           "#FFA15A",
           "#00cc96",
           "#00cc96",
           "#19d3f3",
           "#00cc96",
           "#B6E880",
           "#FF6692",
           "#FF6692",
           "#FF6692",
           "#00cc96",
           "#00cc96",
           "#FECB52",
           "#FF6692",
           "#FFA15A",
           "#FF97FF",
           "#00cc96",
           "#FF6692",
           "#00cc96",
           "#00cc96",
           "#00cc96",
           "#00cc96",
           "#FFA15A",
           "#00cc96",
           "#FECB52",
           "#FFA15A",
           "#00cc96",
           "#00cc96",
           "#FFA15A",
           "#00cc96",
           "#00cc96",
           "#FFA15A",
           "#ab63fa",
           "#00cc96",
           "#19d3f3",
           "#FFA15A",
           "#FF97FF",
           "#FECB52",
           "#FF6692",
           "#ab63fa",
           "#ab63fa",
           "#EF553B",
           "#FFA15A",
           "#FFA15A",
           "#FFA15A",
           "#ab63fa",
           "#ab63fa",
           "#FF6692",
           "#FF6692",
           "#ab63fa",
           "#ab63fa",
           "#19d3f3",
           "#636efa",
           "#19d3f3",
           "#ab63fa",
           "#FFA15A",
           "#FFA15A",
           "#00cc96",
           "#636efa",
           "#EF553B",
           "#ab63fa",
           "#FECB52",
           "#FECB52",
           "#FFA15A",
           "#FFA15A",
           "#636efa",
           "#B6E880",
           "#FECB52",
           "#FECB52",
           "#19d3f3",
           "#FECB52",
           "#FFA15A",
           "#FECB52",
           "#FFA15A",
           "#ab63fa",
           "#ab63fa",
           "#FFA15A",
           "#EF553B",
           "#636efa",
           "#EF553B",
           "#00cc96",
           "#FECB52",
           "#EF553B",
           "#FF6692",
           "#EF553B",
           "#EF553B",
           "#ab63fa",
           "#FFA15A",
           "#00cc96",
           "#636efa",
           "#FFA15A",
           "#EF553B",
           "#FFA15A",
           "#ab63fa",
           "#00cc96",
           "#00cc96",
           "#00cc96",
           "#FF6692",
           "#636efa",
           "#FF6692",
           "#FECB52",
           "#636efa",
           "#636efa",
           "#636efa",
           "#00cc96",
           "#00cc96",
           "#19d3f3",
           "#00cc96",
           "#B6E880",
           "#636efa",
           "#00cc96",
           "#ab63fa",
           "#EF553B",
           "#636efa",
           "#B6E880",
           "#636efa",
           "#FFA15A",
           "#636efa",
           "#FF6692",
           "#EF553B",
           "#B6E880",
           "#00cc96",
           "#19d3f3",
           "#FFA15A",
           "#FFA15A",
           "#ab63fa",
           "#19d3f3",
           "#00cc96",
           "#FFA15A",
           "#FF6692",
           "#19d3f3",
           "#FF6692",
           "#00cc96",
           "#636efa",
           "#ab63fa",
           "#00cc96",
           "#ab63fa",
           "#FFA15A",
           "#FECB52",
           "#FFA15A",
           "#FF6692",
           "#FF6692",
           "#19d3f3",
           "#FECB52",
           "#636efa",
           "#00cc96",
           "#636efa",
           "#B6E880",
           "#19d3f3",
           "#FF6692",
           "#FF6692",
           "#00cc96",
           "#FECB52",
           "#00cc96",
           "#FFA15A",
           "#FFA15A",
           "#FECB52",
           "#FECB52",
           "#FFA15A",
           "#FF6692",
           "#FF6692",
           "#B6E880",
           "#EF553B",
           "#EF553B",
           "#EF553B",
           "#FF6692",
           "#FF6692",
           "#EF553B",
           "#EF553B",
           "#EF553B",
           "#FFA15A",
           "#636efa",
           "#19d3f3",
           "#00cc96",
           "#FECB52",
           "#00cc96",
           "#636efa",
           "#636efa",
           "#636efa",
           "#636efa",
           "#636efa",
           "#B6E880",
           "#636efa",
           "#636efa",
           "#636efa",
           "#19d3f3",
           "#636efa",
           "#636efa",
           "#636efa",
           "#636efa",
           "#EF553B",
           "#FF6692",
           "#FF6692",
           "#636efa",
           "#636efa",
           "#636efa",
           "#00cc96",
           "#FFA15A",
           "#FFA15A",
           "#ab63fa",
           "#00cc96",
           "#00cc96",
           "#00cc96",
           "#00cc96",
           "#00cc96",
           "#19d3f3",
           "#FFA15A",
           "#00cc96",
           "#EF553B",
           "#19d3f3",
           "#EF553B",
           "#EF553B",
           "#636efa",
           "#19d3f3",
           "#B6E880",
           "#EF553B",
           "#EF553B",
           "#636efa",
           "#EF553B",
           "#FF6692",
           "#FF6692",
           "#19d3f3",
           "#00cc96",
           "#00cc96",
           "#19d3f3",
           "#FF6692",
           "#636efa",
           "#EF553B",
           "#ab63fa",
           "#ab63fa",
           "#00cc96",
           "#FECB52",
           "#FECB52",
           "#00cc96",
           "#636efa",
           "#FF6692",
           "#19d3f3",
           "#00cc96",
           "#EF553B",
           "#EF553B",
           "#EF553B",
           "#EF553B",
           "#636efa",
           "#FF97FF",
           "#FF97FF",
           "#ab63fa",
           "#FFA15A",
           "#FF6692",
           "#FF6692",
           "#FECB52",
           "#FFA15A",
           "#FECB52",
           "#FF6692",
           "#B6E880",
           "#FF6692",
           "#00cc96",
           "#EF553B",
           "#EF553B",
           "#FFA15A",
           "#FFA15A",
           "#FFA15A",
           "#19d3f3",
           "#FF6692",
           "#ab63fa",
           "#00cc96",
           "#ab63fa",
           "#636efa",
           "#636efa",
           "#636efa",
           "#636efa",
           "#00cc96",
           "#636efa",
           "#FECB52",
           "#ab63fa",
           "#ab63fa",
           "#EF553B",
           "#19d3f3",
           "#00cc96",
           "#FECB52",
           "#00cc96",
           "#EF553B",
           "#FF6692",
           "#FF6692",
           "#FF6692",
           "#EF553B",
           "#FF6692",
           "#ab63fa",
           "#EF553B",
           "#B6E880",
           "#FECB52",
           "#FF97FF",
           "#FECB52",
           "#FFA15A",
           "#FF97FF",
           "#FF6692",
           "#FF6692",
           "#ab63fa",
           "#FFA15A",
           "#FF97FF",
           "#FFA15A",
           "#636efa",
           "#636efa",
           "#FECB52",
           "#FECB52",
           "#00cc96",
           "#FF97FF",
           "#EF553B",
           "#FF97FF",
           "#B6E880",
           "#FF97FF",
           "#636efa",
           "#ab63fa",
           "#FFA15A",
           "#00cc96",
           "#EF553B",
           "#FFA15A",
           "#FF6692",
           "#636efa",
           "#00cc96",
           "#FECB52",
           "#636efa",
           "#00cc96",
           "#636efa",
           "#00cc96",
           "#00cc96",
           "#636efa",
           "#636efa",
           "#636efa",
           "#00cc96",
           "#00cc96",
           "#636efa",
           "#FECB52",
           "#636efa",
           "#636efa",
           "#636efa",
           "#636efa",
           "#636efa",
           "#636efa",
           "#FECB52",
           "#00cc96",
           "#ab63fa",
           "#19d3f3",
           "#FECB52",
           "#19d3f3",
           "#EF553B",
           "#FECB52",
           "#FECB52",
           "#FFA15A",
           "#FF6692",
           "#FECB52",
           "#00cc96",
           "#FF97FF",
           "#FF97FF",
           "#FFA15A",
           "#FFA15A",
           "#00cc96",
           "#ab63fa",
           "#FECB52",
           "#00cc96",
           "#00cc96",
           "#ab63fa",
           "#FECB52",
           "#FF6692",
           "#ab63fa",
           "#FFA15A",
           "#00cc96",
           "#FFA15A",
           "#00cc96",
           "#FECB52",
           "#EF553B",
           "#FECB52",
           "#636efa",
           "#636efa",
           "#EF553B",
           "#EF553B",
           "#FFA15A",
           "#636efa",
           "#636efa",
           "#ab63fa",
           "#EF553B",
           "#00cc96",
           "#19d3f3",
           "#EF553B",
           "#EF553B",
           "#ab63fa",
           "#ab63fa",
           "#00cc96",
           "#ab63fa",
           "#FF6692",
           "#636efa",
           "#636efa",
           "#636efa",
           "#636efa",
           "#EF553B",
           "#FFA15A",
           "#EF553B",
           "#636efa",
           "#B6E880",
           "#ab63fa",
           "#FF97FF",
           "#636efa",
           "#00cc96",
           "#00cc96",
           "#00cc96",
           "#00cc96",
           "#00cc96",
           "#00cc96",
           "#FFA15A",
           "#FFA15A",
           "#00cc96",
           "#00cc96",
           "#00cc96",
           "#ab63fa",
           "#00cc96",
           "#ab63fa",
           "#00cc96",
           "#EF553B",
           "#FF97FF",
           "#EF553B",
           "#00cc96",
           "#B6E880",
           "#FFA15A",
           "#EF553B",
           "#EF553B",
           "#EF553B",
           "#EF553B",
           "#00cc96",
           "#00cc96",
           "#FF6692",
           "#636efa",
           "#FF6692",
           "#636efa",
           "#19d3f3",
           "#636efa",
           "#636efa",
           "#FFA15A",
           "#FF97FF",
           "#ab63fa",
           "#FF6692",
           "#19d3f3",
           "#636efa",
           "#19d3f3",
           "#FF6692",
           "#FFA15A",
           "#19d3f3",
           "#636efa",
           "#FF6692",
           "#FF97FF",
           "#ab63fa",
           "#FECB52",
           "#EF553B",
           "#EF553B",
           "#EF553B",
           "#EF553B",
           "#EF553B",
           "#EF553B",
           "#ab63fa",
           "#EF553B",
           "#EF553B",
           "#EF553B",
           "#EF553B",
           "#EF553B",
           "#FF97FF",
           "#FFA15A",
           "#636efa",
           "#FFA15A",
           "#636efa",
           "#EF553B",
           "#EF553B",
           "#19d3f3",
           "#EF553B",
           "#00cc96",
           "#00cc96",
           "#00cc96",
           "#00cc96",
           "#00cc96",
           "#FECB52",
           "#00cc96",
           "#FF6692",
           "#00cc96",
           "#19d3f3",
           "#00cc96",
           "#19d3f3",
           "#FF97FF",
           "#FFA15A",
           "#00cc96",
           "#FFA15A",
           "#FFA15A",
           "#FFA15A",
           "#FF6692",
           "#00cc96",
           "#ab63fa",
           "#FF97FF",
           "#FFA15A",
           "#FF6692",
           "#00cc96",
           "#00cc96",
           "#00cc96",
           "#FF97FF",
           "#FFA15A",
           "#00cc96",
           "#FECB52",
           "#EF553B",
           "#FECB52",
           "#FFA15A",
           "#EF553B",
           "#636efa",
           "#636efa",
           "#ab63fa",
           "#EF553B",
           "#636efa",
           "#B6E880",
           "#636efa",
           "#FF6692",
           "#19d3f3",
           "#00cc96",
           "#00cc96",
           "#00cc96",
           "#00cc96",
           "#00cc96",
           "#00cc96",
           "#00cc96",
           "#00cc96",
           "#00cc96",
           "#00cc96",
           "#00cc96",
           "#FECB52",
           "#636efa",
           "#EF553B",
           "#EF553B",
           "#636efa",
           "#19d3f3",
           "#B6E880",
           "#00cc96",
           "#19d3f3",
           "#FFA15A",
           "#19d3f3",
           "#19d3f3",
           "#19d3f3",
           "#FFA15A",
           "#FF6692",
           "#FF6692",
           "#FF6692",
           "#FF6692",
           "#EF553B",
           "#EF553B",
           "#00cc96",
           "#FFA15A",
           "#00cc96",
           "#ab63fa",
           "#EF553B",
           "#FFA15A",
           "#FF6692",
           "#FF6692",
           "#FF6692",
           "#FF97FF",
           "#ab63fa",
           "#FFA15A",
           "#FF6692",
           "#EF553B",
           "#00cc96",
           "#FF6692",
           "#EF553B",
           "#ab63fa",
           "#00cc96",
           "#FFA15A",
           "#FECB52",
           "#FF6692",
           "#EF553B",
           "#EF553B",
           "#ab63fa",
           "#EF553B",
           "#EF553B",
           "#EF553B",
           "#EF553B",
           "#EF553B",
           "#EF553B",
           "#FECB52",
           "#EF553B",
           "#636efa",
           "#636efa",
           "#636efa",
           "#ab63fa",
           "#FECB52",
           "#19d3f3",
           "#636efa",
           "#636efa",
           "#636efa",
           "#636efa",
           "#636efa",
           "#636efa",
           "#00cc96",
           "#636efa",
           "#EF553B",
           "#EF553B",
           "#EF553B",
           "#EF553B",
           "#ab63fa",
           "#00cc96",
           "#EF553B",
           "#EF553B",
           "#EF553B",
           "#EF553B",
           "#EF553B",
           "#EF553B",
           "#EF553B",
           "#EF553B",
           "#EF553B",
           "#EF553B",
           "#ab63fa",
           "#636efa",
           "#FF6692",
           "#00cc96",
           "#636efa",
           "#FECB52",
           "#ab63fa",
           "#ab63fa",
           "#00cc96",
           "#00cc96",
           "#FFA15A",
           "#FFA15A",
           "#ab63fa",
           "#FFA15A",
           "#19d3f3",
           "#19d3f3",
           "#ab63fa",
           "#FECB52",
           "#FECB52",
           "#00cc96",
           "#FECB52",
           "#ab63fa",
           "#EF553B",
           "#EF553B",
           "#EF553B",
           "#ab63fa",
           "#FECB52",
           "#636efa",
           "#B6E880",
           "#FECB52",
           "#19d3f3",
           "#FECB52",
           "#636efa",
           "#EF553B",
           "#EF553B",
           "#636efa",
           "#636efa",
           "#EF553B",
           "#19d3f3",
           "#00cc96",
           "#EF553B",
           "#FF6692",
           "#19d3f3",
           "#19d3f3",
           "#19d3f3",
           "#19d3f3",
           "#19d3f3",
           "#B6E880",
           "#636efa",
           "#EF553B",
           "#636efa",
           "#19d3f3",
           "#00cc96",
           "#00cc96",
           "#00cc96",
           "#19d3f3",
           "#FFA15A",
           "#EF553B",
           "#00cc96",
           "#636efa",
           "#636efa",
           "#FFA15A",
           "#FECB52",
           "#FECB52",
           "#FFA15A",
           "#B6E880",
           "#636efa",
           "#00cc96",
           "#FF6692",
           "#EF553B",
           "#FFA15A",
           "#636efa",
           "#636efa",
           "#ab63fa",
           "#00cc96",
           "#00cc96",
           "#00cc96",
           "#636efa",
           "#00cc96",
           "#ab63fa",
           "#EF553B",
           "#EF553B",
           "#ab63fa",
           "#EF553B",
           "#EF553B",
           "#00cc96",
           "#19d3f3",
           "#636efa",
           "#636efa",
           "#636efa",
           "#636efa",
           "#636efa",
           "#636efa",
           "#636efa",
           "#636efa",
           "#636efa",
           "#636efa",
           "#FF6692",
           "#636efa",
           "#636efa",
           "#636efa",
           "#636efa",
           "#636efa",
           "#636efa",
           "#636efa",
           "#19d3f3",
           "#636efa",
           "#FF97FF",
           "#FF97FF",
           "#FFA15A",
           "#FF6692",
           "#00cc96",
           "#ab63fa",
           "#FF6692",
           "#FF6692",
           "#FF6692",
           "#636efa",
           "#636efa",
           "#FF6692",
           "#FECB52",
           "#FF97FF",
           "#FF6692",
           "#636efa",
           "#ab63fa",
           "#00cc96",
           "#FF6692",
           "#636efa",
           "#00cc96",
           "#FFA15A",
           "#EF553B",
           "#FF6692",
           "#FFA15A",
           "#EF553B",
           "#00cc96",
           "#636efa",
           "#ab63fa",
           "#EF553B",
           "#FF97FF",
           "#FECB52",
           "#EF553B",
           "#636efa",
           "#636efa",
           "#FF97FF",
           "#FECB52",
           "#B6E880",
           "#EF553B",
           "#FF97FF",
           "#FECB52",
           "#00cc96",
           "#FFA15A",
           "#FF6692",
           "#FECB52",
           "#FF97FF",
           "#FF6692",
           "#EF553B",
           "#636efa",
           "#EF553B",
           "#FF6692",
           "#19d3f3",
           "#ab63fa",
           "#EF553B",
           "#FF97FF",
           "#EF553B",
           "#FF6692",
           "#EF553B",
           "#EF553B",
           "#636efa",
           "#636efa",
           "#EF553B",
           "#EF553B",
           "#00cc96",
           "#00cc96",
           "#FF97FF",
           "#FF6692",
           "#FF6692",
           "#B6E880",
           "#FF6692",
           "#00cc96",
           "#00cc96",
           "#FFA15A",
           "#FFA15A",
           "#FFA15A",
           "#B6E880",
           "#FFA15A",
           "#FFA15A",
           "#FFA15A",
           "#FFA15A",
           "#00cc96",
           "#00cc96",
           "#00cc96",
           "#00cc96",
           "#636efa",
           "#EF553B",
           "#636efa",
           "#FF6692",
           "#00cc96",
           "#FFA15A",
           "#ab63fa",
           "#FFA15A",
           "#ab63fa",
           "#EF553B",
           "#00cc96",
           "#19d3f3",
           "#636efa",
           "#FF97FF",
           "#636efa",
           "#EF553B",
           "#FF6692",
           "#FFA15A",
           "#FFA15A",
           "#636efa",
           "#B6E880",
           "#EF553B",
           "#ab63fa",
           "#FFA15A",
           "#FFA15A",
           "#19d3f3",
           "#EF553B",
           "#ab63fa",
           "#00cc96",
           "#FF6692",
           "#19d3f3",
           "#FFA15A",
           "#EF553B",
           "#EF553B",
           "#EF553B",
           "#FF6692",
           "#EF553B",
           "#FF6692",
           "#19d3f3",
           "#FFA15A",
           "#FF6692",
           "#636efa",
           "#EF553B",
           "#FFA15A",
           "#FFA15A",
           "#ab63fa",
           "#636efa",
           "#636efa",
           "#636efa",
           "#FF6692",
           "#B6E880",
           "#FF6692",
           "#636efa",
           "#FFA15A",
           "#FF6692",
           "#FFA15A",
           "#FECB52",
           "#636efa",
           "#FFA15A",
           "#FF97FF",
           "#B6E880",
           "#EF553B",
           "#FFA15A",
           "#19d3f3",
           "#FF97FF",
           "#EF553B",
           "#EF553B",
           "#FFA15A",
           "#ab63fa",
           "#ab63fa",
           "#EF553B",
           "#ab63fa",
           "#FFA15A",
           "#00cc96",
           "#FF6692",
           "#00cc96",
           "#636efa",
           "#FECB52",
           "#EF553B",
           "#EF553B",
           "#FFA15A",
           "#FFA15A",
           "#FF6692",
           "#19d3f3",
           "#00cc96",
           "#636efa",
           "#00cc96",
           "#FFA15A",
           "#00cc96",
           "#FF97FF",
           "#FF6692",
           "#636efa",
           "#ab63fa",
           "#FF6692",
           "#19d3f3",
           "#FF6692",
           "#ab63fa",
           "#00cc96",
           "#FF97FF",
           "#FF97FF",
           "#B6E880",
           "#FECB52",
           "#FFA15A",
           "#ab63fa",
           "#FF6692",
           "#FF6692",
           "#00cc96",
           "#FFA15A",
           "#ab63fa",
           "#FFA15A",
           "#EF553B",
           "#19d3f3",
           "#FF6692",
           "#636efa",
           "#636efa",
           "#636efa",
           "#636efa",
           "#FF6692",
           "#00cc96",
           "#636efa",
           "#FF6692",
           "#FF6692",
           "#00cc96",
           "#B6E880",
           "#EF553B",
           "#FECB52",
           "#636efa",
           "#FF6692",
           "#ab63fa",
           "#ab63fa",
           "#ab63fa",
           "#FF6692",
           "#ab63fa",
           "#ab63fa",
           "#EF553B",
           "#FFA15A",
           "#FFA15A",
           "#FFA15A",
           "#FF97FF",
           "#00cc96",
           "#B6E880",
           "#FFA15A",
           "#FF6692",
           "#19d3f3",
           "#636efa",
           "#19d3f3",
           "#636efa",
           "#636efa",
           "#ab63fa",
           "#19d3f3",
           "#636efa",
           "#FFA15A",
           "#EF553B",
           "#FF6692",
           "#FF6692",
           "#FF6692",
           "#FF6692",
           "#B6E880",
           "#FF6692",
           "#00cc96",
           "#ab63fa",
           "#EF553B",
           "#EF553B",
           "#EF553B",
           "#FF6692",
           "#FFA15A",
           "#ab63fa",
           "#FF6692",
           "#FF97FF",
           "#B6E880",
           "#636efa",
           "#00cc96",
           "#FECB52",
           "#B6E880",
           "#FFA15A",
           "#FF6692",
           "#EF553B",
           "#ab63fa",
           "#19d3f3",
           "#19d3f3",
           "#636efa",
           "#FECB52",
           "#ab63fa",
           "#636efa",
           "#EF553B",
           "#FFA15A",
           "#FF97FF",
           "#00cc96"
          ]
         },
         "name": "",
         "parents": [
          "Textiles",
          "Metals",
          "Metals",
          "Chemical Products",
          "Chemical Products",
          "Stone And Glass",
          "Stone And Glass",
          "Instruments",
          "Paper Goods",
          "Metals",
          "Textiles",
          "Machines",
          "Footwear and Headwear",
          "Textiles",
          "Textiles",
          "Textiles",
          "Textiles",
          "Textiles",
          "Textiles",
          "Machines",
          "Textiles",
          "Animal Products",
          "Foodstuffs",
          "Animal Products",
          "Stone And Glass",
          "Chemical Products",
          "Chemical Products",
          "Foodstuffs",
          "Chemical Products",
          "Chemical Products",
          "Foodstuffs",
          "Chemical Products",
          "Plastics and Rubbers",
          "Chemical Products",
          "Chemical Products",
          "Chemical Products",
          "Foodstuffs",
          "Transportation",
          "Transportation",
          "Machines",
          "Machines",
          "Wood Products",
          "Chemical Products",
          "Chemical Products",
          "Chemical Products",
          "Plastics and Rubbers",
          "Chemical Products",
          "Metals",
          "Metals",
          "Chemical Products",
          "Metals",
          "Metals",
          "Mineral Products",
          "Chemical Products",
          "Metals",
          "Metals",
          "Metals",
          "Metals",
          "Metals",
          "Metals",
          "Metals",
          "Chemical Products",
          "Chemical Products",
          "Chemical Products",
          "Machines",
          "Paper Goods",
          "Chemical Products",
          "Instruments",
          "Chemical Products",
          "Chemical Products",
          "Chemical Products",
          "Paper Goods",
          "Textiles",
          "Mineral Products",
          "Chemical Products",
          "Vegetable Products",
          "Metals",
          "Stone And Glass",
          "Machines",
          "Machines",
          "Machines",
          "Transportation",
          "Miscellaneous",
          "Mineral Products",
          "Metals",
          "Metals",
          "Chemical Products",
          "Metals",
          "Textiles",
          "Machines",
          "Machines",
          "Machines",
          "Machines",
          "Machines",
          "Machines",
          "Machines",
          "Machines",
          "Machines",
          "Machines",
          "Mineral Products",
          "Machines",
          "Textiles",
          "Machines",
          "Chemical Products",
          "Chemical Products",
          "Animal Hides",
          "Textiles",
          "Textiles",
          "Mineral Products",
          "Animal and Vegetable Bi-Products",
          "Footwear and Headwear",
          "Miscellaneous",
          "Instruments",
          "Stone And Glass",
          "Instruments",
          "Weapons",
          "Machines",
          "Plastics and Rubbers",
          "Chemical Products",
          "Chemical Products",
          "Instruments",
          "Machines",
          "Machines",
          "Transportation",
          "Footwear and Headwear",
          "Footwear and Headwear",
          "Textiles",
          "Textiles",
          "Textiles",
          "Machines",
          "Footwear and Headwear",
          "Animal Products",
          "Chemical Products",
          "Animal Products",
          "Textiles",
          "Textiles",
          "Animal Products",
          "Textiles",
          "Vegetable Products",
          "Machines",
          "Footwear and Headwear",
          "Plastics and Rubbers",
          "Machines",
          "Machines",
          "Machines",
          "Machines",
          "Machines",
          "Chemical Products",
          "Machines",
          "Chemical Products",
          "Miscellaneous",
          "Metals",
          "Textiles",
          "Weapons",
          "Textiles",
          "Foodstuffs",
          "Metals",
          "Metals",
          "Textiles",
          "Metals",
          "Chemical Products",
          "Textiles",
          "Chemical Products",
          "Stone And Glass",
          "Stone And Glass",
          "Stone And Glass",
          "Stone And Glass",
          "Stone And Glass",
          "Stone And Glass",
          "Stone And Glass",
          "Stone And Glass",
          "Machines",
          "Stone And Glass",
          "Stone And Glass",
          "Chemical Products",
          "Chemical Products",
          "Animal and Vegetable Bi-Products",
          "Chemical Products",
          "Mineral Products",
          "Textiles",
          "Vegetable Products",
          "Animal and Vegetable Bi-Products",
          "Foodstuffs",
          "Textiles",
          "Mineral Products",
          "Vegetable Products",
          "Mineral Products",
          "Mineral Products",
          "Precious Metals",
          "Precious Metals",
          "Chemical Products",
          "Mineral Products",
          "Machines",
          "Instruments",
          "Machines",
          "Textiles",
          "Textiles",
          "Foodstuffs",
          "Metals",
          "Metals",
          "Metals",
          "Textiles",
          "Miscellaneous",
          "Animal Products",
          "Animal and Vegetable Bi-Products",
          "Animal Products",
          "Chemical Products",
          "Chemical Products",
          "Metals",
          "Transportation",
          "Animal Products",
          "Metals",
          "Chemical Products",
          "Textiles",
          "Metals",
          "Animal Hides",
          "Wood Products",
          "Machines",
          "Foodstuffs",
          "Stone And Glass",
          "Vegetable Products",
          "Animal Products",
          "Stone And Glass",
          "Machines",
          "Machines",
          "Vegetable Products",
          "Footwear and Headwear",
          "Vegetable Products",
          "Machines",
          "Metals",
          "Textiles",
          "Metals",
          "Machines",
          "Stone And Glass",
          "Machines",
          "Instruments",
          "Vegetable Products",
          "Chemical Products",
          "Chemical Products",
          "Miscellaneous",
          "Chemical Products",
          "Animal and Vegetable Bi-Products",
          "Machines",
          "Machines",
          "Machines",
          "Chemical Products",
          "Chemical Products",
          "Precious Metals",
          "Machines",
          "Instruments",
          "Animal Products",
          "Chemical Products",
          "Machines",
          "Chemical Products",
          "Chemical Products",
          "Chemical Products",
          "Chemical Products",
          "Instruments",
          "Chemical Products",
          "Foodstuffs",
          "Instruments",
          "Chemical Products",
          "Chemical Products",
          "Instruments",
          "Chemical Products",
          "Chemical Products",
          "Vegetable Products",
          "Mineral Products",
          "Chemical Products",
          "Paper Goods",
          "Vegetable Products",
          "Animal Products",
          "Foodstuffs",
          "Animal Hides",
          "Stone And Glass",
          "Mineral Products",
          "Metals",
          "Vegetable Products",
          "Vegetable Products",
          "Vegetable Products",
          "Stone And Glass",
          "Stone And Glass",
          "Machines",
          "Machines",
          "Stone And Glass",
          "Mineral Products",
          "Paper Goods",
          "Plastics and Rubbers",
          "Miscellaneous",
          "Mineral Products",
          "Vegetable Products",
          "Instruments",
          "Chemical Products",
          "Arts and Antiques",
          "Metals",
          "Mineral Products",
          "Precious Metals",
          "Foodstuffs",
          "Vegetable Products",
          "Vegetable Products",
          "Textiles",
          "Animal and Vegetable Bi-Products",
          "Foodstuffs",
          "Foodstuffs",
          "Paper Goods",
          "Foodstuffs",
          "Instruments",
          "Foodstuffs",
          "Vegetable Products",
          "Mineral Products",
          "Mineral Products",
          "Instruments",
          "Metals",
          "Textiles",
          "Metals",
          "Chemical Products",
          "Foodstuffs",
          "Metals",
          "Machines",
          "Metals",
          "Metals",
          "Mineral Products",
          "Instruments",
          "Chemical Products",
          "Textiles",
          "Vegetable Products",
          "Metals",
          "Vegetable Products",
          "Mineral Products",
          "Chemical Products",
          "Chemical Products",
          "Chemical Products",
          "Machines",
          "Plastics and Rubbers",
          "Machines",
          "Precious Metals",
          "Plastics and Rubbers",
          "Textiles",
          "Textiles",
          "Chemical Products",
          "Chemical Products",
          "Paper Goods",
          "Chemical Products",
          "Footwear and Headwear",
          "Textiles",
          "Chemical Products",
          "Mineral Products",
          "Metals",
          "Textiles",
          "Footwear and Headwear",
          "Plastics and Rubbers",
          "Instruments",
          "Textiles",
          "Machines",
          "Transportation",
          "Animal and Vegetable Bi-Products",
          "Chemical Products",
          "Miscellaneous",
          "Vegetable Products",
          "Vegetable Products",
          "Mineral Products",
          "Paper Goods",
          "Chemical Products",
          "Vegetable Products",
          "Machines",
          "Miscellaneous",
          "Machines",
          "Chemical Products",
          "Plastics and Rubbers",
          "Stone And Glass",
          "Chemical Products",
          "Stone And Glass",
          "Instruments",
          "Foodstuffs",
          "Instruments",
          "Machines",
          "Machines",
          "Miscellaneous",
          "Foodstuffs",
          "Plastics and Rubbers",
          "Chemical Products",
          "Textiles",
          "Footwear and Headwear",
          "Paper Goods",
          "Machines",
          "Machines",
          "Chemical Products",
          "Foodstuffs",
          "Wood Products",
          "Instruments",
          "Instruments",
          "Foodstuffs",
          "Foodstuffs",
          "Vegetable Products",
          "Machines",
          "Machines",
          "Animal and Vegetable Bi-Products",
          "Metals",
          "Metals",
          "Metals",
          "Machines",
          "Machines",
          "Metals",
          "Metals",
          "Metals",
          "Instruments",
          "Plastics and Rubbers",
          "Paper Goods",
          "Chemical Products",
          "Precious Metals",
          "Chemical Products",
          "Plastics and Rubbers",
          "Textiles",
          "Plastics and Rubbers",
          "Plastics and Rubbers",
          "Plastics and Rubbers",
          "Footwear and Headwear",
          "Plastics and Rubbers",
          "Plastics and Rubbers",
          "Plastics and Rubbers",
          "Miscellaneous",
          "Textiles",
          "Textiles",
          "Plastics and Rubbers",
          "Plastics and Rubbers",
          "Metals",
          "Machines",
          "Animal Hides",
          "Textiles",
          "Textiles",
          "Textiles",
          "Chemical Products",
          "Instruments",
          "Vegetable Products",
          "Mineral Products",
          "Chemical Products",
          "Chemical Products",
          "Chemical Products",
          "Chemical Products",
          "Chemical Products",
          "Paper Goods",
          "Vegetable Products",
          "Chemical Products",
          "Metals",
          "Miscellaneous",
          "Transportation",
          "Metals",
          "Arts and Antiques",
          "Miscellaneous",
          "Animal and Vegetable Bi-Products",
          "Transportation",
          "Metals",
          "Plastics and Rubbers",
          "Metals",
          "Machines",
          "Machines",
          "Paper Goods",
          "Wood Products",
          "Chemical Products",
          "Paper Goods",
          "Animal Hides",
          "Plastics and Rubbers",
          "Metals",
          "Mineral Products",
          "Mineral Products",
          "Chemical Products",
          "Foodstuffs",
          "Foodstuffs",
          "Wood Products",
          "Plastics and Rubbers",
          "Machines",
          "Miscellaneous",
          "Chemical Products",
          "Metals",
          "Metals",
          "Metals",
          "Metals",
          "Textiles",
          "Weapons",
          "Animal Products",
          "Stone And Glass",
          "Vegetable Products",
          "Machines",
          "Machines",
          "Foodstuffs",
          "Vegetable Products",
          "Foodstuffs",
          "Machines",
          "Animal and Vegetable Bi-Products",
          "Machines",
          "Chemical Products",
          "Transportation",
          "Transportation",
          "Vegetable Products",
          "Vegetable Products",
          "Vegetable Products",
          "Paper Goods",
          "Machines",
          "Mineral Products",
          "Chemical Products",
          "Mineral Products",
          "Plastics and Rubbers",
          "Textiles",
          "Textiles",
          "Textiles",
          "Chemical Products",
          "Textiles",
          "Precious Metals",
          "Mineral Products",
          "Mineral Products",
          "Metals",
          "Miscellaneous",
          "Chemical Products",
          "Precious Metals",
          "Chemical Products",
          "Metals",
          "Animal Hides",
          "Animal Hides",
          "Animal Hides",
          "Transportation",
          "Animal Hides",
          "Stone And Glass",
          "Metals",
          "Footwear and Headwear",
          "Foodstuffs",
          "Animal Products",
          "Foodstuffs",
          "Vegetable Products",
          "Animal Products",
          "Machines",
          "Machines",
          "Stone And Glass",
          "Vegetable Products",
          "Animal Products",
          "Vegetable Products",
          "Textiles",
          "Arts and Antiques",
          "Foodstuffs",
          "Foodstuffs",
          "Chemical Products",
          "Animal Products",
          "Metals",
          "Animal Products",
          "Animal and Vegetable Bi-Products",
          "Animal Products",
          "Textiles",
          "Mineral Products",
          "Vegetable Products",
          "Wood Products",
          "Transportation",
          "Vegetable Products",
          "Machines",
          "Plastics and Rubbers",
          "Chemical Products",
          "Foodstuffs",
          "Textiles",
          "Chemical Products",
          "Textiles",
          "Chemical Products",
          "Chemical Products",
          "Plastics and Rubbers",
          "Textiles",
          "Plastics and Rubbers",
          "Chemical Products",
          "Wood Products",
          "Plastics and Rubbers",
          "Precious Metals",
          "Plastics and Rubbers",
          "Plastics and Rubbers",
          "Plastics and Rubbers",
          "Plastics and Rubbers",
          "Plastics and Rubbers",
          "Textiles",
          "Precious Metals",
          "Chemical Products",
          "Stone And Glass",
          "Paper Goods",
          "Foodstuffs",
          "Miscellaneous",
          "Metals",
          "Precious Metals",
          "Precious Metals",
          "Instruments",
          "Machines",
          "Precious Metals",
          "Chemical Products",
          "Animal Products",
          "Animal Products",
          "Vegetable Products",
          "Vegetable Products",
          "Chemical Products",
          "Mineral Products",
          "Foodstuffs",
          "Chemical Products",
          "Chemical Products",
          "Stone And Glass",
          "Foodstuffs",
          "Machines",
          "Stone And Glass",
          "Vegetable Products",
          "Chemical Products",
          "Vegetable Products",
          "Wood Products",
          "Foodstuffs",
          "Metals",
          "Foodstuffs",
          "Textiles",
          "Plastics and Rubbers",
          "Metals",
          "Metals",
          "Instruments",
          "Arts and Antiques",
          "Textiles",
          "Stone And Glass",
          "Metals",
          "Chemical Products",
          "Paper Goods",
          "Transportation",
          "Metals",
          "Mineral Products",
          "Stone And Glass",
          "Chemical Products",
          "Stone And Glass",
          "Machines",
          "Textiles",
          "Textiles",
          "Textiles",
          "Textiles",
          "Metals",
          "Instruments",
          "Metals",
          "Textiles",
          "Animal and Vegetable Bi-Products",
          "Mineral Products",
          "Animal Products",
          "Plastics and Rubbers",
          "Chemical Products",
          "Chemical Products",
          "Chemical Products",
          "Chemical Products",
          "Chemical Products",
          "Chemical Products",
          "Instruments",
          "Instruments",
          "Chemical Products",
          "Chemical Products",
          "Chemical Products",
          "Mineral Products",
          "Chemical Products",
          "Mineral Products",
          "Wood Products",
          "Metals",
          "Animal Products",
          "Metals",
          "Chemical Products",
          "Animal and Vegetable Bi-Products",
          "Vegetable Products",
          "Transportation",
          "Transportation",
          "Transportation",
          "Transportation",
          "Wood Products",
          "Chemical Products",
          "Machines",
          "Textiles",
          "Animal Hides",
          "Plastics and Rubbers",
          "Paper Goods",
          "Plastics and Rubbers",
          "Textiles",
          "Vegetable Products",
          "Animal Products",
          "Mineral Products",
          "Machines",
          "Paper Goods",
          "Textiles",
          "Miscellaneous",
          "Machines",
          "Instruments",
          "Paper Goods",
          "Plastics and Rubbers",
          "Machines",
          "Animal Products",
          "Stone And Glass",
          "Foodstuffs",
          "Metals",
          "Metals",
          "Metals",
          "Metals",
          "Metals",
          "Metals",
          "Mineral Products",
          "Metals",
          "Metals",
          "Metals",
          "Metals",
          "Metals",
          "Animal Products",
          "Vegetable Products",
          "Textiles",
          "Vegetable Products",
          "Textiles",
          "Metals",
          "Metals",
          "Paper Goods",
          "Transportation",
          "Wood Products",
          "Chemical Products",
          "Chemical Products",
          "Chemical Products",
          "Chemical Products",
          "Precious Metals",
          "Chemical Products",
          "Machines",
          "Chemical Products",
          "Paper Goods",
          "Chemical Products",
          "Paper Goods",
          "Animal Products",
          "Instruments",
          "Wood Products",
          "Vegetable Products",
          "Vegetable Products",
          "Vegetable Products",
          "Machines",
          "Chemical Products",
          "Mineral Products",
          "Animal Products",
          "Instruments",
          "Machines",
          "Chemical Products",
          "Chemical Products",
          "Chemical Products",
          "Animal Products",
          "Instruments",
          "Wood Products",
          "Foodstuffs",
          "Metals",
          "Foodstuffs",
          "Instruments",
          "Metals",
          "Textiles",
          "Textiles",
          "Stone And Glass",
          "Transportation",
          "Textiles",
          "Animal and Vegetable Bi-Products",
          "Textiles",
          "Machines",
          "Miscellaneous",
          "Wood Products",
          "Chemical Products",
          "Wood Products",
          "Chemical Products",
          "Wood Products",
          "Wood Products",
          "Wood Products",
          "Wood Products",
          "Wood Products",
          "Wood Products",
          "Wood Products",
          "Foodstuffs",
          "Textiles",
          "Metals",
          "Metals",
          "Textiles",
          "Paper Goods",
          "Animal and Vegetable Bi-Products",
          "Chemical Products",
          "Miscellaneous",
          "Vegetable Products",
          "Paper Goods",
          "Miscellaneous",
          "Miscellaneous",
          "Instruments",
          "Machines",
          "Machines",
          "Machines",
          "Machines",
          "Metals",
          "Metals",
          "Chemical Products",
          "Vegetable Products",
          "Chemical Products",
          "Mineral Products",
          "Metals",
          "Vegetable Products",
          "Machines",
          "Machines",
          "Machines",
          "Animal Products",
          "Mineral Products",
          "Vegetable Products",
          "Machines",
          "Transportation",
          "Chemical Products",
          "Machines",
          "Metals",
          "Mineral Products",
          "Chemical Products",
          "Vegetable Products",
          "Foodstuffs",
          "Machines",
          "Metals",
          "Metals",
          "Stone And Glass",
          "Metals",
          "Metals",
          "Metals",
          "Metals",
          "Metals",
          "Metals",
          "Precious Metals",
          "Metals",
          "Textiles",
          "Textiles",
          "Textiles",
          "Mineral Products",
          "Foodstuffs",
          "Paper Goods",
          "Textiles",
          "Textiles",
          "Textiles",
          "Textiles",
          "Textiles",
          "Textiles",
          "Chemical Products",
          "Textiles",
          "Metals",
          "Metals",
          "Metals",
          "Metals",
          "Mineral Products",
          "Chemical Products",
          "Metals",
          "Metals",
          "Metals",
          "Metals",
          "Metals",
          "Metals",
          "Metals",
          "Metals",
          "Metals",
          "Metals",
          "Mineral Products",
          "Textiles",
          "Animal Hides",
          "Chemical Products",
          "Plastics and Rubbers",
          "Foodstuffs",
          "Mineral Products",
          "Mineral Products",
          "Chemical Products",
          "Chemical Products",
          "Vegetable Products",
          "Instruments",
          "Mineral Products",
          "Vegetable Products",
          "Miscellaneous",
          "Miscellaneous",
          "Mineral Products",
          "Precious Metals",
          "Precious Metals",
          "Chemical Products",
          "Foodstuffs",
          "Stone And Glass",
          "Metals",
          "Metals",
          "Metals",
          "Mineral Products",
          "Foodstuffs",
          "Plastics and Rubbers",
          "Animal and Vegetable Bi-Products",
          "Foodstuffs",
          "Paper Goods",
          "Foodstuffs",
          "Textiles",
          "Transportation",
          "Metals",
          "Textiles",
          "Textiles",
          "Transportation",
          "Miscellaneous",
          "Wood Products",
          "Transportation",
          "Machines",
          "Paper Goods",
          "Paper Goods",
          "Paper Goods",
          "Paper Goods",
          "Paper Goods",
          "Animal and Vegetable Bi-Products",
          "Arts and Antiques",
          "Metals",
          "Textiles",
          "Paper Goods",
          "Chemical Products",
          "Chemical Products",
          "Chemical Products",
          "Miscellaneous",
          "Vegetable Products",
          "Metals",
          "Wood Products",
          "Textiles",
          "Plastics and Rubbers",
          "Vegetable Products",
          "Foodstuffs",
          "Foodstuffs",
          "Vegetable Products",
          "Animal and Vegetable Bi-Products",
          "Textiles",
          "Chemical Products",
          "Machines",
          "Metals",
          "Instruments",
          "Textiles",
          "Textiles",
          "Mineral Products",
          "Chemical Products",
          "Chemical Products",
          "Chemical Products",
          "Textiles",
          "Chemical Products",
          "Mineral Products",
          "Metals",
          "Metals",
          "Mineral Products",
          "Metals",
          "Metals",
          "Chemical Products",
          "Paper Goods",
          "Textiles",
          "Textiles",
          "Textiles",
          "Textiles",
          "Textiles",
          "Textiles",
          "Textiles",
          "Textiles",
          "Textiles",
          "Textiles",
          "Machines",
          "Textiles",
          "Textiles",
          "Textiles",
          "Textiles",
          "Textiles",
          "Textiles",
          "Textiles",
          "Paper Goods",
          "Textiles",
          "Animal Products",
          "Weapons",
          "Instruments",
          "Machines",
          "Chemical Products",
          "Mineral Products",
          "Machines",
          "Machines",
          "Machines",
          "Textiles",
          "Textiles",
          "Machines",
          "Precious Metals",
          "Animal Products",
          "Machines",
          "Textiles",
          "Stone And Glass",
          "Chemical Products",
          "Machines",
          "Plastics and Rubbers",
          "Wood Products",
          "Instruments",
          "Transportation",
          "Machines",
          "Instruments",
          "Transportation",
          "Chemical Products",
          "Plastics and Rubbers",
          "Mineral Products",
          "Metals",
          "Animal Products",
          "Foodstuffs",
          "Transportation",
          "Textiles",
          "Textiles",
          "Animal Products",
          "Foodstuffs",
          "Footwear and Headwear",
          "Transportation",
          "Weapons",
          "Foodstuffs",
          "Chemical Products",
          "Vegetable Products",
          "Machines",
          "Foodstuffs",
          "Animal Products",
          "Machines",
          "Metals",
          "Textiles",
          "Metals",
          "Machines",
          "Miscellaneous",
          "Stone And Glass",
          "Metals",
          "Animal Products",
          "Transportation",
          "Animal Hides",
          "Metals",
          "Metals",
          "Textiles",
          "Textiles",
          "Metals",
          "Metals",
          "Chemical Products",
          "Chemical Products",
          "Animal Products",
          "Animal Hides",
          "Machines",
          "Footwear and Headwear",
          "Machines",
          "Chemical Products",
          "Chemical Products",
          "Instruments",
          "Instruments",
          "Instruments",
          "Animal and Vegetable Bi-Products",
          "Vegetable Products",
          "Vegetable Products",
          "Vegetable Products",
          "Instruments",
          "Chemical Products",
          "Chemical Products",
          "Chemical Products",
          "Chemical Products",
          "Textiles",
          "Transportation",
          "Textiles",
          "Machines",
          "Chemical Products",
          "Vegetable Products",
          "Stone And Glass",
          "Instruments",
          "Stone And Glass",
          "Metals",
          "Chemical Products",
          "Paper Goods",
          "Textiles",
          "Animal Products",
          "Textiles",
          "Metals",
          "Machines",
          "Instruments",
          "Instruments",
          "Textiles",
          "Animal and Vegetable Bi-Products",
          "Metals",
          "Mineral Products",
          "Instruments",
          "Instruments",
          "Paper Goods",
          "Metals",
          "Mineral Products",
          "Chemical Products",
          "Machines",
          "Paper Goods",
          "Vegetable Products",
          "Metals",
          "Metals",
          "Transportation",
          "Machines",
          "Transportation",
          "Machines",
          "Miscellaneous",
          "Instruments",
          "Animal Hides",
          "Textiles",
          "Transportation",
          "Vegetable Products",
          "Instruments",
          "Mineral Products",
          "Textiles",
          "Textiles",
          "Textiles",
          "Machines",
          "Footwear and Headwear",
          "Machines",
          "Textiles",
          "Instruments",
          "Machines",
          "Vegetable Products",
          "Foodstuffs",
          "Textiles",
          "Instruments",
          "Animal Products",
          "Footwear and Headwear",
          "Metals",
          "Vegetable Products",
          "Miscellaneous",
          "Animal Products",
          "Transportation",
          "Transportation",
          "Vegetable Products",
          "Mineral Products",
          "Stone And Glass",
          "Metals",
          "Stone And Glass",
          "Instruments",
          "Wood Products",
          "Machines",
          "Chemical Products",
          "Textiles",
          "Foodstuffs",
          "Metals",
          "Transportation",
          "Vegetable Products",
          "Vegetable Products",
          "Machines",
          "Paper Goods",
          "Chemical Products",
          "Arts and Antiques",
          "Chemical Products",
          "Vegetable Products",
          "Chemical Products",
          "Weapons",
          "Machines",
          "Textiles",
          "Stone And Glass",
          "Machines",
          "Miscellaneous",
          "Machines",
          "Mineral Products",
          "Chemical Products",
          "Animal Products",
          "Animal Products",
          "Animal and Vegetable Bi-Products",
          "Foodstuffs",
          "Instruments",
          "Stone And Glass",
          "Machines",
          "Machines",
          "Chemical Products",
          "Vegetable Products",
          "Mineral Products",
          "Instruments",
          "Metals",
          "Paper Goods",
          "Machines",
          "Textiles",
          "Textiles",
          "Textiles",
          "Textiles",
          "Animal Hides",
          "Chemical Products",
          "Textiles",
          "Machines",
          "Animal Hides",
          "Chemical Products",
          "Footwear and Headwear",
          "Transportation",
          "Foodstuffs",
          "Textiles",
          "Machines",
          "Mineral Products",
          "Stone And Glass",
          "Stone And Glass",
          "Machines",
          "Stone And Glass",
          "Mineral Products",
          "Transportation",
          "Vegetable Products",
          "Vegetable Products",
          "Vegetable Products",
          "Weapons",
          "Chemical Products",
          "Footwear and Headwear",
          "Vegetable Products",
          "Machines",
          "Miscellaneous",
          "Textiles",
          "Miscellaneous",
          "Textiles",
          "Textiles",
          "Mineral Products",
          "Paper Goods",
          "Textiles",
          "Vegetable Products",
          "Metals",
          "Animal Hides",
          "Animal Hides",
          "Animal Hides",
          "Machines",
          "Footwear and Headwear",
          "Animal Hides",
          "Chemical Products",
          "Mineral Products",
          "Metals",
          "Metals",
          "Metals",
          "Machines",
          "Vegetable Products",
          "Mineral Products",
          "",
          "",
          "",
          "",
          "",
          "",
          "",
          "",
          "",
          "",
          "",
          "",
          "",
          "",
          "",
          "",
          "",
          "",
          "",
          "",
          ""
         ],
         "type": "treemap",
         "values": [
          0.000004797182669761814,
          0.00004809709054573303,
          0.0000022780348940637513,
          5.118191436581936e-7,
          0.00011990136044499582,
          0.0000018365199681250504,
          0.000024134476695733136,
          0.000014094563491274665,
          0.0010105787812595608,
          0.00023067940837354268,
          9.41384363852524e-7,
          0.00003904308008073539,
          0.0000045250615847711,
          0.000027800858641551088,
          0.00009468010205164472,
          0.00003338438465838341,
          0.000006194715667690371,
          0.000048819888228913355,
          0.000006569775526628167,
          0.000009732938233096117,
          6.002247728650961e-8,
          0.000014990957871863271,
          0.0016633672893245255,
          0.0012036793264857185,
          0.00012965338144962742,
          0.00019198992653571146,
          0.000019400978397995516,
          0.00007258909439226597,
          0.000022544770513549926,
          0.00009216231708336324,
          0.00045313148595452636,
          0.00005211536809211025,
          0.00035779096673526587,
          2.2701666751624232e-7,
          0.00007957093710798397,
          5.280271891164607e-8,
          0.003711769414578372,
          0.0013900245601852056,
          0.000041058401768997194,
          0.0018866006647442052,
          0.00019306595488524083,
          8.906518638408748e-7,
          0.0013616422994645737,
          0.0003907119899366051,
          0.000031659528205834245,
          0.0002674184873975289,
          6.936447011162122e-7,
          0.00009819211918283391,
          0.0003988252367566499,
          0.00010604609969420673,
          0.000002485993063967962,
          0.00045357631253716436,
          0.0006589035601835938,
          0.010506408598405301,
          0.00001353059355693464,
          0.00002900800779015363,
          0.0002931866823663645,
          0.0005743911908818915,
          0.000008822967793891955,
          0.0000165926519045277,
          0.00005775135352522257,
          0.0001188495297294433,
          0.00010483593017598627,
          0.000039992013634781034,
          0.00004424533211422658,
          0.000051111558132549616,
          0.0003541424503971075,
          4.899344678158479e-7,
          0.000012828224114189632,
          0.0001893183766654808,
          0.000024774080707841726,
          1.154571830408653e-7,
          0.0000013089505158508,
          1.1192706103048534e-7,
          3.196424917001904e-7,
          0.000022025610241899618,
          0.00007673207055111201,
          0.000004076656332275793,
          0.000011553073302892047,
          5.4344806591426e-7,
          0.00008197742960494803,
          0.011773291583070604,
          0.000022221212984767497,
          0.00001739727351595648,
          7.237790432283948e-8,
          5.332287441415785e-8,
          0.000013114441413298415,
          3.7635677999072513e-7,
          2.6171450723712827e-7,
          0.000035361703785631704,
          0.0003477282741875007,
          0.0002687039338200729,
          0.0005005803517776225,
          0.00005412273486888697,
          0.0003726469823989642,
          0.000017670091609320558,
          0.00016402983095632474,
          0.000027225653348356808,
          0.0010885202688372662,
          0.00006821748561614254,
          0.000025645185127898206,
          0.000010792012980946958,
          0.00468957418592012,
          0.00018086345009894606,
          0.0001085261109698958,
          0.0000052711518313539,
          0.00002727437804812876,
          0.000014921940172086657,
          0.00000791900688459348,
          0.000008317518821287856,
          0.000007489888998131309,
          0.000002146147732550214,
          7.315293602158204e-7,
          1.4036569620447953e-7,
          0.00003826474366070021,
          0.0007201091693053033,
          0.0004260312490332318,
          0.0033033079260934325,
          0.0010311401919066265,
          0.0009729426212497225,
          0.00009456432583989564,
          0.0022679913363030718,
          0.00130949932151839,
          4.716076556106827e-10,
          3.589176998431801e-7,
          9.405694535652555e-7,
          0.00007075480415739502,
          0.0004042082566980773,
          0.000009681293727103398,
          0.00018763135979188767,
          2.6458576561099333e-8,
          0.0005675606856757776,
          0.0000029519899755582176,
          0.00004890366100644455,
          7.69833611420788e-7,
          2.5730358857582837e-9,
          0.000026292262040726213,
          0.000004113736484198183,
          2.7450339719221794e-7,
          2.0166775602716812e-7,
          0.0000029103810030606246,
          0.0000019827911631347135,
          0.00025267604942165575,
          0.0011068330403115668,
          0.00004406324994672066,
          0.000007788520675233373,
          0.0006441348751610639,
          0.00006979978131626664,
          0.0014147247406669538,
          0.00001807006344912532,
          0.0000014598268209093677,
          0.00003893282445271964,
          0.000010262217263121957,
          0.0005628367513038795,
          1.1152133973852615e-8,
          0.00013809062619678009,
          0.00023115944948370076,
          0.0023662608546246794,
          0.0000040876454841921925,
          0.012830042421779762,
          0.0009304417623858964,
          0.0000037262934565972567,
          0.0004213451993204333,
          0.00009829038002496174,
          0.0000012442223651182337,
          0.00007759472417810435,
          0.000004804024448471519,
          2.1957497612697374e-8,
          0.00016540162665998903,
          0.00008907073124174425,
          2.7529750125938597e-7,
          0.0000018648441690884918,
          4.4699736493517523e-7,
          0.000035019323563065045,
          0.00011628865854703709,
          0.00018299235987814303,
          0.0009919635220220326,
          0.000581878624746051,
          0.000007120623671491494,
          0.00000193055021216578,
          0.001150847419914975,
          0.0005257210831637781,
          0.00001140661138419813,
          6.501076855559761e-7,
          0.0000028538539707509947,
          0.0005854397445566773,
          0.000039054981238632864,
          0.0005366316534545608,
          1.0316764236818693e-7,
          0.018603938441398623,
          0.000052254859927070515,
          0.00010634534515480175,
          0.00005840930515575642,
          0.00021513716542619397,
          0.0019784483883119462,
          0.0000065710620445710455,
          5.687380264463829e-8,
          0.00008611129263939007,
          0.000011232952268129546,
          0.00003294580340947888,
          0.0004986170976551621,
          5.41724617349271e-8,
          0.0000031053144791819412,
          0.00008261050739935177,
          0.000005044887655464625,
          0.000052755263391300245,
          0.000010616144937844373,
          9.244897131309413e-8,
          8.693497621613423e-7,
          0.00009647965630205792,
          0.0000034654146658674977,
          0.00009078349928041505,
          0.000007494088386888254,
          0.0000027634370736010467,
          0.00019104137096133096,
          0.000025853822967659035,
          0.0007285284270751791,
          0.000005485268642407851,
          0.007198836794675721,
          0.00014935547093262032,
          0.0000030798788751091144,
          0.02459980067868209,
          0.000321532268656366,
          0.0000483780091941229,
          0.00026959721420305314,
          4.5426913886028994e-10,
          0.0005042053605547707,
          0.00004392709751008652,
          0.000003362756775891772,
          0.0007353657463183759,
          0.00008668806533449859,
          7.636888410844488e-7,
          0.0004349992500520375,
          0.0000060820361150329184,
          0.0015465459048503325,
          0.0000122948740004308,
          0.00013956167797343365,
          0.000706138576208794,
          7.581058386908224e-7,
          0.000007611112971843355,
          0.000054938269342758446,
          0.00011189552573621972,
          0.00013904472662881734,
          0.00016146643181817635,
          0.0003106593090761182,
          0.0006473620482036709,
          2.3053291871322195e-7,
          0.00006446732742509004,
          0.00013343458598877317,
          9.667956940018995e-9,
          0.0000067090211546505695,
          0.000026267405543112852,
          0.00026955359743031584,
          0.000002675457971906204,
          0.0000012067330242005346,
          0.0015389651967014626,
          0.00021493926359600498,
          0.00005418438716674802,
          0.000009388054328710705,
          0.000046774605583706875,
          1.6100546654414704e-8,
          1.6835006223961343e-7,
          0.00006883571123709789,
          0.0001274047006644221,
          0.000001692045043450728,
          0.00006581675990984967,
          0.0004786139629735355,
          0.000018388027572404074,
          0.0000015832077061051623,
          0.00014048384432532006,
          1.7613158855718967e-7,
          0.00008110426190139825,
          0.00044812792985529133,
          0.00002426130794576226,
          0.000030896879675754816,
          4.7236361494099983e-7,
          9.864402334800946e-7,
          0.00003406745633198524,
          0.00013733103964875878,
          0.000006996212878400726,
          2.837621651369277e-8,
          0.000009233262986569899,
          0.001085977197376156,
          2.771180455181772e-7,
          0.0000790008501449344,
          0.00013485748523670756,
          0.00104226008317473,
          0.00031499705226132474,
          5.764987465438587e-7,
          0.00002732645254933689,
          0.0000017748537994506035,
          2.8990000006656674e-9,
          0.0007263260505328074,
          0.000058410785865086904,
          0.0005010970915923345,
          0.0000037559735295705793,
          1.5524907898301666e-8,
          0.001994293812563192,
          0.020935527786573954,
          0.0004872450558056609,
          0.00016622551483123083,
          0.000025363992530943688,
          2.3441674646530994e-9,
          0.00022719516407848425,
          0.0000011044045660430666,
          0.00046879263644974923,
          0.0000014169660075023966,
          0.00009935349811491877,
          0.000029528659174244474,
          0.00008758559712178601,
          0.0003148601646715804,
          1.8344150721915527e-8,
          0.00006835127307909193,
          0.0000013908715397930557,
          0.000004021682831066998,
          0.000009769574518989697,
          0.000007852967941994582,
          0.0019220570819114377,
          0.000016006013593388214,
          0.000014836998778526483,
          0.0005197020933633529,
          0.00027813842069664114,
          6.790456700123815e-8,
          0.00002101749339477818,
          0.0000030368446765346397,
          0.000053654359112798565,
          0.00008099267814299942,
          0.0003145469200925611,
          6.112035216714447e-7,
          0.000030422234312009466,
          0.00006639833190639469,
          0.00000437759403210566,
          0.00005310499167726572,
          0.0004928362211729735,
          0.00009432152418672985,
          0.00026507967406684833,
          0.0003321843043238837,
          0.000023023320511267466,
          1.5639342108854258e-9,
          0.000021675725909283392,
          1.4234922252072445e-8,
          0.0018905492657271695,
          0.00036052735225503295,
          2.725233385793231e-7,
          0.00011928294063265286,
          0.0004030790303114544,
          0.000005580030571855447,
          0.00001399280720416996,
          0.0000014131584692240105,
          0.0000015265801103983797,
          0.000012325178260007136,
          0.00019083029532611503,
          0.0000011936181701305375,
          2.5913453594466986e-7,
          0.000799670167975486,
          0.00042311175837347057,
          0.000018802851585657216,
          0.00003709038164727266,
          0.000369629497910233,
          4.131075000948576e-7,
          0.0000064806832921579475,
          0.00003654274459571151,
          0.00003985360719096935,
          8.621404068965289e-7,
          0.0019031749343532743,
          0.000019782439637317556,
          0.0001797813359300373,
          0.0005155267982092841,
          0.0002922402594295443,
          5.6620660300082556e-8,
          0.00014557746361596333,
          0.001732891142017523,
          2.753287105895367e-7,
          0.0000010774605110129563,
          0.0000016692691678474117,
          0.00010278784215876956,
          0.00004042954763727385,
          0.00001721241025036379,
          0.000003162545455271637,
          0.0002824008731067108,
          0.000020415867669759653,
          0.000014736723200752262,
          7.223226078213618e-9,
          5.705828446286247e-7,
          0.00030247039696897467,
          0.000010361019066972395,
          0.000006696048476417927,
          0.000010008766292968066,
          0.0001518384332238603,
          1.7983509573507357e-8,
          7.957685647760255e-8,
          0.000012917188043635896,
          0.00003351264806989612,
          0.00019331863949295435,
          0.00009180034086916529,
          0.00009857178068411726,
          0.0001047343507417524,
          0.00012381780888249798,
          0.0030965653214538548,
          0.00003040600199262775,
          0.0006360435962417418,
          0.00003178704952883003,
          0.0000063306635098268506,
          0.000022831865141606282,
          0.00010208845840860898,
          0.000001246035973970325,
          0.0006919948822964554,
          0.023724380143506196,
          0.00010463145704794888,
          0.000005630603557512993,
          0.000004915133131511386,
          0.0006126204148571768,
          0.00003536606962414945,
          0.00001632184854681002,
          0.000022442993420225123,
          0.00014179396345719982,
          0.0013507381132156584,
          0.00001201100086878667,
          0.00013663119469405264,
          0.00009414934924769509,
          8.303727765064594e-7,
          0.00003422377346360007,
          0.0000030206019540428718,
          0.0000034943283764004524,
          0.003828588545045387,
          0.00001350014018611425,
          0.00017529620841704572,
          0.000007739050419241153,
          0.00010522721195119573,
          0.0000020420368748708056,
          0.0000021198660088599686,
          0.00025620219050858983,
          0.000011928081146279591,
          4.986071938943943e-7,
          0.000011615543978743711,
          8.527082537843153e-9,
          1.5015155505840118e-8,
          0.000005849322010912497,
          0.000005126132477253616,
          0.0000017795247958631593,
          0.00007996052664395859,
          3.70524102955893e-8,
          0.000035107912980549507,
          0.0000018271953138166892,
          0.000055781632136014296,
          0.00009896898529664866,
          4.3426049053033675e-7,
          0.00016671761661364047,
          0.0005575808330933425,
          0.00003449532584524138,
          0.000018247453813998587,
          0.0000073463226117347065,
          0.00021366861039595245,
          0.012645023868963354,
          0.00007471150916308825,
          0.000026562434276434184,
          0.00011991100759571573,
          0.002510945911718907,
          0.00026126507554444136,
          0.00015780007414628187,
          7.282177035164954e-11,
          0.000011757855056527586,
          0.000011134850940355823,
          0.000051651014871907936,
          0.000012111005965699585,
          0.00034060792793227723,
          0.00009593405479236327,
          0.0006463009795263938,
          0.003500940163153167,
          0.000004848702338433931,
          0.000023353872397707004,
          0.00001497012737783935,
          0.00024001216670463304,
          0.000010673916875656683,
          0.00013144376015697631,
          0.00042206736588160397,
          0.0009174273850204679,
          0.0000011340915744230892,
          0.000005502901913943,
          0.000007929146449189108,
          2.7888310652336716e-7,
          0.000009243718112170386,
          9.32604138970125e-8,
          7.046546592527116e-7,
          0.0000308562243216785,
          0.0002714576821305138,
          0.026011340167372235,
          0.000004920095415005349,
          0.0071494046903557585,
          0.001725600833218002,
          0.0004440815777825919,
          0.0000032608062973994625,
          0.00018049714272326387,
          4.1500433382735054e-7,
          0.0002192269262094297,
          0.13524828021225302,
          7.900121772148951e-8,
          0.0006887790243698796,
          0.00003527885341719163,
          0.00006956422369539915,
          0.000002262489179945349,
          0.0001121727200712116,
          8.672379308211444e-8,
          0.000002254537736163619,
          3.300560048604763e-8,
          0.00003576061450821134,
          0.000008180256719581697,
          1.0102113399448832e-7,
          1.983873086579938e-8,
          0.000008267524942089774,
          0.00009358864935761419,
          8.842851604901305e-7,
          0.00032864920615919635,
          0.00004171710589115801,
          0.000022135869337618715,
          0.000005035954851634823,
          0.004887204765417653,
          0.0001455849538551995,
          0.000005239644278715087,
          9.056947609735156e-8,
          0.000017177806038633356,
          0.0001346149297904796,
          4.1661334818178697e-7,
          0.00000993337842213736,
          0.00006790013527635675,
          0.000027920442391578547,
          0.0000023951808486361047,
          0.000021990083621078064,
          0.00003018843828444382,
          0.000034157110334398165,
          0.000011441690671287524,
          0.000017868239646447396,
          0.0000024632345268813963,
          0.0012628341566524118,
          0.000005576354806304364,
          0.000005696295729776881,
          0.0000037582240690447803,
          9.903518028589833e-7,
          0.00041468781573636876,
          0.00007576896102577125,
          2.8776389480291833e-7,
          0.00586129427406716,
          0.008621496885513157,
          0.000017967963859388956,
          0.000015000924051291397,
          0.000008840985980498963,
          3.266021723237981e-7,
          8.504715851235147e-7,
          3.285232799797416e-7,
          0.009048416754336068,
          0.000010192391588464774,
          0.000058899069706108114,
          0.0017510504745539895,
          4.047433996144681e-7,
          0.000008754903712536614,
          1.6231972611382683e-7,
          0.0001392482981539837,
          4.1613480511947614e-7,
          0.000019301035719742902,
          0.00017903954216790525,
          0.00011454314151792814,
          0.00002464452731068279,
          0.0012559826579702164,
          0.000015617859686600522,
          0.004220799619672528,
          0.000009435735249774286,
          3.5120205988925534e-7,
          0.00003851907195980167,
          0.0007208467567432717,
          0.0006921584399926652,
          0.00019661657102241974,
          0.000012934217934788133,
          0.00004397561761536082,
          0.0000256227976350701,
          0.0000040249598107328225,
          0.000006985504610455683,
          2.2640288402327842e-7,
          0.00010126353339406548,
          0.00010162852997788136,
          0.00009395804992468466,
          0.0006221027213629427,
          3.526619629996384e-7,
          0.00001925805353671868,
          0.0000013318269548512682,
          0.0012292018103982776,
          0.0005250142403837115,
          0.026565148999211124,
          0.00031490726301848114,
          0.000007235304088981942,
          0.0000034350861323677106,
          0.00002998666649731615,
          0.00010619619923371488,
          0.000008167440087999807,
          0.0000014079950589357435,
          0.00007175441819590207,
          0.000028700925319987424,
          0.00012592770177652314,
          0.000039949485720895674,
          0.000009046329502077215,
          0.0000020688283509535123,
          0.000615528285243012,
          0.0013424462380606443,
          0.0008016572452199614,
          0.0037179865905606607,
          0.0010676038451243293,
          0.03466966820636873,
          0.00005902546749321848,
          0.001209664305051686,
          0.000011461175696411615,
          0.000514953881600301,
          0.0001396761711349432,
          2.521020335507105e-7,
          9.372508614592303e-8,
          0.000004846493411399932,
          0.00014709260377300979,
          0.00018669433086344284,
          0.00011150755561770958,
          0.00010517367754687721,
          0.0009522768361995227,
          0.024881971584105732,
          0.00011328264175328465,
          0.00006813436823454451,
          0.00006072885539432731,
          0.0006636089666164925,
          0.0000024019185962453075,
          0.000007061696988463609,
          0.000014123092286735762,
          1.7487974764781132e-7,
          0.000026940878613841658,
          3.033546890648715e-8,
          0.0010180763893653493,
          0.011836049561612527,
          0.0000015372051534630202,
          0.000001941938149967438,
          0.0003155421370832202,
          9.278429822704672e-7,
          3.1074783260723895e-7,
          0.00014702856916294724,
          0.00000577172521304779,
          0.000015675378482068275,
          0.0001336126594912064,
          0.0000010168658626736838,
          2.661496998218787e-7,
          0.000003005902359541889,
          0.0000019147999035497236,
          0.0000012997125541261908,
          0.00007388800590691829,
          0.0003251212757373337,
          0.00018094014529393976,
          0.000008745436882390899,
          1.887852380816263e-7,
          0.000027292593893826724,
          0.00002608458128709001,
          0.0019874516350676017,
          2.667357416880421e-7,
          0.000004260038888537997,
          0.000027259671518221083,
          0.000001936008377238804,
          7.843251437207663e-7,
          5.501095240497609e-7,
          0.000026709964247759927,
          0.0000016007404142431595,
          0.000001767328883180933,
          0.00006103156162286572,
          0.000001950094188246823,
          2.6154805747632453e-7,
          0.00009936491726205058,
          0.000009862030425709491,
          0.0000047463877510898636,
          0.0000022201936021844412,
          5.377228876832804e-7,
          0.0004272890058445254,
          0.1065442902435436,
          0.00014374829517894045,
          0.000031524433418721884,
          0.000027821273011173,
          0.0000016201942300371003,
          0.0009921830623211261,
          0.0001151063520252345,
          1.914519019578367e-7,
          0.00019370453592486113,
          0.0001617028875742115,
          0.00014566565424756252,
          0.000022232750033813208,
          0.0005975151926922251,
          0.0000051776937583659335,
          0.000001328764972793149,
          0.00021040009886170912,
          0.000006751465843655532,
          0.000004865139252313304,
          0.000011631003000278361,
          0.011404506581892623,
          0.000015907288079011477,
          0.00022328894189816147,
          0.0004189947137002764,
          0.000008804450258002536,
          0.0010287454757302392,
          2.3060227278022355e-9,
          0.015390064207588884,
          0.000002688860645354257,
          0.000002667967732670034,
          0.000003548573659905731,
          0.00004675084141264879,
          0.00012548428308144523,
          0.000016544950177244024,
          0.005718835638570334,
          0.000021308475318289973,
          0.00027659240410896557,
          0.00008188501877837178,
          1.5829372252438563e-7,
          0.0001479247589490382,
          0.00019846892452404127,
          3.0027883619335184e-7,
          0.0000026654709862579776,
          3.7890900965638293e-7,
          0.001178085588204722,
          0.0000016019020948654358,
          0.00007071984970762623,
          0.0016190394501444905,
          0.000009903656736723834,
          8.561759571343938e-8,
          0.000010081147664994255,
          0.0007407510202669809,
          0.0000027866498798264724,
          0.000006041737934401655,
          0.00021652852244445604,
          0.00003393654012740972,
          0.0002420187324419359,
          4.855998386282496e-7,
          0.000011152224134139717,
          0.000708886412085023,
          0.000051855047601619855,
          0.00003862005841676266,
          0.00001552147140428174,
          3.287209390706961e-7,
          5.475156819439022e-8,
          0.000044527121156157314,
          0.000001405886695298896,
          0.0004636789599629291,
          0.00004688916463158007,
          0.000028316558145258017,
          0.000018246462050840464,
          0.000010243897386323491,
          0.00018219126838872463,
          4.843479977188713e-7,
          1.1343897969111958e-7,
          0.000009723610111084405,
          0.00005833179505047546,
          0.00011557428044759076,
          0.000008553287972059697,
          0.0000872494795714696,
          0.0000011180361079122254,
          0.000009629881557235133,
          2.189022416770585e-7,
          0.000006839597524297778,
          0.000020032995075174133,
          0.00011525526907790027,
          0.0009448101738784302,
          0.0001502028666648723,
          0.000021565855196339503,
          0.0019650758492060047,
          0.000002817134459977013,
          0.0000026421749551521498,
          0.0004040693994528301,
          0.000005414863861291206,
          3.8491507185871896e-9,
          2.675229103485098e-7,
          0.00025240974714288645,
          0.00002375655598153153,
          0.00012205184627443698,
          0.0003403962766583052,
          0.000021304095608958824,
          0.000024287527250792203,
          0.000007703787343874204,
          0.0006335675658894987,
          0.00003125571761842094,
          0.000042181507659207235,
          0.00004442602026498577,
          0.00012390187294711058,
          0.00013352085898041976,
          0.0000019144115207745148,
          0.000018174656317570386,
          0.0010695937034668915,
          0.000039699200763900405,
          0.0000966331160461123,
          3.5544999649310156e-7,
          2.579277751788425e-8,
          0.0011313402431018832,
          0.000020634135321723647,
          0.0014207732822353284,
          0.000025636730867130715,
          0.0011421607606043678,
          0.000009286499168400305,
          0.00000833530813947376,
          0.00012700532873729687,
          0.00009255528763010418,
          0.0009705813059920033,
          0.00002238462156973325,
          0.0003319751775379505,
          5.359335527546398e-7,
          0.000026394656385247335,
          0.000648032591065069,
          0.0005962196483175257,
          0.00002408296743017107,
          0.0004274865262273459,
          0.00011735211993962577,
          5.407189833777482e-8,
          0.00022351742887189815,
          0.0000356861802558019,
          0.00047527554600745793,
          0.00020041364377209545,
          0.00014815218480554974,
          0.00008899890470225407,
          0.00006943680293580051,
          3.475471005582725e-7,
          0.000002492467266122559,
          8.316211497124877e-7,
          0.000468022837515362,
          0.00007092935100552122,
          0.0015847463468878123,
          0.00003652862063996664,
          0.000016401612659268523,
          0.0000017318889549431302,
          0.000004787018831242734,
          0.000009242858121739566,
          0.000025185464759371593,
          0.0001907657995115069,
          0.000013349732021007945,
          0.00005619444834902775,
          0.00017800662083872071,
          0.000003001508779397339,
          0.000038251507437012965,
          0.16023607924695363,
          0.00009445742694872278,
          0.000238811401597898,
          0.0010255793966852539,
          0.00032227905937902554,
          0.000050301062231645806,
          0.0000024353333857266646,
          0.000038000001848438464,
          0.0002793052890031292,
          6.393474020606823e-7,
          0.00000330306026272017,
          0.00019806818632179613,
          5.470752836184422e-7,
          0.000017718857921532713,
          0.00005946376439044831,
          0.00000517491266027917,
          0.000037738745078043544,
          0.0000622626517953972,
          0.00013394512208219183,
          0.0013541581737894102,
          0.0012493442600619935,
          0.00011058387387945921,
          0.000035497904770112735,
          0.0000021269262528807286,
          0.000022322171700101684,
          0.0011123910787087762,
          0.000020997411924677876,
          0.00026659761959590505,
          0.0000021727554203553666,
          1.173505490700082e-7,
          0.00010736896263589804,
          0.0006315861756785174,
          0.00007884427640327166,
          0.00014284014528399507,
          0.0005135041943439872,
          0.00013342663454499144,
          0.0003307911614383963,
          6.743365288629748e-7,
          0.00012819734829618302,
          0.0004705373038915374,
          0.0003527208654087428,
          0.00047233938956539617,
          0.000049492692032895595,
          0.003913131003609058,
          0.0000017442201080560095,
          2.403569223039945e-7,
          0.0000010555862382806607,
          4.28885550337715e-7,
          1.210020406976409e-7,
          0.00022079888815357057,
          0.0000014632875888527459,
          0.0005217178866592703,
          0.0000018385034944412953,
          0.00007184064610740512,
          0.0000060560075336872286,
          3.9687864841648995e-8,
          0.000028943865681287227,
          0.000014316656020033797,
          0.0005583403052071532,
          0.00006435131194180982,
          0.00042164860602504845,
          0.00010368474975945399,
          0.00004677874602150687,
          0.00022226481813237607,
          0.003065349600325874,
          0.0008681178605462268,
          0.000043478127021945153,
          0.00004635779457643413,
          0.000037489874944015107,
          0.000008574829345270384,
          0.00017902017851239842,
          0.0000414164213336727,
          0.00003782973761394961,
          0.000026988011637775924,
          0.0002696815244746036,
          0.0000010148649978406884,
          0.000056766893350355366,
          0.000040280172847765866,
          0.000026850309137744305,
          0.00012916039193516015,
          0.00030171356030971,
          0.000009217502274843792,
          0.0001338832686575365,
          0.0000014757019668460271,
          0.000018541782071243203,
          0.00092052720318984,
          0.00013691255374076794,
          0.0004113179675071261,
          0.000001448237756313405,
          3.932895754491587e-7,
          0.0005793261835504887,
          0.00008947512787102371,
          3.049983804528087e-7,
          7.182757980118202e-7,
          0.0008186912317298536,
          0.000018915697588075474,
          0.0001433118118905627,
          0.0000026252594982104664,
          0.00006820872966518359,
          0.0000045945058120597736,
          0.00002289183560334254,
          0.00008110391513106324,
          0.00004310998523119076,
          0.000006263511434452581,
          5.779586496542417e-7,
          1.1869948567318875e-8,
          0.000003074216115538436,
          0.000004910153509500673,
          0.000007989453278150324,
          0.000005109178875575082,
          0.000005834036374545351,
          0.00006390000075390714,
          0.000017643053926299997,
          0.000005145565486827456,
          0.0000014988835637413022,
          6.040392465501825e-8,
          0.0004216102324197765,
          0.0000023021007553132966,
          7.696914355834348e-8,
          0.00006126132817913858,
          0.0000060860759894357604,
          0.0000011277040648522445,
          0.00017744690230868789,
          0.000014985374869469645,
          0.000014631648321541532,
          0.00011814172292784536,
          0.00005921239751000781,
          0.00014938314667305727,
          3.491734534294594e-7,
          1.4883382778537134e-8,
          0.0002474115971931742,
          0.0000024556021118078737,
          5.193267214111137e-7,
          0.0000029990952578656845,
          0.000013416415956429955,
          0.00012753948335823294,
          0.0005970589885748955,
          0.00004612331887901187,
          0.00002987417073293625,
          8.197303949250683e-8,
          0.000013001945648918515,
          0.0004880207741096668,
          0.0005873482748525701,
          0.000001810994203765122,
          0.006767329459478553,
          8.464663877541739e-9,
          0.0000991849573289949,
          0.00000874366835368236,
          0.00004632882191494423,
          0.000005790828790803372,
          0.000007641198766108636,
          0.0008882278871836197,
          0.000013472180094002568,
          0.00006562025556411077,
          0.0004417105945679326,
          0.000011704188879481769,
          0.00004439972120277878,
          0.000017314627742014054,
          0.000762608973987311,
          0.000023669676141798658,
          0.0000012539700792353044,
          0.00002108761035651677,
          0.0002449302924641355,
          0.0014973192862277852,
          0.000027065566823200433,
          0.00006375673258999865,
          0.000020155893949604265,
          0.000002409342949117826,
          0.000007055777618845026,
          0.00020966803200747405,
          0.0029977912835041413,
          0.000020751038537061497,
          0.000060571900205296055,
          0.00018354529904812645,
          0.000007550722918001736,
          0.00002726030957563749,
          0.000007401861348589565,
          0.00012589419335905133,
          0.000008327575161003084,
          0.0000036718470462976736,
          0.0005223073927610803,
          0.000031279842430627444,
          0.00001607606466876315,
          0.0001090030588886656,
          0.0006947329392492372,
          0.000005772002629315797,
          0.00048009322280401874,
          0.00001376676149359174,
          0.0000687036402873068,
          0.00015438203524358312,
          8.752483255598258e-9,
          4.6219630871856955e-7,
          0.00007191827411459997,
          0.0000013166973651348755,
          5.309053828970259e-9,
          0.000007881947538891189,
          0.0000020641504191342563,
          9.735577155345528e-8,
          0.000004851812868338952,
          0.00001391772449123406,
          7.490655360571676e-7,
          0.000030197610359804777,
          0.00040551896187182324,
          0.00040035880428929865,
          2.9487268667057936e-7,
          0.00004361526428633071,
          2.220717225390303e-8,
          0.000027790146905902695,
          0.000009559650161285992,
          0.000002317805983785802,
          5.082439415042625e-7,
          0.0000037783991671355373,
          0.000079301180996678,
          0.000032846682576920235,
          0.000017167912680975582,
          0.0000022004797086392448,
          0.000002161943121309822,
          0.000002805219431266143,
          0.00011527032931354967,
          0.00033635132553775916,
          0.0000491352966548231,
          0.0006278163902865034,
          4.4493061373852845e-7,
          0.000029277330438540826,
          0.00003444834540025451,
          0.00003726929433391661,
          0.000001453973337654435,
          7.946762382207507e-7,
          0.000165684983103834,
          0.00001156074039499907,
          0.00003269712053143135,
          4.989123517892013e-7,
          0.000005128043181799509,
          0.00027577115485997317,
          0.0011081087355522903,
          0.000008952954653969649,
          0.0000021515781559964368,
          0.005212196525902564,
          0.000008980890472157883,
          0.000604453172428268,
          0.0016575839160959248,
          9.973808375495923e-8,
          0.0005516028558204387,
          0.00006088885869460329,
          0.000009715887535723781,
          1.9543976081042705e-8,
          0.000003315596010330704,
          0.00004633504991016097,
          0.000052924705780095144,
          0.0000075506743701548355,
          1.016037081573015e-9,
          0.0000033717381275684758,
          0.000021853282723917464,
          0.0005641293862754682,
          0.00005074951256428466,
          0.000010167292351616907,
          0.000009762233390997581,
          0.00023583583123955922,
          0.0000042548165272927785,
          0.000016098746916376012,
          0.0001553609609639036,
          0.000004306644821563053,
          0.0000156390612248829,
          6.779360049403564e-9,
          1.9543976081042705e-8,
          0.000019597777498519172,
          0.000005559900553908241,
          0.000008895272876444443,
          0.0006252266261997844,
          0.000009256579823895827,
          0.000002946001251872632,
          6.740591125949686e-7,
          0.0001710296814555397,
          0.00002839473751728554,
          0.0035326289345013525,
          0.0000055824440933871016,
          0.000001586373719263784,
          0.00007485587658895872,
          0.0003329245722965417,
          0.000003541669462535725,
          0.00046389631560891204,
          0.0000031416352040706632,
          0.000044695811053325234,
          6.755432896288022e-8,
          0.0000062221243949693905,
          0.00005992886316687089,
          0.0000748664080040329,
          0.00016988620280814797,
          0.000015944142830216108,
          0.00023691035460583467,
          0.00026636887947982383,
          0.0001619356294199587,
          2.721800359476653e-8,
          0.00003890757610462772,
          0.0000016250108699903592,
          1.2920662682392675e-8,
          0.000024344515487647396,
          0.0001236395932042274,
          0.0000026938090580348194,
          0.0000017302140542250424,
          2.5328105268973724e-7,
          0.0004604769728497537,
          0.0036950844420075546,
          0.00012408908038016793,
          0.00006289053497018252,
          0.00000844181171246472,
          0.000025606697088415686,
          0.000049580168317604676,
          0.0007406598127334672,
          0.0000015930663867294356,
          0.00014178282519403937,
          1.258498899810507e-7,
          2.968978254270252e-7,
          1.450401603203854e-7,
          4.64776280011028e-8,
          0.00031107004466712155,
          0.0000029772903392003907,
          0.00003146166105267876,
          0.0000968911582555017,
          3.3339887088995204e-7,
          8.485470097642211e-8,
          0.00009202282524840297,
          2.4618266393212643e-7,
          0.000006093975417667238,
          0.00003476717991707413,
          0.000011998510201319687,
          4.1800736492851856e-7,
          2.2541458856850599e-7,
          0.0005578447149151734,
          0.000010475463680635038,
          0.000040547210279645364,
          0.000024947184991374297,
          0.000012672482621330903,
          2.406170000552504e-7,
          4.800237716413234e-7,
          0.0000236428811980126,
          0.00021461036580406345,
          0.0000011052680241772362,
          2.481488517316209e-7,
          0.00008304004834562265,
          0.0010457540231683553,
          0.00010226936849238257,
          0.000036774921205812665,
          0.000013456738410984669,
          0.0000012873363208697603,
          0.0005156100300250928,
          0.00004973112091213695,
          0.00001711878225991167,
          0.000022367376680973307,
          0.0002718594051605104,
          0.000002265301487362263,
          1.9809602157658724e-7,
          0.000001441298881909898,
          0.00007618544606892908,
          9.970479380279849e-7,
          5.559075240510922e-8,
          0.00002374784511071613,
          8.558326545027361e-7,
          0.00001072102215796415,
          0.000013102089453965434,
          0.001223662858240307,
          0.00000606181593679861,
          0.00000871634978669044,
          0.00008765667463735258,
          0.0003582875626612172,
          0.0001180193546120278,
          0.0000765657352245188,
          0.008060749411606886,
          0.0000683304564558814,
          8.448435025863372e-7,
          0.005348217609401501,
          0.07194726970454443,
          0.010276675290472166,
          0.0006667314774365874,
          0.04058183907045714,
          0.09198458353376023,
          0.0037427747085316634,
          0.0032697986867759295,
          0.052030718724252294,
          0.06147367678398039,
          0.31184529284764884,
          0.004541702895489037,
          0.03276537080071496,
          0.018535640439178394,
          0.02125609380396574,
          0.007722277620147588,
          0.015753128261133974,
          0.04432028098768399,
          0.18381625057040518,
          0.00215944045899585,
          0.015962235725024095
         ]
        }
       ],
       "layout": {
        "autosize": false,
        "height": 800,
        "legend": {
         "title": {
          "text": "Section"
         },
         "tracegroupgap": 0,
         "traceorder": "reversed"
        },
        "margin": {
         "b": 0,
         "l": 0,
         "r": 0,
         "t": 0
        },
        "template": {
         "data": {
          "bar": [
           {
            "error_x": {
             "color": "#2a3f5f"
            },
            "error_y": {
             "color": "#2a3f5f"
            },
            "marker": {
             "line": {
              "color": "#E5ECF6",
              "width": 0.5
             },
             "pattern": {
              "fillmode": "overlay",
              "size": 10,
              "solidity": 0.2
             }
            },
            "type": "bar"
           }
          ],
          "barpolar": [
           {
            "marker": {
             "line": {
              "color": "#E5ECF6",
              "width": 0.5
             },
             "pattern": {
              "fillmode": "overlay",
              "size": 10,
              "solidity": 0.2
             }
            },
            "type": "barpolar"
           }
          ],
          "carpet": [
           {
            "aaxis": {
             "endlinecolor": "#2a3f5f",
             "gridcolor": "white",
             "linecolor": "white",
             "minorgridcolor": "white",
             "startlinecolor": "#2a3f5f"
            },
            "baxis": {
             "endlinecolor": "#2a3f5f",
             "gridcolor": "white",
             "linecolor": "white",
             "minorgridcolor": "white",
             "startlinecolor": "#2a3f5f"
            },
            "type": "carpet"
           }
          ],
          "choropleth": [
           {
            "colorbar": {
             "outlinewidth": 0,
             "ticks": ""
            },
            "type": "choropleth"
           }
          ],
          "contour": [
           {
            "colorbar": {
             "outlinewidth": 0,
             "ticks": ""
            },
            "colorscale": [
             [
              0,
              "#0d0887"
             ],
             [
              0.1111111111111111,
              "#46039f"
             ],
             [
              0.2222222222222222,
              "#7201a8"
             ],
             [
              0.3333333333333333,
              "#9c179e"
             ],
             [
              0.4444444444444444,
              "#bd3786"
             ],
             [
              0.5555555555555556,
              "#d8576b"
             ],
             [
              0.6666666666666666,
              "#ed7953"
             ],
             [
              0.7777777777777778,
              "#fb9f3a"
             ],
             [
              0.8888888888888888,
              "#fdca26"
             ],
             [
              1,
              "#f0f921"
             ]
            ],
            "type": "contour"
           }
          ],
          "contourcarpet": [
           {
            "colorbar": {
             "outlinewidth": 0,
             "ticks": ""
            },
            "type": "contourcarpet"
           }
          ],
          "heatmap": [
           {
            "colorbar": {
             "outlinewidth": 0,
             "ticks": ""
            },
            "colorscale": [
             [
              0,
              "#0d0887"
             ],
             [
              0.1111111111111111,
              "#46039f"
             ],
             [
              0.2222222222222222,
              "#7201a8"
             ],
             [
              0.3333333333333333,
              "#9c179e"
             ],
             [
              0.4444444444444444,
              "#bd3786"
             ],
             [
              0.5555555555555556,
              "#d8576b"
             ],
             [
              0.6666666666666666,
              "#ed7953"
             ],
             [
              0.7777777777777778,
              "#fb9f3a"
             ],
             [
              0.8888888888888888,
              "#fdca26"
             ],
             [
              1,
              "#f0f921"
             ]
            ],
            "type": "heatmap"
           }
          ],
          "heatmapgl": [
           {
            "colorbar": {
             "outlinewidth": 0,
             "ticks": ""
            },
            "colorscale": [
             [
              0,
              "#0d0887"
             ],
             [
              0.1111111111111111,
              "#46039f"
             ],
             [
              0.2222222222222222,
              "#7201a8"
             ],
             [
              0.3333333333333333,
              "#9c179e"
             ],
             [
              0.4444444444444444,
              "#bd3786"
             ],
             [
              0.5555555555555556,
              "#d8576b"
             ],
             [
              0.6666666666666666,
              "#ed7953"
             ],
             [
              0.7777777777777778,
              "#fb9f3a"
             ],
             [
              0.8888888888888888,
              "#fdca26"
             ],
             [
              1,
              "#f0f921"
             ]
            ],
            "type": "heatmapgl"
           }
          ],
          "histogram": [
           {
            "marker": {
             "pattern": {
              "fillmode": "overlay",
              "size": 10,
              "solidity": 0.2
             }
            },
            "type": "histogram"
           }
          ],
          "histogram2d": [
           {
            "colorbar": {
             "outlinewidth": 0,
             "ticks": ""
            },
            "colorscale": [
             [
              0,
              "#0d0887"
             ],
             [
              0.1111111111111111,
              "#46039f"
             ],
             [
              0.2222222222222222,
              "#7201a8"
             ],
             [
              0.3333333333333333,
              "#9c179e"
             ],
             [
              0.4444444444444444,
              "#bd3786"
             ],
             [
              0.5555555555555556,
              "#d8576b"
             ],
             [
              0.6666666666666666,
              "#ed7953"
             ],
             [
              0.7777777777777778,
              "#fb9f3a"
             ],
             [
              0.8888888888888888,
              "#fdca26"
             ],
             [
              1,
              "#f0f921"
             ]
            ],
            "type": "histogram2d"
           }
          ],
          "histogram2dcontour": [
           {
            "colorbar": {
             "outlinewidth": 0,
             "ticks": ""
            },
            "colorscale": [
             [
              0,
              "#0d0887"
             ],
             [
              0.1111111111111111,
              "#46039f"
             ],
             [
              0.2222222222222222,
              "#7201a8"
             ],
             [
              0.3333333333333333,
              "#9c179e"
             ],
             [
              0.4444444444444444,
              "#bd3786"
             ],
             [
              0.5555555555555556,
              "#d8576b"
             ],
             [
              0.6666666666666666,
              "#ed7953"
             ],
             [
              0.7777777777777778,
              "#fb9f3a"
             ],
             [
              0.8888888888888888,
              "#fdca26"
             ],
             [
              1,
              "#f0f921"
             ]
            ],
            "type": "histogram2dcontour"
           }
          ],
          "mesh3d": [
           {
            "colorbar": {
             "outlinewidth": 0,
             "ticks": ""
            },
            "type": "mesh3d"
           }
          ],
          "parcoords": [
           {
            "line": {
             "colorbar": {
              "outlinewidth": 0,
              "ticks": ""
             }
            },
            "type": "parcoords"
           }
          ],
          "pie": [
           {
            "automargin": true,
            "type": "pie"
           }
          ],
          "scatter": [
           {
            "marker": {
             "colorbar": {
              "outlinewidth": 0,
              "ticks": ""
             }
            },
            "type": "scatter"
           }
          ],
          "scatter3d": [
           {
            "line": {
             "colorbar": {
              "outlinewidth": 0,
              "ticks": ""
             }
            },
            "marker": {
             "colorbar": {
              "outlinewidth": 0,
              "ticks": ""
             }
            },
            "type": "scatter3d"
           }
          ],
          "scattercarpet": [
           {
            "marker": {
             "colorbar": {
              "outlinewidth": 0,
              "ticks": ""
             }
            },
            "type": "scattercarpet"
           }
          ],
          "scattergeo": [
           {
            "marker": {
             "colorbar": {
              "outlinewidth": 0,
              "ticks": ""
             }
            },
            "type": "scattergeo"
           }
          ],
          "scattergl": [
           {
            "marker": {
             "colorbar": {
              "outlinewidth": 0,
              "ticks": ""
             }
            },
            "type": "scattergl"
           }
          ],
          "scattermapbox": [
           {
            "marker": {
             "colorbar": {
              "outlinewidth": 0,
              "ticks": ""
             }
            },
            "type": "scattermapbox"
           }
          ],
          "scatterpolar": [
           {
            "marker": {
             "colorbar": {
              "outlinewidth": 0,
              "ticks": ""
             }
            },
            "type": "scatterpolar"
           }
          ],
          "scatterpolargl": [
           {
            "marker": {
             "colorbar": {
              "outlinewidth": 0,
              "ticks": ""
             }
            },
            "type": "scatterpolargl"
           }
          ],
          "scatterternary": [
           {
            "marker": {
             "colorbar": {
              "outlinewidth": 0,
              "ticks": ""
             }
            },
            "type": "scatterternary"
           }
          ],
          "surface": [
           {
            "colorbar": {
             "outlinewidth": 0,
             "ticks": ""
            },
            "colorscale": [
             [
              0,
              "#0d0887"
             ],
             [
              0.1111111111111111,
              "#46039f"
             ],
             [
              0.2222222222222222,
              "#7201a8"
             ],
             [
              0.3333333333333333,
              "#9c179e"
             ],
             [
              0.4444444444444444,
              "#bd3786"
             ],
             [
              0.5555555555555556,
              "#d8576b"
             ],
             [
              0.6666666666666666,
              "#ed7953"
             ],
             [
              0.7777777777777778,
              "#fb9f3a"
             ],
             [
              0.8888888888888888,
              "#fdca26"
             ],
             [
              1,
              "#f0f921"
             ]
            ],
            "type": "surface"
           }
          ],
          "table": [
           {
            "cells": {
             "fill": {
              "color": "#EBF0F8"
             },
             "line": {
              "color": "white"
             }
            },
            "header": {
             "fill": {
              "color": "#C8D4E3"
             },
             "line": {
              "color": "white"
             }
            },
            "type": "table"
           }
          ]
         },
         "layout": {
          "annotationdefaults": {
           "arrowcolor": "#2a3f5f",
           "arrowhead": 0,
           "arrowwidth": 1
          },
          "autotypenumbers": "strict",
          "coloraxis": {
           "colorbar": {
            "outlinewidth": 0,
            "ticks": ""
           }
          },
          "colorscale": {
           "diverging": [
            [
             0,
             "#8e0152"
            ],
            [
             0.1,
             "#c51b7d"
            ],
            [
             0.2,
             "#de77ae"
            ],
            [
             0.3,
             "#f1b6da"
            ],
            [
             0.4,
             "#fde0ef"
            ],
            [
             0.5,
             "#f7f7f7"
            ],
            [
             0.6,
             "#e6f5d0"
            ],
            [
             0.7,
             "#b8e186"
            ],
            [
             0.8,
             "#7fbc41"
            ],
            [
             0.9,
             "#4d9221"
            ],
            [
             1,
             "#276419"
            ]
           ],
           "sequential": [
            [
             0,
             "#0d0887"
            ],
            [
             0.1111111111111111,
             "#46039f"
            ],
            [
             0.2222222222222222,
             "#7201a8"
            ],
            [
             0.3333333333333333,
             "#9c179e"
            ],
            [
             0.4444444444444444,
             "#bd3786"
            ],
            [
             0.5555555555555556,
             "#d8576b"
            ],
            [
             0.6666666666666666,
             "#ed7953"
            ],
            [
             0.7777777777777778,
             "#fb9f3a"
            ],
            [
             0.8888888888888888,
             "#fdca26"
            ],
            [
             1,
             "#f0f921"
            ]
           ],
           "sequentialminus": [
            [
             0,
             "#0d0887"
            ],
            [
             0.1111111111111111,
             "#46039f"
            ],
            [
             0.2222222222222222,
             "#7201a8"
            ],
            [
             0.3333333333333333,
             "#9c179e"
            ],
            [
             0.4444444444444444,
             "#bd3786"
            ],
            [
             0.5555555555555556,
             "#d8576b"
            ],
            [
             0.6666666666666666,
             "#ed7953"
            ],
            [
             0.7777777777777778,
             "#fb9f3a"
            ],
            [
             0.8888888888888888,
             "#fdca26"
            ],
            [
             1,
             "#f0f921"
            ]
           ]
          },
          "colorway": [
           "#636efa",
           "#EF553B",
           "#00cc96",
           "#ab63fa",
           "#FFA15A",
           "#19d3f3",
           "#FF6692",
           "#B6E880",
           "#FF97FF",
           "#FECB52"
          ],
          "font": {
           "color": "#2a3f5f"
          },
          "geo": {
           "bgcolor": "white",
           "lakecolor": "white",
           "landcolor": "#E5ECF6",
           "showlakes": true,
           "showland": true,
           "subunitcolor": "white"
          },
          "hoverlabel": {
           "align": "left"
          },
          "hovermode": "closest",
          "mapbox": {
           "style": "light"
          },
          "paper_bgcolor": "white",
          "plot_bgcolor": "#E5ECF6",
          "polar": {
           "angularaxis": {
            "gridcolor": "white",
            "linecolor": "white",
            "ticks": ""
           },
           "bgcolor": "#E5ECF6",
           "radialaxis": {
            "gridcolor": "white",
            "linecolor": "white",
            "ticks": ""
           }
          },
          "scene": {
           "xaxis": {
            "backgroundcolor": "#E5ECF6",
            "gridcolor": "white",
            "gridwidth": 2,
            "linecolor": "white",
            "showbackground": true,
            "ticks": "",
            "zerolinecolor": "white"
           },
           "yaxis": {
            "backgroundcolor": "#E5ECF6",
            "gridcolor": "white",
            "gridwidth": 2,
            "linecolor": "white",
            "showbackground": true,
            "ticks": "",
            "zerolinecolor": "white"
           },
           "zaxis": {
            "backgroundcolor": "#E5ECF6",
            "gridcolor": "white",
            "gridwidth": 2,
            "linecolor": "white",
            "showbackground": true,
            "ticks": "",
            "zerolinecolor": "white"
           }
          },
          "shapedefaults": {
           "line": {
            "color": "#2a3f5f"
           }
          },
          "ternary": {
           "aaxis": {
            "gridcolor": "white",
            "linecolor": "white",
            "ticks": ""
           },
           "baxis": {
            "gridcolor": "white",
            "linecolor": "white",
            "ticks": ""
           },
           "bgcolor": "#E5ECF6",
           "caxis": {
            "gridcolor": "white",
            "linecolor": "white",
            "ticks": ""
           }
          },
          "title": {
           "x": 0.05
          },
          "xaxis": {
           "automargin": true,
           "gridcolor": "white",
           "linecolor": "white",
           "ticks": "",
           "title": {
            "standoff": 15
           },
           "zerolinecolor": "white",
           "zerolinewidth": 2
          },
          "yaxis": {
           "automargin": true,
           "gridcolor": "white",
           "linecolor": "white",
           "ticks": "",
           "title": {
            "standoff": 15
           },
           "zerolinecolor": "white",
           "zerolinewidth": 2
          }
         }
        },
        "width": 1400
       }
      }
     },
     "metadata": {},
     "output_type": "display_data"
    }
   ],
   "source": [
    "fig = px.treemap(df, path = [\"Section\", 'HS4'], values = 'percent', color = 'Section', custom_data=['percent'])\n",
    "\n",
    "fig.update_layout(margin = dict(t=0, l=0, r=0, b=0))\n",
    "fig.update_layout(\n",
    "    autosize=False,\n",
    "    width=1400,\n",
    "    height=800,)\n",
    "\n",
    "fig.update_layout(legend_title=\"Section\", legend_traceorder=\"reversed\")\n",
    "fig.show()"
   ]
  }
 ],
 "metadata": {
  "kernelspec": {
   "display_name": "Python 3",
   "language": "python",
   "name": "python3"
  },
  "language_info": {
   "codemirror_mode": {
    "name": "ipython",
    "version": 3
   },
   "file_extension": ".py",
   "mimetype": "text/x-python",
   "name": "python",
   "nbconvert_exporter": "python",
   "pygments_lexer": "ipython3",
   "version": "3.8.8"
  },
  "orig_nbformat": 4
 },
 "nbformat": 4,
 "nbformat_minor": 2
}

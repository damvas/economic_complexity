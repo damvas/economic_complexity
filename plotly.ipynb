{
 "cells": [
  {
   "cell_type": "code",
   "execution_count": 13,
   "metadata": {},
   "outputs": [],
   "source": [
    "import pandas as pd\n",
    "import os\n",
    "import requests\n",
    "import matplotlib.pyplot as plt\n",
    "import squarify\n",
    "import seaborn as sns\n",
    "import math\n",
    "import numpy as np\n",
    "import plotly.express as px\n",
    "import plotly.graph_objects as go\n",
    "from plotly.subplots import make_subplots\n",
    "\n",
    "input_path = './input'"
   ]
  },
  {
   "cell_type": "code",
   "execution_count": 2,
   "metadata": {},
   "outputs": [],
   "source": [
    "def download_country_data(country: str) -> pd.DataFrame:\n",
    "    iso3 = pd.read_csv(os.path.join(os.getcwd(),'oec_iso3.csv'))\n",
    "    country = country.title()\n",
    "    i = np.where(iso3['Country'] == country)[0][0]\n",
    "    country_id = iso3.loc[i,'Country ID']\n",
    "    country = iso3.loc[i,'Country']\n",
    "    print(\"Processing:\", country)\n",
    "    url = \"https://oec.world/olap-proxy/data\"\n",
    "    params = {\n",
    "        \"cube\": \"trade_i_baci_a_92\",\n",
    "        \"drilldowns\": \"Year,HS4\",\n",
    "        \"measures\": \"Trade Value\",\n",
    "        \"parents\": \"true\",\n",
    "        \"Year\": \"2021\",\n",
    "        \"Exporter Country\": f\"{country_id}\"\n",
    "    }\n",
    "\n",
    "    response = requests.get(url, params=params)\n",
    "    if response.status_code == 200:\n",
    "        data = response.json()\n",
    "        df = pd.DataFrame(data['data'])\n",
    "        df.to_csv(os.path.join(input_path,f'{country.lower()}.csv'))\n",
    "    else:\n",
    "        print(\"Request failed with status code:\", response.status_code)\n",
    "        print(\"Country:\", country)\n",
    "    return df"
   ]
  },
  {
   "cell_type": "code",
   "execution_count": 45,
   "metadata": {},
   "outputs": [
    {
     "name": "stdout",
     "output_type": "stream",
     "text": [
      "Processing: Brazil\n"
     ]
    }
   ],
   "source": [
    "df = download_country_data('brazil')"
   ]
  },
  {
   "cell_type": "code",
   "execution_count": 46,
   "metadata": {},
   "outputs": [],
   "source": [
    "df['percent'] = (df['Trade Value']/ df['Trade Value'].sum())*100\n",
    "df['Trade Value m'] = df['Trade Value']/1000"
   ]
  },
  {
   "cell_type": "code",
   "execution_count": 47,
   "metadata": {},
   "outputs": [
    {
     "name": "stderr",
     "output_type": "stream",
     "text": [
      "c:\\Users\\Veeries\\Anaconda3\\lib\\site-packages\\plotly\\express\\_core.py:1637: FutureWarning:\n",
      "\n",
      "The frame.append method is deprecated and will be removed from pandas in a future version. Use pandas.concat instead.\n",
      "\n",
      "c:\\Users\\Veeries\\Anaconda3\\lib\\site-packages\\plotly\\express\\_core.py:1637: FutureWarning:\n",
      "\n",
      "The frame.append method is deprecated and will be removed from pandas in a future version. Use pandas.concat instead.\n",
      "\n"
     ]
    },
    {
     "data": {
      "application/vnd.plotly.v1+json": {
       "config": {
        "plotlyServerURL": "https://plot.ly"
       },
       "data": [
        {
         "branchvalues": "total",
         "customdata": [
          [
           0.0004797182669761814,
           "Textiles"
          ],
          [
           0.004809709054573303,
           "Metals"
          ],
          [
           0.00022780348940637513,
           "Metals"
          ],
          [
           0.000051181914365819364,
           "Chemical Products"
          ],
          [
           0.011990136044499581,
           "Chemical Products"
          ],
          [
           0.00018365199681250502,
           "Stone And Glass"
          ],
          [
           0.0024134476695733134,
           "Stone And Glass"
          ],
          [
           0.0014094563491274664,
           "Instruments"
          ],
          [
           0.10105787812595608,
           "Paper Goods"
          ],
          [
           0.023067940837354268,
           "Metals"
          ],
          [
           0.0000941384363852524,
           "Textiles"
          ],
          [
           0.003904308008073539,
           "Machines"
          ],
          [
           0.00045250615847711005,
           "Footwear and Headwear"
          ],
          [
           0.002780085864155109,
           "Textiles"
          ],
          [
           0.009468010205164471,
           "Textiles"
          ],
          [
           0.003338438465838341,
           "Textiles"
          ],
          [
           0.0006194715667690371,
           "Textiles"
          ],
          [
           0.004881988822891335,
           "Textiles"
          ],
          [
           0.0006569775526628167,
           "Textiles"
          ],
          [
           0.0009732938233096116,
           "Machines"
          ],
          [
           0.000006002247728650961,
           "Textiles"
          ],
          [
           0.0014990957871863272,
           "Animal Products"
          ],
          [
           0.16633672893245255,
           "Foodstuffs"
          ],
          [
           0.12036793264857185,
           "Animal Products"
          ],
          [
           0.012965338144962741,
           "Stone And Glass"
          ],
          [
           0.019198992653571147,
           "Chemical Products"
          ],
          [
           0.0019400978397995515,
           "Chemical Products"
          ],
          [
           0.007258909439226597,
           "Foodstuffs"
          ],
          [
           0.0022544770513549927,
           "Chemical Products"
          ],
          [
           0.009216231708336324,
           "Chemical Products"
          ],
          [
           0.045313148595452636,
           "Foodstuffs"
          ],
          [
           0.005211536809211025,
           "Chemical Products"
          ],
          [
           0.035779096673526585,
           "Plastics and Rubbers"
          ],
          [
           0.00002270166675162423,
           "Chemical Products"
          ],
          [
           0.007957093710798398,
           "Chemical Products"
          ],
          [
           0.000005280271891164607,
           "Chemical Products"
          ],
          [
           0.3711769414578372,
           "Foodstuffs"
          ],
          [
           0.13900245601852057,
           "Transportation"
          ],
          [
           0.004105840176899719,
           "Transportation"
          ],
          [
           0.18866006647442052,
           "Machines"
          ],
          [
           0.019306595488524085,
           "Machines"
          ],
          [
           0.00008906518638408747,
           "Wood Products"
          ],
          [
           0.13616422994645738,
           "Chemical Products"
          ],
          [
           0.03907119899366051,
           "Chemical Products"
          ],
          [
           0.0031659528205834246,
           "Chemical Products"
          ],
          [
           0.026741848739752893,
           "Plastics and Rubbers"
          ],
          [
           0.00006936447011162123,
           "Chemical Products"
          ],
          [
           0.009819211918283392,
           "Metals"
          ],
          [
           0.039882523675664985,
           "Metals"
          ],
          [
           0.010604609969420673,
           "Chemical Products"
          ],
          [
           0.0002485993063967962,
           "Metals"
          ],
          [
           0.04535763125371643,
           "Metals"
          ],
          [
           0.06589035601835938,
           "Mineral Products"
          ],
          [
           1.0506408598405301,
           "Chemical Products"
          ],
          [
           0.001353059355693464,
           "Metals"
          ],
          [
           0.002900800779015363,
           "Metals"
          ],
          [
           0.02931866823663645,
           "Metals"
          ],
          [
           0.05743911908818915,
           "Metals"
          ],
          [
           0.0008822967793891955,
           "Metals"
          ],
          [
           0.0016592651904527701,
           "Metals"
          ],
          [
           0.005775135352522257,
           "Metals"
          ],
          [
           0.01188495297294433,
           "Chemical Products"
          ],
          [
           0.010483593017598627,
           "Chemical Products"
          ],
          [
           0.0039992013634781035,
           "Chemical Products"
          ],
          [
           0.0044245332114226585,
           "Machines"
          ],
          [
           0.005111155813254962,
           "Paper Goods"
          ],
          [
           0.03541424503971075,
           "Chemical Products"
          ],
          [
           0.00004899344678158479,
           "Instruments"
          ],
          [
           0.0012828224114189632,
           "Chemical Products"
          ],
          [
           0.01893183766654808,
           "Chemical Products"
          ],
          [
           0.0024774080707841727,
           "Chemical Products"
          ],
          [
           0.00001154571830408653,
           "Paper Goods"
          ],
          [
           0.00013089505158508,
           "Textiles"
          ],
          [
           0.000011192706103048534,
           "Mineral Products"
          ],
          [
           0.000031964249170019044,
           "Chemical Products"
          ],
          [
           0.0022025610241899617,
           "Vegetable Products"
          ],
          [
           0.007673207055111202,
           "Metals"
          ],
          [
           0.0004076656332275793,
           "Stone And Glass"
          ],
          [
           0.0011553073302892048,
           "Machines"
          ],
          [
           0.000054344806591425995,
           "Machines"
          ],
          [
           0.008197742960494803,
           "Machines"
          ],
          [
           1.1773291583070604,
           "Transportation"
          ],
          [
           0.00222212129847675,
           "Miscellaneous"
          ],
          [
           0.001739727351595648,
           "Mineral Products"
          ],
          [
           0.000007237790432283949,
           "Metals"
          ],
          [
           0.000005332287441415785,
           "Metals"
          ],
          [
           0.0013114441413298414,
           "Chemical Products"
          ],
          [
           0.000037635677999072515,
           "Metals"
          ],
          [
           0.000026171450723712826,
           "Textiles"
          ],
          [
           0.0035361703785631703,
           "Machines"
          ],
          [
           0.034772827418750075,
           "Machines"
          ],
          [
           0.02687039338200729,
           "Machines"
          ],
          [
           0.05005803517776225,
           "Machines"
          ],
          [
           0.0054122734868886965,
           "Machines"
          ],
          [
           0.03726469823989642,
           "Machines"
          ],
          [
           0.0017670091609320558,
           "Machines"
          ],
          [
           0.016402983095632474,
           "Machines"
          ],
          [
           0.002722565334835681,
           "Machines"
          ],
          [
           0.10885202688372662,
           "Machines"
          ],
          [
           0.006821748561614254,
           "Mineral Products"
          ],
          [
           0.0025645185127898206,
           "Machines"
          ],
          [
           0.0010792012980946957,
           "Textiles"
          ],
          [
           0.46895741859201195,
           "Machines"
          ],
          [
           0.018086345009894606,
           "Chemical Products"
          ],
          [
           0.01085261109698958,
           "Chemical Products"
          ],
          [
           0.0005271151831353901,
           "Animal Hides"
          ],
          [
           0.0027274378048128757,
           "Textiles"
          ],
          [
           0.0014921940172086658,
           "Textiles"
          ],
          [
           0.0007919006884593479,
           "Mineral Products"
          ],
          [
           0.0008317518821287855,
           "Animal and Vegetable Bi-Products"
          ],
          [
           0.0007489888998131309,
           "Footwear and Headwear"
          ],
          [
           0.0002146147732550214,
           "Miscellaneous"
          ],
          [
           0.00007315293602158204,
           "Instruments"
          ],
          [
           0.000014036569620447953,
           "Stone And Glass"
          ],
          [
           0.003826474366070021,
           "Instruments"
          ],
          [
           0.07201091693053033,
           "Weapons"
          ],
          [
           0.04260312490332318,
           "Machines"
          ],
          [
           0.3303307926093432,
           "Plastics and Rubbers"
          ],
          [
           0.10311401919066265,
           "Chemical Products"
          ],
          [
           0.09729426212497225,
           "Chemical Products"
          ],
          [
           0.009456432583989564,
           "Instruments"
          ],
          [
           0.22679913363030718,
           "Machines"
          ],
          [
           0.130949932151839,
           "Machines"
          ],
          [
           4.7160765561068274e-8,
           "Transportation"
          ],
          [
           0.00003589176998431801,
           "Footwear and Headwear"
          ],
          [
           0.00009405694535652555,
           "Footwear and Headwear"
          ],
          [
           0.007075480415739502,
           "Textiles"
          ],
          [
           0.04042082566980773,
           "Textiles"
          ],
          [
           0.0009681293727103398,
           "Textiles"
          ],
          [
           0.01876313597918877,
           "Machines"
          ],
          [
           0.0000026458576561099335,
           "Footwear and Headwear"
          ],
          [
           0.05675606856757776,
           "Animal Products"
          ],
          [
           0.00029519899755582173,
           "Chemical Products"
          ],
          [
           0.004890366100644455,
           "Animal Products"
          ],
          [
           0.00007698336114207881,
           "Textiles"
          ],
          [
           2.5730358857582835e-7,
           "Textiles"
          ],
          [
           0.0026292262040726213,
           "Animal Products"
          ],
          [
           0.00041137364841981825,
           "Textiles"
          ],
          [
           0.000027450339719221795,
           "Vegetable Products"
          ],
          [
           0.000020166775602716813,
           "Machines"
          ],
          [
           0.0002910381003060625,
           "Footwear and Headwear"
          ],
          [
           0.00019827911631347135,
           "Plastics and Rubbers"
          ],
          [
           0.025267604942165574,
           "Machines"
          ],
          [
           0.11068330403115668,
           "Machines"
          ],
          [
           0.004406324994672066,
           "Machines"
          ],
          [
           0.0007788520675233373,
           "Machines"
          ],
          [
           0.0644134875161064,
           "Machines"
          ],
          [
           0.006979978131626664,
           "Chemical Products"
          ],
          [
           0.1414724740666954,
           "Machines"
          ],
          [
           0.001807006344912532,
           "Chemical Products"
          ],
          [
           0.00014598268209093678,
           "Miscellaneous"
          ],
          [
           0.0038932824452719643,
           "Metals"
          ],
          [
           0.0010262217263121956,
           "Textiles"
          ],
          [
           0.05628367513038795,
           "Weapons"
          ],
          [
           0.0000011152133973852614,
           "Textiles"
          ],
          [
           0.013809062619678009,
           "Foodstuffs"
          ],
          [
           0.023115944948370076,
           "Metals"
          ],
          [
           0.23662608546246794,
           "Metals"
          ],
          [
           0.00040876454841921926,
           "Textiles"
          ],
          [
           1.2830042421779762,
           "Metals"
          ],
          [
           0.09304417623858964,
           "Chemical Products"
          ],
          [
           0.00037262934565972564,
           "Textiles"
          ],
          [
           0.042134519932043334,
           "Chemical Products"
          ],
          [
           0.009829038002496175,
           "Stone And Glass"
          ],
          [
           0.00012442223651182337,
           "Stone And Glass"
          ],
          [
           0.0077594724178104355,
           "Stone And Glass"
          ],
          [
           0.00048040244484715195,
           "Stone And Glass"
          ],
          [
           0.000002195749761269737,
           "Stone And Glass"
          ],
          [
           0.016540162665998902,
           "Stone And Glass"
          ],
          [
           0.008907073124174426,
           "Stone And Glass"
          ],
          [
           0.0000275297501259386,
           "Stone And Glass"
          ],
          [
           0.00018648441690884918,
           "Machines"
          ],
          [
           0.000044699736493517526,
           "Stone And Glass"
          ],
          [
           0.0035019323563065044,
           "Stone And Glass"
          ],
          [
           0.01162886585470371,
           "Chemical Products"
          ],
          [
           0.018299235987814303,
           "Chemical Products"
          ],
          [
           0.09919635220220326,
           "Animal and Vegetable Bi-Products"
          ],
          [
           0.0581878624746051,
           "Chemical Products"
          ],
          [
           0.0007120623671491495,
           "Mineral Products"
          ],
          [
           0.000193055021216578,
           "Textiles"
          ],
          [
           0.1150847419914975,
           "Vegetable Products"
          ],
          [
           0.05257210831637781,
           "Animal and Vegetable Bi-Products"
          ],
          [
           0.001140661138419813,
           "Foodstuffs"
          ],
          [
           0.00006501076855559761,
           "Textiles"
          ],
          [
           0.00028538539707509945,
           "Mineral Products"
          ],
          [
           0.058543974455667724,
           "Vegetable Products"
          ],
          [
           0.0039054981238632863,
           "Mineral Products"
          ],
          [
           0.053663165345456086,
           "Mineral Products"
          ],
          [
           0.000010316764236818693,
           "Precious Metals"
          ],
          [
           1.8603938441398622,
           "Precious Metals"
          ],
          [
           0.005225485992707051,
           "Chemical Products"
          ],
          [
           0.010634534515480175,
           "Mineral Products"
          ],
          [
           0.005840930515575642,
           "Machines"
          ],
          [
           0.021513716542619396,
           "Instruments"
          ],
          [
           0.19784483883119464,
           "Machines"
          ],
          [
           0.0006571062044571045,
           "Textiles"
          ],
          [
           0.000005687380264463829,
           "Textiles"
          ],
          [
           0.008611129263939006,
           "Foodstuffs"
          ],
          [
           0.0011232952268129546,
           "Metals"
          ],
          [
           0.003294580340947888,
           "Metals"
          ],
          [
           0.04986170976551621,
           "Metals"
          ],
          [
           0.00000541724617349271,
           "Textiles"
          ],
          [
           0.00031053144791819414,
           "Miscellaneous"
          ],
          [
           0.008261050739935176,
           "Animal Products"
          ],
          [
           0.0005044887655464625,
           "Animal and Vegetable Bi-Products"
          ],
          [
           0.005275526339130024,
           "Animal Products"
          ],
          [
           0.0010616144937844374,
           "Chemical Products"
          ],
          [
           0.000009244897131309413,
           "Chemical Products"
          ],
          [
           0.00008693497621613423,
           "Metals"
          ],
          [
           0.009647965630205792,
           "Transportation"
          ],
          [
           0.0003465414665867498,
           "Animal Products"
          ],
          [
           0.009078349928041506,
           "Metals"
          ],
          [
           0.0007494088386888253,
           "Chemical Products"
          ],
          [
           0.0002763437073601047,
           "Textiles"
          ],
          [
           0.019104137096133095,
           "Metals"
          ],
          [
           0.0025853822967659033,
           "Animal Hides"
          ],
          [
           0.07285284270751792,
           "Wood Products"
          ],
          [
           0.0005485268642407851,
           "Machines"
          ],
          [
           0.7198836794675721,
           "Foodstuffs"
          ],
          [
           0.014935547093262032,
           "Stone And Glass"
          ],
          [
           0.00030798788751091146,
           "Vegetable Products"
          ],
          [
           2.459980067868209,
           "Animal Products"
          ],
          [
           0.0321532268656366,
           "Stone And Glass"
          ],
          [
           0.00483780091941229,
           "Machines"
          ],
          [
           0.026959721420305314,
           "Machines"
          ],
          [
           4.5426913886028997e-8,
           "Vegetable Products"
          ],
          [
           0.05042053605547707,
           "Footwear and Headwear"
          ],
          [
           0.004392709751008652,
           "Vegetable Products"
          ],
          [
           0.00033627567758917723,
           "Machines"
          ],
          [
           0.07353657463183759,
           "Metals"
          ],
          [
           0.008668806533449858,
           "Textiles"
          ],
          [
           0.00007636888410844489,
           "Metals"
          ],
          [
           0.04349992500520375,
           "Machines"
          ],
          [
           0.0006082036115032919,
           "Stone And Glass"
          ],
          [
           0.15465459048503324,
           "Machines"
          ],
          [
           0.0012294874000430799,
           "Instruments"
          ],
          [
           0.013956167797343365,
           "Vegetable Products"
          ],
          [
           0.0706138576208794,
           "Chemical Products"
          ],
          [
           0.00007581058386908224,
           "Chemical Products"
          ],
          [
           0.0007611112971843355,
           "Miscellaneous"
          ],
          [
           0.0054938269342758445,
           "Chemical Products"
          ],
          [
           0.011189552573621971,
           "Animal and Vegetable Bi-Products"
          ],
          [
           0.013904472662881735,
           "Machines"
          ],
          [
           0.016146643181817636,
           "Machines"
          ],
          [
           0.031065930907611818,
           "Machines"
          ],
          [
           0.0647362048203671,
           "Chemical Products"
          ],
          [
           0.000023053291871322193,
           "Chemical Products"
          ],
          [
           0.006446732742509004,
           "Precious Metals"
          ],
          [
           0.013343458598877317,
           "Machines"
          ],
          [
           9.667956940018995e-7,
           "Instruments"
          ],
          [
           0.0006709021154650569,
           "Animal Products"
          ],
          [
           0.002626740554311285,
           "Chemical Products"
          ],
          [
           0.026955359743031586,
           "Machines"
          ],
          [
           0.0002675457971906204,
           "Chemical Products"
          ],
          [
           0.00012067330242005347,
           "Chemical Products"
          ],
          [
           0.15389651967014625,
           "Chemical Products"
          ],
          [
           0.0214939263596005,
           "Chemical Products"
          ],
          [
           0.005418438716674801,
           "Instruments"
          ],
          [
           0.0009388054328710705,
           "Chemical Products"
          ],
          [
           0.004677460558370688,
           "Foodstuffs"
          ],
          [
           0.0000016100546654414704,
           "Instruments"
          ],
          [
           0.000016835006223961343,
           "Chemical Products"
          ],
          [
           0.006883571123709789,
           "Chemical Products"
          ],
          [
           0.012740470066442208,
           "Instruments"
          ],
          [
           0.0001692045043450728,
           "Chemical Products"
          ],
          [
           0.006581675990984966,
           "Chemical Products"
          ],
          [
           0.04786139629735355,
           "Vegetable Products"
          ],
          [
           0.0018388027572404074,
           "Mineral Products"
          ],
          [
           0.00015832077061051622,
           "Chemical Products"
          ],
          [
           0.014048384432532006,
           "Paper Goods"
          ],
          [
           0.000017613158855718966,
           "Vegetable Products"
          ],
          [
           0.008110426190139824,
           "Animal Products"
          ],
          [
           0.044812792985529135,
           "Foodstuffs"
          ],
          [
           0.002426130794576226,
           "Animal Hides"
          ],
          [
           0.003089687967575482,
           "Stone And Glass"
          ],
          [
           0.00004723636149409998,
           "Mineral Products"
          ],
          [
           0.00009864402334800947,
           "Metals"
          ],
          [
           0.0034067456331985236,
           "Vegetable Products"
          ],
          [
           0.013733103964875879,
           "Vegetable Products"
          ],
          [
           0.0006996212878400726,
           "Vegetable Products"
          ],
          [
           0.000002837621651369277,
           "Stone And Glass"
          ],
          [
           0.0009233262986569899,
           "Stone And Glass"
          ],
          [
           0.10859771973761559,
           "Machines"
          ],
          [
           0.000027711804551817722,
           "Machines"
          ],
          [
           0.00790008501449344,
           "Stone And Glass"
          ],
          [
           0.013485748523670757,
           "Mineral Products"
          ],
          [
           0.104226008317473,
           "Paper Goods"
          ],
          [
           0.03149970522613248,
           "Plastics and Rubbers"
          ],
          [
           0.00005764987465438587,
           "Miscellaneous"
          ],
          [
           0.0027326452549336893,
           "Mineral Products"
          ],
          [
           0.00017748537994506034,
           "Vegetable Products"
          ],
          [
           2.8990000006656675e-7,
           "Instruments"
          ],
          [
           0.07263260505328074,
           "Chemical Products"
          ],
          [
           0.00584107858650869,
           "Arts and Antiques"
          ],
          [
           0.05010970915923345,
           "Metals"
          ],
          [
           0.0003755973529570579,
           "Mineral Products"
          ],
          [
           0.0000015524907898301667,
           "Precious Metals"
          ],
          [
           0.1994293812563192,
           "Foodstuffs"
          ],
          [
           2.0935527786573953,
           "Vegetable Products"
          ],
          [
           0.04872450558056609,
           "Vegetable Products"
          ],
          [
           0.016622551483123083,
           "Textiles"
          ],
          [
           0.0025363992530943688,
           "Animal and Vegetable Bi-Products"
          ],
          [
           2.3441674646530993e-7,
           "Foodstuffs"
          ],
          [
           0.022719516407848424,
           "Foodstuffs"
          ],
          [
           0.00011044045660430666,
           "Paper Goods"
          ],
          [
           0.046879263644974925,
           "Foodstuffs"
          ],
          [
           0.00014169660075023967,
           "Instruments"
          ],
          [
           0.009935349811491877,
           "Foodstuffs"
          ],
          [
           0.0029528659174244474,
           "Vegetable Products"
          ],
          [
           0.008758559712178602,
           "Mineral Products"
          ],
          [
           0.03148601646715804,
           "Mineral Products"
          ],
          [
           0.0000018344150721915527,
           "Instruments"
          ],
          [
           0.006835127307909193,
           "Metals"
          ],
          [
           0.00013908715397930558,
           "Textiles"
          ],
          [
           0.00040216828310669976,
           "Metals"
          ],
          [
           0.0009769574518989697,
           "Chemical Products"
          ],
          [
           0.0007852967941994583,
           "Foodstuffs"
          ],
          [
           0.19220570819114377,
           "Metals"
          ],
          [
           0.0016006013593388214,
           "Machines"
          ],
          [
           0.0014836998778526482,
           "Metals"
          ],
          [
           0.05197020933633529,
           "Metals"
          ],
          [
           0.027813842069664113,
           "Mineral Products"
          ],
          [
           0.0000067904567001238156,
           "Instruments"
          ],
          [
           0.0021017493394778182,
           "Chemical Products"
          ],
          [
           0.000303684467653464,
           "Textiles"
          ],
          [
           0.005365435911279856,
           "Vegetable Products"
          ],
          [
           0.008099267814299942,
           "Metals"
          ],
          [
           0.03145469200925611,
           "Vegetable Products"
          ],
          [
           0.00006112035216714447,
           "Mineral Products"
          ],
          [
           0.0030422234312009466,
           "Chemical Products"
          ],
          [
           0.006639833190639469,
           "Chemical Products"
          ],
          [
           0.00043775940321056603,
           "Chemical Products"
          ],
          [
           0.005310499167726572,
           "Machines"
          ],
          [
           0.049283622117297345,
           "Plastics and Rubbers"
          ],
          [
           0.009432152418672984,
           "Machines"
          ],
          [
           0.026507967406684832,
           "Precious Metals"
          ],
          [
           0.03321843043238837,
           "Plastics and Rubbers"
          ],
          [
           0.0023023320511267467,
           "Textiles"
          ],
          [
           1.5639342108854259e-7,
           "Textiles"
          ],
          [
           0.0021675725909283392,
           "Chemical Products"
          ],
          [
           0.0000014234922252072445,
           "Chemical Products"
          ],
          [
           0.18905492657271694,
           "Paper Goods"
          ],
          [
           0.03605273522550329,
           "Chemical Products"
          ],
          [
           0.00002725233385793231,
           "Footwear and Headwear"
          ],
          [
           0.011928294063265286,
           "Textiles"
          ],
          [
           0.04030790303114544,
           "Chemical Products"
          ],
          [
           0.0005580030571855448,
           "Mineral Products"
          ],
          [
           0.001399280720416996,
           "Metals"
          ],
          [
           0.00014131584692240104,
           "Textiles"
          ],
          [
           0.00015265801103983798,
           "Footwear and Headwear"
          ],
          [
           0.0012325178260007136,
           "Plastics and Rubbers"
          ],
          [
           0.019083029532611505,
           "Instruments"
          ],
          [
           0.00011936181701305374,
           "Textiles"
          ],
          [
           0.000025913453594466987,
           "Machines"
          ],
          [
           0.0799670167975486,
           "Transportation"
          ],
          [
           0.04231117583734706,
           "Animal and Vegetable Bi-Products"
          ],
          [
           0.0018802851585657215,
           "Chemical Products"
          ],
          [
           0.003709038164727266,
           "Miscellaneous"
          ],
          [
           0.036962949791023304,
           "Vegetable Products"
          ],
          [
           0.00004131075000948576,
           "Vegetable Products"
          ],
          [
           0.0006480683292157947,
           "Mineral Products"
          ],
          [
           0.003654274459571151,
           "Paper Goods"
          ],
          [
           0.003985360719096935,
           "Chemical Products"
          ],
          [
           0.00008621404068965288,
           "Vegetable Products"
          ],
          [
           0.19031749343532745,
           "Machines"
          ],
          [
           0.0019782439637317556,
           "Miscellaneous"
          ],
          [
           0.01797813359300373,
           "Machines"
          ],
          [
           0.05155267982092841,
           "Chemical Products"
          ],
          [
           0.02922402594295443,
           "Plastics and Rubbers"
          ],
          [
           0.000005662066030008255,
           "Stone And Glass"
          ],
          [
           0.014557746361596333,
           "Chemical Products"
          ],
          [
           0.1732891142017523,
           "Stone And Glass"
          ],
          [
           0.00002753287105895367,
           "Instruments"
          ],
          [
           0.00010774605110129563,
           "Foodstuffs"
          ],
          [
           0.00016692691678474116,
           "Instruments"
          ],
          [
           0.010278784215876956,
           "Machines"
          ],
          [
           0.004042954763727385,
           "Machines"
          ],
          [
           0.001721241025036379,
           "Miscellaneous"
          ],
          [
           0.0003162545455271637,
           "Foodstuffs"
          ],
          [
           0.028240087310671083,
           "Plastics and Rubbers"
          ],
          [
           0.002041586766975965,
           "Chemical Products"
          ],
          [
           0.0014736723200752262,
           "Textiles"
          ],
          [
           7.223226078213618e-7,
           "Footwear and Headwear"
          ],
          [
           0.00005705828446286247,
           "Paper Goods"
          ],
          [
           0.030247039696897467,
           "Machines"
          ],
          [
           0.0010361019066972394,
           "Machines"
          ],
          [
           0.0006696048476417927,
           "Chemical Products"
          ],
          [
           0.0010008766292968067,
           "Foodstuffs"
          ],
          [
           0.01518384332238603,
           "Wood Products"
          ],
          [
           0.0000017983509573507357,
           "Instruments"
          ],
          [
           0.000007957685647760255,
           "Instruments"
          ],
          [
           0.0012917188043635897,
           "Foodstuffs"
          ],
          [
           0.0033512648069896124,
           "Foodstuffs"
          ],
          [
           0.019331863949295435,
           "Vegetable Products"
          ],
          [
           0.009180034086916528,
           "Machines"
          ],
          [
           0.009857178068411725,
           "Machines"
          ],
          [
           0.01047343507417524,
           "Animal and Vegetable Bi-Products"
          ],
          [
           0.012381780888249799,
           "Metals"
          ],
          [
           0.30965653214538547,
           "Metals"
          ],
          [
           0.0030406001992627748,
           "Metals"
          ],
          [
           0.06360435962417418,
           "Machines"
          ],
          [
           0.003178704952883003,
           "Machines"
          ],
          [
           0.000633066350982685,
           "Metals"
          ],
          [
           0.002283186514160628,
           "Metals"
          ],
          [
           0.010208845840860898,
           "Metals"
          ],
          [
           0.0001246035973970325,
           "Instruments"
          ],
          [
           0.06919948822964554,
           "Plastics and Rubbers"
          ],
          [
           2.3724380143506196,
           "Paper Goods"
          ],
          [
           0.010463145704794887,
           "Chemical Products"
          ],
          [
           0.0005630603557512993,
           "Precious Metals"
          ],
          [
           0.0004915133131511385,
           "Chemical Products"
          ],
          [
           0.061262041485717685,
           "Plastics and Rubbers"
          ],
          [
           0.003536606962414945,
           "Textiles"
          ],
          [
           0.0016321848546810018,
           "Plastics and Rubbers"
          ],
          [
           0.0022442993420225123,
           "Plastics and Rubbers"
          ],
          [
           0.014179396345719983,
           "Plastics and Rubbers"
          ],
          [
           0.13507381132156585,
           "Footwear and Headwear"
          ],
          [
           0.001201100086878667,
           "Plastics and Rubbers"
          ],
          [
           0.013663119469405264,
           "Plastics and Rubbers"
          ],
          [
           0.009414934924769509,
           "Plastics and Rubbers"
          ],
          [
           0.00008303727765064593,
           "Miscellaneous"
          ],
          [
           0.0034223773463600065,
           "Textiles"
          ],
          [
           0.0003020601954042872,
           "Textiles"
          ],
          [
           0.0003494328376400452,
           "Plastics and Rubbers"
          ],
          [
           0.38285885450453866,
           "Plastics and Rubbers"
          ],
          [
           0.001350014018611425,
           "Metals"
          ],
          [
           0.017529620841704573,
           "Machines"
          ],
          [
           0.0007739050419241153,
           "Animal Hides"
          ],
          [
           0.010522721195119574,
           "Textiles"
          ],
          [
           0.00020420368748708055,
           "Textiles"
          ],
          [
           0.00021198660088599686,
           "Textiles"
          ],
          [
           0.025620219050858983,
           "Chemical Products"
          ],
          [
           0.001192808114627959,
           "Instruments"
          ],
          [
           0.00004986071938943943,
           "Vegetable Products"
          ],
          [
           0.001161554397874371,
           "Mineral Products"
          ],
          [
           8.527082537843153e-7,
           "Chemical Products"
          ],
          [
           0.0000015015155505840117,
           "Chemical Products"
          ],
          [
           0.0005849322010912497,
           "Chemical Products"
          ],
          [
           0.0005126132477253616,
           "Chemical Products"
          ],
          [
           0.00017795247958631594,
           "Chemical Products"
          ],
          [
           0.007996052664395858,
           "Paper Goods"
          ],
          [
           0.0000037052410295589297,
           "Vegetable Products"
          ],
          [
           0.0035107912980549506,
           "Chemical Products"
          ],
          [
           0.00018271953138166892,
           "Metals"
          ],
          [
           0.00557816321360143,
           "Miscellaneous"
          ],
          [
           0.009896898529664867,
           "Transportation"
          ],
          [
           0.000043426049053033676,
           "Metals"
          ],
          [
           0.016671761661364047,
           "Arts and Antiques"
          ],
          [
           0.055758083309334246,
           "Miscellaneous"
          ],
          [
           0.0034495325845241382,
           "Animal and Vegetable Bi-Products"
          ],
          [
           0.0018247453813998588,
           "Transportation"
          ],
          [
           0.0007346322611734707,
           "Metals"
          ],
          [
           0.021366861039595245,
           "Plastics and Rubbers"
          ],
          [
           1.2645023868963354,
           "Metals"
          ],
          [
           0.007471150916308825,
           "Machines"
          ],
          [
           0.0026562434276434185,
           "Machines"
          ],
          [
           0.011991100759571573,
           "Paper Goods"
          ],
          [
           0.2510945911718907,
           "Wood Products"
          ],
          [
           0.026126507554444137,
           "Chemical Products"
          ],
          [
           0.015780007414628188,
           "Paper Goods"
          ],
          [
           7.282177035164954e-9,
           "Animal Hides"
          ],
          [
           0.0011757855056527585,
           "Plastics and Rubbers"
          ],
          [
           0.0011134850940355823,
           "Metals"
          ],
          [
           0.005165101487190794,
           "Mineral Products"
          ],
          [
           0.0012111005965699585,
           "Mineral Products"
          ],
          [
           0.034060792793227726,
           "Chemical Products"
          ],
          [
           0.009593405479236327,
           "Foodstuffs"
          ],
          [
           0.06463009795263938,
           "Foodstuffs"
          ],
          [
           0.35009401631531667,
           "Wood Products"
          ],
          [
           0.00048487023384339315,
           "Plastics and Rubbers"
          ],
          [
           0.0023353872397707002,
           "Machines"
          ],
          [
           0.001497012737783935,
           "Miscellaneous"
          ],
          [
           0.024001216670463305,
           "Chemical Products"
          ],
          [
           0.0010673916875656682,
           "Metals"
          ],
          [
           0.013144376015697632,
           "Metals"
          ],
          [
           0.0422067365881604,
           "Metals"
          ],
          [
           0.0917427385020468,
           "Metals"
          ],
          [
           0.00011340915744230892,
           "Textiles"
          ],
          [
           0.0005502901913943,
           "Weapons"
          ],
          [
           0.0007929146449189108,
           "Animal Products"
          ],
          [
           0.000027888310652336715,
           "Stone And Glass"
          ],
          [
           0.0009243718112170386,
           "Vegetable Products"
          ],
          [
           0.00000932604138970125,
           "Machines"
          ],
          [
           0.00007046546592527115,
           "Machines"
          ],
          [
           0.00308562243216785,
           "Foodstuffs"
          ],
          [
           0.027145768213051383,
           "Vegetable Products"
          ],
          [
           2.6011340167372237,
           "Foodstuffs"
          ],
          [
           0.0004920095415005349,
           "Machines"
          ],
          [
           0.7149404690355758,
           "Animal and Vegetable Bi-Products"
          ],
          [
           0.1725600833218002,
           "Machines"
          ],
          [
           0.04440815777825919,
           "Chemical Products"
          ],
          [
           0.00032608062973994625,
           "Transportation"
          ],
          [
           0.01804971427232639,
           "Transportation"
          ],
          [
           0.00004150043338273505,
           "Vegetable Products"
          ],
          [
           0.02192269262094297,
           "Vegetable Products"
          ],
          [
           13.524828021225302,
           "Vegetable Products"
          ],
          [
           0.000007900121772148951,
           "Paper Goods"
          ],
          [
           0.06887790243698796,
           "Machines"
          ],
          [
           0.0035278853417191627,
           "Mineral Products"
          ],
          [
           0.006956422369539915,
           "Chemical Products"
          ],
          [
           0.0002262489179945349,
           "Mineral Products"
          ],
          [
           0.01121727200712116,
           "Plastics and Rubbers"
          ],
          [
           0.000008672379308211443,
           "Textiles"
          ],
          [
           0.00022545377361636191,
           "Textiles"
          ],
          [
           0.000003300560048604763,
           "Textiles"
          ],
          [
           0.003576061450821134,
           "Chemical Products"
          ],
          [
           0.0008180256719581697,
           "Textiles"
          ],
          [
           0.000010102113399448832,
           "Precious Metals"
          ],
          [
           0.000001983873086579938,
           "Mineral Products"
          ],
          [
           0.0008267524942089774,
           "Mineral Products"
          ],
          [
           0.00935886493576142,
           "Metals"
          ],
          [
           0.00008842851604901305,
           "Miscellaneous"
          ],
          [
           0.032864920615919634,
           "Chemical Products"
          ],
          [
           0.004171710589115801,
           "Precious Metals"
          ],
          [
           0.0022135869337618717,
           "Chemical Products"
          ],
          [
           0.0005035954851634823,
           "Metals"
          ],
          [
           0.4887204765417653,
           "Animal Hides"
          ],
          [
           0.01455849538551995,
           "Animal Hides"
          ],
          [
           0.0005239644278715086,
           "Animal Hides"
          ],
          [
           0.000009056947609735156,
           "Transportation"
          ],
          [
           0.0017177806038633356,
           "Animal Hides"
          ],
          [
           0.013461492979047961,
           "Stone And Glass"
          ],
          [
           0.000041661334818178695,
           "Metals"
          ],
          [
           0.000993337842213736,
           "Footwear and Headwear"
          ],
          [
           0.006790013527635675,
           "Foodstuffs"
          ],
          [
           0.0027920442391578546,
           "Animal Products"
          ],
          [
           0.00023951808486361048,
           "Foodstuffs"
          ],
          [
           0.0021990083621078065,
           "Vegetable Products"
          ],
          [
           0.003018843828444382,
           "Animal Products"
          ],
          [
           0.0034157110334398165,
           "Machines"
          ],
          [
           0.0011441690671287524,
           "Machines"
          ],
          [
           0.0017868239646447396,
           "Stone And Glass"
          ],
          [
           0.00024632345268813964,
           "Vegetable Products"
          ],
          [
           0.12628341566524118,
           "Animal Products"
          ],
          [
           0.0005576354806304364,
           "Vegetable Products"
          ],
          [
           0.0005696295729776881,
           "Textiles"
          ],
          [
           0.00037582240690447804,
           "Arts and Antiques"
          ],
          [
           0.00009903518028589833,
           "Foodstuffs"
          ],
          [
           0.04146878157363688,
           "Foodstuffs"
          ],
          [
           0.007576896102577124,
           "Chemical Products"
          ],
          [
           0.000028776389480291833,
           "Animal Products"
          ],
          [
           0.586129427406716,
           "Metals"
          ],
          [
           0.8621496885513157,
           "Animal Products"
          ],
          [
           0.0017967963859388957,
           "Animal and Vegetable Bi-Products"
          ],
          [
           0.0015000924051291396,
           "Animal Products"
          ],
          [
           0.0008840985980498962,
           "Textiles"
          ],
          [
           0.00003266021723237981,
           "Mineral Products"
          ],
          [
           0.00008504715851235147,
           "Vegetable Products"
          ],
          [
           0.00003285232799797416,
           "Wood Products"
          ],
          [
           0.9048416754336067,
           "Transportation"
          ],
          [
           0.0010192391588464773,
           "Vegetable Products"
          ],
          [
           0.005889906970610812,
           "Machines"
          ],
          [
           0.17510504745539895,
           "Plastics and Rubbers"
          ],
          [
           0.00004047433996144681,
           "Chemical Products"
          ],
          [
           0.0008754903712536614,
           "Foodstuffs"
          ],
          [
           0.000016231972611382682,
           "Textiles"
          ],
          [
           0.01392482981539837,
           "Chemical Products"
          ],
          [
           0.00004161348051194761,
           "Textiles"
          ],
          [
           0.0019301035719742903,
           "Chemical Products"
          ],
          [
           0.017903954216790526,
           "Chemical Products"
          ],
          [
           0.011454314151792815,
           "Plastics and Rubbers"
          ],
          [
           0.002464452731068279,
           "Textiles"
          ],
          [
           0.12559826579702163,
           "Plastics and Rubbers"
          ],
          [
           0.0015617859686600523,
           "Chemical Products"
          ],
          [
           0.4220799619672528,
           "Wood Products"
          ],
          [
           0.0009435735249774286,
           "Plastics and Rubbers"
          ],
          [
           0.00003512020598892553,
           "Precious Metals"
          ],
          [
           0.0038519071959801673,
           "Plastics and Rubbers"
          ],
          [
           0.07208467567432716,
           "Plastics and Rubbers"
          ],
          [
           0.06921584399926653,
           "Plastics and Rubbers"
          ],
          [
           0.019661657102241974,
           "Plastics and Rubbers"
          ],
          [
           0.0012934217934788134,
           "Plastics and Rubbers"
          ],
          [
           0.004397561761536082,
           "Textiles"
          ],
          [
           0.00256227976350701,
           "Precious Metals"
          ],
          [
           0.00040249598107328224,
           "Chemical Products"
          ],
          [
           0.0006985504610455683,
           "Stone And Glass"
          ],
          [
           0.00002264028840232784,
           "Paper Goods"
          ],
          [
           0.01012635333940655,
           "Foodstuffs"
          ],
          [
           0.010162852997788137,
           "Miscellaneous"
          ],
          [
           0.009395804992468466,
           "Metals"
          ],
          [
           0.06221027213629427,
           "Precious Metals"
          ],
          [
           0.00003526619629996384,
           "Precious Metals"
          ],
          [
           0.0019258053536718679,
           "Instruments"
          ],
          [
           0.00013318269548512682,
           "Machines"
          ],
          [
           0.12292018103982777,
           "Precious Metals"
          ],
          [
           0.05250142403837115,
           "Chemical Products"
          ],
          [
           2.6565148999211123,
           "Animal Products"
          ],
          [
           0.03149072630184811,
           "Animal Products"
          ],
          [
           0.0007235304088981942,
           "Vegetable Products"
          ],
          [
           0.00034350861323677106,
           "Vegetable Products"
          ],
          [
           0.002998666649731615,
           "Chemical Products"
          ],
          [
           0.010619619923371487,
           "Mineral Products"
          ],
          [
           0.0008167440087999806,
           "Foodstuffs"
          ],
          [
           0.00014079950589357436,
           "Chemical Products"
          ],
          [
           0.007175441819590207,
           "Chemical Products"
          ],
          [
           0.0028700925319987422,
           "Stone And Glass"
          ],
          [
           0.012592770177652314,
           "Foodstuffs"
          ],
          [
           0.0039949485720895675,
           "Machines"
          ],
          [
           0.0009046329502077216,
           "Stone And Glass"
          ],
          [
           0.00020688283509535124,
           "Vegetable Products"
          ],
          [
           0.0615528285243012,
           "Chemical Products"
          ],
          [
           0.13424462380606442,
           "Vegetable Products"
          ],
          [
           0.08016572452199613,
           "Wood Products"
          ],
          [
           0.37179865905606607,
           "Foodstuffs"
          ],
          [
           0.10676038451243293,
           "Metals"
          ],
          [
           3.466966820636873,
           "Foodstuffs"
          ],
          [
           0.0059025467493218475,
           "Textiles"
          ],
          [
           0.1209664305051686,
           "Plastics and Rubbers"
          ],
          [
           0.0011461175696411616,
           "Metals"
          ],
          [
           0.051495388160030096,
           "Metals"
          ],
          [
           0.01396761711349432,
           "Instruments"
          ],
          [
           0.000025210203355071047,
           "Arts and Antiques"
          ],
          [
           0.000009372508614592303,
           "Textiles"
          ],
          [
           0.0004846493411399932,
           "Stone And Glass"
          ],
          [
           0.014709260377300979,
           "Metals"
          ],
          [
           0.018669433086344285,
           "Chemical Products"
          ],
          [
           0.011150755561770958,
           "Paper Goods"
          ],
          [
           0.010517367754687722,
           "Transportation"
          ],
          [
           0.09522768361995226,
           "Metals"
          ],
          [
           2.488197158410573,
           "Mineral Products"
          ],
          [
           0.011328264175328465,
           "Stone And Glass"
          ],
          [
           0.006813436823454451,
           "Chemical Products"
          ],
          [
           0.006072885539432731,
           "Stone And Glass"
          ],
          [
           0.06636089666164925,
           "Machines"
          ],
          [
           0.00024019185962453074,
           "Textiles"
          ],
          [
           0.000706169698846361,
           "Textiles"
          ],
          [
           0.0014123092286735762,
           "Textiles"
          ],
          [
           0.000017487974764781133,
           "Textiles"
          ],
          [
           0.0026940878613841658,
           "Metals"
          ],
          [
           0.0000030335468906487153,
           "Instruments"
          ],
          [
           0.10180763893653494,
           "Metals"
          ],
          [
           1.1836049561612527,
           "Textiles"
          ],
          [
           0.00015372051534630202,
           "Animal and Vegetable Bi-Products"
          ],
          [
           0.00019419381499674381,
           "Mineral Products"
          ],
          [
           0.03155421370832202,
           "Animal Products"
          ],
          [
           0.00009278429822704672,
           "Plastics and Rubbers"
          ],
          [
           0.00003107478326072389,
           "Chemical Products"
          ],
          [
           0.014702856916294724,
           "Chemical Products"
          ],
          [
           0.000577172521304779,
           "Chemical Products"
          ],
          [
           0.0015675378482068276,
           "Chemical Products"
          ],
          [
           0.01336126594912064,
           "Chemical Products"
          ],
          [
           0.00010168658626736838,
           "Chemical Products"
          ],
          [
           0.000026614969982187873,
           "Instruments"
          ],
          [
           0.0003005902359541889,
           "Instruments"
          ],
          [
           0.00019147999035497236,
           "Chemical Products"
          ],
          [
           0.00012997125541261908,
           "Chemical Products"
          ],
          [
           0.007388800590691829,
           "Chemical Products"
          ],
          [
           0.03251212757373337,
           "Mineral Products"
          ],
          [
           0.018094014529393975,
           "Chemical Products"
          ],
          [
           0.0008745436882390898,
           "Mineral Products"
          ],
          [
           0.00001887852380816263,
           "Wood Products"
          ],
          [
           0.0027292593893826723,
           "Metals"
          ],
          [
           0.002608458128709001,
           "Animal Products"
          ],
          [
           0.19874516350676016,
           "Metals"
          ],
          [
           0.000026673574168804207,
           "Chemical Products"
          ],
          [
           0.0004260038888537997,
           "Animal and Vegetable Bi-Products"
          ],
          [
           0.0027259671518221084,
           "Vegetable Products"
          ],
          [
           0.0001936008377238804,
           "Transportation"
          ],
          [
           0.00007843251437207663,
           "Transportation"
          ],
          [
           0.000055010952404976096,
           "Transportation"
          ],
          [
           0.0026709964247759927,
           "Transportation"
          ],
          [
           0.00016007404142431595,
           "Wood Products"
          ],
          [
           0.00017673288831809332,
           "Chemical Products"
          ],
          [
           0.0061031561622865715,
           "Machines"
          ],
          [
           0.00019500941882468232,
           "Textiles"
          ],
          [
           0.000026154805747632455,
           "Animal Hides"
          ],
          [
           0.009936491726205058,
           "Plastics and Rubbers"
          ],
          [
           0.000986203042570949,
           "Paper Goods"
          ],
          [
           0.00047463877510898637,
           "Plastics and Rubbers"
          ],
          [
           0.00022201936021844413,
           "Textiles"
          ],
          [
           0.000053772288768328036,
           "Vegetable Products"
          ],
          [
           0.04272890058445254,
           "Animal Products"
          ],
          [
           10.65442902435436,
           "Mineral Products"
          ],
          [
           0.014374829517894044,
           "Machines"
          ],
          [
           0.0031524433418721885,
           "Paper Goods"
          ],
          [
           0.0027821273011173,
           "Textiles"
          ],
          [
           0.00016201942300371003,
           "Miscellaneous"
          ],
          [
           0.09921830623211261,
           "Machines"
          ],
          [
           0.011510635202523451,
           "Instruments"
          ],
          [
           0.00001914519019578367,
           "Paper Goods"
          ],
          [
           0.01937045359248611,
           "Plastics and Rubbers"
          ],
          [
           0.01617028875742115,
           "Machines"
          ],
          [
           0.014566565424756253,
           "Animal Products"
          ],
          [
           0.0022232750033813206,
           "Stone And Glass"
          ],
          [
           0.05975151926922251,
           "Foodstuffs"
          ],
          [
           0.0005177693758365934,
           "Metals"
          ],
          [
           0.0001328764972793149,
           "Metals"
          ],
          [
           0.021040009886170913,
           "Metals"
          ],
          [
           0.0006751465843655532,
           "Metals"
          ],
          [
           0.0004865139252313304,
           "Metals"
          ],
          [
           0.0011631003000278362,
           "Metals"
          ],
          [
           1.1404506581892622,
           "Mineral Products"
          ],
          [
           0.0015907288079011477,
           "Metals"
          ],
          [
           0.022328894189816147,
           "Metals"
          ],
          [
           0.04189947137002764,
           "Metals"
          ],
          [
           0.0008804450258002536,
           "Metals"
          ],
          [
           0.10287454757302392,
           "Metals"
          ],
          [
           2.3060227278022356e-7,
           "Animal Products"
          ],
          [
           1.5390064207588883,
           "Vegetable Products"
          ],
          [
           0.0002688860645354257,
           "Textiles"
          ],
          [
           0.0002667967732670034,
           "Vegetable Products"
          ],
          [
           0.0003548573659905731,
           "Textiles"
          ],
          [
           0.004675084141264879,
           "Metals"
          ],
          [
           0.012548428308144522,
           "Metals"
          ],
          [
           0.0016544950177244024,
           "Paper Goods"
          ],
          [
           0.5718835638570334,
           "Transportation"
          ],
          [
           0.0021308475318289975,
           "Wood Products"
          ],
          [
           0.027659240410896558,
           "Chemical Products"
          ],
          [
           0.008188501877837179,
           "Chemical Products"
          ],
          [
           0.000015829372252438564,
           "Chemical Products"
          ],
          [
           0.01479247589490382,
           "Chemical Products"
          ],
          [
           0.019846892452404126,
           "Precious Metals"
          ],
          [
           0.000030027883619335185,
           "Chemical Products"
          ],
          [
           0.00026654709862579775,
           "Machines"
          ],
          [
           0.000037890900965638295,
           "Chemical Products"
          ],
          [
           0.11780855882047221,
           "Paper Goods"
          ],
          [
           0.0001601902094865436,
           "Chemical Products"
          ],
          [
           0.007071984970762623,
           "Paper Goods"
          ],
          [
           0.16190394501444905,
           "Animal Products"
          ],
          [
           0.0009903656736723835,
           "Instruments"
          ],
          [
           0.000008561759571343938,
           "Wood Products"
          ],
          [
           0.0010081147664994254,
           "Vegetable Products"
          ],
          [
           0.07407510202669809,
           "Vegetable Products"
          ],
          [
           0.0002786649879826472,
           "Vegetable Products"
          ],
          [
           0.0006041737934401655,
           "Machines"
          ],
          [
           0.021652852244445603,
           "Chemical Products"
          ],
          [
           0.0033936540127409718,
           "Mineral Products"
          ],
          [
           0.024201873244193588,
           "Animal Products"
          ],
          [
           0.000048559983862824965,
           "Instruments"
          ],
          [
           0.0011152224134139718,
           "Machines"
          ],
          [
           0.0708886412085023,
           "Chemical Products"
          ],
          [
           0.005185504760161985,
           "Chemical Products"
          ],
          [
           0.003862005841676266,
           "Chemical Products"
          ],
          [
           0.001552147140428174,
           "Animal Products"
          ],
          [
           0.000032872093907069607,
           "Instruments"
          ],
          [
           0.000005475156819439022,
           "Wood Products"
          ],
          [
           0.0044527121156157316,
           "Foodstuffs"
          ],
          [
           0.0001405886695298896,
           "Metals"
          ],
          [
           0.04636789599629291,
           "Foodstuffs"
          ],
          [
           0.004688916463158007,
           "Instruments"
          ],
          [
           0.0028316558145258016,
           "Metals"
          ],
          [
           0.0018246462050840464,
           "Textiles"
          ],
          [
           0.0010243897386323492,
           "Textiles"
          ],
          [
           0.018219126838872463,
           "Stone And Glass"
          ],
          [
           0.00004843479977188713,
           "Transportation"
          ],
          [
           0.000011343897969111959,
           "Textiles"
          ],
          [
           0.0009723610111084406,
           "Animal and Vegetable Bi-Products"
          ],
          [
           0.005833179505047546,
           "Textiles"
          ],
          [
           0.011557428044759076,
           "Machines"
          ],
          [
           0.0008553287972059697,
           "Miscellaneous"
          ],
          [
           0.008724947957146961,
           "Wood Products"
          ],
          [
           0.00011180361079122254,
           "Chemical Products"
          ],
          [
           0.0009629881557235133,
           "Wood Products"
          ],
          [
           0.00002189022416770585,
           "Chemical Products"
          ],
          [
           0.0006839597524297778,
           "Wood Products"
          ],
          [
           0.002003299507517413,
           "Wood Products"
          ],
          [
           0.011525526907790027,
           "Wood Products"
          ],
          [
           0.09448101738784302,
           "Wood Products"
          ],
          [
           0.015020286666487229,
           "Wood Products"
          ],
          [
           0.0021565855196339504,
           "Wood Products"
          ],
          [
           0.19650758492060047,
           "Wood Products"
          ],
          [
           0.0002817134459977013,
           "Foodstuffs"
          ],
          [
           0.000264217495515215,
           "Textiles"
          ],
          [
           0.04040693994528301,
           "Metals"
          ],
          [
           0.0005414863861291206,
           "Metals"
          ],
          [
           3.84915071858719e-7,
           "Textiles"
          ],
          [
           0.00002675229103485098,
           "Paper Goods"
          ],
          [
           0.025240974714288645,
           "Animal and Vegetable Bi-Products"
          ],
          [
           0.002375655598153153,
           "Chemical Products"
          ],
          [
           0.012205184627443697,
           "Miscellaneous"
          ],
          [
           0.03403962766583052,
           "Vegetable Products"
          ],
          [
           0.0021304095608958825,
           "Paper Goods"
          ],
          [
           0.0024287527250792204,
           "Miscellaneous"
          ],
          [
           0.0007703787343874204,
           "Miscellaneous"
          ],
          [
           0.06335675658894988,
           "Instruments"
          ],
          [
           0.0031255717618420943,
           "Machines"
          ],
          [
           0.004218150765920724,
           "Machines"
          ],
          [
           0.004442602026498577,
           "Machines"
          ],
          [
           0.012390187294711058,
           "Machines"
          ],
          [
           0.013352085898041976,
           "Metals"
          ],
          [
           0.00019144115207745147,
           "Metals"
          ],
          [
           0.0018174656317570385,
           "Chemical Products"
          ],
          [
           0.10695937034668915,
           "Vegetable Products"
          ],
          [
           0.00396992007639004,
           "Chemical Products"
          ],
          [
           0.00966331160461123,
           "Mineral Products"
          ],
          [
           0.00003554499964931016,
           "Metals"
          ],
          [
           0.000002579277751788425,
           "Vegetable Products"
          ],
          [
           0.11313402431018832,
           "Machines"
          ],
          [
           0.002063413532172365,
           "Machines"
          ],
          [
           0.14207732822353283,
           "Machines"
          ],
          [
           0.0025636730867130714,
           "Animal Products"
          ],
          [
           0.11421607606043678,
           "Mineral Products"
          ],
          [
           0.0009286499168400305,
           "Vegetable Products"
          ],
          [
           0.0008335308139473759,
           "Machines"
          ],
          [
           0.012700532873729688,
           "Transportation"
          ],
          [
           0.009255528763010418,
           "Chemical Products"
          ],
          [
           0.09705813059920033,
           "Machines"
          ],
          [
           0.002238462156973325,
           "Metals"
          ],
          [
           0.03319751775379505,
           "Mineral Products"
          ],
          [
           0.00005359335527546398,
           "Chemical Products"
          ],
          [
           0.0026394656385247336,
           "Vegetable Products"
          ],
          [
           0.06480325910650689,
           "Foodstuffs"
          ],
          [
           0.05962196483175257,
           "Machines"
          ],
          [
           0.002408296743017107,
           "Metals"
          ],
          [
           0.04274865262273459,
           "Metals"
          ],
          [
           0.011735211993962578,
           "Stone And Glass"
          ],
          [
           0.000005407189833777482,
           "Metals"
          ],
          [
           0.022351742887189816,
           "Metals"
          ],
          [
           0.00356861802558019,
           "Metals"
          ],
          [
           0.04752755460074579,
           "Metals"
          ],
          [
           0.020041364377209544,
           "Metals"
          ],
          [
           0.014815218480554974,
           "Metals"
          ],
          [
           0.008899890470225408,
           "Precious Metals"
          ],
          [
           0.006943680293580051,
           "Metals"
          ],
          [
           0.00003475471005582725,
           "Textiles"
          ],
          [
           0.0002492467266122559,
           "Textiles"
          ],
          [
           0.00008316211497124876,
           "Textiles"
          ],
          [
           0.046802283751536194,
           "Mineral Products"
          ],
          [
           0.007092935100552122,
           "Foodstuffs"
          ],
          [
           0.15847463468878123,
           "Paper Goods"
          ],
          [
           0.0036528620639966636,
           "Textiles"
          ],
          [
           0.0016401612659268524,
           "Textiles"
          ],
          [
           0.00017318889549431302,
           "Textiles"
          ],
          [
           0.00047870188312427336,
           "Textiles"
          ],
          [
           0.0009242858121739566,
           "Textiles"
          ],
          [
           0.0025185464759371595,
           "Textiles"
          ],
          [
           0.01907657995115069,
           "Chemical Products"
          ],
          [
           0.0013349732021007944,
           "Textiles"
          ],
          [
           0.005619444834902775,
           "Metals"
          ],
          [
           0.01780066208387207,
           "Metals"
          ],
          [
           0.0003001508779397339,
           "Metals"
          ],
          [
           0.0038251507437012965,
           "Metals"
          ],
          [
           16.023607924695362,
           "Mineral Products"
          ],
          [
           0.009445742694872278,
           "Chemical Products"
          ],
          [
           0.023881140159789798,
           "Metals"
          ],
          [
           0.10255793966852539,
           "Metals"
          ],
          [
           0.032227905937902555,
           "Metals"
          ],
          [
           0.005030106223164581,
           "Metals"
          ],
          [
           0.00024353333857266645,
           "Metals"
          ],
          [
           0.0038000001848438464,
           "Metals"
          ],
          [
           0.027930528900312918,
           "Metals"
          ],
          [
           0.00006393474020606822,
           "Metals"
          ],
          [
           0.000330306026272017,
           "Metals"
          ],
          [
           0.01980681863217961,
           "Metals"
          ],
          [
           0.00005470752836184422,
           "Mineral Products"
          ],
          [
           0.0017718857921532713,
           "Textiles"
          ],
          [
           0.005946376439044831,
           "Animal Hides"
          ],
          [
           0.0005174912660279171,
           "Chemical Products"
          ],
          [
           0.0037738745078043545,
           "Plastics and Rubbers"
          ],
          [
           0.006226265179539721,
           "Foodstuffs"
          ],
          [
           0.013394512208219182,
           "Mineral Products"
          ],
          [
           0.135415817378941,
           "Mineral Products"
          ],
          [
           0.12493442600619935,
           "Chemical Products"
          ],
          [
           0.011058387387945921,
           "Chemical Products"
          ],
          [
           0.0035497904770112735,
           "Vegetable Products"
          ],
          [
           0.00021269262528807287,
           "Instruments"
          ],
          [
           0.0022322171700101686,
           "Mineral Products"
          ],
          [
           0.11123910787087761,
           "Vegetable Products"
          ],
          [
           0.0020997411924677874,
           "Miscellaneous"
          ],
          [
           0.026659761959590505,
           "Miscellaneous"
          ],
          [
           0.00021727554203553666,
           "Mineral Products"
          ],
          [
           0.00001173505490700082,
           "Precious Metals"
          ],
          [
           0.010736896263589804,
           "Precious Metals"
          ],
          [
           0.06315861756785174,
           "Chemical Products"
          ],
          [
           0.007884427640327166,
           "Foodstuffs"
          ],
          [
           0.014284014528399508,
           "Stone And Glass"
          ],
          [
           0.05135041943439872,
           "Metals"
          ],
          [
           0.013342663454499144,
           "Metals"
          ],
          [
           0.03307911614383963,
           "Metals"
          ],
          [
           0.00006743365288629748,
           "Mineral Products"
          ],
          [
           0.012819734829618302,
           "Foodstuffs"
          ],
          [
           0.04705373038915374,
           "Plastics and Rubbers"
          ],
          [
           0.035272086540874284,
           "Animal and Vegetable Bi-Products"
          ],
          [
           0.047233938956539614,
           "Foodstuffs"
          ],
          [
           0.00494926920328956,
           "Paper Goods"
          ],
          [
           0.3913131003609058,
           "Foodstuffs"
          ],
          [
           0.00017442201080560094,
           "Textiles"
          ],
          [
           0.00002403569223039945,
           "Transportation"
          ],
          [
           0.00010555862382806608,
           "Metals"
          ],
          [
           0.0000428885550337715,
           "Textiles"
          ],
          [
           0.00001210020406976409,
           "Textiles"
          ],
          [
           0.02207988881535706,
           "Transportation"
          ],
          [
           0.0001463287588852746,
           "Miscellaneous"
          ],
          [
           0.05217178866592703,
           "Wood Products"
          ],
          [
           0.00018385034944412953,
           "Transportation"
          ],
          [
           0.0071840646107405115,
           "Machines"
          ],
          [
           0.0006056007533687228,
           "Paper Goods"
          ],
          [
           0.000003968786484164899,
           "Paper Goods"
          ],
          [
           0.0028943865681287225,
           "Paper Goods"
          ],
          [
           0.0014316656020033798,
           "Paper Goods"
          ],
          [
           0.055834030520715325,
           "Paper Goods"
          ],
          [
           0.006435131194180982,
           "Animal and Vegetable Bi-Products"
          ],
          [
           0.04216486060250484,
           "Arts and Antiques"
          ],
          [
           0.010368474975945398,
           "Metals"
          ],
          [
           0.004677874602150687,
           "Textiles"
          ],
          [
           0.022226481813237605,
           "Paper Goods"
          ],
          [
           0.3065349600325874,
           "Chemical Products"
          ],
          [
           0.08681178605462268,
           "Chemical Products"
          ],
          [
           0.004347812702194516,
           "Chemical Products"
          ],
          [
           0.004635779457643413,
           "Miscellaneous"
          ],
          [
           0.0037489874944015107,
           "Vegetable Products"
          ],
          [
           0.0008574829345270385,
           "Metals"
          ],
          [
           0.017902017851239842,
           "Wood Products"
          ],
          [
           0.00414164213336727,
           "Textiles"
          ],
          [
           0.0037829737613949608,
           "Plastics and Rubbers"
          ],
          [
           0.0026988011637775924,
           "Vegetable Products"
          ],
          [
           0.02696815244746036,
           "Foodstuffs"
          ],
          [
           0.00010148649978406885,
           "Foodstuffs"
          ],
          [
           0.005676689335035536,
           "Vegetable Products"
          ],
          [
           0.004028017284776587,
           "Animal and Vegetable Bi-Products"
          ],
          [
           0.0026850309137744304,
           "Textiles"
          ],
          [
           0.012916039193516015,
           "Chemical Products"
          ],
          [
           0.030171356030971,
           "Machines"
          ],
          [
           0.0009217502274843793,
           "Metals"
          ],
          [
           0.013388326865753648,
           "Instruments"
          ],
          [
           0.0001475701966846027,
           "Textiles"
          ],
          [
           0.0018541782071243202,
           "Textiles"
          ],
          [
           0.09205272031898401,
           "Mineral Products"
          ],
          [
           0.013691255374076793,
           "Chemical Products"
          ],
          [
           0.04113179675071261,
           "Chemical Products"
          ],
          [
           0.00014482377563134052,
           "Chemical Products"
          ],
          [
           0.00003932895754491587,
           "Textiles"
          ],
          [
           0.05793261835504887,
           "Chemical Products"
          ],
          [
           0.00894751278710237,
           "Mineral Products"
          ],
          [
           0.000030499838045280873,
           "Metals"
          ],
          [
           0.00007182757980118202,
           "Metals"
          ],
          [
           0.08186912317298536,
           "Mineral Products"
          ],
          [
           0.0018915697588075475,
           "Metals"
          ],
          [
           0.014331181189056269,
           "Metals"
          ],
          [
           0.00026252594982104663,
           "Chemical Products"
          ],
          [
           0.006820872966518359,
           "Paper Goods"
          ],
          [
           0.00045945058120597736,
           "Textiles"
          ],
          [
           0.002289183560334254,
           "Textiles"
          ],
          [
           0.008110391513106325,
           "Textiles"
          ],
          [
           0.004310998523119077,
           "Textiles"
          ],
          [
           0.0006263511434452581,
           "Textiles"
          ],
          [
           0.000057795864965424174,
           "Textiles"
          ],
          [
           0.0000011869948567318875,
           "Textiles"
          ],
          [
           0.0003074216115538436,
           "Textiles"
          ],
          [
           0.0004910153509500673,
           "Textiles"
          ],
          [
           0.0007989453278150324,
           "Textiles"
          ],
          [
           0.0005109178875575082,
           "Machines"
          ],
          [
           0.000583403637454535,
           "Textiles"
          ],
          [
           0.006390000075390714,
           "Textiles"
          ],
          [
           0.0017643053926299996,
           "Textiles"
          ],
          [
           0.0005145565486827456,
           "Textiles"
          ],
          [
           0.00014988835637413022,
           "Textiles"
          ],
          [
           0.0000060403924655018246,
           "Textiles"
          ],
          [
           0.04216102324197765,
           "Textiles"
          ],
          [
           0.00023021007553132965,
           "Paper Goods"
          ],
          [
           0.000007696914355834347,
           "Textiles"
          ],
          [
           0.006126132817913858,
           "Animal Products"
          ],
          [
           0.000608607598943576,
           "Weapons"
          ],
          [
           0.00011277040648522445,
           "Instruments"
          ],
          [
           0.01774469023086879,
           "Machines"
          ],
          [
           0.0014985374869469644,
           "Chemical Products"
          ],
          [
           0.0014631648321541532,
           "Mineral Products"
          ],
          [
           0.011814172292784536,
           "Machines"
          ],
          [
           0.005921239751000781,
           "Machines"
          ],
          [
           0.014938314667305727,
           "Machines"
          ],
          [
           0.000034917345342945936,
           "Textiles"
          ],
          [
           0.0000014883382778537133,
           "Textiles"
          ],
          [
           0.02474115971931742,
           "Machines"
          ],
          [
           0.00024556021118078735,
           "Precious Metals"
          ],
          [
           0.00005193267214111137,
           "Animal Products"
          ],
          [
           0.0002999095257865684,
           "Machines"
          ],
          [
           0.0013416415956429954,
           "Textiles"
          ],
          [
           0.012753948335823294,
           "Stone And Glass"
          ],
          [
           0.059705898857489545,
           "Chemical Products"
          ],
          [
           0.004612331887901187,
           "Machines"
          ],
          [
           0.002987417073293625,
           "Plastics and Rubbers"
          ],
          [
           0.000008197303949250683,
           "Wood Products"
          ],
          [
           0.0013001945648918516,
           "Instruments"
          ],
          [
           0.048802077410966684,
           "Transportation"
          ],
          [
           0.058734827485257005,
           "Machines"
          ],
          [
           0.00018109942037651221,
           "Instruments"
          ],
          [
           0.6767329459478553,
           "Transportation"
          ],
          [
           8.464663877541739e-7,
           "Chemical Products"
          ],
          [
           0.00991849573289949,
           "Plastics and Rubbers"
          ],
          [
           0.000874366835368236,
           "Mineral Products"
          ],
          [
           0.004632882191494422,
           "Metals"
          ],
          [
           0.0005790828790803372,
           "Animal Products"
          ],
          [
           0.0007641198766108636,
           "Foodstuffs"
          ],
          [
           0.08882278871836197,
           "Transportation"
          ],
          [
           0.0013472180094002567,
           "Textiles"
          ],
          [
           0.006562025556411077,
           "Textiles"
          ],
          [
           0.04417105945679326,
           "Animal Products"
          ],
          [
           0.001170418887948177,
           "Foodstuffs"
          ],
          [
           0.004439972120277877,
           "Footwear and Headwear"
          ],
          [
           0.0017314627742014055,
           "Transportation"
          ],
          [
           0.0762608973987311,
           "Weapons"
          ],
          [
           0.0023669676141798656,
           "Foodstuffs"
          ],
          [
           0.00012539700792353045,
           "Chemical Products"
          ],
          [
           0.0021087610356516767,
           "Vegetable Products"
          ],
          [
           0.024493029246413552,
           "Machines"
          ],
          [
           0.1497319286227785,
           "Foodstuffs"
          ],
          [
           0.002706556682320043,
           "Animal Products"
          ],
          [
           0.006375673258999865,
           "Machines"
          ],
          [
           0.0020155893949604267,
           "Metals"
          ],
          [
           0.0002409342949117826,
           "Textiles"
          ],
          [
           0.0007055777618845025,
           "Metals"
          ],
          [
           0.020966803200747404,
           "Machines"
          ],
          [
           0.29977912835041415,
           "Miscellaneous"
          ],
          [
           0.0020751038537061496,
           "Stone And Glass"
          ],
          [
           0.006057190020529605,
           "Metals"
          ],
          [
           0.018354529904812646,
           "Animal Products"
          ],
          [
           0.0007550722918001736,
           "Transportation"
          ],
          [
           0.002726030957563749,
           "Animal Hides"
          ],
          [
           0.0007401861348589565,
           "Metals"
          ],
          [
           0.012589419335905133,
           "Metals"
          ],
          [
           0.0008327575161003084,
           "Textiles"
          ],
          [
           0.00036718470462976735,
           "Textiles"
          ],
          [
           0.05223073927610804,
           "Metals"
          ],
          [
           0.0031279842430627443,
           "Metals"
          ],
          [
           0.0016076064668763149,
           "Chemical Products"
          ],
          [
           0.010900305888866561,
           "Chemical Products"
          ],
          [
           0.06947329392492371,
           "Animal Products"
          ],
          [
           0.0005772002629315797,
           "Animal Hides"
          ],
          [
           0.048009322280401875,
           "Machines"
          ],
          [
           0.001376676149359174,
           "Footwear and Headwear"
          ],
          [
           0.00687036402873068,
           "Machines"
          ],
          [
           0.015438203524358311,
           "Chemical Products"
          ],
          [
           8.752483255598259e-7,
           "Chemical Products"
          ],
          [
           0.00004621963087185695,
           "Instruments"
          ],
          [
           0.007191827411459997,
           "Instruments"
          ],
          [
           0.00013166973651348754,
           "Instruments"
          ],
          [
           5.309053828970259e-7,
           "Animal and Vegetable Bi-Products"
          ],
          [
           0.0007881947538891189,
           "Vegetable Products"
          ],
          [
           0.00020641504191342563,
           "Vegetable Products"
          ],
          [
           0.000009735577155345528,
           "Vegetable Products"
          ],
          [
           0.0004851812868338952,
           "Instruments"
          ],
          [
           0.001391772449123406,
           "Chemical Products"
          ],
          [
           0.00007490655360571676,
           "Chemical Products"
          ],
          [
           0.003019761035980478,
           "Chemical Products"
          ],
          [
           0.04055189618718232,
           "Chemical Products"
          ],
          [
           0.04003588042892987,
           "Textiles"
          ],
          [
           0.000029487268667057935,
           "Transportation"
          ],
          [
           0.004361526428633071,
           "Textiles"
          ],
          [
           0.000002220717225390303,
           "Machines"
          ],
          [
           0.0027790146905902697,
           "Chemical Products"
          ],
          [
           0.0009559650161285992,
           "Vegetable Products"
          ],
          [
           0.0002317805983785802,
           "Stone And Glass"
          ],
          [
           0.00005082439415042625,
           "Instruments"
          ],
          [
           0.00037783991671355374,
           "Stone And Glass"
          ],
          [
           0.0079301180996678,
           "Metals"
          ],
          [
           0.0032846682576920237,
           "Chemical Products"
          ],
          [
           0.001716791268097558,
           "Paper Goods"
          ],
          [
           0.00022004797086392448,
           "Textiles"
          ],
          [
           0.00021619431213098218,
           "Animal Products"
          ],
          [
           0.0002805219431266143,
           "Textiles"
          ],
          [
           0.011527032931354967,
           "Metals"
          ],
          [
           0.03363513255377592,
           "Machines"
          ],
          [
           0.00491352966548231,
           "Instruments"
          ],
          [
           0.06278163902865035,
           "Instruments"
          ],
          [
           0.00004449306137385285,
           "Textiles"
          ],
          [
           0.0029277330438540828,
           "Animal and Vegetable Bi-Products"
          ],
          [
           0.0034448345400254514,
           "Metals"
          ],
          [
           0.0037269294333916615,
           "Mineral Products"
          ],
          [
           0.0001453973337654435,
           "Instruments"
          ],
          [
           0.00007946762382207507,
           "Instruments"
          ],
          [
           0.0165684983103834,
           "Paper Goods"
          ],
          [
           0.001156074039499907,
           "Metals"
          ],
          [
           0.003269712053143135,
           "Mineral Products"
          ],
          [
           0.00004989123517892013,
           "Chemical Products"
          ],
          [
           0.0005128043181799509,
           "Machines"
          ],
          [
           0.027577115485997318,
           "Paper Goods"
          ],
          [
           0.11081087355522903,
           "Vegetable Products"
          ],
          [
           0.0008952954653969648,
           "Metals"
          ],
          [
           0.00021515781559964368,
           "Metals"
          ],
          [
           0.5212196525902564,
           "Transportation"
          ],
          [
           0.0008980890472157883,
           "Machines"
          ],
          [
           0.0604453172428268,
           "Transportation"
          ],
          [
           0.1657583916095925,
           "Machines"
          ],
          [
           0.000009973808375495924,
           "Miscellaneous"
          ],
          [
           0.05516028558204387,
           "Instruments"
          ],
          [
           0.006088885869460329,
           "Animal Hides"
          ],
          [
           0.0009715887535723781,
           "Textiles"
          ],
          [
           0.0000019543976081042703,
           "Transportation"
          ],
          [
           0.0003315596010330704,
           "Vegetable Products"
          ],
          [
           0.0046335049910160965,
           "Instruments"
          ],
          [
           0.005292470578009514,
           "Mineral Products"
          ],
          [
           0.0007550674370154836,
           "Textiles"
          ],
          [
           1.016037081573015e-7,
           "Textiles"
          ],
          [
           0.0003371738127568476,
           "Textiles"
          ],
          [
           0.0021853282723917466,
           "Machines"
          ],
          [
           0.05641293862754682,
           "Footwear and Headwear"
          ],
          [
           0.005074951256428466,
           "Machines"
          ],
          [
           0.0010167292351616908,
           "Textiles"
          ],
          [
           0.0009762233390997581,
           "Instruments"
          ],
          [
           0.023583583123955924,
           "Machines"
          ],
          [
           0.00042548165272927787,
           "Vegetable Products"
          ],
          [
           0.0016098746916376012,
           "Foodstuffs"
          ],
          [
           0.015536096096390358,
           "Textiles"
          ],
          [
           0.00043066448215630526,
           "Instruments"
          ],
          [
           0.0015639061224882902,
           "Animal Products"
          ],
          [
           6.779360049403564e-7,
           "Footwear and Headwear"
          ],
          [
           0.0000019543976081042703,
           "Metals"
          ],
          [
           0.0019597777498519173,
           "Vegetable Products"
          ],
          [
           0.0005559900553908241,
           "Miscellaneous"
          ],
          [
           0.0008895272876444443,
           "Animal Products"
          ],
          [
           0.06252266261997844,
           "Transportation"
          ],
          [
           0.0009256579823895827,
           "Transportation"
          ],
          [
           0.0002946001251872632,
           "Vegetable Products"
          ],
          [
           0.00006740591125949685,
           "Mineral Products"
          ],
          [
           0.01710296814555397,
           "Stone And Glass"
          ],
          [
           0.002839473751728554,
           "Metals"
          ],
          [
           0.35326289345013523,
           "Stone And Glass"
          ],
          [
           0.0005582444093387101,
           "Instruments"
          ],
          [
           0.00015863737192637841,
           "Wood Products"
          ],
          [
           0.007485587658895871,
           "Machines"
          ],
          [
           0.03329245722965417,
           "Chemical Products"
          ],
          [
           0.0003541669462535725,
           "Textiles"
          ],
          [
           0.0463896315608912,
           "Foodstuffs"
          ],
          [
           0.0003141635204070663,
           "Metals"
          ],
          [
           0.004469581105332523,
           "Transportation"
          ],
          [
           0.000006755432896288022,
           "Vegetable Products"
          ],
          [
           0.0006222124394969391,
           "Vegetable Products"
          ],
          [
           0.005992886316687089,
           "Machines"
          ],
          [
           0.00748664080040329,
           "Paper Goods"
          ],
          [
           0.016988620280814798,
           "Chemical Products"
          ],
          [
           0.0015944142830216109,
           "Arts and Antiques"
          ],
          [
           0.023691035460583466,
           "Chemical Products"
          ],
          [
           0.02663688794798238,
           "Vegetable Products"
          ],
          [
           0.016193562941995872,
           "Chemical Products"
          ],
          [
           0.000002721800359476653,
           "Weapons"
          ],
          [
           0.003890757610462772,
           "Machines"
          ],
          [
           0.0001625010869990359,
           "Textiles"
          ],
          [
           0.0000012920662682392674,
           "Stone And Glass"
          ],
          [
           0.0024344515487647396,
           "Machines"
          ],
          [
           0.01236395932042274,
           "Miscellaneous"
          ],
          [
           0.0002693809058034819,
           "Machines"
          ],
          [
           0.00017302140542250423,
           "Mineral Products"
          ],
          [
           0.000025328105268973723,
           "Chemical Products"
          ],
          [
           0.04604769728497537,
           "Animal Products"
          ],
          [
           0.36950844420075546,
           "Animal Products"
          ],
          [
           0.012408908038016793,
           "Animal and Vegetable Bi-Products"
          ],
          [
           0.006289053497018252,
           "Foodstuffs"
          ],
          [
           0.000844181171246472,
           "Instruments"
          ],
          [
           0.0025606697088415686,
           "Stone And Glass"
          ],
          [
           0.004958016831760468,
           "Machines"
          ],
          [
           0.07406598127334672,
           "Machines"
          ],
          [
           0.00015930663867294356,
           "Chemical Products"
          ],
          [
           0.014178282519403937,
           "Vegetable Products"
          ],
          [
           0.000012584988998105071,
           "Mineral Products"
          ],
          [
           0.000029689782542702523,
           "Instruments"
          ],
          [
           0.00001450401603203854,
           "Metals"
          ],
          [
           0.00000464776280011028,
           "Paper Goods"
          ],
          [
           0.031107004466712156,
           "Machines"
          ],
          [
           0.0002977290339200391,
           "Textiles"
          ],
          [
           0.0031461661052678757,
           "Textiles"
          ],
          [
           0.00968911582555017,
           "Textiles"
          ],
          [
           0.000033339887088995204,
           "Textiles"
          ],
          [
           0.00000848547009764221,
           "Animal Hides"
          ],
          [
           0.009202282524840297,
           "Chemical Products"
          ],
          [
           0.00002461826639321264,
           "Textiles"
          ],
          [
           0.0006093975417667238,
           "Machines"
          ],
          [
           0.003476717991707413,
           "Animal Hides"
          ],
          [
           0.0011998510201319686,
           "Chemical Products"
          ],
          [
           0.00004180073649285186,
           "Footwear and Headwear"
          ],
          [
           0.000022541458856850597,
           "Transportation"
          ],
          [
           0.05578447149151734,
           "Foodstuffs"
          ],
          [
           0.0010475463680635038,
           "Textiles"
          ],
          [
           0.004054721027964537,
           "Machines"
          ],
          [
           0.0024947184991374297,
           "Mineral Products"
          ],
          [
           0.0012672482621330903,
           "Stone And Glass"
          ],
          [
           0.00002406170000552504,
           "Stone And Glass"
          ],
          [
           0.000048002377164132336,
           "Machines"
          ],
          [
           0.00236428811980126,
           "Stone And Glass"
          ],
          [
           0.021461036580406344,
           "Mineral Products"
          ],
          [
           0.00011052680241772362,
           "Transportation"
          ],
          [
           0.00002481488517316209,
           "Vegetable Products"
          ],
          [
           0.008304004834562265,
           "Vegetable Products"
          ],
          [
           0.10457540231683553,
           "Vegetable Products"
          ],
          [
           0.010226936849238257,
           "Weapons"
          ],
          [
           0.0036774921205812664,
           "Chemical Products"
          ],
          [
           0.0013456738410984668,
           "Footwear and Headwear"
          ],
          [
           0.00012873363208697604,
           "Vegetable Products"
          ],
          [
           0.05156100300250928,
           "Machines"
          ],
          [
           0.004973112091213695,
           "Miscellaneous"
          ],
          [
           0.001711878225991167,
           "Textiles"
          ],
          [
           0.002236737668097331,
           "Miscellaneous"
          ],
          [
           0.02718594051605104,
           "Textiles"
          ],
          [
           0.0002265301487362263,
           "Textiles"
          ],
          [
           0.000019809602157658723,
           "Mineral Products"
          ],
          [
           0.0001441298881909898,
           "Paper Goods"
          ],
          [
           0.007618544606892909,
           "Textiles"
          ],
          [
           0.00009970479380279848,
           "Vegetable Products"
          ],
          [
           0.0000055590752405109225,
           "Metals"
          ],
          [
           0.002374784511071613,
           "Animal Hides"
          ],
          [
           0.0000855832654502736,
           "Animal Hides"
          ],
          [
           0.001072102215796415,
           "Animal Hides"
          ],
          [
           0.0013102089453965434,
           "Machines"
          ],
          [
           0.12236628582403071,
           "Footwear and Headwear"
          ],
          [
           0.000606181593679861,
           "Animal Hides"
          ],
          [
           0.000871634978669044,
           "Chemical Products"
          ],
          [
           0.008765667463735258,
           "Mineral Products"
          ],
          [
           0.03582875626612172,
           "Metals"
          ],
          [
           0.011801935461202779,
           "Metals"
          ],
          [
           0.007656573522451879,
           "Metals"
          ],
          [
           0.8060749411606887,
           "Machines"
          ],
          [
           0.00683304564558814,
           "Vegetable Products"
          ],
          [
           0.00008448435025863371,
           "Mineral Products"
          ],
          [
           "(?)",
           "Animal Hides"
          ],
          [
           "(?)",
           "Animal Products"
          ],
          [
           "(?)",
           "Animal and Vegetable Bi-Products"
          ],
          [
           "(?)",
           "Arts and Antiques"
          ],
          [
           "(?)",
           "Chemical Products"
          ],
          [
           "(?)",
           "Foodstuffs"
          ],
          [
           "(?)",
           "Footwear and Headwear"
          ],
          [
           "(?)",
           "Instruments"
          ],
          [
           "(?)",
           "Machines"
          ],
          [
           "(?)",
           "Metals"
          ],
          [
           "(?)",
           "Mineral Products"
          ],
          [
           "(?)",
           "Miscellaneous"
          ],
          [
           "(?)",
           "Paper Goods"
          ],
          [
           "(?)",
           "Plastics and Rubbers"
          ],
          [
           "(?)",
           "Precious Metals"
          ],
          [
           "(?)",
           "Stone And Glass"
          ],
          [
           "(?)",
           "Textiles"
          ],
          [
           "(?)",
           "Transportation"
          ],
          [
           "(?)",
           "Vegetable Products"
          ],
          [
           "(?)",
           "Weapons"
          ],
          [
           "(?)",
           "Wood Products"
          ]
         ],
         "domain": {
          "x": [
           0,
           1
          ],
          "y": [
           0,
           1
          ]
         },
         "hovertemplate": "labels=%{label}<br>Trade Value m=%{value}<br>parent=%{parent}<br>id=%{id}<br>Section=%{customdata[1]}<extra></extra>",
         "ids": [
          "Textiles/Labels",
          "Metals/Large Coated Flat-Rolled Iron",
          "Metals/Large Aluminium Containers",
          "Chemical Products/Lake Pigments",
          "Chemical Products/Laboratory Reagents",
          "Stone And Glass/Laboratory Glassware",
          "Stone And Glass/Laboratory Ceramic Ware",
          "Instruments/LCDs",
          "Paper Goods/Kraft Paper",
          "Metals/Knives",
          "Textiles/Knotted Carpets",
          "Machines/Knitting Machine Accessories",
          "Footwear and Headwear/Knitted Hats",
          "Textiles/Knit Women's Undergarments",
          "Textiles/Knit Women's Suits",
          "Textiles/Knit Women's Shirts",
          "Textiles/Knit Women's Coats",
          "Textiles/Knit T-shirts",
          "Textiles/Knit Sweaters",
          "Machines/Knitting Machines",
          "Textiles/Animal Hair",
          "Animal Products/Animal Fat",
          "Foodstuffs/Animal Food",
          "Animal Products/Animal Organs",
          "Stone And Glass/Abrasive Powder",
          "Chemical Products/Antibiotics",
          "Chemical Products/Antifreeze",
          "Foodstuffs/Animal Extracts",
          "Chemical Products/Animal or Vegetable Fertilizers",
          "Chemical Products/Ammonia",
          "Foodstuffs/Animal Meal and Pellets",
          "Chemical Products/Amine Compounds",
          "Plastics and Rubbers/Amino-resins",
          "Chemical Products/Alkaline Metals",
          "Chemical Products/Aldehydes",
          "Chemical Products/Aldehyde Derivatives",
          "Foodstuffs/Alcohol > 80% ABV",
          "Transportation/Aircraft Parts",
          "Transportation/Aircraft Launch Gear",
          "Machines/Air Pumps",
          "Machines/Air Conditioners",
          "Wood Products/Agglomerated Cork",
          "Chemical Products/Acyclic Hydrocarbons",
          "Chemical Products/Acyclic Alcohols",
          "Chemical Products/Activated Carbon",
          "Plastics and Rubbers/Acrylic Polymers",
          "Chemical Products/Acetals and Hemiacetals",
          "Metals/Aluminium Bars",
          "Metals/Aluminium Cans",
          "Chemical Products/Alkylbenzenes and Alkylnaphthalenes",
          "Metals/Aluminium Gas Containers",
          "Metals/Aluminium Housewares",
          "Mineral Products/Aluminium Ore",
          "Chemical Products/Aluminium Oxide",
          "Metals/Aluminium Pipe Fittings",
          "Metals/Aluminium Pipes",
          "Metals/Aluminium Foil",
          "Metals/Aluminium Plating",
          "Metals/Aluminium Powder",
          "Metals/Aluminium Structures",
          "Metals/Aluminium Wire",
          "Chemical Products/Carboxyimide Compounds",
          "Chemical Products/Carboxyamide Compounds",
          "Chemical Products/Carbonates",
          "Machines/Carbon-based Electronics",
          "Paper Goods/Carbon Paper",
          "Chemical Products/Carboxylic Acids",
          "Instruments/Cameras",
          "Chemical Products/Candles",
          "Chemical Products/Carbides",
          "Chemical Products/Carbon",
          "Paper Goods/Calendars",
          "Textiles/Carded Wool or Animal Hair Fabric",
          "Mineral Products/Calcium Phosphates",
          "Chemical Products/Casein",
          "Vegetable Products/Cassava",
          "Metals/Cast Iron Pipes",
          "Stone And Glass/Cast or Rolled Glass",
          "Machines/Casting Machines",
          "Machines/Cathode Tubes",
          "Machines/Calculators",
          "Transportation/Cars",
          "Miscellaneous/Zippers",
          "Mineral Products/Zinc Ore",
          "Metals/Zinc Powder",
          "Metals/Zinc Sheets",
          "Chemical Products/Zinc Oxide and Peroxide",
          "Metals/Zirconium",
          "Textiles/Hand-Woven Tapestries",
          "Machines/Electric Soldering Equipment",
          "Machines/Electrical Capacitors",
          "Machines/Electrical Control Boards",
          "Machines/Electrical Ignitions",
          "Machines/Electrical Insulators",
          "Machines/Electrical Lighting and Signalling Equipment",
          "Machines/Electrical Parts",
          "Machines/Electrical Power Accessories",
          "Machines/Electrical Resistors",
          "Machines/Electrical Transformers",
          "Mineral Products/Electricity",
          "Machines/Electromagnets",
          "Textiles/Embroidery",
          "Machines/Engine Parts",
          "Chemical Products/Enzymes",
          "Chemical Products/Epoxides",
          "Animal Hides/Equine and Bovine Hides",
          "Textiles/Felt Carpets",
          "Textiles/Felt",
          "Mineral Products/Feldspar",
          "Animal and Vegetable Bi-Products/Fat and Oil Residues",
          "Footwear and Headwear/Fake Hair",
          "Miscellaneous/Fairground Amusements",
          "Instruments/Electric Musical Instruments",
          "Stone And Glass/Eyewear and Clock Glass",
          "Instruments/Eyewear",
          "Weapons/Explosive Ammunition",
          "Machines/Excavation Machinery",
          "Plastics and Rubbers/Ethylene Polymers",
          "Chemical Products/Ethers",
          "Chemical Products/Essential Oils",
          "Instruments/Eyewear Frames",
          "Machines/Electric Motors",
          "Machines/Electric Motor Parts",
          "Transportation/Electric Locomotives",
          "Footwear and Headwear/Hats",
          "Footwear and Headwear/Headbands and Linings",
          "Textiles/Heavy Mixed Woven Cotton",
          "Textiles/Heavy Pure Woven Cotton",
          "Textiles/Heavy Synthetic Cotton Fabrics",
          "Machines/High-voltage Protection Equipment",
          "Footwear and Headwear/Hat Shapes",
          "Animal Products/Honey",
          "Chemical Products/Hormones",
          "Animal Products/Horse Meat",
          "Textiles/Horsehair Fabric",
          "Textiles/Horsehair Yarn",
          "Animal Products/Horses",
          "Textiles/Hose Piping Textiles",
          "Vegetable Products/Hops",
          "Machines/Felt Machinery",
          "Footwear and Headwear/Hat Forms",
          "Plastics and Rubbers/Hard Rubber",
          "Machines/Electric Heaters",
          "Machines/Electric Generating Sets",
          "Machines/Electric Furnaces",
          "Machines/Electric Filament",
          "Machines/Electric Batteries",
          "Chemical Products/Halogenated Hydrocarbons",
          "Machines/Harvesting Machinery",
          "Chemical Products/Halogens",
          "Miscellaneous/Hand Sifters",
          "Metals/Hand Tools",
          "Textiles/Hand-Woven Rugs",
          "Weapons/Handguns",
          "Textiles/Handkerchiefs",
          "Foodstuffs/Hard Liquor",
          "Metals/Hand Saws",
          "Metals/Hot-Rolled Iron",
          "Textiles/Felt or Coated Fabric Garments",
          "Metals/Ferroalloys",
          "Chemical Products/Gelatin",
          "Textiles/Gimp Yarn",
          "Chemical Products/Glands and Other Organs",
          "Stone And Glass/Glass Balls",
          "Stone And Glass/Glass Beads",
          "Stone And Glass/Glass Bottles",
          "Stone And Glass/Glass Bricks",
          "Stone And Glass/Glass Bulbs",
          "Stone And Glass/Glass Fibers",
          "Stone And Glass/Glass Mirrors",
          "Stone And Glass/Glass Scraps",
          "Machines/Glass Working Machines",
          "Stone And Glass/Glass with Edge Workings",
          "Stone And Glass/Glazed Ceramics",
          "Chemical Products/Glaziers Putty",
          "Chemical Products/Glues",
          "Animal and Vegetable Bi-Products/Glycerol",
          "Chemical Products/Hair Products",
          "Mineral Products/Gypsum",
          "Textiles/Gum Coated Textile Fabric",
          "Vegetable Products/Ground Nuts",
          "Animal and Vegetable Bi-Products/Ground Nut Oil",
          "Foodstuffs/Ground Nut Meal",
          "Textiles/Gauze",
          "Mineral Products/Gravel and Crushed Stone",
          "Vegetable Products/Grapes",
          "Mineral Products/Granulated Slag",
          "Mineral Products/Granite",
          "Precious Metals/Gold Clad Metals",
          "Precious Metals/Gold",
          "Chemical Products/Glycosides",
          "Mineral Products/Graphite",
          "Machines/Gaskets",
          "Instruments/Gas and Liquid Flow Measuring Instruments",
          "Machines/Gas Turbines",
          "Textiles/Flax Woven Fabric",
          "Textiles/Flax Fibers",
          "Foodstuffs/Flavored Water",
          "Metals/Flat-Rolled Stainless Steel",
          "Metals/Flat-Rolled Iron",
          "Metals/Flat Flat-Rolled Steel",
          "Textiles/Flax Yarn",
          "Miscellaneous/Fishing and Hunting Equipment",
          "Animal Products/Fish: dried, salted, smoked or in brine",
          "Animal and Vegetable Bi-Products/Fish oil",
          "Animal Products/Fish Fillets",
          "Chemical Products/Fireworks",
          "Chemical Products/Fire Extinguishers Preparations",
          "Metals/Filing Cabinets",
          "Transportation/Fishing Ships",
          "Animal Products/Fermented Milk Products",
          "Metals/Flexible Metal Tubing",
          "Chemical Products/Fluorides",
          "Textiles/Garments of Impregnated Fabric",
          "Metals/Garden Tools",
          "Animal Hides/Furskin Apparel",
          "Wood Products/Fuel Wood",
          "Machines/Fruit Pressing Machinery",
          "Foodstuffs/Fruit Juice",
          "Stone And Glass/Float Glass",
          "Vegetable Products/Frozen Vegetables",
          "Animal Products/Frozen Bovine Meat",
          "Stone And Glass/Friction Material",
          "Machines/Fork-Lifts",
          "Machines/Forging Machines",
          "Vegetable Products/Forage Crops",
          "Footwear and Headwear/Footwear Parts",
          "Vegetable Products/Frozen Fruits and Nuts",
          "Machines/Hair Trimmers",
          "Metals/Hot-Rolled Iron Bars",
          "Textiles/House Linens",
          "Metals/Hot-Rolled Stainless Steel Bars",
          "Machines/Integrated Circuits",
          "Stone And Glass/Insulating Glass",
          "Machines/Insulated Wire",
          "Instruments/Instructional Models",
          "Vegetable Products/Insect Resins",
          "Chemical Products/Inorganic Salts",
          "Chemical Products/Inorganic Compounds",
          "Miscellaneous/Ink Ribbons",
          "Chemical Products/Ink",
          "Animal and Vegetable Bi-Products/Inedible Fats and Oils",
          "Machines/Industrial Printers",
          "Machines/Industrial Furnaces",
          "Machines/Industrial Food Preperation Machinery",
          "Chemical Products/Industrial Fatty Acids, Oils and Alcohols",
          "Chemical Products/Halides",
          "Precious Metals/Imitation Jewellery",
          "Machines/Household Washing Machines",
          "Instruments/Incomplete Movement Sets",
          "Animal Products/Human Hair",
          "Chemical Products/Hydraulic Brake Fluid",
          "Machines/Hydraulic Turbines",
          "Chemical Products/Hydrides and other anions",
          "Chemical Products/Hydrazine or Hydroxylamine Derivatives",
          "Chemical Products/Hydrogen",
          "Chemical Products/Hydrogen peroxide",
          "Instruments/Hydrometers",
          "Chemical Products/Hypochlorites",
          "Foodstuffs/Ice Cream",
          "Instruments/Image Projectors",
          "Chemical Products/Hydrochloric Acid",
          "Chemical Products/Chlorates and Perchlorates",
          "Instruments/Chemical Analysis Instruments",
          "Chemical Products/Chemically Pure Sugars",
          "Chemical Products/Chlorides",
          "Vegetable Products/Citrus",
          "Mineral Products/Chromium Ore",
          "Chemical Products/Chromium Oxides and Hydroxides",
          "Paper Goods/Cigarette Paper",
          "Vegetable Products/Cinnamon",
          "Animal Products/Cheese",
          "Foodstuffs/Chocolate",
          "Animal Hides/Chamois Leather",
          "Stone And Glass/Ceramic Tableware",
          "Mineral Products/Chalk",
          "Metals/Cermets",
          "Vegetable Products/Cereal Meal and Pellets",
          "Vegetable Products/Cereal Flours",
          "Vegetable Products/Citrus and Melon Peels",
          "Stone And Glass/Ceramic Pipes",
          "Stone And Glass/Ceramic Bricks",
          "Machines/Centrifuges",
          "Machines/Central Heating Boilers",
          "Stone And Glass/Cement Articles",
          "Mineral Products/Cement",
          "Paper Goods/Cellulose Fibers Paper",
          "Plastics and Rubbers/Cellulose",
          "Miscellaneous/Chalkboards",
          "Mineral Products/Clays",
          "Vegetable Products/Cereal Straws",
          "Instruments/Clock Cases and Parts",
          "Chemical Products/Cleaning Products",
          "Arts and Antiques/Collector's Items",
          "Metals/Cold-Rolled Iron",
          "Mineral Products/Coke",
          "Precious Metals/Coin",
          "Foodstuffs/Coffee and Tea Extracts",
          "Vegetable Products/Coffee",
          "Vegetable Products/Coconuts, Brazil Nuts, and Cashews",
          "Textiles/Coconut and Other Vegetable Fibers",
          "Animal and Vegetable Bi-Products/Coconut Oil",
          "Foodstuffs/Cocoa Shells",
          "Foodstuffs/Cocoa Powder",
          "Paper Goods/Children's Picture Books",
          "Foodstuffs/Cocoa Butter",
          "Instruments/Clock Movements",
          "Foodstuffs/Cocoa Paste",
          "Vegetable Products/Cloves",
          "Mineral Products/Coal Briquettes",
          "Mineral Products/Coal Tar Oil",
          "Instruments/Clocks with Watch Movements",
          "Metals/Coated Metal Soldering Products",
          "Textiles/Coated Textile Fabric",
          "Metals/Cobalt",
          "Chemical Products/Cobalt Oxides and Hydroxides",
          "Foodstuffs/Cocoa Beans",
          "Metals/Coated Flat-Rolled Iron",
          "Machines/Other Non-Metal Removal Machinery",
          "Metals/Other Metal Fasteners",
          "Metals/Other Metals",
          "Mineral Products/Other Mineral",
          "Instruments/Other Musical Instruments",
          "Chemical Products/Other Nitrogen Compounds",
          "Textiles/Other Non-Knit Clothing Accessories",
          "Vegetable Products/Other Nuts",
          "Metals/Other Nickel Products",
          "Vegetable Products/Other Oily Seeds",
          "Mineral Products/Other Ores",
          "Chemical Products/Other Organic Compounds",
          "Chemical Products/Other Organo-Inorganic Compounds",
          "Chemical Products/Other Paints",
          "Machines/Other Paper Machinery",
          "Plastics and Rubbers/Other Plastic Products",
          "Machines/Other Office Machines",
          "Precious Metals/Other Precious Metal Products",
          "Plastics and Rubbers/Other Plastic Sheetings",
          "Textiles/Unprocessed Synthetic Staple Fibers",
          "Textiles/Unprocessed Artificial Staple Fibers",
          "Chemical Products/Unpackaged Medicaments",
          "Chemical Products/Undeveloped Exposed Photographic Material",
          "Paper Goods/Uncoated Paper",
          "Chemical Products/Turpentine",
          "Footwear and Headwear/Umbrella and Walking Stick Accessories",
          "Textiles/Twine and Rope",
          "Chemical Products/Unsaturated Acyclic Monocarboxylic Acids",
          "Mineral Products/Tungsten Ore",
          "Metals/Tungsten",
          "Textiles/Tulles and Net Fabric",
          "Footwear and Headwear/Umbrellas",
          "Plastics and Rubbers/Unvulcanised Rubber Products",
          "Instruments/Utility Meters",
          "Textiles/Used Clothing",
          "Machines/Vending Machines",
          "Transportation/Vehicle Bodies (including cabs) for the motor vehicles (8701 to 8705)",
          "Animal and Vegetable Bi-Products/Vegetable waxes and beeswax",
          "Chemical Products/Vegetable or Animal Dyes",
          "Miscellaneous/Vegetable and Mineral Carvings",
          "Vegetable Products/Vegetable Saps",
          "Vegetable Products/Vegetable Plaiting Materials",
          "Mineral Products/Uranium and Thorium Ore",
          "Paper Goods/Vegetable Parchment",
          "Chemical Products/Vegetable Alkaloids",
          "Vegetable Products/Vanilla",
          "Machines/Valves",
          "Miscellaneous/Vacuum Flask",
          "Machines/Vacuum Cleaners",
          "Chemical Products/Vaccines, blood, antisera, toxins and cultures",
          "Plastics and Rubbers/Used Rubber Tires",
          "Stone And Glass/Vegetable Fiber",
          "Chemical Products/Vegetable Tanning Extracts",
          "Stone And Glass/Unglazed Ceramics",
          "Instruments/Watch Straps",
          "Foodstuffs/Vermouth",
          "Instruments/Video Cameras",
          "Machines/Video Displays",
          "Machines/Video Recording Equipment",
          "Miscellaneous/Video and Card Games",
          "Foodstuffs/Vinegar",
          "Plastics and Rubbers/Vinyl Chloride Polymers",
          "Chemical Products/Vitamins",
          "Textiles/Wadding",
          "Footwear and Headwear/Walking Sticks",
          "Paper Goods/Wallpaper",
          "Machines/Washing and Bottling Machines",
          "Machines/Water and Gas Generators",
          "Chemical Products/Water Soluble Proteins",
          "Foodstuffs/Water",
          "Wood Products/Veneer Sheets",
          "Instruments/Watch Cases and Parts",
          "Instruments/Watch Movements",
          "Foodstuffs/Sugar Preserved Foods",
          "Foodstuffs/Starch Residue",
          "Vegetable Products/Starches",
          "Machines/Steam Boilers",
          "Machines/Steam Turbines",
          "Animal and Vegetable Bi-Products/Stearic Acid",
          "Metals/Steel Bars",
          "Metals/Steel Ingots",
          "Metals/Steel Wire",
          "Machines/Stone Processing Machines",
          "Machines/Stone Working Machines",
          "Metals/Stranded Aluminium Wire",
          "Metals/Stranded Copper Wire",
          "Metals/Stranded Iron Wire",
          "Instruments/String Instruments",
          "Plastics and Rubbers/Styrene Polymers",
          "Paper Goods/Sulfate Chemical Woodpulp",
          "Chemical Products/Sulfates",
          "Precious Metals/Synthetic Reconstructed Jewellery Stones",
          "Chemical Products/Sulfides",
          "Plastics and Rubbers/Synthetic Rubber",
          "Textiles/Synthetic Monofilament",
          "Plastics and Rubbers/Rubber",
          "Plastics and Rubbers/Rubber Apparel",
          "Plastics and Rubbers/Rubber Belting",
          "Footwear and Headwear/Rubber Footwear",
          "Plastics and Rubbers/Rubber Inner Tubes",
          "Plastics and Rubbers/Rubber Pipes",
          "Plastics and Rubbers/Rubber Sheets",
          "Miscellaneous/Rubber Stamps",
          "Textiles/Rubber Textile Fabric",
          "Textiles/Rubber Textiles",
          "Plastics and Rubbers/Rubber Thread",
          "Plastics and Rubbers/Rubber Tires",
          "Metals/Stainless Steel Wire",
          "Machines/Rubberworking Machinery",
          "Animal Hides/Saddlery",
          "Textiles/Synthetic Filament Yarn Woven Fabric",
          "Textiles/Synthetic Filament Tow",
          "Textiles/Synthetic Fabrics",
          "Chemical Products/Synthetic Coloring Matter",
          "Instruments/Surveying Equipment",
          "Vegetable Products/Sunflower Seeds",
          "Mineral Products/Sulphur",
          "Chemical Products/Sulfuric Acid",
          "Chemical Products/Sulfur",
          "Chemical Products/Sulfonated, Nitrated or Nitrosated Hydrocarbons",
          "Chemical Products/Sulfonamides",
          "Chemical Products/Sulfites",
          "Paper Goods/Sulfite Chemical Woodpulp",
          "Vegetable Products/Rye",
          "Chemical Products/Synthetic Tanning Extracts",
          "Metals/Stainless Steel Ingots",
          "Miscellaneous/Sports Equipment",
          "Transportation/Scrap Vessels",
          "Metals/Scrap Waste",
          "Arts and Antiques/Sculptures",
          "Miscellaneous/Seats",
          "Animal and Vegetable Bi-Products/Seed Oils",
          "Transportation/Self-Propelled Rail Transport",
          "Metals/Scrap Tin",
          "Plastics and Rubbers/Self-adhesive Plastics",
          "Metals/Semi-Finished Iron",
          "Machines/Semiconductor Devices",
          "Machines/Sewing Machines",
          "Paper Goods/Shaped Paper",
          "Wood Products/Shaped Wood",
          "Chemical Products/Shaving Products",
          "Paper Goods/Semi chemical Woodpulp",
          "Animal Hides/Sheep Hides",
          "Plastics and Rubbers/Scrap Rubber",
          "Metals/Scrap Nickel",
          "Mineral Products/Salt",
          "Mineral Products/Sand",
          "Chemical Products/Saturated Acyclic Monocarboxylic Acids",
          "Foodstuffs/Sauces and Seasonings",
          "Foodstuffs/Sausages",
          "Wood Products/Sawn Wood",
          "Plastics and Rubbers/Scrap Plastic",
          "Machines/Scales",
          "Miscellaneous/Scent Sprays",
          "Chemical Products/Scented Mixtures",
          "Metals/Scissors",
          "Metals/Scrap Aluminium",
          "Metals/Scrap Copper",
          "Metals/Scrap Iron",
          "Textiles/Scarves",
          "Weapons/Spring, Air, and Gas Guns",
          "Animal Products/Sheep and Goat Meat",
          "Stone And Glass/Signaling Glassware",
          "Vegetable Products/Sorghum",
          "Machines/Sound Recording Equipment",
          "Machines/Sound Recordings",
          "Foodstuffs/Soups and Broths",
          "Vegetable Products/Sowing Seeds",
          "Foodstuffs/Soybean Meal",
          "Machines/Soldering and Welding Machinery",
          "Animal and Vegetable Bi-Products/Soybean Oil",
          "Machines/Spark-Ignition Engines",
          "Chemical Products/Special Pharmaceuticals",
          "Transportation/Special Purpose Ships",
          "Transportation/Special purpose motor vehicles",
          "Vegetable Products/Spice Seeds",
          "Vegetable Products/Spices",
          "Vegetable Products/Soybeans",
          "Paper Goods/Sheet Music",
          "Machines/Soil Preparation Machinery",
          "Mineral Products/Soapstone",
          "Chemical Products/Silicates",
          "Mineral Products/Siliceous Fossil Meals",
          "Plastics and Rubbers/Silicone",
          "Textiles/Silk Fabrics",
          "Textiles/Silk Waste",
          "Textiles/Silk Waste Yarn",
          "Chemical Products/Sodium or Potassium Peroxides",
          "Textiles/Silk-worm Cocoons",
          "Precious Metals/Silver Clad Metals",
          "Mineral Products/Slag Dross",
          "Mineral Products/Slate",
          "Metals/Small Iron Containers",
          "Miscellaneous/Smoking Pipes",
          "Chemical Products/Soap",
          "Precious Metals/Silver",
          "Chemical Products/Tall Oil",
          "Metals/Safes",
          "Animal Hides/Tanned Equine and Bovine Hides",
          "Animal Hides/Tanned Furskins",
          "Animal Hides/Tanned Goat Hides",
          "Transportation/Tanks and Armored vehicles",
          "Animal Hides/Tanned Sheep Hides",
          "Stone And Glass/Safety Glass",
          "Metals/Tantalum",
          "Footwear and Headwear/Processed Hair",
          "Foodstuffs/Processed Fish",
          "Animal Products/Processed Egg Products",
          "Foodstuffs/Processed Crustaceans",
          "Vegetable Products/Processed Cereals",
          "Animal Products/Processed Bones",
          "Machines/Print Production Machinery",
          "Machines/Printed Circuit Boards",
          "Stone And Glass/Processed Mica",
          "Vegetable Products/Preserved Vegetables",
          "Animal Products/Preserved Meat",
          "Vegetable Products/Preserved Fruits and Nuts",
          "Textiles/Prepared Wool or Animal Hair",
          "Arts and Antiques/Prints",
          "Foodstuffs/Processed Mushrooms",
          "Foodstuffs/Processed Tobacco",
          "Chemical Products/Prepared Rubber Accelerators",
          "Animal Products/Pig Hair",
          "Metals/Pig Iron",
          "Animal Products/Pig Meat",
          "Animal and Vegetable Bi-Products/Pig and Poultry Fat",
          "Animal Products/Pigs",
          "Textiles/Pile Fabric",
          "Mineral Products/Pitch Coke",
          "Vegetable Products/Pitted Fruits",
          "Wood Products/Plaiting Products",
          "Transportation/Planes, Helicopters, and/or Spacecraft",
          "Vegetable Products/Plant foliage",
          "Machines/Pulley Systems",
          "Plastics and Rubbers/Propylene Polymers",
          "Chemical Products/Propellant Powders",
          "Foodstuffs/Processed Tomatoes",
          "Textiles/Processed Synthetic Staple Fibers",
          "Chemical Products/Prepared Pigments",
          "Textiles/Prepared Cotton",
          "Chemical Products/Prepared Explosives",
          "Chemical Products/Polycarboxylic Acids",
          "Plastics and Rubbers/Polyamides",
          "Textiles/Polyamide Fabric",
          "Plastics and Rubbers/Polyacetals",
          "Chemical Products/Polishes and Creams",
          "Wood Products/Plywood",
          "Plastics and Rubbers/Polymer Ion-Exchangers",
          "Precious Metals/Platinum Clad Metals",
          "Plastics and Rubbers/Plastic Wash Basins",
          "Plastics and Rubbers/Plastic Pipes",
          "Plastics and Rubbers/Plastic Lids",
          "Plastics and Rubbers/Plastic Housewares",
          "Plastics and Rubbers/Plastic Floor Coverings",
          "Textiles/Plastic Coated Textile Fabric",
          "Precious Metals/Platinum",
          "Chemical Products/Prepared Paint Driers",
          "Stone And Glass/Porcelain Tableware",
          "Paper Goods/Postcards",
          "Foodstuffs/Prepared Cereals",
          "Miscellaneous/Prefabricated Buildings",
          "Metals/Precipitated Copper",
          "Precious Metals/Precious Stones",
          "Precious Metals/Precious Stone Dust",
          "Instruments/Precious Metal Watches",
          "Machines/Portable Lighting",
          "Precious Metals/Precious Metal Scraps",
          "Chemical Products/Precious Metal Compounds",
          "Animal Products/Poultry Meat",
          "Animal Products/Poultry",
          "Vegetable Products/Potatoes",
          "Vegetable Products/Potato Flours",
          "Chemical Products/Potassic Fertilizers",
          "Mineral Products/Precious Metal Ore",
          "Foodstuffs/Pickled Foods",
          "Chemical Products/Photographic Paper",
          "Chemical Products/Photographic Plates",
          "Stone And Glass/Rock Wool",
          "Foodstuffs/Rolled Tobacco",
          "Machines/Rolling Machines",
          "Stone And Glass/Roofing Tiles",
          "Vegetable Products/Root Vegetables",
          "Chemical Products/Rosin",
          "Vegetable Products/Rice",
          "Wood Products/Rough Wood",
          "Foodstuffs/Raw Tobacco",
          "Metals/Raw Tin",
          "Foodstuffs/Raw Sugar",
          "Textiles/Raw Silk",
          "Plastics and Rubbers/Raw Plastic Sheeting",
          "Metals/Raw Nickel",
          "Metals/Raw Zinc",
          "Instruments/Revolution Counters",
          "Arts and Antiques/Revenue Stamps",
          "Textiles/Retail Wool or Animal Hair Yarn",
          "Stone And Glass/Plaster Articles",
          "Metals/Razor Blades",
          "Chemical Products/Reaction and Catalytic Products",
          "Paper Goods/Recovered Paper Pulp",
          "Transportation/Recreational Boats",
          "Metals/Refined Copper",
          "Mineral Products/Refined Petroleum",
          "Stone And Glass/Refractory Bricks",
          "Chemical Products/Refractory Cements",
          "Stone And Glass/Refractory Ceramics",
          "Machines/Refrigerators",
          "Textiles/Retail Artificial Filament Yarn",
          "Textiles/Retail Artificial Staple Fibers Yarn",
          "Textiles/Retail Cotton Yarn",
          "Textiles/Retail Silk Yarn",
          "Metals/Raw Lead",
          "Instruments/Pianos",
          "Metals/Raw Iron Bars",
          "Textiles/Raw Cotton",
          "Animal and Vegetable Bi-Products/Pure Olive Oil",
          "Mineral Products/Pumice",
          "Animal Products/Pharmaceutical Animal Products",
          "Plastics and Rubbers/Pharmaceutical Rubber Products",
          "Chemical Products/Phenol Derivatives",
          "Chemical Products/Phenols",
          "Chemical Products/Pyrophoric Alloys",
          "Chemical Products/Phosphatic Fertilizers",
          "Chemical Products/Phosphoric Acid",
          "Chemical Products/Phosphoric Esters and Salts",
          "Instruments/Photo Lab Equipment",
          "Instruments/Photocopiers",
          "Chemical Products/Photographic Chemicals",
          "Chemical Products/Photographic Film",
          "Chemical Products/Phosphinates (hypophosphites) and phosphonates (phosphites)",
          "Mineral Products/Quartz",
          "Chemical Products/Quaternary Ammonium Salts and Hydroxides",
          "Mineral Products/Quicklime",
          "Wood Products/Raw Cork",
          "Metals/Raw Copper",
          "Animal Products/Raw Bones",
          "Metals/Raw Aluminium",
          "Chemical Products/Rare-Earth Metal Compounds",
          "Animal and Vegetable Bi-Products/Rapeseed Oil",
          "Vegetable Products/Rapeseed",
          "Transportation/Railway Track Fixtures",
          "Transportation/Railway Maintenance Vehicles",
          "Transportation/Railway Freight Cars",
          "Transportation/Railway Cargo Containers",
          "Wood Products/Railroad Ties",
          "Chemical Products/Radioactive Chemicals",
          "Machines/Radio Receivers",
          "Textiles/Quilted Textiles",
          "Animal Hides/Raw Furskins",
          "Plastics and Rubbers/Plastic Building Materials",
          "Paper Goods/Recovered Paper",
          "Plastics and Rubbers/Reclaimed Rubber",
          "Textiles/Combed Wool or Animal Hair Fabric",
          "Vegetable Products/Cucumbers",
          "Animal Products/Crustaceans",
          "Mineral Products/Crude Petroleum",
          "Machines/Cranes",
          "Paper Goods/Corrugated Paper",
          "Textiles/Cotton Waste",
          "Miscellaneous/Combs",
          "Machines/Combustion Engines",
          "Instruments/Compasses",
          "Paper Goods/Composite Paper",
          "Plastics and Rubbers/Compounded Unvulcanised Rubber",
          "Machines/Computers",
          "Animal Products/Concentrated Milk",
          "Stone And Glass/Curbstones",
          "Foodstuffs/Confectionery Sugar",
          "Metals/Cooking Hand Tools",
          "Metals/Copper Alloys",
          "Metals/Copper Bars",
          "Metals/Copper Fasteners",
          "Metals/Copper Foil",
          "Metals/Copper Housewares",
          "Mineral Products/Copper Ore",
          "Metals/Copper Pipe Fittings",
          "Metals/Copper Pipes",
          "Metals/Copper Plating",
          "Metals/Copper Powder",
          "Metals/Copper Wire",
          "Animal Products/Coral and Shells",
          "Vegetable Products/Corn",
          "Textiles/Conveyor Belt Textiles",
          "Vegetable Products/Cut Flowers",
          "Textiles/Cotton Sewing Thread",
          "Metals/Cutting Blades",
          "Metals/Cutlery Sets",
          "Paper Goods/Decals",
          "Transportation/Delivery Trucks",
          "Wood Products/Densified Wood",
          "Chemical Products/Dental Products",
          "Chemical Products/Detonating Fuses",
          "Chemical Products/Developed Exposed Photographic Material",
          "Chemical Products/Dextrins",
          "Precious Metals/Diamonds",
          "Chemical Products/Diazo, Azo or Aoxy Compounds",
          "Machines/Dictation Machines",
          "Chemical Products/Disc Chemicals for Electronics",
          "Paper Goods/Dissolving Grades Chemical Woodpulp",
          "Chemical Products/Dithionites and Sulfoxylates",
          "Paper Goods/Documents of title (bonds etc) and unused stamps",
          "Animal Products/Edible Offal",
          "Instruments/Drafting Tools",
          "Wood Products/Debacked Cork",
          "Vegetable Products/Dried Fruits",
          "Vegetable Products/Dried Legumes",
          "Vegetable Products/Dried Vegetables",
          "Machines/Drilling Machines",
          "Chemical Products/Dyeing Finishing Agents",
          "Mineral Products/Dolomite",
          "Animal Products/Eggs",
          "Instruments/Dashboard Clocks",
          "Machines/Dairy Machinery",
          "Chemical Products/Cyclic Hydrocarbons",
          "Chemical Products/Cyclic Alcohols",
          "Chemical Products/Cyanides",
          "Animal Products/Whey and other milk products",
          "Instruments/Wind Instruments",
          "Wood Products/Wood Barrels",
          "Foodstuffs/Wine",
          "Metals/Zinc Bars",
          "Foodstuffs/Yeast",
          "Instruments/X-Ray Equipment",
          "Metals/Wrenches",
          "Textiles/Woven Fabrics",
          "Textiles/Woven Fabric of Synthetic Staple Fibers",
          "Stone And Glass/Worked Slate",
          "Transportation/Work Trucks",
          "Textiles/Wool or Animal Hair Waste",
          "Animal and Vegetable Bi-Products/Wool Grease",
          "Textiles/Wool",
          "Machines/Woodworking machines",
          "Miscellaneous/Worked Ivory and Bone",
          "Wood Products/Wooden Tool Handles",
          "Chemical Products/Wood Tar, Oils and Pitch",
          "Wood Products/Wood Stakes",
          "Chemical Products/Wood Pulp Lyes",
          "Wood Products/Wood Ornaments",
          "Wood Products/Wood Kitchenware",
          "Wood Products/Wood Frames",
          "Wood Products/Wood Fiberboard",
          "Wood Products/Wood Crates",
          "Wood Products/Wood Charcoal",
          "Wood Products/Wood Carpentry",
          "Foodstuffs/Wine Lees",
          "Textiles/Window Dressings",
          "Metals/Metal Stoppers",
          "Metals/Metal Signs",
          "Textiles/Linoleum",
          "Paper Goods/Maps",
          "Animal and Vegetable Bi-Products/Margarine",
          "Chemical Products/Matches",
          "Miscellaneous/Mattresses",
          "Vegetable Products/Maté",
          "Paper Goods/Mechanical Wood Pulp",
          "Miscellaneous/Medical Furniture",
          "Miscellaneous/Mannequins",
          "Instruments/Medical Instruments",
          "Machines/Metal Finishing Machines",
          "Machines/Metal Insulating Fittings",
          "Machines/Metal Lathes",
          "Machines/Metal Molds",
          "Metals/Metal Mountings",
          "Metals/Metal Office Supplies",
          "Chemical Products/Metal Pickling Preparations",
          "Vegetable Products/Melons",
          "Chemical Products/Manganese Oxides",
          "Mineral Products/Marble, Travertine and Alabaster",
          "Metals/Manganese",
          "Vegetable Products/Linseed",
          "Machines/Liquid Dispersing Machines",
          "Machines/Liquid Fuel Furnaces",
          "Machines/Liquid Pumps",
          "Animal Products/Live Fish",
          "Mineral Products/Manganese Ore",
          "Vegetable Products/Locust beans, seaweed, sugar beet, cane, for food",
          "Machines/Looms",
          "Transportation/Locomotive Parts",
          "Chemical Products/Lubricating Products",
          "Machines/Machinery Having Individual Functions",
          "Metals/Magnesium",
          "Mineral Products/Magnesium Carbonate",
          "Chemical Products/Magnesium Hydroxide and Peroxide",
          "Vegetable Products/Malt",
          "Foodstuffs/Malt Extract",
          "Machines/Low-voltage Protection Equipment",
          "Metals/Iron Cloth",
          "Metals/Interchangeable Tool Parts",
          "Stone And Glass/Interior Decorative Glassware",
          "Metals/Iron Anchors",
          "Metals/Iron Blocks",
          "Metals/Iron Chains",
          "Metals/Iron Fasteners",
          "Metals/Iron Wire",
          "Metals/Iron Housewares",
          "Precious Metals/Jewellery",
          "Metals/Iron Gas Containers",
          "Textiles/Jute Woven Fabric",
          "Textiles/Jute Yarn",
          "Textiles/Jute and Other Textile Fibers",
          "Mineral Products/Kaolin",
          "Foodstuffs/Jams",
          "Paper Goods/Kaolin Coated Paper",
          "Textiles/Knit Active Wear",
          "Textiles/Knit Babies' Garments",
          "Textiles/Knit Gloves",
          "Textiles/Knit Men's Coats",
          "Textiles/Knit Men's Shirts",
          "Textiles/Knit Men's Suits",
          "Chemical Products/Ketones and Quinones",
          "Textiles/Knit Men's Undergarments",
          "Metals/Iron Toiletry",
          "Metals/Iron Stovetops",
          "Metals/Iron Ingots",
          "Metals/Iron Nails",
          "Mineral Products/Iron Ore",
          "Chemical Products/Iron Oxides and Hydroxides",
          "Metals/Iron Pipe Fittings",
          "Metals/Iron Pipes",
          "Metals/Iron Structures",
          "Metals/Iron Powder",
          "Metals/Iron Radiators",
          "Metals/Iron Railway Products",
          "Metals/Iron Reductions",
          "Metals/Iron Sewing Needles",
          "Metals/Iron Sheet Piling",
          "Metals/Iron Springs",
          "Mineral Products/Iron Pyrites",
          "Textiles/Knit Socks and Hosiery",
          "Animal Hides/Patent Leather",
          "Chemical Products/Pastes and Waxes",
          "Plastics and Rubbers/Petroleum Resins",
          "Foodstuffs/Pasta",
          "Mineral Products/Petroleum Gas",
          "Mineral Products/Petroleum Coke",
          "Chemical Products/Pesticides",
          "Chemical Products/Perfumes",
          "Vegetable Products/Perfume Plants",
          "Instruments/Percussion",
          "Mineral Products/Petroleum Jelly",
          "Vegetable Products/Pepper",
          "Miscellaneous/Pens",
          "Miscellaneous/Pencils and Crayons",
          "Mineral Products/Peat",
          "Precious Metals/Pearls",
          "Precious Metals/Pearl Products",
          "Chemical Products/Peptones",
          "Foodstuffs/Other Sugars",
          "Stone And Glass/Other Stone Articles",
          "Metals/Other Steel Bars",
          "Metals/Other Stainless Steel Bars",
          "Metals/Other Small Iron Pipes",
          "Mineral Products/Other Slag and Ash",
          "Foodstuffs/Other Processed Vegetables",
          "Plastics and Rubbers/Other Rubber Products",
          "Animal and Vegetable Bi-Products/Other Pure Vegetable Oils",
          "Foodstuffs/Other Processed Fruits and Nuts",
          "Paper Goods/Other Printed Material",
          "Foodstuffs/Other Prepared Meat",
          "Textiles/Other Synthetic Fabrics",
          "Transportation/Other Sea Vessels",
          "Metals/Other Tin Products",
          "Textiles/Packaged Sewing Sets",
          "Textiles/Other Vegetable Fibers Fabric",
          "Transportation/Passenger and Cargo Ships",
          "Miscellaneous/Party Decorations",
          "Wood Products/Particle Board",
          "Transportation/Parachutes",
          "Machines/Papermaking Machines",
          "Paper Goods/Paper Spools",
          "Paper Goods/Paper Pulp Filter Blocks",
          "Paper Goods/Paper Notebooks",
          "Paper Goods/Paper Labels",
          "Paper Goods/Paper Containers",
          "Animal and Vegetable Bi-Products/Palm Oil",
          "Arts and Antiques/Paintings",
          "Metals/Padlocks",
          "Textiles/Packing Bags",
          "Paper Goods/Other Uncoated Paper",
          "Chemical Products/Packaged Medicaments",
          "Chemical Products/Oxygen Amino Compounds",
          "Chemical Products/Oxometallic or Peroxometallic Acid Salts",
          "Miscellaneous/Other toys",
          "Vegetable Products/Other live plants, cuttings and slips;\nmushroom spawn",
          "Metals/Other Zinc Products",
          "Wood Products/Other Wood Articles",
          "Textiles/Other Women's Undergarments",
          "Plastics and Rubbers/Other Vinyl Polymers",
          "Vegetable Products/Other Vegetables",
          "Foodstuffs/Other Vegetable Residues and Waste",
          "Foodstuffs/Other Vegetable Residues",
          "Vegetable Products/Other Vegetable Products",
          "Animal and Vegetable Bi-Products/Other Vegetable Oils",
          "Textiles/Other Vegetable Fibers Yarn",
          "Chemical Products/Oxygen Heterocyclic Compounds",
          "Machines/Office Machine Parts",
          "Metals/Nickel Pipes",
          "Instruments/Other Measuring Instruments",
          "Textiles/Non-Knit Babies' Garments",
          "Textiles/Non-Knit Active Wear",
          "Mineral Products/Non-Iron and Steel Slag, Ash and Residues",
          "Chemical Products/Nitrogenous Fertilizers",
          "Chemical Products/Nitrogen Heterocyclic Compounds",
          "Chemical Products/Nitrites and Nitrates",
          "Textiles/Non-Knit Gloves",
          "Chemical Products/Nitrile Compounds",
          "Mineral Products/Niobium, Tantalum, Vanadium and Zirconium Ore",
          "Metals/Nickel Sheets",
          "Metals/Nickel Powder",
          "Mineral Products/Nickel Ore",
          "Metals/Nickel Mattes",
          "Metals/Nickel Bars",
          "Chemical Products/Nitric Acids",
          "Paper Goods/Newsprint",
          "Textiles/Non-Knit Men's Coats",
          "Textiles/Non-Knit Men's Suits",
          "Textiles/Non-Retail Silk Yarn",
          "Textiles/Non-Retail Pure Cotton Yarn",
          "Textiles/Non-Retail Mixed Cotton Yarn",
          "Textiles/Non-Retail Combed Wool Yarn",
          "Textiles/Non-Retail Carded Wool Yarn",
          "Textiles/Non-Retail Artificial Staple Fibers Yarn",
          "Textiles/Non-Knit Men's Shirts",
          "Textiles/Non-Retail Artificial Staple Fibers Sewing Thread",
          "Machines/Non-Mechanical Removal Machinery",
          "Textiles/Non-Knit Women's Undergarments",
          "Textiles/Non-Knit Women's Suits",
          "Textiles/Non-Knit Women's Shirts",
          "Textiles/Non-Knit Women's Coats",
          "Textiles/Non-Knit Men's Undergarments",
          "Textiles/Non-Retail Artificial Filament Yarn",
          "Textiles/Non-Retail Synthetic Filament Yarn",
          "Paper Goods/Newspapers",
          "Textiles/Neck Ties",
          "Animal Products/Milk",
          "Weapons/Military Weapons",
          "Instruments/Microscopes",
          "Machines/Microphones and Headphones",
          "Chemical Products/Micro-Organism Culture Preparations",
          "Mineral Products/Mica",
          "Machines/Mill Machinery",
          "Machines/Metalworking Transfer Machines",
          "Machines/Metalworking Machine Parts",
          "Textiles/Metallic Yarn",
          "Textiles/Metallic Fabric",
          "Machines/Metal-Rolling Mills",
          "Precious Metals/Metal-Clad Products",
          "Animal Products/Other Meat",
          "Machines/Metalworking Machines",
          "Textiles/Netting",
          "Stone And Glass/Milling Stones",
          "Chemical Products/Mixed Mineral or Chemical Fertilizers",
          "Machines/Navigation Equipment",
          "Plastics and Rubbers/Natural Polymers",
          "Wood Products/Natural Cork Articles",
          "Instruments/Musical Instrument Parts",
          "Transportation/Motorcycles and cycles",
          "Machines/Motor-working Tools",
          "Instruments/Mirrors and Lenses",
          "Transportation/Motor vehicles; parts and accessories (8701 to 8705)",
          "Chemical Products/Motion-picture film, exposed and developed",
          "Plastics and Rubbers/Monofilament",
          "Mineral Products/Molybdenum Ore",
          "Metals/Molybdenum",
          "Animal Products/Molluscs",
          "Foodstuffs/Molasses",
          "Transportation/Motor vehicle (8701 to 8705) chassis fitted with engine",
          "Textiles/Non-Retail Synthetic Staple Fibers Yarn",
          "Textiles/Narrow Woven Fabric",
          "Animal Products/Non-fillet Frozen Fish",
          "Foodstuffs/Other Frozen Vegetables",
          "Footwear and Headwear/Other Footwear",
          "Transportation/Other Floating Structures",
          "Weapons/Other Firearms",
          "Foodstuffs/Other Fermented Beverages",
          "Chemical Products/Other Esters",
          "Vegetable Products/Other Fruits",
          "Machines/Other Engines",
          "Foodstuffs/Other Edible Preparations",
          "Animal Products/Other Edible Animal Products",
          "Machines/Other Domestic Electric Housewares",
          "Metals/Other Cutlery",
          "Textiles/Other Cotton Fabrics",
          "Metals/Other Copper Products",
          "Machines/Other Electrical Machinery",
          "Miscellaneous/Other Furniture",
          "Stone And Glass/Other Glass Articles",
          "Metals/Other Hand Tools",
          "Animal Products/Non-fillet Fresh Fish",
          "Transportation/Other Locomotives",
          "Animal Hides/Other Leather Articles",
          "Metals/Other Lead Products",
          "Metals/Other Large Iron Pipes",
          "Textiles/Other Knit Garments",
          "Textiles/Other Knit Clothing Accessories",
          "Metals/Other Iron Products",
          "Metals/Other Iron Bars",
          "Chemical Products/Other Inorganic Acids Salts",
          "Chemical Products/Other Inorganic Acids",
          "Animal Products/Other Inedible Animal Products",
          "Animal Hides/Other Hides and Skins",
          "Machines/Other Heating Machinery",
          "Footwear and Headwear/Other Headwear",
          "Machines/Other Construction Vehicles",
          "Chemical Products/Other Coloring Matter",
          "Chemical Products/Other Isotopes",
          "Instruments/Other Clocks and Watches",
          "Instruments/Optical Fibers and optical fibre bundles",
          "Instruments/Non-optical Microscopes",
          "Animal and Vegetable Bi-Products/Olive Oil",
          "Vegetable Products/Oil Seed Flower",
          "Vegetable Products/Oats",
          "Vegetable Products/Nutmeg, mace and cardamons",
          "Instruments/Opto-Electric Instrument Parts",
          "Chemical Products/Nucleic Acids",
          "Chemical Products/Nonmetal Sulfides",
          "Chemical Products/Nonaqueous Pigments",
          "Chemical Products/Nonaqueous Paints",
          "Textiles/Non-woven Textiles",
          "Transportation/Non-powered Aircraft",
          "Textiles/Other Cloth Articles",
          "Machines/Nuclear Reactors",
          "Chemical Products/Organic Composite Solvents",
          "Vegetable Products/Onions",
          "Stone And Glass/Ornamental Ceramics",
          "Instruments/Other Clocks",
          "Stone And Glass/Other Ceramic Articles",
          "Metals/Other Cast Iron Products",
          "Chemical Products/Organo-Sulfur Compounds",
          "Paper Goods/Other Carbon Paper",
          "Textiles/Other Articles of Twine and Rope",
          "Animal Products/Other Animals",
          "Textiles/Other Carpets",
          "Metals/Other Aluminium Products",
          "Machines/Other Agricultural Machinery",
          "Instruments/Oscilloscopes",
          "Instruments/Orthopedic Appliances",
          "Textiles/Ornamental Trimmings",
          "Animal and Vegetable Bi-Products/Other Animal Fats",
          "Metals/Tin Bars",
          "Mineral Products/Tin Ores",
          "Instruments/Time Switches",
          "Instruments/Time Recording Instruments",
          "Paper Goods/Tissue",
          "Metals/Titanium",
          "Mineral Products/Titanium Ore",
          "Chemical Products/Titanium Oxides",
          "Machines/Tobacco Processing Machines",
          "Paper Goods/Toilet Paper",
          "Vegetable Products/Tropical Fruits",
          "Metals/Tool Plates",
          "Metals/Tool Sets",
          "Transportation/Tractors",
          "Machines/Traffic Signals",
          "Transportation/Trailers and semi-trailers, not mechanically propelled vehicles",
          "Machines/Transmissions",
          "Miscellaneous/Travel Kits",
          "Instruments/Thermostats",
          "Animal Hides/Trunks and Cases",
          "Textiles/Tufted Carpets",
          "Transportation/Tug Boats",
          "Vegetable Products/Tomatoes",
          "Instruments/Therapeutic Appliances",
          "Mineral Products/Tar",
          "Textiles/Textile Wicks",
          "Textiles/Textile Wall Coverings",
          "Textiles/Textile Scraps",
          "Machines/Textile Processing Machines",
          "Footwear and Headwear/Textile Footwear",
          "Machines/Textile Fiber Machinery",
          "Textiles/Terry Fabric",
          "Instruments/Tensile Testing Machines",
          "Machines/Telephones",
          "Vegetable Products/Tea",
          "Foodstuffs/Tapioca",
          "Textiles/Textiles for technical uses",
          "Instruments/Binoculars and Telescopes",
          "Animal Products/Bird Feathers and Skins",
          "Footwear and Headwear/Bird Skins and Feathers",
          "Metals/Cadmium",
          "Vegetable Products/Bulbs and Roots",
          "Miscellaneous/Buttons",
          "Animal Products/Butter",
          "Transportation/Buses",
          "Transportation/Bicycles, delivery tricycles, other cycles",
          "Vegetable Products/Cabbages",
          "Mineral Products/Barium Sulphate",
          "Stone And Glass/Bathroom Ceramics",
          "Metals/Barbed Wire",
          "Stone And Glass/Building Stone",
          "Instruments/Base Metal Watches",
          "Wood Products/Basketwork",
          "Machines/Batteries",
          "Chemical Products/Beauty Products",
          "Textiles/Bedspreads",
          "Foodstuffs/Beer",
          "Metals/Bells and Other Metal Ornaments",
          "Transportation/Bi-Wheel Vehicle Parts",
          "Vegetable Products/Barley",
          "Vegetable Products/Buckwheat",
          "Machines/Boat Propellers",
          "Paper Goods/Brochures",
          "Chemical Products/Antiknock",
          "Arts and Antiques/Antiques",
          "Chemical Products/Bandages",
          "Vegetable Products/Apples and Pears",
          "Chemical Products/Aqueous Paints",
          "Weapons/Bladed Weapons and Accessories",
          "Machines/Blank Audio Media",
          "Textiles/Blankets",
          "Stone And Glass/Blown Glass",
          "Machines/Boiler Plants",
          "Miscellaneous/Brooms",
          "Machines/Book-binding Machines",
          "Mineral Products/Borax",
          "Chemical Products/Boron",
          "Animal Products/Bovine",
          "Animal Products/Bovine Meat",
          "Animal and Vegetable Bi-Products/Bovine, Sheep, and Goat Fat",
          "Foodstuffs/Bran",
          "Instruments/Breathing Appliances",
          "Stone And Glass/Bricks",
          "Machines/Broadcasting Accessories",
          "Machines/Broadcasting Equipment",
          "Chemical Products/Borates",
          "Vegetable Products/Bananas",
          "Mineral Products/Bitumen and asphalt",
          "Instruments/Balances",
          "Metals/Bismuth",
          "Paper Goods/Architectural Plans",
          "Machines/Ball Bearings",
          "Textiles/Artificial Fibers Waste",
          "Textiles/Artificial Filament Sewing Thread",
          "Textiles/Artificial Filament Tow",
          "Textiles/Artificial Filament Yarn Woven Fabric",
          "Animal Hides/Artificial Fur",
          "Chemical Products/Artificial Graphite",
          "Textiles/Artificial Monofilament",
          "Machines/Artificial Textile Machinery",
          "Animal Hides/Articles of Gut",
          "Chemical Products/Artistry Paints",
          "Footwear and Headwear/Artificial Vegetation",
          "Transportation/Baby Carriages",
          "Foodstuffs/Baked Goods",
          "Textiles/Awnings, Tents, and Sails",
          "Machines/Audio Alarms",
          "Mineral Products/Asphalt Mixtures",
          "Stone And Glass/Asphalt",
          "Stone And Glass/Asbestos Fibres",
          "Machines/Audio and Video Recording Accessories",
          "Stone And Glass/Asbestos Cement Articles",
          "Mineral Products/Asbestos",
          "Transportation/Wheelchairs",
          "Vegetable Products/Wheat Gluten",
          "Vegetable Products/Wheat Flours",
          "Vegetable Products/Wheat",
          "Weapons/Weapons Parts and Accessories",
          "Chemical Products/Waxes",
          "Footwear and Headwear/Waterproof Footwear",
          "Vegetable Products/Lettuce",
          "Machines/Lifting Machinery",
          "Miscellaneous/Light Fixtures",
          "Textiles/Light Mixed Woven Cotton",
          "Miscellaneous/Lighters",
          "Textiles/Light Rubberized Knitted Fabric",
          "Textiles/Light Synthetic Cotton Fabrics",
          "Mineral Products/Lignite",
          "Paper Goods/Letter Stock",
          "Textiles/Light Pure Woven Cotton",
          "Vegetable Products/Legumes",
          "Metals/Lead Sheets",
          "Animal Hides/Leather of Other Animals",
          "Animal Hides/Leather Waste",
          "Animal Hides/Leather Sheets",
          "Machines/Leather Machinery",
          "Footwear and Headwear/Leather Footwear",
          "Animal Hides/Leather Apparel",
          "Chemical Products/Lead Oxides",
          "Mineral Products/Lead Ore",
          "Metals/Large Iron Containers",
          "Metals/Large Flat-Rolled Stainless Steel",
          "Metals/Large Flat-Rolled Iron",
          "Machines/Large Construction Vehicles",
          "Vegetable Products/Legume Flours",
          "Mineral Products/Limestone",
          "Animal Hides",
          "Animal Products",
          "Animal and Vegetable Bi-Products",
          "Arts and Antiques",
          "Chemical Products",
          "Foodstuffs",
          "Footwear and Headwear",
          "Instruments",
          "Machines",
          "Metals",
          "Mineral Products",
          "Miscellaneous",
          "Paper Goods",
          "Plastics and Rubbers",
          "Precious Metals",
          "Stone And Glass",
          "Textiles",
          "Transportation",
          "Vegetable Products",
          "Weapons",
          "Wood Products"
         ],
         "labels": [
          "Labels",
          "Large Coated Flat-Rolled Iron",
          "Large Aluminium Containers",
          "Lake Pigments",
          "Laboratory Reagents",
          "Laboratory Glassware",
          "Laboratory Ceramic Ware",
          "LCDs",
          "Kraft Paper",
          "Knives",
          "Knotted Carpets",
          "Knitting Machine Accessories",
          "Knitted Hats",
          "Knit Women's Undergarments",
          "Knit Women's Suits",
          "Knit Women's Shirts",
          "Knit Women's Coats",
          "Knit T-shirts",
          "Knit Sweaters",
          "Knitting Machines",
          "Animal Hair",
          "Animal Fat",
          "Animal Food",
          "Animal Organs",
          "Abrasive Powder",
          "Antibiotics",
          "Antifreeze",
          "Animal Extracts",
          "Animal or Vegetable Fertilizers",
          "Ammonia",
          "Animal Meal and Pellets",
          "Amine Compounds",
          "Amino-resins",
          "Alkaline Metals",
          "Aldehydes",
          "Aldehyde Derivatives",
          "Alcohol > 80% ABV",
          "Aircraft Parts",
          "Aircraft Launch Gear",
          "Air Pumps",
          "Air Conditioners",
          "Agglomerated Cork",
          "Acyclic Hydrocarbons",
          "Acyclic Alcohols",
          "Activated Carbon",
          "Acrylic Polymers",
          "Acetals and Hemiacetals",
          "Aluminium Bars",
          "Aluminium Cans",
          "Alkylbenzenes and Alkylnaphthalenes",
          "Aluminium Gas Containers",
          "Aluminium Housewares",
          "Aluminium Ore",
          "Aluminium Oxide",
          "Aluminium Pipe Fittings",
          "Aluminium Pipes",
          "Aluminium Foil",
          "Aluminium Plating",
          "Aluminium Powder",
          "Aluminium Structures",
          "Aluminium Wire",
          "Carboxyimide Compounds",
          "Carboxyamide Compounds",
          "Carbonates",
          "Carbon-based Electronics",
          "Carbon Paper",
          "Carboxylic Acids",
          "Cameras",
          "Candles",
          "Carbides",
          "Carbon",
          "Calendars",
          "Carded Wool or Animal Hair Fabric",
          "Calcium Phosphates",
          "Casein",
          "Cassava",
          "Cast Iron Pipes",
          "Cast or Rolled Glass",
          "Casting Machines",
          "Cathode Tubes",
          "Calculators",
          "Cars",
          "Zippers",
          "Zinc Ore",
          "Zinc Powder",
          "Zinc Sheets",
          "Zinc Oxide and Peroxide",
          "Zirconium",
          "Hand-Woven Tapestries",
          "Electric Soldering Equipment",
          "Electrical Capacitors",
          "Electrical Control Boards",
          "Electrical Ignitions",
          "Electrical Insulators",
          "Electrical Lighting and Signalling Equipment",
          "Electrical Parts",
          "Electrical Power Accessories",
          "Electrical Resistors",
          "Electrical Transformers",
          "Electricity",
          "Electromagnets",
          "Embroidery",
          "Engine Parts",
          "Enzymes",
          "Epoxides",
          "Equine and Bovine Hides",
          "Felt Carpets",
          "Felt",
          "Feldspar",
          "Fat and Oil Residues",
          "Fake Hair",
          "Fairground Amusements",
          "Electric Musical Instruments",
          "Eyewear and Clock Glass",
          "Eyewear",
          "Explosive Ammunition",
          "Excavation Machinery",
          "Ethylene Polymers",
          "Ethers",
          "Essential Oils",
          "Eyewear Frames",
          "Electric Motors",
          "Electric Motor Parts",
          "Electric Locomotives",
          "Hats",
          "Headbands and Linings",
          "Heavy Mixed Woven Cotton",
          "Heavy Pure Woven Cotton",
          "Heavy Synthetic Cotton Fabrics",
          "High-voltage Protection Equipment",
          "Hat Shapes",
          "Honey",
          "Hormones",
          "Horse Meat",
          "Horsehair Fabric",
          "Horsehair Yarn",
          "Horses",
          "Hose Piping Textiles",
          "Hops",
          "Felt Machinery",
          "Hat Forms",
          "Hard Rubber",
          "Electric Heaters",
          "Electric Generating Sets",
          "Electric Furnaces",
          "Electric Filament",
          "Electric Batteries",
          "Halogenated Hydrocarbons",
          "Harvesting Machinery",
          "Halogens",
          "Hand Sifters",
          "Hand Tools",
          "Hand-Woven Rugs",
          "Handguns",
          "Handkerchiefs",
          "Hard Liquor",
          "Hand Saws",
          "Hot-Rolled Iron",
          "Felt or Coated Fabric Garments",
          "Ferroalloys",
          "Gelatin",
          "Gimp Yarn",
          "Glands and Other Organs",
          "Glass Balls",
          "Glass Beads",
          "Glass Bottles",
          "Glass Bricks",
          "Glass Bulbs",
          "Glass Fibers",
          "Glass Mirrors",
          "Glass Scraps",
          "Glass Working Machines",
          "Glass with Edge Workings",
          "Glazed Ceramics",
          "Glaziers Putty",
          "Glues",
          "Glycerol",
          "Hair Products",
          "Gypsum",
          "Gum Coated Textile Fabric",
          "Ground Nuts",
          "Ground Nut Oil",
          "Ground Nut Meal",
          "Gauze",
          "Gravel and Crushed Stone",
          "Grapes",
          "Granulated Slag",
          "Granite",
          "Gold Clad Metals",
          "Gold",
          "Glycosides",
          "Graphite",
          "Gaskets",
          "Gas and Liquid Flow Measuring Instruments",
          "Gas Turbines",
          "Flax Woven Fabric",
          "Flax Fibers",
          "Flavored Water",
          "Flat-Rolled Stainless Steel",
          "Flat-Rolled Iron",
          "Flat Flat-Rolled Steel",
          "Flax Yarn",
          "Fishing and Hunting Equipment",
          "Fish: dried, salted, smoked or in brine",
          "Fish oil",
          "Fish Fillets",
          "Fireworks",
          "Fire Extinguishers Preparations",
          "Filing Cabinets",
          "Fishing Ships",
          "Fermented Milk Products",
          "Flexible Metal Tubing",
          "Fluorides",
          "Garments of Impregnated Fabric",
          "Garden Tools",
          "Furskin Apparel",
          "Fuel Wood",
          "Fruit Pressing Machinery",
          "Fruit Juice",
          "Float Glass",
          "Frozen Vegetables",
          "Frozen Bovine Meat",
          "Friction Material",
          "Fork-Lifts",
          "Forging Machines",
          "Forage Crops",
          "Footwear Parts",
          "Frozen Fruits and Nuts",
          "Hair Trimmers",
          "Hot-Rolled Iron Bars",
          "House Linens",
          "Hot-Rolled Stainless Steel Bars",
          "Integrated Circuits",
          "Insulating Glass",
          "Insulated Wire",
          "Instructional Models",
          "Insect Resins",
          "Inorganic Salts",
          "Inorganic Compounds",
          "Ink Ribbons",
          "Ink",
          "Inedible Fats and Oils",
          "Industrial Printers",
          "Industrial Furnaces",
          "Industrial Food Preperation Machinery",
          "Industrial Fatty Acids, Oils and Alcohols",
          "Halides",
          "Imitation Jewellery",
          "Household Washing Machines",
          "Incomplete Movement Sets",
          "Human Hair",
          "Hydraulic Brake Fluid",
          "Hydraulic Turbines",
          "Hydrides and other anions",
          "Hydrazine or Hydroxylamine Derivatives",
          "Hydrogen",
          "Hydrogen peroxide",
          "Hydrometers",
          "Hypochlorites",
          "Ice Cream",
          "Image Projectors",
          "Hydrochloric Acid",
          "Chlorates and Perchlorates",
          "Chemical Analysis Instruments",
          "Chemically Pure Sugars",
          "Chlorides",
          "Citrus",
          "Chromium Ore",
          "Chromium Oxides and Hydroxides",
          "Cigarette Paper",
          "Cinnamon",
          "Cheese",
          "Chocolate",
          "Chamois Leather",
          "Ceramic Tableware",
          "Chalk",
          "Cermets",
          "Cereal Meal and Pellets",
          "Cereal Flours",
          "Citrus and Melon Peels",
          "Ceramic Pipes",
          "Ceramic Bricks",
          "Centrifuges",
          "Central Heating Boilers",
          "Cement Articles",
          "Cement",
          "Cellulose Fibers Paper",
          "Cellulose",
          "Chalkboards",
          "Clays",
          "Cereal Straws",
          "Clock Cases and Parts",
          "Cleaning Products",
          "Collector's Items",
          "Cold-Rolled Iron",
          "Coke",
          "Coin",
          "Coffee and Tea Extracts",
          "Coffee",
          "Coconuts, Brazil Nuts, and Cashews",
          "Coconut and Other Vegetable Fibers",
          "Coconut Oil",
          "Cocoa Shells",
          "Cocoa Powder",
          "Children's Picture Books",
          "Cocoa Butter",
          "Clock Movements",
          "Cocoa Paste",
          "Cloves",
          "Coal Briquettes",
          "Coal Tar Oil",
          "Clocks with Watch Movements",
          "Coated Metal Soldering Products",
          "Coated Textile Fabric",
          "Cobalt",
          "Cobalt Oxides and Hydroxides",
          "Cocoa Beans",
          "Coated Flat-Rolled Iron",
          "Other Non-Metal Removal Machinery",
          "Other Metal Fasteners",
          "Other Metals",
          "Other Mineral",
          "Other Musical Instruments",
          "Other Nitrogen Compounds",
          "Other Non-Knit Clothing Accessories",
          "Other Nuts",
          "Other Nickel Products",
          "Other Oily Seeds",
          "Other Ores",
          "Other Organic Compounds",
          "Other Organo-Inorganic Compounds",
          "Other Paints",
          "Other Paper Machinery",
          "Other Plastic Products",
          "Other Office Machines",
          "Other Precious Metal Products",
          "Other Plastic Sheetings",
          "Unprocessed Synthetic Staple Fibers",
          "Unprocessed Artificial Staple Fibers",
          "Unpackaged Medicaments",
          "Undeveloped Exposed Photographic Material",
          "Uncoated Paper",
          "Turpentine",
          "Umbrella and Walking Stick Accessories",
          "Twine and Rope",
          "Unsaturated Acyclic Monocarboxylic Acids",
          "Tungsten Ore",
          "Tungsten",
          "Tulles and Net Fabric",
          "Umbrellas",
          "Unvulcanised Rubber Products",
          "Utility Meters",
          "Used Clothing",
          "Vending Machines",
          "Vehicle Bodies (including cabs) for the motor vehicles (8701 to 8705)",
          "Vegetable waxes and beeswax",
          "Vegetable or Animal Dyes",
          "Vegetable and Mineral Carvings",
          "Vegetable Saps",
          "Vegetable Plaiting Materials",
          "Uranium and Thorium Ore",
          "Vegetable Parchment",
          "Vegetable Alkaloids",
          "Vanilla",
          "Valves",
          "Vacuum Flask",
          "Vacuum Cleaners",
          "Vaccines, blood, antisera, toxins and cultures",
          "Used Rubber Tires",
          "Vegetable Fiber",
          "Vegetable Tanning Extracts",
          "Unglazed Ceramics",
          "Watch Straps",
          "Vermouth",
          "Video Cameras",
          "Video Displays",
          "Video Recording Equipment",
          "Video and Card Games",
          "Vinegar",
          "Vinyl Chloride Polymers",
          "Vitamins",
          "Wadding",
          "Walking Sticks",
          "Wallpaper",
          "Washing and Bottling Machines",
          "Water and Gas Generators",
          "Water Soluble Proteins",
          "Water",
          "Veneer Sheets",
          "Watch Cases and Parts",
          "Watch Movements",
          "Sugar Preserved Foods",
          "Starch Residue",
          "Starches",
          "Steam Boilers",
          "Steam Turbines",
          "Stearic Acid",
          "Steel Bars",
          "Steel Ingots",
          "Steel Wire",
          "Stone Processing Machines",
          "Stone Working Machines",
          "Stranded Aluminium Wire",
          "Stranded Copper Wire",
          "Stranded Iron Wire",
          "String Instruments",
          "Styrene Polymers",
          "Sulfate Chemical Woodpulp",
          "Sulfates",
          "Synthetic Reconstructed Jewellery Stones",
          "Sulfides",
          "Synthetic Rubber",
          "Synthetic Monofilament",
          "Rubber",
          "Rubber Apparel",
          "Rubber Belting",
          "Rubber Footwear",
          "Rubber Inner Tubes",
          "Rubber Pipes",
          "Rubber Sheets",
          "Rubber Stamps",
          "Rubber Textile Fabric",
          "Rubber Textiles",
          "Rubber Thread",
          "Rubber Tires",
          "Stainless Steel Wire",
          "Rubberworking Machinery",
          "Saddlery",
          "Synthetic Filament Yarn Woven Fabric",
          "Synthetic Filament Tow",
          "Synthetic Fabrics",
          "Synthetic Coloring Matter",
          "Surveying Equipment",
          "Sunflower Seeds",
          "Sulphur",
          "Sulfuric Acid",
          "Sulfur",
          "Sulfonated, Nitrated or Nitrosated Hydrocarbons",
          "Sulfonamides",
          "Sulfites",
          "Sulfite Chemical Woodpulp",
          "Rye",
          "Synthetic Tanning Extracts",
          "Stainless Steel Ingots",
          "Sports Equipment",
          "Scrap Vessels",
          "Scrap Waste",
          "Sculptures",
          "Seats",
          "Seed Oils",
          "Self-Propelled Rail Transport",
          "Scrap Tin",
          "Self-adhesive Plastics",
          "Semi-Finished Iron",
          "Semiconductor Devices",
          "Sewing Machines",
          "Shaped Paper",
          "Shaped Wood",
          "Shaving Products",
          "Semi chemical Woodpulp",
          "Sheep Hides",
          "Scrap Rubber",
          "Scrap Nickel",
          "Salt",
          "Sand",
          "Saturated Acyclic Monocarboxylic Acids",
          "Sauces and Seasonings",
          "Sausages",
          "Sawn Wood",
          "Scrap Plastic",
          "Scales",
          "Scent Sprays",
          "Scented Mixtures",
          "Scissors",
          "Scrap Aluminium",
          "Scrap Copper",
          "Scrap Iron",
          "Scarves",
          "Spring, Air, and Gas Guns",
          "Sheep and Goat Meat",
          "Signaling Glassware",
          "Sorghum",
          "Sound Recording Equipment",
          "Sound Recordings",
          "Soups and Broths",
          "Sowing Seeds",
          "Soybean Meal",
          "Soldering and Welding Machinery",
          "Soybean Oil",
          "Spark-Ignition Engines",
          "Special Pharmaceuticals",
          "Special Purpose Ships",
          "Special purpose motor vehicles",
          "Spice Seeds",
          "Spices",
          "Soybeans",
          "Sheet Music",
          "Soil Preparation Machinery",
          "Soapstone",
          "Silicates",
          "Siliceous Fossil Meals",
          "Silicone",
          "Silk Fabrics",
          "Silk Waste",
          "Silk Waste Yarn",
          "Sodium or Potassium Peroxides",
          "Silk-worm Cocoons",
          "Silver Clad Metals",
          "Slag Dross",
          "Slate",
          "Small Iron Containers",
          "Smoking Pipes",
          "Soap",
          "Silver",
          "Tall Oil",
          "Safes",
          "Tanned Equine and Bovine Hides",
          "Tanned Furskins",
          "Tanned Goat Hides",
          "Tanks and Armored vehicles",
          "Tanned Sheep Hides",
          "Safety Glass",
          "Tantalum",
          "Processed Hair",
          "Processed Fish",
          "Processed Egg Products",
          "Processed Crustaceans",
          "Processed Cereals",
          "Processed Bones",
          "Print Production Machinery",
          "Printed Circuit Boards",
          "Processed Mica",
          "Preserved Vegetables",
          "Preserved Meat",
          "Preserved Fruits and Nuts",
          "Prepared Wool or Animal Hair",
          "Prints",
          "Processed Mushrooms",
          "Processed Tobacco",
          "Prepared Rubber Accelerators",
          "Pig Hair",
          "Pig Iron",
          "Pig Meat",
          "Pig and Poultry Fat",
          "Pigs",
          "Pile Fabric",
          "Pitch Coke",
          "Pitted Fruits",
          "Plaiting Products",
          "Planes, Helicopters, and/or Spacecraft",
          "Plant foliage",
          "Pulley Systems",
          "Propylene Polymers",
          "Propellant Powders",
          "Processed Tomatoes",
          "Processed Synthetic Staple Fibers",
          "Prepared Pigments",
          "Prepared Cotton",
          "Prepared Explosives",
          "Polycarboxylic Acids",
          "Polyamides",
          "Polyamide Fabric",
          "Polyacetals",
          "Polishes and Creams",
          "Plywood",
          "Polymer Ion-Exchangers",
          "Platinum Clad Metals",
          "Plastic Wash Basins",
          "Plastic Pipes",
          "Plastic Lids",
          "Plastic Housewares",
          "Plastic Floor Coverings",
          "Plastic Coated Textile Fabric",
          "Platinum",
          "Prepared Paint Driers",
          "Porcelain Tableware",
          "Postcards",
          "Prepared Cereals",
          "Prefabricated Buildings",
          "Precipitated Copper",
          "Precious Stones",
          "Precious Stone Dust",
          "Precious Metal Watches",
          "Portable Lighting",
          "Precious Metal Scraps",
          "Precious Metal Compounds",
          "Poultry Meat",
          "Poultry",
          "Potatoes",
          "Potato Flours",
          "Potassic Fertilizers",
          "Precious Metal Ore",
          "Pickled Foods",
          "Photographic Paper",
          "Photographic Plates",
          "Rock Wool",
          "Rolled Tobacco",
          "Rolling Machines",
          "Roofing Tiles",
          "Root Vegetables",
          "Rosin",
          "Rice",
          "Rough Wood",
          "Raw Tobacco",
          "Raw Tin",
          "Raw Sugar",
          "Raw Silk",
          "Raw Plastic Sheeting",
          "Raw Nickel",
          "Raw Zinc",
          "Revolution Counters",
          "Revenue Stamps",
          "Retail Wool or Animal Hair Yarn",
          "Plaster Articles",
          "Razor Blades",
          "Reaction and Catalytic Products",
          "Recovered Paper Pulp",
          "Recreational Boats",
          "Refined Copper",
          "Refined Petroleum",
          "Refractory Bricks",
          "Refractory Cements",
          "Refractory Ceramics",
          "Refrigerators",
          "Retail Artificial Filament Yarn",
          "Retail Artificial Staple Fibers Yarn",
          "Retail Cotton Yarn",
          "Retail Silk Yarn",
          "Raw Lead",
          "Pianos",
          "Raw Iron Bars",
          "Raw Cotton",
          "Pure Olive Oil",
          "Pumice",
          "Pharmaceutical Animal Products",
          "Pharmaceutical Rubber Products",
          "Phenol Derivatives",
          "Phenols",
          "Pyrophoric Alloys",
          "Phosphatic Fertilizers",
          "Phosphoric Acid",
          "Phosphoric Esters and Salts",
          "Photo Lab Equipment",
          "Photocopiers",
          "Photographic Chemicals",
          "Photographic Film",
          "Phosphinates (hypophosphites) and phosphonates (phosphites)",
          "Quartz",
          "Quaternary Ammonium Salts and Hydroxides",
          "Quicklime",
          "Raw Cork",
          "Raw Copper",
          "Raw Bones",
          "Raw Aluminium",
          "Rare-Earth Metal Compounds",
          "Rapeseed Oil",
          "Rapeseed",
          "Railway Track Fixtures",
          "Railway Maintenance Vehicles",
          "Railway Freight Cars",
          "Railway Cargo Containers",
          "Railroad Ties",
          "Radioactive Chemicals",
          "Radio Receivers",
          "Quilted Textiles",
          "Raw Furskins",
          "Plastic Building Materials",
          "Recovered Paper",
          "Reclaimed Rubber",
          "Combed Wool or Animal Hair Fabric",
          "Cucumbers",
          "Crustaceans",
          "Crude Petroleum",
          "Cranes",
          "Corrugated Paper",
          "Cotton Waste",
          "Combs",
          "Combustion Engines",
          "Compasses",
          "Composite Paper",
          "Compounded Unvulcanised Rubber",
          "Computers",
          "Concentrated Milk",
          "Curbstones",
          "Confectionery Sugar",
          "Cooking Hand Tools",
          "Copper Alloys",
          "Copper Bars",
          "Copper Fasteners",
          "Copper Foil",
          "Copper Housewares",
          "Copper Ore",
          "Copper Pipe Fittings",
          "Copper Pipes",
          "Copper Plating",
          "Copper Powder",
          "Copper Wire",
          "Coral and Shells",
          "Corn",
          "Conveyor Belt Textiles",
          "Cut Flowers",
          "Cotton Sewing Thread",
          "Cutting Blades",
          "Cutlery Sets",
          "Decals",
          "Delivery Trucks",
          "Densified Wood",
          "Dental Products",
          "Detonating Fuses",
          "Developed Exposed Photographic Material",
          "Dextrins",
          "Diamonds",
          "Diazo, Azo or Aoxy Compounds",
          "Dictation Machines",
          "Disc Chemicals for Electronics",
          "Dissolving Grades Chemical Woodpulp",
          "Dithionites and Sulfoxylates",
          "Documents of title (bonds etc) and unused stamps",
          "Edible Offal",
          "Drafting Tools",
          "Debacked Cork",
          "Dried Fruits",
          "Dried Legumes",
          "Dried Vegetables",
          "Drilling Machines",
          "Dyeing Finishing Agents",
          "Dolomite",
          "Eggs",
          "Dashboard Clocks",
          "Dairy Machinery",
          "Cyclic Hydrocarbons",
          "Cyclic Alcohols",
          "Cyanides",
          "Whey and other milk products",
          "Wind Instruments",
          "Wood Barrels",
          "Wine",
          "Zinc Bars",
          "Yeast",
          "X-Ray Equipment",
          "Wrenches",
          "Woven Fabrics",
          "Woven Fabric of Synthetic Staple Fibers",
          "Worked Slate",
          "Work Trucks",
          "Wool or Animal Hair Waste",
          "Wool Grease",
          "Wool",
          "Woodworking machines",
          "Worked Ivory and Bone",
          "Wooden Tool Handles",
          "Wood Tar, Oils and Pitch",
          "Wood Stakes",
          "Wood Pulp Lyes",
          "Wood Ornaments",
          "Wood Kitchenware",
          "Wood Frames",
          "Wood Fiberboard",
          "Wood Crates",
          "Wood Charcoal",
          "Wood Carpentry",
          "Wine Lees",
          "Window Dressings",
          "Metal Stoppers",
          "Metal Signs",
          "Linoleum",
          "Maps",
          "Margarine",
          "Matches",
          "Mattresses",
          "Maté",
          "Mechanical Wood Pulp",
          "Medical Furniture",
          "Mannequins",
          "Medical Instruments",
          "Metal Finishing Machines",
          "Metal Insulating Fittings",
          "Metal Lathes",
          "Metal Molds",
          "Metal Mountings",
          "Metal Office Supplies",
          "Metal Pickling Preparations",
          "Melons",
          "Manganese Oxides",
          "Marble, Travertine and Alabaster",
          "Manganese",
          "Linseed",
          "Liquid Dispersing Machines",
          "Liquid Fuel Furnaces",
          "Liquid Pumps",
          "Live Fish",
          "Manganese Ore",
          "Locust beans, seaweed, sugar beet, cane, for food",
          "Looms",
          "Locomotive Parts",
          "Lubricating Products",
          "Machinery Having Individual Functions",
          "Magnesium",
          "Magnesium Carbonate",
          "Magnesium Hydroxide and Peroxide",
          "Malt",
          "Malt Extract",
          "Low-voltage Protection Equipment",
          "Iron Cloth",
          "Interchangeable Tool Parts",
          "Interior Decorative Glassware",
          "Iron Anchors",
          "Iron Blocks",
          "Iron Chains",
          "Iron Fasteners",
          "Iron Wire",
          "Iron Housewares",
          "Jewellery",
          "Iron Gas Containers",
          "Jute Woven Fabric",
          "Jute Yarn",
          "Jute and Other Textile Fibers",
          "Kaolin",
          "Jams",
          "Kaolin Coated Paper",
          "Knit Active Wear",
          "Knit Babies' Garments",
          "Knit Gloves",
          "Knit Men's Coats",
          "Knit Men's Shirts",
          "Knit Men's Suits",
          "Ketones and Quinones",
          "Knit Men's Undergarments",
          "Iron Toiletry",
          "Iron Stovetops",
          "Iron Ingots",
          "Iron Nails",
          "Iron Ore",
          "Iron Oxides and Hydroxides",
          "Iron Pipe Fittings",
          "Iron Pipes",
          "Iron Structures",
          "Iron Powder",
          "Iron Radiators",
          "Iron Railway Products",
          "Iron Reductions",
          "Iron Sewing Needles",
          "Iron Sheet Piling",
          "Iron Springs",
          "Iron Pyrites",
          "Knit Socks and Hosiery",
          "Patent Leather",
          "Pastes and Waxes",
          "Petroleum Resins",
          "Pasta",
          "Petroleum Gas",
          "Petroleum Coke",
          "Pesticides",
          "Perfumes",
          "Perfume Plants",
          "Percussion",
          "Petroleum Jelly",
          "Pepper",
          "Pens",
          "Pencils and Crayons",
          "Peat",
          "Pearls",
          "Pearl Products",
          "Peptones",
          "Other Sugars",
          "Other Stone Articles",
          "Other Steel Bars",
          "Other Stainless Steel Bars",
          "Other Small Iron Pipes",
          "Other Slag and Ash",
          "Other Processed Vegetables",
          "Other Rubber Products",
          "Other Pure Vegetable Oils",
          "Other Processed Fruits and Nuts",
          "Other Printed Material",
          "Other Prepared Meat",
          "Other Synthetic Fabrics",
          "Other Sea Vessels",
          "Other Tin Products",
          "Packaged Sewing Sets",
          "Other Vegetable Fibers Fabric",
          "Passenger and Cargo Ships",
          "Party Decorations",
          "Particle Board",
          "Parachutes",
          "Papermaking Machines",
          "Paper Spools",
          "Paper Pulp Filter Blocks",
          "Paper Notebooks",
          "Paper Labels",
          "Paper Containers",
          "Palm Oil",
          "Paintings",
          "Padlocks",
          "Packing Bags",
          "Other Uncoated Paper",
          "Packaged Medicaments",
          "Oxygen Amino Compounds",
          "Oxometallic or Peroxometallic Acid Salts",
          "Other toys",
          "Other live plants, cuttings and slips;\nmushroom spawn",
          "Other Zinc Products",
          "Other Wood Articles",
          "Other Women's Undergarments",
          "Other Vinyl Polymers",
          "Other Vegetables",
          "Other Vegetable Residues and Waste",
          "Other Vegetable Residues",
          "Other Vegetable Products",
          "Other Vegetable Oils",
          "Other Vegetable Fibers Yarn",
          "Oxygen Heterocyclic Compounds",
          "Office Machine Parts",
          "Nickel Pipes",
          "Other Measuring Instruments",
          "Non-Knit Babies' Garments",
          "Non-Knit Active Wear",
          "Non-Iron and Steel Slag, Ash and Residues",
          "Nitrogenous Fertilizers",
          "Nitrogen Heterocyclic Compounds",
          "Nitrites and Nitrates",
          "Non-Knit Gloves",
          "Nitrile Compounds",
          "Niobium, Tantalum, Vanadium and Zirconium Ore",
          "Nickel Sheets",
          "Nickel Powder",
          "Nickel Ore",
          "Nickel Mattes",
          "Nickel Bars",
          "Nitric Acids",
          "Newsprint",
          "Non-Knit Men's Coats",
          "Non-Knit Men's Suits",
          "Non-Retail Silk Yarn",
          "Non-Retail Pure Cotton Yarn",
          "Non-Retail Mixed Cotton Yarn",
          "Non-Retail Combed Wool Yarn",
          "Non-Retail Carded Wool Yarn",
          "Non-Retail Artificial Staple Fibers Yarn",
          "Non-Knit Men's Shirts",
          "Non-Retail Artificial Staple Fibers Sewing Thread",
          "Non-Mechanical Removal Machinery",
          "Non-Knit Women's Undergarments",
          "Non-Knit Women's Suits",
          "Non-Knit Women's Shirts",
          "Non-Knit Women's Coats",
          "Non-Knit Men's Undergarments",
          "Non-Retail Artificial Filament Yarn",
          "Non-Retail Synthetic Filament Yarn",
          "Newspapers",
          "Neck Ties",
          "Milk",
          "Military Weapons",
          "Microscopes",
          "Microphones and Headphones",
          "Micro-Organism Culture Preparations",
          "Mica",
          "Mill Machinery",
          "Metalworking Transfer Machines",
          "Metalworking Machine Parts",
          "Metallic Yarn",
          "Metallic Fabric",
          "Metal-Rolling Mills",
          "Metal-Clad Products",
          "Other Meat",
          "Metalworking Machines",
          "Netting",
          "Milling Stones",
          "Mixed Mineral or Chemical Fertilizers",
          "Navigation Equipment",
          "Natural Polymers",
          "Natural Cork Articles",
          "Musical Instrument Parts",
          "Motorcycles and cycles",
          "Motor-working Tools",
          "Mirrors and Lenses",
          "Motor vehicles; parts and accessories (8701 to 8705)",
          "Motion-picture film, exposed and developed",
          "Monofilament",
          "Molybdenum Ore",
          "Molybdenum",
          "Molluscs",
          "Molasses",
          "Motor vehicle (8701 to 8705) chassis fitted with engine",
          "Non-Retail Synthetic Staple Fibers Yarn",
          "Narrow Woven Fabric",
          "Non-fillet Frozen Fish",
          "Other Frozen Vegetables",
          "Other Footwear",
          "Other Floating Structures",
          "Other Firearms",
          "Other Fermented Beverages",
          "Other Esters",
          "Other Fruits",
          "Other Engines",
          "Other Edible Preparations",
          "Other Edible Animal Products",
          "Other Domestic Electric Housewares",
          "Other Cutlery",
          "Other Cotton Fabrics",
          "Other Copper Products",
          "Other Electrical Machinery",
          "Other Furniture",
          "Other Glass Articles",
          "Other Hand Tools",
          "Non-fillet Fresh Fish",
          "Other Locomotives",
          "Other Leather Articles",
          "Other Lead Products",
          "Other Large Iron Pipes",
          "Other Knit Garments",
          "Other Knit Clothing Accessories",
          "Other Iron Products",
          "Other Iron Bars",
          "Other Inorganic Acids Salts",
          "Other Inorganic Acids",
          "Other Inedible Animal Products",
          "Other Hides and Skins",
          "Other Heating Machinery",
          "Other Headwear",
          "Other Construction Vehicles",
          "Other Coloring Matter",
          "Other Isotopes",
          "Other Clocks and Watches",
          "Optical Fibers and optical fibre bundles",
          "Non-optical Microscopes",
          "Olive Oil",
          "Oil Seed Flower",
          "Oats",
          "Nutmeg, mace and cardamons",
          "Opto-Electric Instrument Parts",
          "Nucleic Acids",
          "Nonmetal Sulfides",
          "Nonaqueous Pigments",
          "Nonaqueous Paints",
          "Non-woven Textiles",
          "Non-powered Aircraft",
          "Other Cloth Articles",
          "Nuclear Reactors",
          "Organic Composite Solvents",
          "Onions",
          "Ornamental Ceramics",
          "Other Clocks",
          "Other Ceramic Articles",
          "Other Cast Iron Products",
          "Organo-Sulfur Compounds",
          "Other Carbon Paper",
          "Other Articles of Twine and Rope",
          "Other Animals",
          "Other Carpets",
          "Other Aluminium Products",
          "Other Agricultural Machinery",
          "Oscilloscopes",
          "Orthopedic Appliances",
          "Ornamental Trimmings",
          "Other Animal Fats",
          "Tin Bars",
          "Tin Ores",
          "Time Switches",
          "Time Recording Instruments",
          "Tissue",
          "Titanium",
          "Titanium Ore",
          "Titanium Oxides",
          "Tobacco Processing Machines",
          "Toilet Paper",
          "Tropical Fruits",
          "Tool Plates",
          "Tool Sets",
          "Tractors",
          "Traffic Signals",
          "Trailers and semi-trailers, not mechanically propelled vehicles",
          "Transmissions",
          "Travel Kits",
          "Thermostats",
          "Trunks and Cases",
          "Tufted Carpets",
          "Tug Boats",
          "Tomatoes",
          "Therapeutic Appliances",
          "Tar",
          "Textile Wicks",
          "Textile Wall Coverings",
          "Textile Scraps",
          "Textile Processing Machines",
          "Textile Footwear",
          "Textile Fiber Machinery",
          "Terry Fabric",
          "Tensile Testing Machines",
          "Telephones",
          "Tea",
          "Tapioca",
          "Textiles for technical uses",
          "Binoculars and Telescopes",
          "Bird Feathers and Skins",
          "Bird Skins and Feathers",
          "Cadmium",
          "Bulbs and Roots",
          "Buttons",
          "Butter",
          "Buses",
          "Bicycles, delivery tricycles, other cycles",
          "Cabbages",
          "Barium Sulphate",
          "Bathroom Ceramics",
          "Barbed Wire",
          "Building Stone",
          "Base Metal Watches",
          "Basketwork",
          "Batteries",
          "Beauty Products",
          "Bedspreads",
          "Beer",
          "Bells and Other Metal Ornaments",
          "Bi-Wheel Vehicle Parts",
          "Barley",
          "Buckwheat",
          "Boat Propellers",
          "Brochures",
          "Antiknock",
          "Antiques",
          "Bandages",
          "Apples and Pears",
          "Aqueous Paints",
          "Bladed Weapons and Accessories",
          "Blank Audio Media",
          "Blankets",
          "Blown Glass",
          "Boiler Plants",
          "Brooms",
          "Book-binding Machines",
          "Borax",
          "Boron",
          "Bovine",
          "Bovine Meat",
          "Bovine, Sheep, and Goat Fat",
          "Bran",
          "Breathing Appliances",
          "Bricks",
          "Broadcasting Accessories",
          "Broadcasting Equipment",
          "Borates",
          "Bananas",
          "Bitumen and asphalt",
          "Balances",
          "Bismuth",
          "Architectural Plans",
          "Ball Bearings",
          "Artificial Fibers Waste",
          "Artificial Filament Sewing Thread",
          "Artificial Filament Tow",
          "Artificial Filament Yarn Woven Fabric",
          "Artificial Fur",
          "Artificial Graphite",
          "Artificial Monofilament",
          "Artificial Textile Machinery",
          "Articles of Gut",
          "Artistry Paints",
          "Artificial Vegetation",
          "Baby Carriages",
          "Baked Goods",
          "Awnings, Tents, and Sails",
          "Audio Alarms",
          "Asphalt Mixtures",
          "Asphalt",
          "Asbestos Fibres",
          "Audio and Video Recording Accessories",
          "Asbestos Cement Articles",
          "Asbestos",
          "Wheelchairs",
          "Wheat Gluten",
          "Wheat Flours",
          "Wheat",
          "Weapons Parts and Accessories",
          "Waxes",
          "Waterproof Footwear",
          "Lettuce",
          "Lifting Machinery",
          "Light Fixtures",
          "Light Mixed Woven Cotton",
          "Lighters",
          "Light Rubberized Knitted Fabric",
          "Light Synthetic Cotton Fabrics",
          "Lignite",
          "Letter Stock",
          "Light Pure Woven Cotton",
          "Legumes",
          "Lead Sheets",
          "Leather of Other Animals",
          "Leather Waste",
          "Leather Sheets",
          "Leather Machinery",
          "Leather Footwear",
          "Leather Apparel",
          "Lead Oxides",
          "Lead Ore",
          "Large Iron Containers",
          "Large Flat-Rolled Stainless Steel",
          "Large Flat-Rolled Iron",
          "Large Construction Vehicles",
          "Legume Flours",
          "Limestone",
          "Animal Hides",
          "Animal Products",
          "Animal and Vegetable Bi-Products",
          "Arts and Antiques",
          "Chemical Products",
          "Foodstuffs",
          "Footwear and Headwear",
          "Instruments",
          "Machines",
          "Metals",
          "Mineral Products",
          "Miscellaneous",
          "Paper Goods",
          "Plastics and Rubbers",
          "Precious Metals",
          "Stone And Glass",
          "Textiles",
          "Transportation",
          "Vegetable Products",
          "Weapons",
          "Wood Products"
         ],
         "marker": {
          "colors": [
           "#636efa",
           "#EF553B",
           "#EF553B",
           "#00cc96",
           "#00cc96",
           "#ab63fa",
           "#ab63fa",
           "#FFA15A",
           "#19d3f3",
           "#EF553B",
           "#636efa",
           "#FF6692",
           "#B6E880",
           "#636efa",
           "#636efa",
           "#636efa",
           "#636efa",
           "#636efa",
           "#636efa",
           "#FF6692",
           "#636efa",
           "#FF97FF",
           "#FECB52",
           "#FF97FF",
           "#ab63fa",
           "#00cc96",
           "#00cc96",
           "#FECB52",
           "#00cc96",
           "#00cc96",
           "#FECB52",
           "#00cc96",
           "#636efa",
           "#00cc96",
           "#00cc96",
           "#00cc96",
           "#FECB52",
           "#EF553B",
           "#EF553B",
           "#FF6692",
           "#FF6692",
           "#00cc96",
           "#00cc96",
           "#00cc96",
           "#00cc96",
           "#636efa",
           "#00cc96",
           "#EF553B",
           "#EF553B",
           "#00cc96",
           "#EF553B",
           "#EF553B",
           "#ab63fa",
           "#00cc96",
           "#EF553B",
           "#EF553B",
           "#EF553B",
           "#EF553B",
           "#EF553B",
           "#EF553B",
           "#EF553B",
           "#00cc96",
           "#00cc96",
           "#00cc96",
           "#FF6692",
           "#19d3f3",
           "#00cc96",
           "#FFA15A",
           "#00cc96",
           "#00cc96",
           "#00cc96",
           "#19d3f3",
           "#636efa",
           "#ab63fa",
           "#00cc96",
           "#FFA15A",
           "#EF553B",
           "#ab63fa",
           "#FF6692",
           "#FF6692",
           "#FF6692",
           "#EF553B",
           "#19d3f3",
           "#ab63fa",
           "#EF553B",
           "#EF553B",
           "#00cc96",
           "#EF553B",
           "#636efa",
           "#FF6692",
           "#FF6692",
           "#FF6692",
           "#FF6692",
           "#FF6692",
           "#FF6692",
           "#FF6692",
           "#FF6692",
           "#FF6692",
           "#FF6692",
           "#ab63fa",
           "#FF6692",
           "#636efa",
           "#FF6692",
           "#00cc96",
           "#00cc96",
           "#FF6692",
           "#636efa",
           "#636efa",
           "#ab63fa",
           "#B6E880",
           "#B6E880",
           "#19d3f3",
           "#FFA15A",
           "#ab63fa",
           "#FFA15A",
           "#FF97FF",
           "#FF6692",
           "#636efa",
           "#00cc96",
           "#00cc96",
           "#FFA15A",
           "#FF6692",
           "#FF6692",
           "#EF553B",
           "#B6E880",
           "#B6E880",
           "#636efa",
           "#636efa",
           "#636efa",
           "#FF6692",
           "#B6E880",
           "#FF97FF",
           "#00cc96",
           "#FF97FF",
           "#636efa",
           "#636efa",
           "#FF97FF",
           "#636efa",
           "#FFA15A",
           "#FF6692",
           "#B6E880",
           "#636efa",
           "#FF6692",
           "#FF6692",
           "#FF6692",
           "#FF6692",
           "#FF6692",
           "#00cc96",
           "#FF6692",
           "#00cc96",
           "#19d3f3",
           "#EF553B",
           "#636efa",
           "#FF97FF",
           "#636efa",
           "#FECB52",
           "#EF553B",
           "#EF553B",
           "#636efa",
           "#EF553B",
           "#00cc96",
           "#636efa",
           "#00cc96",
           "#ab63fa",
           "#ab63fa",
           "#ab63fa",
           "#ab63fa",
           "#ab63fa",
           "#ab63fa",
           "#ab63fa",
           "#ab63fa",
           "#FF6692",
           "#ab63fa",
           "#ab63fa",
           "#00cc96",
           "#00cc96",
           "#B6E880",
           "#00cc96",
           "#ab63fa",
           "#636efa",
           "#FFA15A",
           "#B6E880",
           "#FECB52",
           "#636efa",
           "#ab63fa",
           "#FFA15A",
           "#ab63fa",
           "#ab63fa",
           "#FECB52",
           "#FECB52",
           "#00cc96",
           "#ab63fa",
           "#FF6692",
           "#FFA15A",
           "#FF6692",
           "#636efa",
           "#636efa",
           "#FECB52",
           "#EF553B",
           "#EF553B",
           "#EF553B",
           "#636efa",
           "#19d3f3",
           "#FF97FF",
           "#B6E880",
           "#FF97FF",
           "#00cc96",
           "#00cc96",
           "#EF553B",
           "#EF553B",
           "#FF97FF",
           "#EF553B",
           "#00cc96",
           "#636efa",
           "#EF553B",
           "#FF6692",
           "#00cc96",
           "#FF6692",
           "#FECB52",
           "#ab63fa",
           "#FFA15A",
           "#FF97FF",
           "#ab63fa",
           "#FF6692",
           "#FF6692",
           "#FFA15A",
           "#B6E880",
           "#FFA15A",
           "#FF6692",
           "#EF553B",
           "#636efa",
           "#EF553B",
           "#FF6692",
           "#ab63fa",
           "#FF6692",
           "#FFA15A",
           "#FFA15A",
           "#00cc96",
           "#00cc96",
           "#19d3f3",
           "#00cc96",
           "#B6E880",
           "#FF6692",
           "#FF6692",
           "#FF6692",
           "#00cc96",
           "#00cc96",
           "#FECB52",
           "#FF6692",
           "#FFA15A",
           "#FF97FF",
           "#00cc96",
           "#FF6692",
           "#00cc96",
           "#00cc96",
           "#00cc96",
           "#00cc96",
           "#FFA15A",
           "#00cc96",
           "#FECB52",
           "#FFA15A",
           "#00cc96",
           "#00cc96",
           "#FFA15A",
           "#00cc96",
           "#00cc96",
           "#FFA15A",
           "#ab63fa",
           "#00cc96",
           "#19d3f3",
           "#FFA15A",
           "#FF97FF",
           "#FECB52",
           "#FF6692",
           "#ab63fa",
           "#ab63fa",
           "#EF553B",
           "#FFA15A",
           "#FFA15A",
           "#FFA15A",
           "#ab63fa",
           "#ab63fa",
           "#FF6692",
           "#FF6692",
           "#ab63fa",
           "#ab63fa",
           "#19d3f3",
           "#636efa",
           "#19d3f3",
           "#ab63fa",
           "#FFA15A",
           "#FFA15A",
           "#00cc96",
           "#636efa",
           "#EF553B",
           "#ab63fa",
           "#FECB52",
           "#FECB52",
           "#FFA15A",
           "#FFA15A",
           "#636efa",
           "#B6E880",
           "#FECB52",
           "#FECB52",
           "#19d3f3",
           "#FECB52",
           "#FFA15A",
           "#FECB52",
           "#FFA15A",
           "#ab63fa",
           "#ab63fa",
           "#FFA15A",
           "#EF553B",
           "#636efa",
           "#EF553B",
           "#00cc96",
           "#FECB52",
           "#EF553B",
           "#FF6692",
           "#EF553B",
           "#EF553B",
           "#ab63fa",
           "#FFA15A",
           "#00cc96",
           "#636efa",
           "#FFA15A",
           "#EF553B",
           "#FFA15A",
           "#ab63fa",
           "#00cc96",
           "#00cc96",
           "#00cc96",
           "#FF6692",
           "#636efa",
           "#FF6692",
           "#FECB52",
           "#636efa",
           "#636efa",
           "#636efa",
           "#00cc96",
           "#00cc96",
           "#19d3f3",
           "#00cc96",
           "#B6E880",
           "#636efa",
           "#00cc96",
           "#ab63fa",
           "#EF553B",
           "#636efa",
           "#B6E880",
           "#636efa",
           "#FFA15A",
           "#636efa",
           "#FF6692",
           "#EF553B",
           "#B6E880",
           "#00cc96",
           "#19d3f3",
           "#FFA15A",
           "#FFA15A",
           "#ab63fa",
           "#19d3f3",
           "#00cc96",
           "#FFA15A",
           "#FF6692",
           "#19d3f3",
           "#FF6692",
           "#00cc96",
           "#636efa",
           "#ab63fa",
           "#00cc96",
           "#ab63fa",
           "#FFA15A",
           "#FECB52",
           "#FFA15A",
           "#FF6692",
           "#FF6692",
           "#19d3f3",
           "#FECB52",
           "#636efa",
           "#00cc96",
           "#636efa",
           "#B6E880",
           "#19d3f3",
           "#FF6692",
           "#FF6692",
           "#00cc96",
           "#FECB52",
           "#00cc96",
           "#FFA15A",
           "#FFA15A",
           "#FECB52",
           "#FECB52",
           "#FFA15A",
           "#FF6692",
           "#FF6692",
           "#B6E880",
           "#EF553B",
           "#EF553B",
           "#EF553B",
           "#FF6692",
           "#FF6692",
           "#EF553B",
           "#EF553B",
           "#EF553B",
           "#FFA15A",
           "#636efa",
           "#19d3f3",
           "#00cc96",
           "#FECB52",
           "#00cc96",
           "#636efa",
           "#636efa",
           "#636efa",
           "#636efa",
           "#636efa",
           "#B6E880",
           "#636efa",
           "#636efa",
           "#636efa",
           "#19d3f3",
           "#636efa",
           "#636efa",
           "#636efa",
           "#636efa",
           "#EF553B",
           "#FF6692",
           "#FF6692",
           "#636efa",
           "#636efa",
           "#636efa",
           "#00cc96",
           "#FFA15A",
           "#FFA15A",
           "#ab63fa",
           "#00cc96",
           "#00cc96",
           "#00cc96",
           "#00cc96",
           "#00cc96",
           "#19d3f3",
           "#FFA15A",
           "#00cc96",
           "#EF553B",
           "#19d3f3",
           "#EF553B",
           "#EF553B",
           "#636efa",
           "#19d3f3",
           "#B6E880",
           "#EF553B",
           "#EF553B",
           "#636efa",
           "#EF553B",
           "#FF6692",
           "#FF6692",
           "#19d3f3",
           "#00cc96",
           "#00cc96",
           "#19d3f3",
           "#FF6692",
           "#636efa",
           "#EF553B",
           "#ab63fa",
           "#ab63fa",
           "#00cc96",
           "#FECB52",
           "#FECB52",
           "#00cc96",
           "#636efa",
           "#FF6692",
           "#19d3f3",
           "#00cc96",
           "#EF553B",
           "#EF553B",
           "#EF553B",
           "#EF553B",
           "#636efa",
           "#FF97FF",
           "#FF97FF",
           "#ab63fa",
           "#FFA15A",
           "#FF6692",
           "#FF6692",
           "#FECB52",
           "#FFA15A",
           "#FECB52",
           "#FF6692",
           "#B6E880",
           "#FF6692",
           "#00cc96",
           "#EF553B",
           "#EF553B",
           "#FFA15A",
           "#FFA15A",
           "#FFA15A",
           "#19d3f3",
           "#FF6692",
           "#ab63fa",
           "#00cc96",
           "#ab63fa",
           "#636efa",
           "#636efa",
           "#636efa",
           "#636efa",
           "#00cc96",
           "#636efa",
           "#FECB52",
           "#ab63fa",
           "#ab63fa",
           "#EF553B",
           "#19d3f3",
           "#00cc96",
           "#FECB52",
           "#00cc96",
           "#EF553B",
           "#FF6692",
           "#FF6692",
           "#FF6692",
           "#EF553B",
           "#FF6692",
           "#ab63fa",
           "#EF553B",
           "#B6E880",
           "#FECB52",
           "#FF97FF",
           "#FECB52",
           "#FFA15A",
           "#FF97FF",
           "#FF6692",
           "#FF6692",
           "#ab63fa",
           "#FFA15A",
           "#FF97FF",
           "#FFA15A",
           "#636efa",
           "#636efa",
           "#FECB52",
           "#FECB52",
           "#00cc96",
           "#FF97FF",
           "#EF553B",
           "#FF97FF",
           "#B6E880",
           "#FF97FF",
           "#636efa",
           "#ab63fa",
           "#FFA15A",
           "#00cc96",
           "#EF553B",
           "#FFA15A",
           "#FF6692",
           "#636efa",
           "#00cc96",
           "#FECB52",
           "#636efa",
           "#00cc96",
           "#636efa",
           "#00cc96",
           "#00cc96",
           "#636efa",
           "#636efa",
           "#636efa",
           "#00cc96",
           "#00cc96",
           "#636efa",
           "#FECB52",
           "#636efa",
           "#636efa",
           "#636efa",
           "#636efa",
           "#636efa",
           "#636efa",
           "#FECB52",
           "#00cc96",
           "#ab63fa",
           "#19d3f3",
           "#FECB52",
           "#19d3f3",
           "#EF553B",
           "#FECB52",
           "#FECB52",
           "#FFA15A",
           "#FF6692",
           "#FECB52",
           "#00cc96",
           "#FF97FF",
           "#FF97FF",
           "#FFA15A",
           "#FFA15A",
           "#00cc96",
           "#ab63fa",
           "#FECB52",
           "#00cc96",
           "#00cc96",
           "#ab63fa",
           "#FECB52",
           "#FF6692",
           "#ab63fa",
           "#FFA15A",
           "#00cc96",
           "#FFA15A",
           "#00cc96",
           "#FECB52",
           "#EF553B",
           "#FECB52",
           "#636efa",
           "#636efa",
           "#EF553B",
           "#EF553B",
           "#FFA15A",
           "#636efa",
           "#636efa",
           "#ab63fa",
           "#EF553B",
           "#00cc96",
           "#19d3f3",
           "#EF553B",
           "#EF553B",
           "#ab63fa",
           "#ab63fa",
           "#00cc96",
           "#ab63fa",
           "#FF6692",
           "#636efa",
           "#636efa",
           "#636efa",
           "#636efa",
           "#EF553B",
           "#FFA15A",
           "#EF553B",
           "#636efa",
           "#B6E880",
           "#ab63fa",
           "#FF97FF",
           "#636efa",
           "#00cc96",
           "#00cc96",
           "#00cc96",
           "#00cc96",
           "#00cc96",
           "#00cc96",
           "#FFA15A",
           "#FFA15A",
           "#00cc96",
           "#00cc96",
           "#00cc96",
           "#ab63fa",
           "#00cc96",
           "#ab63fa",
           "#00cc96",
           "#EF553B",
           "#FF97FF",
           "#EF553B",
           "#00cc96",
           "#B6E880",
           "#FFA15A",
           "#EF553B",
           "#EF553B",
           "#EF553B",
           "#EF553B",
           "#00cc96",
           "#00cc96",
           "#FF6692",
           "#636efa",
           "#FF6692",
           "#636efa",
           "#19d3f3",
           "#636efa",
           "#636efa",
           "#FFA15A",
           "#FF97FF",
           "#ab63fa",
           "#FF6692",
           "#19d3f3",
           "#636efa",
           "#19d3f3",
           "#FF6692",
           "#FFA15A",
           "#19d3f3",
           "#636efa",
           "#FF6692",
           "#FF97FF",
           "#ab63fa",
           "#FECB52",
           "#EF553B",
           "#EF553B",
           "#EF553B",
           "#EF553B",
           "#EF553B",
           "#EF553B",
           "#ab63fa",
           "#EF553B",
           "#EF553B",
           "#EF553B",
           "#EF553B",
           "#EF553B",
           "#FF97FF",
           "#FFA15A",
           "#636efa",
           "#FFA15A",
           "#636efa",
           "#EF553B",
           "#EF553B",
           "#19d3f3",
           "#EF553B",
           "#00cc96",
           "#00cc96",
           "#00cc96",
           "#00cc96",
           "#00cc96",
           "#FECB52",
           "#00cc96",
           "#FF6692",
           "#00cc96",
           "#19d3f3",
           "#00cc96",
           "#19d3f3",
           "#FF97FF",
           "#FFA15A",
           "#00cc96",
           "#FFA15A",
           "#FFA15A",
           "#FFA15A",
           "#FF6692",
           "#00cc96",
           "#ab63fa",
           "#FF97FF",
           "#FFA15A",
           "#FF6692",
           "#00cc96",
           "#00cc96",
           "#00cc96",
           "#FF97FF",
           "#FFA15A",
           "#00cc96",
           "#FECB52",
           "#EF553B",
           "#FECB52",
           "#FFA15A",
           "#EF553B",
           "#636efa",
           "#636efa",
           "#ab63fa",
           "#EF553B",
           "#636efa",
           "#B6E880",
           "#636efa",
           "#FF6692",
           "#19d3f3",
           "#00cc96",
           "#00cc96",
           "#00cc96",
           "#00cc96",
           "#00cc96",
           "#00cc96",
           "#00cc96",
           "#00cc96",
           "#00cc96",
           "#00cc96",
           "#00cc96",
           "#FECB52",
           "#636efa",
           "#EF553B",
           "#EF553B",
           "#636efa",
           "#19d3f3",
           "#B6E880",
           "#00cc96",
           "#19d3f3",
           "#FFA15A",
           "#19d3f3",
           "#19d3f3",
           "#19d3f3",
           "#FFA15A",
           "#FF6692",
           "#FF6692",
           "#FF6692",
           "#FF6692",
           "#EF553B",
           "#EF553B",
           "#00cc96",
           "#FFA15A",
           "#00cc96",
           "#ab63fa",
           "#EF553B",
           "#FFA15A",
           "#FF6692",
           "#FF6692",
           "#FF6692",
           "#FF97FF",
           "#ab63fa",
           "#FFA15A",
           "#FF6692",
           "#EF553B",
           "#00cc96",
           "#FF6692",
           "#EF553B",
           "#ab63fa",
           "#00cc96",
           "#FFA15A",
           "#FECB52",
           "#FF6692",
           "#EF553B",
           "#EF553B",
           "#ab63fa",
           "#EF553B",
           "#EF553B",
           "#EF553B",
           "#EF553B",
           "#EF553B",
           "#EF553B",
           "#FECB52",
           "#EF553B",
           "#636efa",
           "#636efa",
           "#636efa",
           "#ab63fa",
           "#FECB52",
           "#19d3f3",
           "#636efa",
           "#636efa",
           "#636efa",
           "#636efa",
           "#636efa",
           "#636efa",
           "#00cc96",
           "#636efa",
           "#EF553B",
           "#EF553B",
           "#EF553B",
           "#EF553B",
           "#ab63fa",
           "#00cc96",
           "#EF553B",
           "#EF553B",
           "#EF553B",
           "#EF553B",
           "#EF553B",
           "#EF553B",
           "#EF553B",
           "#EF553B",
           "#EF553B",
           "#EF553B",
           "#ab63fa",
           "#636efa",
           "#FF6692",
           "#00cc96",
           "#636efa",
           "#FECB52",
           "#ab63fa",
           "#ab63fa",
           "#00cc96",
           "#00cc96",
           "#FFA15A",
           "#FFA15A",
           "#ab63fa",
           "#FFA15A",
           "#19d3f3",
           "#19d3f3",
           "#ab63fa",
           "#FECB52",
           "#FECB52",
           "#00cc96",
           "#FECB52",
           "#ab63fa",
           "#EF553B",
           "#EF553B",
           "#EF553B",
           "#ab63fa",
           "#FECB52",
           "#636efa",
           "#B6E880",
           "#FECB52",
           "#19d3f3",
           "#FECB52",
           "#636efa",
           "#EF553B",
           "#EF553B",
           "#636efa",
           "#636efa",
           "#EF553B",
           "#19d3f3",
           "#00cc96",
           "#EF553B",
           "#FF6692",
           "#19d3f3",
           "#19d3f3",
           "#19d3f3",
           "#19d3f3",
           "#19d3f3",
           "#B6E880",
           "#636efa",
           "#EF553B",
           "#636efa",
           "#19d3f3",
           "#00cc96",
           "#00cc96",
           "#00cc96",
           "#19d3f3",
           "#FFA15A",
           "#EF553B",
           "#00cc96",
           "#636efa",
           "#636efa",
           "#FFA15A",
           "#FECB52",
           "#FECB52",
           "#FFA15A",
           "#B6E880",
           "#636efa",
           "#00cc96",
           "#FF6692",
           "#EF553B",
           "#FFA15A",
           "#636efa",
           "#636efa",
           "#ab63fa",
           "#00cc96",
           "#00cc96",
           "#00cc96",
           "#636efa",
           "#00cc96",
           "#ab63fa",
           "#EF553B",
           "#EF553B",
           "#ab63fa",
           "#EF553B",
           "#EF553B",
           "#00cc96",
           "#19d3f3",
           "#636efa",
           "#636efa",
           "#636efa",
           "#636efa",
           "#636efa",
           "#636efa",
           "#636efa",
           "#636efa",
           "#636efa",
           "#636efa",
           "#FF6692",
           "#636efa",
           "#636efa",
           "#636efa",
           "#636efa",
           "#636efa",
           "#636efa",
           "#636efa",
           "#19d3f3",
           "#636efa",
           "#FF97FF",
           "#FF97FF",
           "#FFA15A",
           "#FF6692",
           "#00cc96",
           "#ab63fa",
           "#FF6692",
           "#FF6692",
           "#FF6692",
           "#636efa",
           "#636efa",
           "#FF6692",
           "#FECB52",
           "#FF97FF",
           "#FF6692",
           "#636efa",
           "#ab63fa",
           "#00cc96",
           "#FF6692",
           "#636efa",
           "#00cc96",
           "#FFA15A",
           "#EF553B",
           "#FF6692",
           "#FFA15A",
           "#EF553B",
           "#00cc96",
           "#636efa",
           "#ab63fa",
           "#EF553B",
           "#FF97FF",
           "#FECB52",
           "#EF553B",
           "#636efa",
           "#636efa",
           "#FF97FF",
           "#FECB52",
           "#B6E880",
           "#EF553B",
           "#FF97FF",
           "#FECB52",
           "#00cc96",
           "#FFA15A",
           "#FF6692",
           "#FECB52",
           "#FF97FF",
           "#FF6692",
           "#EF553B",
           "#636efa",
           "#EF553B",
           "#FF6692",
           "#19d3f3",
           "#ab63fa",
           "#EF553B",
           "#FF97FF",
           "#EF553B",
           "#FF6692",
           "#EF553B",
           "#EF553B",
           "#636efa",
           "#636efa",
           "#EF553B",
           "#EF553B",
           "#00cc96",
           "#00cc96",
           "#FF97FF",
           "#FF6692",
           "#FF6692",
           "#B6E880",
           "#FF6692",
           "#00cc96",
           "#00cc96",
           "#FFA15A",
           "#FFA15A",
           "#FFA15A",
           "#B6E880",
           "#FFA15A",
           "#FFA15A",
           "#FFA15A",
           "#FFA15A",
           "#00cc96",
           "#00cc96",
           "#00cc96",
           "#00cc96",
           "#636efa",
           "#EF553B",
           "#636efa",
           "#FF6692",
           "#00cc96",
           "#FFA15A",
           "#ab63fa",
           "#FFA15A",
           "#ab63fa",
           "#EF553B",
           "#00cc96",
           "#19d3f3",
           "#636efa",
           "#FF97FF",
           "#636efa",
           "#EF553B",
           "#FF6692",
           "#FFA15A",
           "#FFA15A",
           "#636efa",
           "#B6E880",
           "#EF553B",
           "#ab63fa",
           "#FFA15A",
           "#FFA15A",
           "#19d3f3",
           "#EF553B",
           "#ab63fa",
           "#00cc96",
           "#FF6692",
           "#19d3f3",
           "#FFA15A",
           "#EF553B",
           "#EF553B",
           "#EF553B",
           "#FF6692",
           "#EF553B",
           "#FF6692",
           "#19d3f3",
           "#FFA15A",
           "#FF6692",
           "#636efa",
           "#EF553B",
           "#FFA15A",
           "#FFA15A",
           "#ab63fa",
           "#636efa",
           "#636efa",
           "#636efa",
           "#FF6692",
           "#B6E880",
           "#FF6692",
           "#636efa",
           "#FFA15A",
           "#FF6692",
           "#FFA15A",
           "#FECB52",
           "#636efa",
           "#FFA15A",
           "#FF97FF",
           "#B6E880",
           "#EF553B",
           "#FFA15A",
           "#19d3f3",
           "#FF97FF",
           "#EF553B",
           "#EF553B",
           "#FFA15A",
           "#ab63fa",
           "#ab63fa",
           "#EF553B",
           "#ab63fa",
           "#FFA15A",
           "#00cc96",
           "#FF6692",
           "#00cc96",
           "#636efa",
           "#FECB52",
           "#EF553B",
           "#EF553B",
           "#FFA15A",
           "#FFA15A",
           "#FF6692",
           "#19d3f3",
           "#00cc96",
           "#636efa",
           "#00cc96",
           "#FFA15A",
           "#00cc96",
           "#FF97FF",
           "#FF6692",
           "#636efa",
           "#ab63fa",
           "#FF6692",
           "#19d3f3",
           "#FF6692",
           "#ab63fa",
           "#00cc96",
           "#FF97FF",
           "#FF97FF",
           "#B6E880",
           "#FECB52",
           "#FFA15A",
           "#ab63fa",
           "#FF6692",
           "#FF6692",
           "#00cc96",
           "#FFA15A",
           "#ab63fa",
           "#FFA15A",
           "#EF553B",
           "#19d3f3",
           "#FF6692",
           "#636efa",
           "#636efa",
           "#636efa",
           "#636efa",
           "#FF6692",
           "#00cc96",
           "#636efa",
           "#FF6692",
           "#FF6692",
           "#00cc96",
           "#B6E880",
           "#EF553B",
           "#FECB52",
           "#636efa",
           "#FF6692",
           "#ab63fa",
           "#ab63fa",
           "#ab63fa",
           "#FF6692",
           "#ab63fa",
           "#ab63fa",
           "#EF553B",
           "#FFA15A",
           "#FFA15A",
           "#FFA15A",
           "#FF97FF",
           "#00cc96",
           "#B6E880",
           "#FFA15A",
           "#FF6692",
           "#19d3f3",
           "#636efa",
           "#19d3f3",
           "#636efa",
           "#636efa",
           "#ab63fa",
           "#19d3f3",
           "#636efa",
           "#FFA15A",
           "#EF553B",
           "#FF6692",
           "#FF6692",
           "#FF6692",
           "#FF6692",
           "#B6E880",
           "#FF6692",
           "#00cc96",
           "#ab63fa",
           "#EF553B",
           "#EF553B",
           "#EF553B",
           "#FF6692",
           "#FFA15A",
           "#ab63fa",
           "#FF6692",
           "#FF97FF",
           "#B6E880",
           "#636efa",
           "#00cc96",
           "#FECB52",
           "#B6E880",
           "#FFA15A",
           "#FF6692",
           "#EF553B",
           "#ab63fa",
           "#19d3f3",
           "#19d3f3",
           "#636efa",
           "#FECB52",
           "#ab63fa",
           "#636efa",
           "#EF553B",
           "#FFA15A",
           "#FF97FF",
           "#00cc96"
          ]
         },
         "name": "",
         "parents": [
          "Textiles",
          "Metals",
          "Metals",
          "Chemical Products",
          "Chemical Products",
          "Stone And Glass",
          "Stone And Glass",
          "Instruments",
          "Paper Goods",
          "Metals",
          "Textiles",
          "Machines",
          "Footwear and Headwear",
          "Textiles",
          "Textiles",
          "Textiles",
          "Textiles",
          "Textiles",
          "Textiles",
          "Machines",
          "Textiles",
          "Animal Products",
          "Foodstuffs",
          "Animal Products",
          "Stone And Glass",
          "Chemical Products",
          "Chemical Products",
          "Foodstuffs",
          "Chemical Products",
          "Chemical Products",
          "Foodstuffs",
          "Chemical Products",
          "Plastics and Rubbers",
          "Chemical Products",
          "Chemical Products",
          "Chemical Products",
          "Foodstuffs",
          "Transportation",
          "Transportation",
          "Machines",
          "Machines",
          "Wood Products",
          "Chemical Products",
          "Chemical Products",
          "Chemical Products",
          "Plastics and Rubbers",
          "Chemical Products",
          "Metals",
          "Metals",
          "Chemical Products",
          "Metals",
          "Metals",
          "Mineral Products",
          "Chemical Products",
          "Metals",
          "Metals",
          "Metals",
          "Metals",
          "Metals",
          "Metals",
          "Metals",
          "Chemical Products",
          "Chemical Products",
          "Chemical Products",
          "Machines",
          "Paper Goods",
          "Chemical Products",
          "Instruments",
          "Chemical Products",
          "Chemical Products",
          "Chemical Products",
          "Paper Goods",
          "Textiles",
          "Mineral Products",
          "Chemical Products",
          "Vegetable Products",
          "Metals",
          "Stone And Glass",
          "Machines",
          "Machines",
          "Machines",
          "Transportation",
          "Miscellaneous",
          "Mineral Products",
          "Metals",
          "Metals",
          "Chemical Products",
          "Metals",
          "Textiles",
          "Machines",
          "Machines",
          "Machines",
          "Machines",
          "Machines",
          "Machines",
          "Machines",
          "Machines",
          "Machines",
          "Machines",
          "Mineral Products",
          "Machines",
          "Textiles",
          "Machines",
          "Chemical Products",
          "Chemical Products",
          "Animal Hides",
          "Textiles",
          "Textiles",
          "Mineral Products",
          "Animal and Vegetable Bi-Products",
          "Footwear and Headwear",
          "Miscellaneous",
          "Instruments",
          "Stone And Glass",
          "Instruments",
          "Weapons",
          "Machines",
          "Plastics and Rubbers",
          "Chemical Products",
          "Chemical Products",
          "Instruments",
          "Machines",
          "Machines",
          "Transportation",
          "Footwear and Headwear",
          "Footwear and Headwear",
          "Textiles",
          "Textiles",
          "Textiles",
          "Machines",
          "Footwear and Headwear",
          "Animal Products",
          "Chemical Products",
          "Animal Products",
          "Textiles",
          "Textiles",
          "Animal Products",
          "Textiles",
          "Vegetable Products",
          "Machines",
          "Footwear and Headwear",
          "Plastics and Rubbers",
          "Machines",
          "Machines",
          "Machines",
          "Machines",
          "Machines",
          "Chemical Products",
          "Machines",
          "Chemical Products",
          "Miscellaneous",
          "Metals",
          "Textiles",
          "Weapons",
          "Textiles",
          "Foodstuffs",
          "Metals",
          "Metals",
          "Textiles",
          "Metals",
          "Chemical Products",
          "Textiles",
          "Chemical Products",
          "Stone And Glass",
          "Stone And Glass",
          "Stone And Glass",
          "Stone And Glass",
          "Stone And Glass",
          "Stone And Glass",
          "Stone And Glass",
          "Stone And Glass",
          "Machines",
          "Stone And Glass",
          "Stone And Glass",
          "Chemical Products",
          "Chemical Products",
          "Animal and Vegetable Bi-Products",
          "Chemical Products",
          "Mineral Products",
          "Textiles",
          "Vegetable Products",
          "Animal and Vegetable Bi-Products",
          "Foodstuffs",
          "Textiles",
          "Mineral Products",
          "Vegetable Products",
          "Mineral Products",
          "Mineral Products",
          "Precious Metals",
          "Precious Metals",
          "Chemical Products",
          "Mineral Products",
          "Machines",
          "Instruments",
          "Machines",
          "Textiles",
          "Textiles",
          "Foodstuffs",
          "Metals",
          "Metals",
          "Metals",
          "Textiles",
          "Miscellaneous",
          "Animal Products",
          "Animal and Vegetable Bi-Products",
          "Animal Products",
          "Chemical Products",
          "Chemical Products",
          "Metals",
          "Transportation",
          "Animal Products",
          "Metals",
          "Chemical Products",
          "Textiles",
          "Metals",
          "Animal Hides",
          "Wood Products",
          "Machines",
          "Foodstuffs",
          "Stone And Glass",
          "Vegetable Products",
          "Animal Products",
          "Stone And Glass",
          "Machines",
          "Machines",
          "Vegetable Products",
          "Footwear and Headwear",
          "Vegetable Products",
          "Machines",
          "Metals",
          "Textiles",
          "Metals",
          "Machines",
          "Stone And Glass",
          "Machines",
          "Instruments",
          "Vegetable Products",
          "Chemical Products",
          "Chemical Products",
          "Miscellaneous",
          "Chemical Products",
          "Animal and Vegetable Bi-Products",
          "Machines",
          "Machines",
          "Machines",
          "Chemical Products",
          "Chemical Products",
          "Precious Metals",
          "Machines",
          "Instruments",
          "Animal Products",
          "Chemical Products",
          "Machines",
          "Chemical Products",
          "Chemical Products",
          "Chemical Products",
          "Chemical Products",
          "Instruments",
          "Chemical Products",
          "Foodstuffs",
          "Instruments",
          "Chemical Products",
          "Chemical Products",
          "Instruments",
          "Chemical Products",
          "Chemical Products",
          "Vegetable Products",
          "Mineral Products",
          "Chemical Products",
          "Paper Goods",
          "Vegetable Products",
          "Animal Products",
          "Foodstuffs",
          "Animal Hides",
          "Stone And Glass",
          "Mineral Products",
          "Metals",
          "Vegetable Products",
          "Vegetable Products",
          "Vegetable Products",
          "Stone And Glass",
          "Stone And Glass",
          "Machines",
          "Machines",
          "Stone And Glass",
          "Mineral Products",
          "Paper Goods",
          "Plastics and Rubbers",
          "Miscellaneous",
          "Mineral Products",
          "Vegetable Products",
          "Instruments",
          "Chemical Products",
          "Arts and Antiques",
          "Metals",
          "Mineral Products",
          "Precious Metals",
          "Foodstuffs",
          "Vegetable Products",
          "Vegetable Products",
          "Textiles",
          "Animal and Vegetable Bi-Products",
          "Foodstuffs",
          "Foodstuffs",
          "Paper Goods",
          "Foodstuffs",
          "Instruments",
          "Foodstuffs",
          "Vegetable Products",
          "Mineral Products",
          "Mineral Products",
          "Instruments",
          "Metals",
          "Textiles",
          "Metals",
          "Chemical Products",
          "Foodstuffs",
          "Metals",
          "Machines",
          "Metals",
          "Metals",
          "Mineral Products",
          "Instruments",
          "Chemical Products",
          "Textiles",
          "Vegetable Products",
          "Metals",
          "Vegetable Products",
          "Mineral Products",
          "Chemical Products",
          "Chemical Products",
          "Chemical Products",
          "Machines",
          "Plastics and Rubbers",
          "Machines",
          "Precious Metals",
          "Plastics and Rubbers",
          "Textiles",
          "Textiles",
          "Chemical Products",
          "Chemical Products",
          "Paper Goods",
          "Chemical Products",
          "Footwear and Headwear",
          "Textiles",
          "Chemical Products",
          "Mineral Products",
          "Metals",
          "Textiles",
          "Footwear and Headwear",
          "Plastics and Rubbers",
          "Instruments",
          "Textiles",
          "Machines",
          "Transportation",
          "Animal and Vegetable Bi-Products",
          "Chemical Products",
          "Miscellaneous",
          "Vegetable Products",
          "Vegetable Products",
          "Mineral Products",
          "Paper Goods",
          "Chemical Products",
          "Vegetable Products",
          "Machines",
          "Miscellaneous",
          "Machines",
          "Chemical Products",
          "Plastics and Rubbers",
          "Stone And Glass",
          "Chemical Products",
          "Stone And Glass",
          "Instruments",
          "Foodstuffs",
          "Instruments",
          "Machines",
          "Machines",
          "Miscellaneous",
          "Foodstuffs",
          "Plastics and Rubbers",
          "Chemical Products",
          "Textiles",
          "Footwear and Headwear",
          "Paper Goods",
          "Machines",
          "Machines",
          "Chemical Products",
          "Foodstuffs",
          "Wood Products",
          "Instruments",
          "Instruments",
          "Foodstuffs",
          "Foodstuffs",
          "Vegetable Products",
          "Machines",
          "Machines",
          "Animal and Vegetable Bi-Products",
          "Metals",
          "Metals",
          "Metals",
          "Machines",
          "Machines",
          "Metals",
          "Metals",
          "Metals",
          "Instruments",
          "Plastics and Rubbers",
          "Paper Goods",
          "Chemical Products",
          "Precious Metals",
          "Chemical Products",
          "Plastics and Rubbers",
          "Textiles",
          "Plastics and Rubbers",
          "Plastics and Rubbers",
          "Plastics and Rubbers",
          "Footwear and Headwear",
          "Plastics and Rubbers",
          "Plastics and Rubbers",
          "Plastics and Rubbers",
          "Miscellaneous",
          "Textiles",
          "Textiles",
          "Plastics and Rubbers",
          "Plastics and Rubbers",
          "Metals",
          "Machines",
          "Animal Hides",
          "Textiles",
          "Textiles",
          "Textiles",
          "Chemical Products",
          "Instruments",
          "Vegetable Products",
          "Mineral Products",
          "Chemical Products",
          "Chemical Products",
          "Chemical Products",
          "Chemical Products",
          "Chemical Products",
          "Paper Goods",
          "Vegetable Products",
          "Chemical Products",
          "Metals",
          "Miscellaneous",
          "Transportation",
          "Metals",
          "Arts and Antiques",
          "Miscellaneous",
          "Animal and Vegetable Bi-Products",
          "Transportation",
          "Metals",
          "Plastics and Rubbers",
          "Metals",
          "Machines",
          "Machines",
          "Paper Goods",
          "Wood Products",
          "Chemical Products",
          "Paper Goods",
          "Animal Hides",
          "Plastics and Rubbers",
          "Metals",
          "Mineral Products",
          "Mineral Products",
          "Chemical Products",
          "Foodstuffs",
          "Foodstuffs",
          "Wood Products",
          "Plastics and Rubbers",
          "Machines",
          "Miscellaneous",
          "Chemical Products",
          "Metals",
          "Metals",
          "Metals",
          "Metals",
          "Textiles",
          "Weapons",
          "Animal Products",
          "Stone And Glass",
          "Vegetable Products",
          "Machines",
          "Machines",
          "Foodstuffs",
          "Vegetable Products",
          "Foodstuffs",
          "Machines",
          "Animal and Vegetable Bi-Products",
          "Machines",
          "Chemical Products",
          "Transportation",
          "Transportation",
          "Vegetable Products",
          "Vegetable Products",
          "Vegetable Products",
          "Paper Goods",
          "Machines",
          "Mineral Products",
          "Chemical Products",
          "Mineral Products",
          "Plastics and Rubbers",
          "Textiles",
          "Textiles",
          "Textiles",
          "Chemical Products",
          "Textiles",
          "Precious Metals",
          "Mineral Products",
          "Mineral Products",
          "Metals",
          "Miscellaneous",
          "Chemical Products",
          "Precious Metals",
          "Chemical Products",
          "Metals",
          "Animal Hides",
          "Animal Hides",
          "Animal Hides",
          "Transportation",
          "Animal Hides",
          "Stone And Glass",
          "Metals",
          "Footwear and Headwear",
          "Foodstuffs",
          "Animal Products",
          "Foodstuffs",
          "Vegetable Products",
          "Animal Products",
          "Machines",
          "Machines",
          "Stone And Glass",
          "Vegetable Products",
          "Animal Products",
          "Vegetable Products",
          "Textiles",
          "Arts and Antiques",
          "Foodstuffs",
          "Foodstuffs",
          "Chemical Products",
          "Animal Products",
          "Metals",
          "Animal Products",
          "Animal and Vegetable Bi-Products",
          "Animal Products",
          "Textiles",
          "Mineral Products",
          "Vegetable Products",
          "Wood Products",
          "Transportation",
          "Vegetable Products",
          "Machines",
          "Plastics and Rubbers",
          "Chemical Products",
          "Foodstuffs",
          "Textiles",
          "Chemical Products",
          "Textiles",
          "Chemical Products",
          "Chemical Products",
          "Plastics and Rubbers",
          "Textiles",
          "Plastics and Rubbers",
          "Chemical Products",
          "Wood Products",
          "Plastics and Rubbers",
          "Precious Metals",
          "Plastics and Rubbers",
          "Plastics and Rubbers",
          "Plastics and Rubbers",
          "Plastics and Rubbers",
          "Plastics and Rubbers",
          "Textiles",
          "Precious Metals",
          "Chemical Products",
          "Stone And Glass",
          "Paper Goods",
          "Foodstuffs",
          "Miscellaneous",
          "Metals",
          "Precious Metals",
          "Precious Metals",
          "Instruments",
          "Machines",
          "Precious Metals",
          "Chemical Products",
          "Animal Products",
          "Animal Products",
          "Vegetable Products",
          "Vegetable Products",
          "Chemical Products",
          "Mineral Products",
          "Foodstuffs",
          "Chemical Products",
          "Chemical Products",
          "Stone And Glass",
          "Foodstuffs",
          "Machines",
          "Stone And Glass",
          "Vegetable Products",
          "Chemical Products",
          "Vegetable Products",
          "Wood Products",
          "Foodstuffs",
          "Metals",
          "Foodstuffs",
          "Textiles",
          "Plastics and Rubbers",
          "Metals",
          "Metals",
          "Instruments",
          "Arts and Antiques",
          "Textiles",
          "Stone And Glass",
          "Metals",
          "Chemical Products",
          "Paper Goods",
          "Transportation",
          "Metals",
          "Mineral Products",
          "Stone And Glass",
          "Chemical Products",
          "Stone And Glass",
          "Machines",
          "Textiles",
          "Textiles",
          "Textiles",
          "Textiles",
          "Metals",
          "Instruments",
          "Metals",
          "Textiles",
          "Animal and Vegetable Bi-Products",
          "Mineral Products",
          "Animal Products",
          "Plastics and Rubbers",
          "Chemical Products",
          "Chemical Products",
          "Chemical Products",
          "Chemical Products",
          "Chemical Products",
          "Chemical Products",
          "Instruments",
          "Instruments",
          "Chemical Products",
          "Chemical Products",
          "Chemical Products",
          "Mineral Products",
          "Chemical Products",
          "Mineral Products",
          "Wood Products",
          "Metals",
          "Animal Products",
          "Metals",
          "Chemical Products",
          "Animal and Vegetable Bi-Products",
          "Vegetable Products",
          "Transportation",
          "Transportation",
          "Transportation",
          "Transportation",
          "Wood Products",
          "Chemical Products",
          "Machines",
          "Textiles",
          "Animal Hides",
          "Plastics and Rubbers",
          "Paper Goods",
          "Plastics and Rubbers",
          "Textiles",
          "Vegetable Products",
          "Animal Products",
          "Mineral Products",
          "Machines",
          "Paper Goods",
          "Textiles",
          "Miscellaneous",
          "Machines",
          "Instruments",
          "Paper Goods",
          "Plastics and Rubbers",
          "Machines",
          "Animal Products",
          "Stone And Glass",
          "Foodstuffs",
          "Metals",
          "Metals",
          "Metals",
          "Metals",
          "Metals",
          "Metals",
          "Mineral Products",
          "Metals",
          "Metals",
          "Metals",
          "Metals",
          "Metals",
          "Animal Products",
          "Vegetable Products",
          "Textiles",
          "Vegetable Products",
          "Textiles",
          "Metals",
          "Metals",
          "Paper Goods",
          "Transportation",
          "Wood Products",
          "Chemical Products",
          "Chemical Products",
          "Chemical Products",
          "Chemical Products",
          "Precious Metals",
          "Chemical Products",
          "Machines",
          "Chemical Products",
          "Paper Goods",
          "Chemical Products",
          "Paper Goods",
          "Animal Products",
          "Instruments",
          "Wood Products",
          "Vegetable Products",
          "Vegetable Products",
          "Vegetable Products",
          "Machines",
          "Chemical Products",
          "Mineral Products",
          "Animal Products",
          "Instruments",
          "Machines",
          "Chemical Products",
          "Chemical Products",
          "Chemical Products",
          "Animal Products",
          "Instruments",
          "Wood Products",
          "Foodstuffs",
          "Metals",
          "Foodstuffs",
          "Instruments",
          "Metals",
          "Textiles",
          "Textiles",
          "Stone And Glass",
          "Transportation",
          "Textiles",
          "Animal and Vegetable Bi-Products",
          "Textiles",
          "Machines",
          "Miscellaneous",
          "Wood Products",
          "Chemical Products",
          "Wood Products",
          "Chemical Products",
          "Wood Products",
          "Wood Products",
          "Wood Products",
          "Wood Products",
          "Wood Products",
          "Wood Products",
          "Wood Products",
          "Foodstuffs",
          "Textiles",
          "Metals",
          "Metals",
          "Textiles",
          "Paper Goods",
          "Animal and Vegetable Bi-Products",
          "Chemical Products",
          "Miscellaneous",
          "Vegetable Products",
          "Paper Goods",
          "Miscellaneous",
          "Miscellaneous",
          "Instruments",
          "Machines",
          "Machines",
          "Machines",
          "Machines",
          "Metals",
          "Metals",
          "Chemical Products",
          "Vegetable Products",
          "Chemical Products",
          "Mineral Products",
          "Metals",
          "Vegetable Products",
          "Machines",
          "Machines",
          "Machines",
          "Animal Products",
          "Mineral Products",
          "Vegetable Products",
          "Machines",
          "Transportation",
          "Chemical Products",
          "Machines",
          "Metals",
          "Mineral Products",
          "Chemical Products",
          "Vegetable Products",
          "Foodstuffs",
          "Machines",
          "Metals",
          "Metals",
          "Stone And Glass",
          "Metals",
          "Metals",
          "Metals",
          "Metals",
          "Metals",
          "Metals",
          "Precious Metals",
          "Metals",
          "Textiles",
          "Textiles",
          "Textiles",
          "Mineral Products",
          "Foodstuffs",
          "Paper Goods",
          "Textiles",
          "Textiles",
          "Textiles",
          "Textiles",
          "Textiles",
          "Textiles",
          "Chemical Products",
          "Textiles",
          "Metals",
          "Metals",
          "Metals",
          "Metals",
          "Mineral Products",
          "Chemical Products",
          "Metals",
          "Metals",
          "Metals",
          "Metals",
          "Metals",
          "Metals",
          "Metals",
          "Metals",
          "Metals",
          "Metals",
          "Mineral Products",
          "Textiles",
          "Animal Hides",
          "Chemical Products",
          "Plastics and Rubbers",
          "Foodstuffs",
          "Mineral Products",
          "Mineral Products",
          "Chemical Products",
          "Chemical Products",
          "Vegetable Products",
          "Instruments",
          "Mineral Products",
          "Vegetable Products",
          "Miscellaneous",
          "Miscellaneous",
          "Mineral Products",
          "Precious Metals",
          "Precious Metals",
          "Chemical Products",
          "Foodstuffs",
          "Stone And Glass",
          "Metals",
          "Metals",
          "Metals",
          "Mineral Products",
          "Foodstuffs",
          "Plastics and Rubbers",
          "Animal and Vegetable Bi-Products",
          "Foodstuffs",
          "Paper Goods",
          "Foodstuffs",
          "Textiles",
          "Transportation",
          "Metals",
          "Textiles",
          "Textiles",
          "Transportation",
          "Miscellaneous",
          "Wood Products",
          "Transportation",
          "Machines",
          "Paper Goods",
          "Paper Goods",
          "Paper Goods",
          "Paper Goods",
          "Paper Goods",
          "Animal and Vegetable Bi-Products",
          "Arts and Antiques",
          "Metals",
          "Textiles",
          "Paper Goods",
          "Chemical Products",
          "Chemical Products",
          "Chemical Products",
          "Miscellaneous",
          "Vegetable Products",
          "Metals",
          "Wood Products",
          "Textiles",
          "Plastics and Rubbers",
          "Vegetable Products",
          "Foodstuffs",
          "Foodstuffs",
          "Vegetable Products",
          "Animal and Vegetable Bi-Products",
          "Textiles",
          "Chemical Products",
          "Machines",
          "Metals",
          "Instruments",
          "Textiles",
          "Textiles",
          "Mineral Products",
          "Chemical Products",
          "Chemical Products",
          "Chemical Products",
          "Textiles",
          "Chemical Products",
          "Mineral Products",
          "Metals",
          "Metals",
          "Mineral Products",
          "Metals",
          "Metals",
          "Chemical Products",
          "Paper Goods",
          "Textiles",
          "Textiles",
          "Textiles",
          "Textiles",
          "Textiles",
          "Textiles",
          "Textiles",
          "Textiles",
          "Textiles",
          "Textiles",
          "Machines",
          "Textiles",
          "Textiles",
          "Textiles",
          "Textiles",
          "Textiles",
          "Textiles",
          "Textiles",
          "Paper Goods",
          "Textiles",
          "Animal Products",
          "Weapons",
          "Instruments",
          "Machines",
          "Chemical Products",
          "Mineral Products",
          "Machines",
          "Machines",
          "Machines",
          "Textiles",
          "Textiles",
          "Machines",
          "Precious Metals",
          "Animal Products",
          "Machines",
          "Textiles",
          "Stone And Glass",
          "Chemical Products",
          "Machines",
          "Plastics and Rubbers",
          "Wood Products",
          "Instruments",
          "Transportation",
          "Machines",
          "Instruments",
          "Transportation",
          "Chemical Products",
          "Plastics and Rubbers",
          "Mineral Products",
          "Metals",
          "Animal Products",
          "Foodstuffs",
          "Transportation",
          "Textiles",
          "Textiles",
          "Animal Products",
          "Foodstuffs",
          "Footwear and Headwear",
          "Transportation",
          "Weapons",
          "Foodstuffs",
          "Chemical Products",
          "Vegetable Products",
          "Machines",
          "Foodstuffs",
          "Animal Products",
          "Machines",
          "Metals",
          "Textiles",
          "Metals",
          "Machines",
          "Miscellaneous",
          "Stone And Glass",
          "Metals",
          "Animal Products",
          "Transportation",
          "Animal Hides",
          "Metals",
          "Metals",
          "Textiles",
          "Textiles",
          "Metals",
          "Metals",
          "Chemical Products",
          "Chemical Products",
          "Animal Products",
          "Animal Hides",
          "Machines",
          "Footwear and Headwear",
          "Machines",
          "Chemical Products",
          "Chemical Products",
          "Instruments",
          "Instruments",
          "Instruments",
          "Animal and Vegetable Bi-Products",
          "Vegetable Products",
          "Vegetable Products",
          "Vegetable Products",
          "Instruments",
          "Chemical Products",
          "Chemical Products",
          "Chemical Products",
          "Chemical Products",
          "Textiles",
          "Transportation",
          "Textiles",
          "Machines",
          "Chemical Products",
          "Vegetable Products",
          "Stone And Glass",
          "Instruments",
          "Stone And Glass",
          "Metals",
          "Chemical Products",
          "Paper Goods",
          "Textiles",
          "Animal Products",
          "Textiles",
          "Metals",
          "Machines",
          "Instruments",
          "Instruments",
          "Textiles",
          "Animal and Vegetable Bi-Products",
          "Metals",
          "Mineral Products",
          "Instruments",
          "Instruments",
          "Paper Goods",
          "Metals",
          "Mineral Products",
          "Chemical Products",
          "Machines",
          "Paper Goods",
          "Vegetable Products",
          "Metals",
          "Metals",
          "Transportation",
          "Machines",
          "Transportation",
          "Machines",
          "Miscellaneous",
          "Instruments",
          "Animal Hides",
          "Textiles",
          "Transportation",
          "Vegetable Products",
          "Instruments",
          "Mineral Products",
          "Textiles",
          "Textiles",
          "Textiles",
          "Machines",
          "Footwear and Headwear",
          "Machines",
          "Textiles",
          "Instruments",
          "Machines",
          "Vegetable Products",
          "Foodstuffs",
          "Textiles",
          "Instruments",
          "Animal Products",
          "Footwear and Headwear",
          "Metals",
          "Vegetable Products",
          "Miscellaneous",
          "Animal Products",
          "Transportation",
          "Transportation",
          "Vegetable Products",
          "Mineral Products",
          "Stone And Glass",
          "Metals",
          "Stone And Glass",
          "Instruments",
          "Wood Products",
          "Machines",
          "Chemical Products",
          "Textiles",
          "Foodstuffs",
          "Metals",
          "Transportation",
          "Vegetable Products",
          "Vegetable Products",
          "Machines",
          "Paper Goods",
          "Chemical Products",
          "Arts and Antiques",
          "Chemical Products",
          "Vegetable Products",
          "Chemical Products",
          "Weapons",
          "Machines",
          "Textiles",
          "Stone And Glass",
          "Machines",
          "Miscellaneous",
          "Machines",
          "Mineral Products",
          "Chemical Products",
          "Animal Products",
          "Animal Products",
          "Animal and Vegetable Bi-Products",
          "Foodstuffs",
          "Instruments",
          "Stone And Glass",
          "Machines",
          "Machines",
          "Chemical Products",
          "Vegetable Products",
          "Mineral Products",
          "Instruments",
          "Metals",
          "Paper Goods",
          "Machines",
          "Textiles",
          "Textiles",
          "Textiles",
          "Textiles",
          "Animal Hides",
          "Chemical Products",
          "Textiles",
          "Machines",
          "Animal Hides",
          "Chemical Products",
          "Footwear and Headwear",
          "Transportation",
          "Foodstuffs",
          "Textiles",
          "Machines",
          "Mineral Products",
          "Stone And Glass",
          "Stone And Glass",
          "Machines",
          "Stone And Glass",
          "Mineral Products",
          "Transportation",
          "Vegetable Products",
          "Vegetable Products",
          "Vegetable Products",
          "Weapons",
          "Chemical Products",
          "Footwear and Headwear",
          "Vegetable Products",
          "Machines",
          "Miscellaneous",
          "Textiles",
          "Miscellaneous",
          "Textiles",
          "Textiles",
          "Mineral Products",
          "Paper Goods",
          "Textiles",
          "Vegetable Products",
          "Metals",
          "Animal Hides",
          "Animal Hides",
          "Animal Hides",
          "Machines",
          "Footwear and Headwear",
          "Animal Hides",
          "Chemical Products",
          "Mineral Products",
          "Metals",
          "Metals",
          "Metals",
          "Machines",
          "Vegetable Products",
          "Mineral Products",
          "",
          "",
          "",
          "",
          "",
          "",
          "",
          "",
          "",
          "",
          "",
          "",
          "",
          "",
          "",
          "",
          "",
          "",
          "",
          "",
          ""
         ],
         "textfont": {
          "color": "white",
          "size": 20
         },
         "textinfo": "label+text+value+percent entry",
         "type": "treemap",
         "values": [
          1383.389,
          13870.013,
          656.929,
          147.596,
          34576.591,
          529.607,
          6959.787,
          4064.524,
          291425.961,
          66522.244,
          271.472,
          11259.06,
          1304.916,
          8017.081,
          27303.403,
          9627.232,
          1786.403,
          14078.45,
          1894.561,
          2806.739,
          17.309,
          4323.022,
          479674.044,
          347111.389,
          37388.833,
          55365.153,
          5594.763,
          20932.902,
          6501.355,
          26577.336000000003,
          130671.929,
          15028.785,
          103178.078,
          65.466,
          22946.293,
          15.227,
          1070382.625,
          400848.752,
          11840.229,
          544049.036,
          55675.453,
          256.842,
          392664.009,
          112671.688,
          9129.826,
          77116.887,
          200.03,
          28316.182,
          115011.348,
          30581.076,
          716.899,
          130800.206,
          190011.513,
          3029788.75,
          3901.889,
          8365.193,
          84547.798,
          165640.233,
          2544.326,
          4784.911,
          16654.064,
          34273.269,
          30232.093,
          11532.709,
          12759.261,
          14739.311,
          102125.936,
          141.285,
          3699.3430000000003,
          54594.744,
          7144.233,
          33.295,
          377.469,
          32.277,
          92.177,
          6351.642,
          22127.634,
          1175.607,
          3331.621,
          156.717,
          23640.266,
          3395126.513,
          6408.049,
          5016.944,
          20.872,
          15.377,
          3781.881,
          108.532,
          75.472,
          10197.442,
          100276.246,
          77487.578,
          144355.01,
          15607.66,
          107462.186,
          5095.618,
          47302.152,
          7851.206,
          313902.361,
          19672.238,
          7395.438,
          3112.15,
          1352357.371,
          52156.552,
          31296.25,
          1520.07,
          7865.256999999999,
          4303.119,
          2283.646,
          2398.567,
          2159.899,
          618.896,
          210.955,
          40.478,
          11034.607,
          207661.699,
          122856.89,
          952592.42,
          297355.364,
          280572.622,
          27270.016,
          654032.686,
          377627.262,
          0.136,
          103.503,
          271.237,
          20403.938,
          116563.678,
          2791.846,
          54108.25,
          7.63,
          163670.484,
          851.281,
          14102.608,
          222.001,
          0.742,
          7582.039,
          1186.3,
          79.16,
          58.156,
          839.2819999999999,
          571.788,
          72865.532,
          319183.312,
          12706.753,
          2246.017,
          185752.589,
          20128.533,
          407971.674,
          5210.96,
          420.978,
          11227.265,
          2959.37,
          162308.218,
          3.216,
          39821.926,
          66660.676,
          682371.188,
          1178.776,
          3699867.355,
          268316.424,
          1074.571,
          121505.549,
          28344.518,
          358.803,
          22376.402,
          1385.362,
          6.332,
          47697.744,
          25685.799,
          79.389,
          537.775,
          128.903,
          10098.708,
          33534.777,
          52770.477,
          286057.78,
          167799.424,
          2053.412,
          556.723,
          331875.972,
          151604.976,
          3289.385,
          187.475,
          822.981,
          168826.363,
          11262.492,
          154751.315,
          29.751000000000005,
          5364916.362,
          15069.011000000002,
          30667.371,
          16843.801,
          62040.245,
          570535.651,
          1894.932,
          16.401,
          24832.37,
          3239.306,
          9500.756,
          143788.856,
          15.622,
          895.4960000000001,
          23822.83,
          1454.821,
          15213.315,
          3061.434,
          26.66,
          250.699,
          27822.349999999995,
          999.34,
          26179.719,
          2161.11,
          796.907,
          55091.613,
          7455.604,
          210089.605,
          1581.816,
          2075966.733,
          43070.429,
          888.161,
          7093974.944,
          92721.965,
          13951.023,
          77745.178,
          0.131,
          145400.373,
          12667.49,
          969.736,
          212061.319,
          24998.697,
          220.229,
          125443.04,
          1753.909,
          445985.642,
          3545.538,
          40246.141,
          203632.925,
          218.619,
          2194.857,
          15842.84,
          32267.906,
          40097.065,
          46562.931,
          89586.472,
          186683.226,
          66.48,
          18590.785,
          38479.239,
          2.788,
          1934.7159999999997,
          7574.871,
          77732.6,
          771.536,
          347.992,
          443799.553,
          61983.175,
          15625.439,
          2707.283,
          13488.641,
          4.643,
          48.548,
          19850.519,
          36740.369,
          487.9440000000001,
          18979.928,
          138020.446,
          5302.653000000001,
          456.558,
          40512.071,
          50.792,
          23388.466,
          129229.027,
          6996.362,
          8909.897,
          136.218,
          284.465,
          9824.213,
          39602.88,
          2017.535,
          8.183,
          2662.645,
          313169.002,
          79.914,
          22781.894,
          38889.568,
          300562.066,
          90837.37,
          166.248,
          7880.274,
          511.824,
          0.836,
          209454.494,
          16844.228,
          144504.025,
          1083.13,
          4.477,
          575105.08,
          6037289.143,
          140509.44,
          47935.333,
          7314.349,
          0.676,
          65517.474,
          318.483,
          135188.218,
          408.618,
          28651.095,
          8515.336,
          25257.523,
          90797.895,
          5.29,
          19710.819,
          401.093,
          1159.754,
          2817.304,
          2264.602,
          554273.791,
          4615.739,
          4278.624,
          149869.248,
          80208.251,
          19.582,
          6060.926,
          875.751,
          15472.592,
          23356.288,
          90707.563,
          176.256,
          8773.021,
          19147.639,
          1262.39,
          15314.168,
          142121.794,
          27199.998000000003,
          76442.431,
          95793.749,
          6639.357,
          0.451,
          6250.744,
          4.105,
          545187.715,
          103967.184,
          78.589,
          34398.254,
          116238.037,
          1609.143,
          4035.18,
          407.52,
          440.228,
          3554.277,
          55030.744,
          344.21,
          74.728,
          230605.126,
          122014.981,
          5422.278,
          10695.95,
          106592.018,
          119.13,
          1868.8689999999997,
          10538.025,
          11492.796,
          248.62,
          548828.646,
          5704.767,
          51844.497,
          148665.196,
          84274.873,
          16.328,
          41980.945,
          499723.006,
          79.398,
          310.713,
          481.376,
          29641.475,
          11658.883,
          4963.634,
          912,
          81437.437,
          5887.432,
          4249.707,
          2.083,
          164.542,
          87224.992,
          2987.862,
          1930.975,
          2886.281,
          43786.454,
          5.186,
          22.948,
          3724.998,
          9664.22,
          55748.321,
          26472.951,
          28425.667,
          30202.8,
          35705.998,
          892972.9589999999,
          8768.34,
          183419.264,
          9166.6,
          1825.607,
          6584.146,
          29439.79,
          359.326,
          199554.233,
          6841525.283,
          30173.128,
          1623.727,
          1417.403,
          176664.597,
          10198.701,
          4706.818,
          6472.005,
          40889.877,
          389519.511,
          3463.676,
          39401.062,
          27150.347,
          239.459,
          9869.290999999997,
          871.067,
          1007.678,
          1104070.377,
          3893.107,
          50551.097,
          2231.751,
          30344.929,
          588.873,
          611.317,
          73882.384,
          3439.764,
          143.786,
          3349.636,
          2.459,
          4.33,
          1686.8,
          1478.25,
          513.171,
          23058.641,
          10.685,
          10124.255,
          526.918,
          16086.045,
          28540.211,
          125.23,
          48077.243,
          160792.541,
          9947.6,
          5262.115,
          2118.498,
          61616.75,
          3646512.574,
          21544.954,
          7659.95,
          34579.373,
          724094.785,
          75342.395,
          45505.64400000001,
          0.021,
          3390.675,
          3211.016,
          14894.877,
          3492.515,
          98222.914,
          27665.012,
          186377.24,
          1009584.676,
          1398.246,
          6734.68,
          4317.015,
          69213.581,
          3078.094,
          37905.134,
          121713.804,
          264563.399,
          327.044,
          1586.901,
          2286.57,
          80.423,
          2665.66,
          26.894,
          203.205,
          8898.173,
          78281.691,
          7501028.07,
          1418.834,
          2061711.735,
          497620.661,
          128062.159,
          940.3359999999999,
          52050.918,
          119.677,
          63219.631,
          39002263.619,
          22.782,
          198626.859,
          10173.55,
          20060.604,
          652.446,
          32347.842,
          25.009,
          650.153,
          9.518,
          10312.478,
          2358.984,
          29.132000000000005,
          5.720999999999999,
          2384.15,
          26988.655,
          255.006,
          94774.314,
          12030.183,
          6383.438,
          1452.245,
          1409349.149,
          41983.105,
          1510.984,
          26.118000000000002,
          4953.655,
          38819.621,
          120.14099999999999,
          2864.5410000000006,
          19580.722,
          8051.566,
          690.711,
          6341.397,
          8705.6,
          9850.067,
          3299.501,
          5152.759,
          710.336,
          364170.181,
          1608.083,
          1642.671,
          1083.779,
          285.593,
          119585.724,
          21849.897,
          82.984,
          1690252.505,
          2486226.766,
          5181.517,
          4325.896,
          2549.522,
          94.184,
          245.255,
          94.738,
          2609339.912,
          2939.234,
          16985.037,
          504959.709,
          116.71799999999999,
          2524.698,
          46.809,
          40155.77,
          120.003,
          5565.942,
          51630.582,
          33031.413,
          7106.873,
          362194.378,
          4503.805,
          1217174.364,
          2721.033,
          101.278,
          11107.949,
          207874.401,
          199601.399,
          56699.363,
          3729.909,
          12681.482,
          7388.982,
          1160.699,
          2014.447,
          65.289,
          29201.902,
          29307.158,
          27095.181,
          179399.06,
          101.699,
          5553.547,
          384.066,
          354471.443,
          151401.14,
          7660732.859,
          90811.477,
          2086.483,
          990.594,
          8647.414,
          30624.361,
          2355.288,
          406.031,
          20692.202,
          8276.638,
          36314.439,
          11520.445,
          2608.738,
          596.599,
          177503.155,
          387128.339,
          231178.15,
          1072175.505,
          307870.581,
          9997876.031,
          17021.487,
          348837.309,
          3305.12,
          148499.981,
          40279.158,
          72.69999999999999,
          27.028,
          1397.609,
          42417.874,
          53838.034,
          32156.025,
          30329.491,
          274613.12,
          7175346.064,
          32667.916,
          19648.269,
          17512.702,
          191368.436,
          692.654,
          2036.419,
          4072.751,
          50.431,
          7769.084,
          8.748,
          293588.086,
          3413224.364,
          443.292,
          560.007,
          90994.559,
          267.567,
          89.612,
          42399.408,
          1664.423,
          4520.392,
          38530.591,
          293.239,
          76.751,
          866.828,
          552.181,
          374.805,
          21307.476,
          93756.946,
          52178.669,
          2521.968,
          54.441,
          7870.51,
          7522.149,
          573131.965,
          76.92000000000002,
          1228.49,
          7861.0160000000005,
          558.297,
          226.18,
          158.638,
          7702.494,
          461.614,
          509.654,
          17599.995,
          562.359,
          75.424,
          28654.388,
          2843.966,
          1368.741,
          640.249,
          155.066,
          123219.596,
          30724741.85,
          41453.458,
          9090.868,
          8022.968,
          467.224,
          286121.09,
          33193.829,
          55.21,
          55859.604,
          46631.119,
          42006.377,
          6411.376,
          172308.624,
          1493.119,
          383.18300000000005,
          60674.192,
          1946.956,
          1402.986,
          3354.094,
          3288778.027,
          4587.269,
          64391.016,
          120827.727,
          2538.986,
          296664.787,
          0.665,
          4438114.41,
          775.401,
          769.376,
          1023.321,
          13481.788,
          36186.568,
          4771.155000000001,
          1649170.953,
          6144.838,
          79762.418,
          23613.617,
          45.648,
          42657.847,
          57233.536,
          86.593,
          768.656,
          109.268,
          339730.787,
          461.949,
          20393.858,
          466890.99,
          2855.97,
          24.69,
          2907.154,
          213614.299,
          803.601,
          1742.288,
          62441.478,
          9786.46,
          69792.225,
          140.035,
          3216.026,
          204425.333,
          14953.715,
          11137.071,
          4476.009,
          94.795,
          15.789,
          12840.522,
          405.42300000000006,
          133713.56,
          13521.677,
          8165.796,
          5261.829,
          2954.087,
          52539.462,
          139.674,
          32.713,
          2804.049,
          16821.449,
          33328.768,
          2466.557,
          25160.595,
          322.414,
          2777.02,
          63.126,
          1972.371,
          5777.021,
          33236.772999999994,
          272459.919,
          43314.797,
          6219.06,
          566679.341,
          812.392,
          761.938,
          116523.635,
          1561.513,
          1.11,
          77.147,
          72788.737,
          6850.804000000001,
          35196.738,
          98161.879,
          6143.575,
          7003.923,
          2221.582,
          182705.238,
          9013.377,
          12164.105,
          12811.367,
          35730.24,
          38504.118,
          552.069,
          5241.122,
          308444.407,
          11448.269,
          27866.604,
          102.503,
          7.438,
          326250.584,
          5950.375,
          409715.924,
          7393,
          329370.954,
          2677.997,
          2403.697,
          36625.2,
          26690.659,
          279891.677,
          6455.172,
          95733.442,
          154.55,
          7611.567,
          186876.594,
          171935.021,
          6944.933,
          123276.556,
          33841.453,
          15.593,
          64456.906,
          10291.013,
          137057.729,
          57794.345,
          42723.431,
          25665.086,
          20023.859,
          100.224,
          718.766,
          239.819,
          134966.227,
          20454.273,
          457001.706,
          10533.952,
          4729.82,
          499.434,
          1380.458,
          2665.412,
          7262.866,
          55012.145,
          3849.733,
          16205.091,
          51332.713,
          865.561,
          11030.79,
          46208127.706,
          27239.189,
          68867.31,
          295751.768,
          92937.321,
          14505.584,
          702.29,
          10958.262,
          80544.747,
          184.372,
          952.521,
          57117.973,
          157.763,
          5109.681,
          17147.881,
          1492.317,
          10882.922,
          17955.011,
          38626.465,
          390505.772,
          360280.028,
          31889.658,
          10236.719,
          613.353,
          6437.163,
          320786.113,
          6055.135,
          76880.169,
          626.569,
          33.841,
          30962.557,
          182133.854,
          22736.742,
          41191.57,
          148081.927,
          38476.946,
          95392.001,
          194.462,
          36968.949,
          135691.337,
          101715.986,
          136211.014,
          14272.47,
          1128450.334,
          502.99,
          69.313,
          304.405,
          123.68,
          34.894,
          63672.946,
          421.976,
          150450.553,
          530.179,
          20717.068,
          1746.403,
          11.445,
          8346.696,
          4128.57,
          161011.554,
          18557.329,
          121593.044,
          29900.121,
          13489.835,
          64095.684,
          883971.116,
          250343.75,
          12538.018,
          13368.443,
          10811.154,
          2472.769,
          51624.998,
          11943.473,
          10909.162,
          7782.676,
          77769.491,
          292.662,
          16370.17,
          11615.807,
          7742.966,
          37246.667,
          87006.739,
          2658.1,
          38608.628,
          425.556,
          5346.992,
          265457.31,
          39482.199,
          118613.943,
          417.636,
          113.415,
          167063.363,
          25802.417,
          87.954,
          207.133,
          236090.331,
          5454.82,
          41327.587,
          757.06,
          19669.713,
          1324.942,
          6601.44,
          23388.366,
          12431.855,
          1806.2420000000004,
          166.669,
          3.423,
          886.5279999999999,
          1415.967,
          2303.961,
          1473.361,
          1682.392,
          18427.182,
          5087.821,
          1483.854,
          432.241,
          17.419,
          121581.978,
          663.869,
          22.196,
          17666.254,
          1755.0740000000003,
          325.202,
          51171.304,
          4321.412,
          4219.406,
          34069.155,
          17075.393,
          43078.41,
          100.693,
          4.292,
          71347.394,
          708.135,
          149.761,
          864.865,
          3868.963,
          36779.237,
          172177.066,
          13300.826,
          8614.973,
          23.639,
          3749.44,
          140733.138,
          169376.736,
          522.246,
          1951530.675,
          2.441,
          28602.492,
          2521.458,
          13360.088,
          1669.932,
          2203.533,
          256142.985,
          3885.044,
          18923.261,
          127378.426,
          3375.199,
          12803.783,
          4993.111,
          219917.593,
          6825.75,
          361.614,
          6081.146,
          70631.847,
          431789.901,
          7805.041,
          18385.867,
          5812.462,
          694.795,
          2034.712,
          60463.082,
          864488.966,
          5984.087,
          17467.44,
          52929.931,
          2177.442,
          7861.2,
          2134.514,
          36304.776,
          2401.467,
          1058.87,
          150620.552,
          9020.334,
          4635.94,
          31433.79,
          200343.821,
          1664.5030000000002,
          138447.028,
          3969.994,
          19812.433,
          44519.966,
          2.524,
          133.286,
          20739.454,
          379.703,
          1.531,
          2272.959,
          595.25,
          28.075,
          1399.143,
          4013.528,
          216.012,
          8708.245,
          116941.653,
          115453.591,
          85.034,
          12577.565,
          6.404,
          8013.992,
          2756.767,
          668.398,
          146.565,
          1089.597,
          22868.502,
          9472.172,
          4950.802,
          634.564,
          623.451,
          808.956,
          33241.116,
          96995.415,
          14169.406,
          181046.741,
          128.307,
          8442.858999999999,
          9934.052,
          10747.544,
          419.29,
          229.165,
          47779.457,
          3333.832,
          9429.042,
          143.874,
          1478.801,
          79525.59,
          319551.191,
          2581.811,
          620.462,
          1503068.746,
          2589.867,
          174309.366,
          478006.262,
          28.762,
          159068.64,
          17558.843,
          2801.822,
          5.636,
          956.136,
          13361.884,
          15262.178000000002,
          2177.428,
          0.293,
          972.326,
          6301.947,
          162680.982,
          14634.906,
          2931.996,
          2815.187,
          68009.229,
          1226.984,
          4642.481,
          44802.264,
          1241.93,
          4509.919,
          1.955,
          5.636,
          5651.515,
          1603.338,
          2565.177,
          180299.917,
          2669.369,
          849.554,
          194.382,
          49320.736,
          8188.341,
          1018722.935,
          1609.839,
          457.471,
          21586.586,
          96007.224,
          1021.33,
          133776.24,
          905.97,
          12889.168,
          19.481,
          1794.3069999999998,
          17282.004,
          21589.623,
          48990.985,
          4597.896999999999,
          68319.095,
          76814.206,
          46698.236,
          7.848999999999999,
          11219.984,
          468.613,
          3.726,
          7020.357,
          35654.605,
          776.828,
          498.951,
          73.04,
          132790.186,
          1065571.091,
          35784.226,
          18136.077,
          2434.41,
          7384.339,
          14297.696,
          213587.997,
          459.401,
          40886.665,
          36.292,
          85.618,
          41.826,
          13.403,
          89704.918,
          858.577,
          9072.766,
          27941.017,
          96.144,
          24.470000000000002,
          26537.11,
          70.993,
          1757.3519999999999,
          10025.996,
          3460.074,
          120.543,
          65.00399999999999,
          160868.638,
          3020.865,
          11692.814,
          7194.152,
          3654.431,
          69.388,
          138.427,
          6818.023,
          61888.329,
          318.732,
          71.55999999999999,
          23946.699,
          301569.632,
          29491.96,
          10604.979,
          3880.591,
          371.236,
          148689.198,
          14341.227,
          4936.634,
          6450.198999999999,
          78397.538,
          653.257,
          57.126000000000005,
          415.635,
          21970.001,
          287.524,
          16.031,
          6848.292,
          246.801,
          3091.678,
          3778.319,
          352874.146,
          1748.078,
          2513.58,
          25278.02,
          103321.284,
          34033.867,
          22079.667,
          2324521.044,
          19704.816,
          243.632,
          1542293.867,
          20747815.612,
          2963539.338,
          192268.891,
          11702800.088,
          26526082.033999998,
          1079323.786,
          942929.183,
          15004374.213,
          17727490.093,
          89928480.428,
          1309714.943,
          9448723.692,
          5345220.905,
          6129732.465,
          2226914.139,
          4542813.116,
          12780874.404,
          53008066.727000006,
          622729.294,
          4603114.544
         ]
        }
       ],
       "layout": {
        "autosize": false,
        "height": 800,
        "legend": {
         "title": {
          "text": "Section"
         },
         "tracegroupgap": 0,
         "traceorder": "reversed"
        },
        "margin": {
         "b": 0,
         "l": 0,
         "r": 0,
         "t": 0
        },
        "template": {
         "data": {
          "bar": [
           {
            "error_x": {
             "color": "#2a3f5f"
            },
            "error_y": {
             "color": "#2a3f5f"
            },
            "marker": {
             "line": {
              "color": "#E5ECF6",
              "width": 0.5
             },
             "pattern": {
              "fillmode": "overlay",
              "size": 10,
              "solidity": 0.2
             }
            },
            "type": "bar"
           }
          ],
          "barpolar": [
           {
            "marker": {
             "line": {
              "color": "#E5ECF6",
              "width": 0.5
             },
             "pattern": {
              "fillmode": "overlay",
              "size": 10,
              "solidity": 0.2
             }
            },
            "type": "barpolar"
           }
          ],
          "carpet": [
           {
            "aaxis": {
             "endlinecolor": "#2a3f5f",
             "gridcolor": "white",
             "linecolor": "white",
             "minorgridcolor": "white",
             "startlinecolor": "#2a3f5f"
            },
            "baxis": {
             "endlinecolor": "#2a3f5f",
             "gridcolor": "white",
             "linecolor": "white",
             "minorgridcolor": "white",
             "startlinecolor": "#2a3f5f"
            },
            "type": "carpet"
           }
          ],
          "choropleth": [
           {
            "colorbar": {
             "outlinewidth": 0,
             "ticks": ""
            },
            "type": "choropleth"
           }
          ],
          "contour": [
           {
            "colorbar": {
             "outlinewidth": 0,
             "ticks": ""
            },
            "colorscale": [
             [
              0,
              "#0d0887"
             ],
             [
              0.1111111111111111,
              "#46039f"
             ],
             [
              0.2222222222222222,
              "#7201a8"
             ],
             [
              0.3333333333333333,
              "#9c179e"
             ],
             [
              0.4444444444444444,
              "#bd3786"
             ],
             [
              0.5555555555555556,
              "#d8576b"
             ],
             [
              0.6666666666666666,
              "#ed7953"
             ],
             [
              0.7777777777777778,
              "#fb9f3a"
             ],
             [
              0.8888888888888888,
              "#fdca26"
             ],
             [
              1,
              "#f0f921"
             ]
            ],
            "type": "contour"
           }
          ],
          "contourcarpet": [
           {
            "colorbar": {
             "outlinewidth": 0,
             "ticks": ""
            },
            "type": "contourcarpet"
           }
          ],
          "heatmap": [
           {
            "colorbar": {
             "outlinewidth": 0,
             "ticks": ""
            },
            "colorscale": [
             [
              0,
              "#0d0887"
             ],
             [
              0.1111111111111111,
              "#46039f"
             ],
             [
              0.2222222222222222,
              "#7201a8"
             ],
             [
              0.3333333333333333,
              "#9c179e"
             ],
             [
              0.4444444444444444,
              "#bd3786"
             ],
             [
              0.5555555555555556,
              "#d8576b"
             ],
             [
              0.6666666666666666,
              "#ed7953"
             ],
             [
              0.7777777777777778,
              "#fb9f3a"
             ],
             [
              0.8888888888888888,
              "#fdca26"
             ],
             [
              1,
              "#f0f921"
             ]
            ],
            "type": "heatmap"
           }
          ],
          "heatmapgl": [
           {
            "colorbar": {
             "outlinewidth": 0,
             "ticks": ""
            },
            "colorscale": [
             [
              0,
              "#0d0887"
             ],
             [
              0.1111111111111111,
              "#46039f"
             ],
             [
              0.2222222222222222,
              "#7201a8"
             ],
             [
              0.3333333333333333,
              "#9c179e"
             ],
             [
              0.4444444444444444,
              "#bd3786"
             ],
             [
              0.5555555555555556,
              "#d8576b"
             ],
             [
              0.6666666666666666,
              "#ed7953"
             ],
             [
              0.7777777777777778,
              "#fb9f3a"
             ],
             [
              0.8888888888888888,
              "#fdca26"
             ],
             [
              1,
              "#f0f921"
             ]
            ],
            "type": "heatmapgl"
           }
          ],
          "histogram": [
           {
            "marker": {
             "pattern": {
              "fillmode": "overlay",
              "size": 10,
              "solidity": 0.2
             }
            },
            "type": "histogram"
           }
          ],
          "histogram2d": [
           {
            "colorbar": {
             "outlinewidth": 0,
             "ticks": ""
            },
            "colorscale": [
             [
              0,
              "#0d0887"
             ],
             [
              0.1111111111111111,
              "#46039f"
             ],
             [
              0.2222222222222222,
              "#7201a8"
             ],
             [
              0.3333333333333333,
              "#9c179e"
             ],
             [
              0.4444444444444444,
              "#bd3786"
             ],
             [
              0.5555555555555556,
              "#d8576b"
             ],
             [
              0.6666666666666666,
              "#ed7953"
             ],
             [
              0.7777777777777778,
              "#fb9f3a"
             ],
             [
              0.8888888888888888,
              "#fdca26"
             ],
             [
              1,
              "#f0f921"
             ]
            ],
            "type": "histogram2d"
           }
          ],
          "histogram2dcontour": [
           {
            "colorbar": {
             "outlinewidth": 0,
             "ticks": ""
            },
            "colorscale": [
             [
              0,
              "#0d0887"
             ],
             [
              0.1111111111111111,
              "#46039f"
             ],
             [
              0.2222222222222222,
              "#7201a8"
             ],
             [
              0.3333333333333333,
              "#9c179e"
             ],
             [
              0.4444444444444444,
              "#bd3786"
             ],
             [
              0.5555555555555556,
              "#d8576b"
             ],
             [
              0.6666666666666666,
              "#ed7953"
             ],
             [
              0.7777777777777778,
              "#fb9f3a"
             ],
             [
              0.8888888888888888,
              "#fdca26"
             ],
             [
              1,
              "#f0f921"
             ]
            ],
            "type": "histogram2dcontour"
           }
          ],
          "mesh3d": [
           {
            "colorbar": {
             "outlinewidth": 0,
             "ticks": ""
            },
            "type": "mesh3d"
           }
          ],
          "parcoords": [
           {
            "line": {
             "colorbar": {
              "outlinewidth": 0,
              "ticks": ""
             }
            },
            "type": "parcoords"
           }
          ],
          "pie": [
           {
            "automargin": true,
            "type": "pie"
           }
          ],
          "scatter": [
           {
            "marker": {
             "colorbar": {
              "outlinewidth": 0,
              "ticks": ""
             }
            },
            "type": "scatter"
           }
          ],
          "scatter3d": [
           {
            "line": {
             "colorbar": {
              "outlinewidth": 0,
              "ticks": ""
             }
            },
            "marker": {
             "colorbar": {
              "outlinewidth": 0,
              "ticks": ""
             }
            },
            "type": "scatter3d"
           }
          ],
          "scattercarpet": [
           {
            "marker": {
             "colorbar": {
              "outlinewidth": 0,
              "ticks": ""
             }
            },
            "type": "scattercarpet"
           }
          ],
          "scattergeo": [
           {
            "marker": {
             "colorbar": {
              "outlinewidth": 0,
              "ticks": ""
             }
            },
            "type": "scattergeo"
           }
          ],
          "scattergl": [
           {
            "marker": {
             "colorbar": {
              "outlinewidth": 0,
              "ticks": ""
             }
            },
            "type": "scattergl"
           }
          ],
          "scattermapbox": [
           {
            "marker": {
             "colorbar": {
              "outlinewidth": 0,
              "ticks": ""
             }
            },
            "type": "scattermapbox"
           }
          ],
          "scatterpolar": [
           {
            "marker": {
             "colorbar": {
              "outlinewidth": 0,
              "ticks": ""
             }
            },
            "type": "scatterpolar"
           }
          ],
          "scatterpolargl": [
           {
            "marker": {
             "colorbar": {
              "outlinewidth": 0,
              "ticks": ""
             }
            },
            "type": "scatterpolargl"
           }
          ],
          "scatterternary": [
           {
            "marker": {
             "colorbar": {
              "outlinewidth": 0,
              "ticks": ""
             }
            },
            "type": "scatterternary"
           }
          ],
          "surface": [
           {
            "colorbar": {
             "outlinewidth": 0,
             "ticks": ""
            },
            "colorscale": [
             [
              0,
              "#0d0887"
             ],
             [
              0.1111111111111111,
              "#46039f"
             ],
             [
              0.2222222222222222,
              "#7201a8"
             ],
             [
              0.3333333333333333,
              "#9c179e"
             ],
             [
              0.4444444444444444,
              "#bd3786"
             ],
             [
              0.5555555555555556,
              "#d8576b"
             ],
             [
              0.6666666666666666,
              "#ed7953"
             ],
             [
              0.7777777777777778,
              "#fb9f3a"
             ],
             [
              0.8888888888888888,
              "#fdca26"
             ],
             [
              1,
              "#f0f921"
             ]
            ],
            "type": "surface"
           }
          ],
          "table": [
           {
            "cells": {
             "fill": {
              "color": "#EBF0F8"
             },
             "line": {
              "color": "white"
             }
            },
            "header": {
             "fill": {
              "color": "#C8D4E3"
             },
             "line": {
              "color": "white"
             }
            },
            "type": "table"
           }
          ]
         },
         "layout": {
          "annotationdefaults": {
           "arrowcolor": "#2a3f5f",
           "arrowhead": 0,
           "arrowwidth": 1
          },
          "autotypenumbers": "strict",
          "coloraxis": {
           "colorbar": {
            "outlinewidth": 0,
            "ticks": ""
           }
          },
          "colorscale": {
           "diverging": [
            [
             0,
             "#8e0152"
            ],
            [
             0.1,
             "#c51b7d"
            ],
            [
             0.2,
             "#de77ae"
            ],
            [
             0.3,
             "#f1b6da"
            ],
            [
             0.4,
             "#fde0ef"
            ],
            [
             0.5,
             "#f7f7f7"
            ],
            [
             0.6,
             "#e6f5d0"
            ],
            [
             0.7,
             "#b8e186"
            ],
            [
             0.8,
             "#7fbc41"
            ],
            [
             0.9,
             "#4d9221"
            ],
            [
             1,
             "#276419"
            ]
           ],
           "sequential": [
            [
             0,
             "#0d0887"
            ],
            [
             0.1111111111111111,
             "#46039f"
            ],
            [
             0.2222222222222222,
             "#7201a8"
            ],
            [
             0.3333333333333333,
             "#9c179e"
            ],
            [
             0.4444444444444444,
             "#bd3786"
            ],
            [
             0.5555555555555556,
             "#d8576b"
            ],
            [
             0.6666666666666666,
             "#ed7953"
            ],
            [
             0.7777777777777778,
             "#fb9f3a"
            ],
            [
             0.8888888888888888,
             "#fdca26"
            ],
            [
             1,
             "#f0f921"
            ]
           ],
           "sequentialminus": [
            [
             0,
             "#0d0887"
            ],
            [
             0.1111111111111111,
             "#46039f"
            ],
            [
             0.2222222222222222,
             "#7201a8"
            ],
            [
             0.3333333333333333,
             "#9c179e"
            ],
            [
             0.4444444444444444,
             "#bd3786"
            ],
            [
             0.5555555555555556,
             "#d8576b"
            ],
            [
             0.6666666666666666,
             "#ed7953"
            ],
            [
             0.7777777777777778,
             "#fb9f3a"
            ],
            [
             0.8888888888888888,
             "#fdca26"
            ],
            [
             1,
             "#f0f921"
            ]
           ]
          },
          "colorway": [
           "#636efa",
           "#EF553B",
           "#00cc96",
           "#ab63fa",
           "#FFA15A",
           "#19d3f3",
           "#FF6692",
           "#B6E880",
           "#FF97FF",
           "#FECB52"
          ],
          "font": {
           "color": "#2a3f5f"
          },
          "geo": {
           "bgcolor": "white",
           "lakecolor": "white",
           "landcolor": "#E5ECF6",
           "showlakes": true,
           "showland": true,
           "subunitcolor": "white"
          },
          "hoverlabel": {
           "align": "left"
          },
          "hovermode": "closest",
          "mapbox": {
           "style": "light"
          },
          "paper_bgcolor": "white",
          "plot_bgcolor": "#E5ECF6",
          "polar": {
           "angularaxis": {
            "gridcolor": "white",
            "linecolor": "white",
            "ticks": ""
           },
           "bgcolor": "#E5ECF6",
           "radialaxis": {
            "gridcolor": "white",
            "linecolor": "white",
            "ticks": ""
           }
          },
          "scene": {
           "xaxis": {
            "backgroundcolor": "#E5ECF6",
            "gridcolor": "white",
            "gridwidth": 2,
            "linecolor": "white",
            "showbackground": true,
            "ticks": "",
            "zerolinecolor": "white"
           },
           "yaxis": {
            "backgroundcolor": "#E5ECF6",
            "gridcolor": "white",
            "gridwidth": 2,
            "linecolor": "white",
            "showbackground": true,
            "ticks": "",
            "zerolinecolor": "white"
           },
           "zaxis": {
            "backgroundcolor": "#E5ECF6",
            "gridcolor": "white",
            "gridwidth": 2,
            "linecolor": "white",
            "showbackground": true,
            "ticks": "",
            "zerolinecolor": "white"
           }
          },
          "shapedefaults": {
           "line": {
            "color": "#2a3f5f"
           }
          },
          "ternary": {
           "aaxis": {
            "gridcolor": "white",
            "linecolor": "white",
            "ticks": ""
           },
           "baxis": {
            "gridcolor": "white",
            "linecolor": "white",
            "ticks": ""
           },
           "bgcolor": "#E5ECF6",
           "caxis": {
            "gridcolor": "white",
            "linecolor": "white",
            "ticks": ""
           }
          },
          "title": {
           "x": 0.05
          },
          "xaxis": {
           "automargin": true,
           "gridcolor": "white",
           "linecolor": "white",
           "ticks": "",
           "title": {
            "standoff": 15
           },
           "zerolinecolor": "white",
           "zerolinewidth": 2
          },
          "yaxis": {
           "automargin": true,
           "gridcolor": "white",
           "linecolor": "white",
           "ticks": "",
           "title": {
            "standoff": 15
           },
           "zerolinecolor": "white",
           "zerolinewidth": 2
          }
         }
        },
        "width": 1400
       }
      }
     },
     "metadata": {},
     "output_type": "display_data"
    }
   ],
   "source": [
    "fig = px.treemap(df, path = [\"Section\", 'HS4'], values = 'Trade Value m', color = 'Section', custom_data=['percent'])\n",
    "fig.update_traces(textinfo='label+text+value+percent entry', textfont=dict(color='white', size=20))\n",
    "\n",
    "fig.update_layout(margin = dict(t=0, l=0, r=0, b=0), \n",
    "                  autosize=False, \n",
    "                  width=1400, \n",
    "                  height=800, \n",
    "                  legend_title=\"Section\", \n",
    "                  legend_traceorder=\"reversed\")\n",
    "fig.show()"
   ]
  }
 ],
 "metadata": {
  "kernelspec": {
   "display_name": "Python 3",
   "language": "python",
   "name": "python3"
  },
  "language_info": {
   "codemirror_mode": {
    "name": "ipython",
    "version": 3
   },
   "file_extension": ".py",
   "mimetype": "text/x-python",
   "name": "python",
   "nbconvert_exporter": "python",
   "pygments_lexer": "ipython3",
   "version": "3.8.8"
  },
  "orig_nbformat": 4
 },
 "nbformat": 4,
 "nbformat_minor": 2
}
